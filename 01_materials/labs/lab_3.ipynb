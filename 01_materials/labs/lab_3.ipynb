{
 "cells": [
  {
   "cell_type": "markdown",
   "metadata": {},
   "source": [
    "# Recommender Systems\n",
    "\n",
    "In this lab, we'll be using Keras to build a recommender system. We'll be using the MovieLens dataset, a common benchmark dataset for recommender systems. \n",
    "\n",
    "MovieLens is a web-based recommender system and virtual community that recommends movies for its users to watch, based on their film preferences using collaborative filtering of members' movie ratings and movie reviews. You can check out the website here: https://movielens.org/\n",
    "\n",
    "We will download a subset of the dataset containing 100k ratings. There are tens of millions of ratings in the full dataset, spanning hundreds of thousands of users and movies. The subset we'll be using is a good example to demonstrate the concepts in this lab."
   ]
  },
  {
   "cell_type": "code",
   "execution_count": 4,
   "metadata": {},
   "outputs": [],
   "source": [
    "%matplotlib inline\n",
    "import matplotlib.pyplot as plt\n",
    "import numpy as np\n",
    "from zipfile import ZipFile\n",
    "from urllib.request import urlretrieve\n",
    "from pathlib import Path\n",
    "\n",
    "ML_100K_URL = \"http://files.grouplens.org/datasets/movielens/ml-100k.zip\"\n",
    "ML_100K_FILENAME = Path(\"ml-100k.zip\")\n",
    "ML_100K_FOLDER = Path(\"ml-100k\")\n",
    "\n",
    "if not ML_100K_FOLDER.exists():\n",
    "    if not ML_100K_FILENAME.exists():\n",
    "        urlretrieve(ML_100K_URL, ML_100K_FILENAME.name)\n",
    "    with ZipFile(ML_100K_FILENAME.name) as zip:\n",
    "        zip.extractall()"
   ]
  },
  {
   "cell_type": "markdown",
   "metadata": {},
   "source": [
    "The goal of MovieLens is to enable models to predict the rating a user would give to a movie they have not yet watched. This is a classic example of a recommendation system. The dataset is huge, and contains many parts giving information about the movies, the users, and the ratings. To begin with, we will look at the ratings file. Each line in the ratings file (u.data) is formatted as:\n",
    "\n",
    "`user_id, item_id, rating, timestamp`\n",
    "\n",
    "Which tells us a single user's rating of a single movie.\n",
    "\n",
    "We will start by loading the ratings data into a pandas dataframe and then take a look at the first few rows. If you haven't used Pandas before, it's an extremely powerful library for dealing with tabular data. You can think of it as a Python version of Excel."
   ]
  },
  {
   "cell_type": "code",
   "execution_count": 5,
   "metadata": {},
   "outputs": [
    {
     "data": {
      "text/html": [
       "<div>\n",
       "<style scoped>\n",
       "    .dataframe tbody tr th:only-of-type {\n",
       "        vertical-align: middle;\n",
       "    }\n",
       "\n",
       "    .dataframe tbody tr th {\n",
       "        vertical-align: top;\n",
       "    }\n",
       "\n",
       "    .dataframe thead th {\n",
       "        text-align: right;\n",
       "    }\n",
       "</style>\n",
       "<table border=\"1\" class=\"dataframe\">\n",
       "  <thead>\n",
       "    <tr style=\"text-align: right;\">\n",
       "      <th></th>\n",
       "      <th>user_id</th>\n",
       "      <th>item_id</th>\n",
       "      <th>rating</th>\n",
       "      <th>timestamp</th>\n",
       "    </tr>\n",
       "  </thead>\n",
       "  <tbody>\n",
       "    <tr>\n",
       "      <th>0</th>\n",
       "      <td>196</td>\n",
       "      <td>242</td>\n",
       "      <td>3</td>\n",
       "      <td>881250949</td>\n",
       "    </tr>\n",
       "    <tr>\n",
       "      <th>1</th>\n",
       "      <td>186</td>\n",
       "      <td>302</td>\n",
       "      <td>3</td>\n",
       "      <td>891717742</td>\n",
       "    </tr>\n",
       "    <tr>\n",
       "      <th>2</th>\n",
       "      <td>22</td>\n",
       "      <td>377</td>\n",
       "      <td>1</td>\n",
       "      <td>878887116</td>\n",
       "    </tr>\n",
       "    <tr>\n",
       "      <th>3</th>\n",
       "      <td>244</td>\n",
       "      <td>51</td>\n",
       "      <td>2</td>\n",
       "      <td>880606923</td>\n",
       "    </tr>\n",
       "    <tr>\n",
       "      <th>4</th>\n",
       "      <td>166</td>\n",
       "      <td>346</td>\n",
       "      <td>1</td>\n",
       "      <td>886397596</td>\n",
       "    </tr>\n",
       "    <tr>\n",
       "      <th>...</th>\n",
       "      <td>...</td>\n",
       "      <td>...</td>\n",
       "      <td>...</td>\n",
       "      <td>...</td>\n",
       "    </tr>\n",
       "    <tr>\n",
       "      <th>99995</th>\n",
       "      <td>880</td>\n",
       "      <td>476</td>\n",
       "      <td>3</td>\n",
       "      <td>880175444</td>\n",
       "    </tr>\n",
       "    <tr>\n",
       "      <th>99996</th>\n",
       "      <td>716</td>\n",
       "      <td>204</td>\n",
       "      <td>5</td>\n",
       "      <td>879795543</td>\n",
       "    </tr>\n",
       "    <tr>\n",
       "      <th>99997</th>\n",
       "      <td>276</td>\n",
       "      <td>1090</td>\n",
       "      <td>1</td>\n",
       "      <td>874795795</td>\n",
       "    </tr>\n",
       "    <tr>\n",
       "      <th>99998</th>\n",
       "      <td>13</td>\n",
       "      <td>225</td>\n",
       "      <td>2</td>\n",
       "      <td>882399156</td>\n",
       "    </tr>\n",
       "    <tr>\n",
       "      <th>99999</th>\n",
       "      <td>12</td>\n",
       "      <td>203</td>\n",
       "      <td>3</td>\n",
       "      <td>879959583</td>\n",
       "    </tr>\n",
       "  </tbody>\n",
       "</table>\n",
       "<p>100000 rows × 4 columns</p>\n",
       "</div>"
      ],
      "text/plain": [
       "       user_id  item_id  rating  timestamp\n",
       "0          196      242       3  881250949\n",
       "1          186      302       3  891717742\n",
       "2           22      377       1  878887116\n",
       "3          244       51       2  880606923\n",
       "4          166      346       1  886397596\n",
       "...        ...      ...     ...        ...\n",
       "99995      880      476       3  880175444\n",
       "99996      716      204       5  879795543\n",
       "99997      276     1090       1  874795795\n",
       "99998       13      225       2  882399156\n",
       "99999       12      203       3  879959583\n",
       "\n",
       "[100000 rows x 4 columns]"
      ]
     },
     "execution_count": 5,
     "metadata": {},
     "output_type": "execute_result"
    }
   ],
   "source": [
    "import pandas as pd\n",
    "\n",
    "raw_ratings = pd.read_csv(ML_100K_FOLDER / \"u.data\", sep='\\t',\n",
    "                          names=[\"user_id\", \"item_id\", \"rating\", \"timestamp\"])\n",
    "raw_ratings"
   ]
  },
  {
   "cell_type": "markdown",
   "metadata": {},
   "source": [
    "The second file we'll look at is the movie metadata. This file (u.item) contains information about each movie, including the title and release date. Each line in the file is formatted as:\n",
    "\n",
    "`movie_id | movie_title | release_date | video_release_date | IMDb_URL | unknown | Action | Adventure | Animation | Children's | Comedy | Crime | Documentary | Drama | Fantasy | Film-Noir | Horror | Musical | Mystery | Romance | Sci-Fi | Thriller | War | Western`\n",
    "\n",
    "As you can see, the genres are binary variables. As with one-hot encoding, a 1 indicates that the movie is of that genre, and a 0 indicates that it is not. We aren't going to work with the genre data in this lab, but it's easy to imagine that it could be useful in a real-world recommendation system."
   ]
  },
  {
   "cell_type": "code",
   "execution_count": 6,
   "metadata": {},
   "outputs": [
    {
     "data": {
      "text/html": [
       "<div>\n",
       "<style scoped>\n",
       "    .dataframe tbody tr th:only-of-type {\n",
       "        vertical-align: middle;\n",
       "    }\n",
       "\n",
       "    .dataframe tbody tr th {\n",
       "        vertical-align: top;\n",
       "    }\n",
       "\n",
       "    .dataframe thead th {\n",
       "        text-align: right;\n",
       "    }\n",
       "</style>\n",
       "<table border=\"1\" class=\"dataframe\">\n",
       "  <thead>\n",
       "    <tr style=\"text-align: right;\">\n",
       "      <th></th>\n",
       "      <th>item_id</th>\n",
       "      <th>title</th>\n",
       "      <th>release_date</th>\n",
       "      <th>video_release_date</th>\n",
       "      <th>imdb_url</th>\n",
       "    </tr>\n",
       "  </thead>\n",
       "  <tbody>\n",
       "    <tr>\n",
       "      <th>0</th>\n",
       "      <td>1</td>\n",
       "      <td>Toy Story (1995)</td>\n",
       "      <td>01-Jan-1995</td>\n",
       "      <td>NaN</td>\n",
       "      <td>http://us.imdb.com/M/title-exact?Toy%20Story%2...</td>\n",
       "    </tr>\n",
       "    <tr>\n",
       "      <th>1</th>\n",
       "      <td>2</td>\n",
       "      <td>GoldenEye (1995)</td>\n",
       "      <td>01-Jan-1995</td>\n",
       "      <td>NaN</td>\n",
       "      <td>http://us.imdb.com/M/title-exact?GoldenEye%20(...</td>\n",
       "    </tr>\n",
       "    <tr>\n",
       "      <th>2</th>\n",
       "      <td>3</td>\n",
       "      <td>Four Rooms (1995)</td>\n",
       "      <td>01-Jan-1995</td>\n",
       "      <td>NaN</td>\n",
       "      <td>http://us.imdb.com/M/title-exact?Four%20Rooms%...</td>\n",
       "    </tr>\n",
       "    <tr>\n",
       "      <th>3</th>\n",
       "      <td>4</td>\n",
       "      <td>Get Shorty (1995)</td>\n",
       "      <td>01-Jan-1995</td>\n",
       "      <td>NaN</td>\n",
       "      <td>http://us.imdb.com/M/title-exact?Get%20Shorty%...</td>\n",
       "    </tr>\n",
       "    <tr>\n",
       "      <th>4</th>\n",
       "      <td>5</td>\n",
       "      <td>Copycat (1995)</td>\n",
       "      <td>01-Jan-1995</td>\n",
       "      <td>NaN</td>\n",
       "      <td>http://us.imdb.com/M/title-exact?Copycat%20(1995)</td>\n",
       "    </tr>\n",
       "    <tr>\n",
       "      <th>...</th>\n",
       "      <td>...</td>\n",
       "      <td>...</td>\n",
       "      <td>...</td>\n",
       "      <td>...</td>\n",
       "      <td>...</td>\n",
       "    </tr>\n",
       "    <tr>\n",
       "      <th>1677</th>\n",
       "      <td>1678</td>\n",
       "      <td>Mat' i syn (1997)</td>\n",
       "      <td>06-Feb-1998</td>\n",
       "      <td>NaN</td>\n",
       "      <td>http://us.imdb.com/M/title-exact?Mat%27+i+syn+...</td>\n",
       "    </tr>\n",
       "    <tr>\n",
       "      <th>1678</th>\n",
       "      <td>1679</td>\n",
       "      <td>B. Monkey (1998)</td>\n",
       "      <td>06-Feb-1998</td>\n",
       "      <td>NaN</td>\n",
       "      <td>http://us.imdb.com/M/title-exact?B%2E+Monkey+(...</td>\n",
       "    </tr>\n",
       "    <tr>\n",
       "      <th>1679</th>\n",
       "      <td>1680</td>\n",
       "      <td>Sliding Doors (1998)</td>\n",
       "      <td>01-Jan-1998</td>\n",
       "      <td>NaN</td>\n",
       "      <td>http://us.imdb.com/Title?Sliding+Doors+(1998)</td>\n",
       "    </tr>\n",
       "    <tr>\n",
       "      <th>1680</th>\n",
       "      <td>1681</td>\n",
       "      <td>You So Crazy (1994)</td>\n",
       "      <td>01-Jan-1994</td>\n",
       "      <td>NaN</td>\n",
       "      <td>http://us.imdb.com/M/title-exact?You%20So%20Cr...</td>\n",
       "    </tr>\n",
       "    <tr>\n",
       "      <th>1681</th>\n",
       "      <td>1682</td>\n",
       "      <td>Scream of Stone (Schrei aus Stein) (1991)</td>\n",
       "      <td>08-Mar-1996</td>\n",
       "      <td>NaN</td>\n",
       "      <td>http://us.imdb.com/M/title-exact?Schrei%20aus%...</td>\n",
       "    </tr>\n",
       "  </tbody>\n",
       "</table>\n",
       "<p>1682 rows × 5 columns</p>\n",
       "</div>"
      ],
      "text/plain": [
       "      item_id                                      title release_date  \\\n",
       "0           1                           Toy Story (1995)  01-Jan-1995   \n",
       "1           2                           GoldenEye (1995)  01-Jan-1995   \n",
       "2           3                          Four Rooms (1995)  01-Jan-1995   \n",
       "3           4                          Get Shorty (1995)  01-Jan-1995   \n",
       "4           5                             Copycat (1995)  01-Jan-1995   \n",
       "...       ...                                        ...          ...   \n",
       "1677     1678                          Mat' i syn (1997)  06-Feb-1998   \n",
       "1678     1679                           B. Monkey (1998)  06-Feb-1998   \n",
       "1679     1680                       Sliding Doors (1998)  01-Jan-1998   \n",
       "1680     1681                        You So Crazy (1994)  01-Jan-1994   \n",
       "1681     1682  Scream of Stone (Schrei aus Stein) (1991)  08-Mar-1996   \n",
       "\n",
       "      video_release_date                                           imdb_url  \n",
       "0                    NaN  http://us.imdb.com/M/title-exact?Toy%20Story%2...  \n",
       "1                    NaN  http://us.imdb.com/M/title-exact?GoldenEye%20(...  \n",
       "2                    NaN  http://us.imdb.com/M/title-exact?Four%20Rooms%...  \n",
       "3                    NaN  http://us.imdb.com/M/title-exact?Get%20Shorty%...  \n",
       "4                    NaN  http://us.imdb.com/M/title-exact?Copycat%20(1995)  \n",
       "...                  ...                                                ...  \n",
       "1677                 NaN  http://us.imdb.com/M/title-exact?Mat%27+i+syn+...  \n",
       "1678                 NaN  http://us.imdb.com/M/title-exact?B%2E+Monkey+(...  \n",
       "1679                 NaN      http://us.imdb.com/Title?Sliding+Doors+(1998)  \n",
       "1680                 NaN  http://us.imdb.com/M/title-exact?You%20So%20Cr...  \n",
       "1681                 NaN  http://us.imdb.com/M/title-exact?Schrei%20aus%...  \n",
       "\n",
       "[1682 rows x 5 columns]"
      ]
     },
     "execution_count": 6,
     "metadata": {},
     "output_type": "execute_result"
    }
   ],
   "source": [
    "columns_to_keep = ['item_id', 'title', 'release_date', 'video_release_date', 'imdb_url']\n",
    "items = pd.read_csv(ML_100K_FOLDER / \"u.item\", sep='|', names=columns_to_keep,\n",
    "                    encoding='latin-1', usecols=range(5))\n",
    "items"
   ]
  },
  {
   "cell_type": "markdown",
   "metadata": {},
   "source": [
    "By default, the `release_date` column is a string. We can convert it to a `datetime` object using the `pd.to_datetime` function. This will make it easier to work with in the future (if we want to do things like check which date came first, for example).\n",
    " \n",
    "We can also extract the year from the date and store it in a separate column. This will make it easier to do things like plot the number of movies released each year."
   ]
  },
  {
   "cell_type": "code",
   "execution_count": 7,
   "metadata": {},
   "outputs": [],
   "source": [
    "items['release_date'] = pd.to_datetime(items['release_date']) # Pandas makes this easy!\n",
    "items['release_year'] = items['release_date'].dt.year # For later use"
   ]
  },
  {
   "cell_type": "markdown",
   "metadata": {},
   "source": [
    "For our purposes, it will be easier to work with the data if we merge our two dataframes into a single dataframe. We can do this using the `merge` method. We'll merge the `items` dataframe into the `raw_ratings` dataframe, using the `item_id` column as the key. This will add the movie title and release year to each rating."
   ]
  },
  {
   "cell_type": "code",
   "execution_count": 8,
   "metadata": {},
   "outputs": [],
   "source": [
    "all_ratings = pd.merge(items, raw_ratings)"
   ]
  },
  {
   "cell_type": "code",
   "execution_count": 9,
   "metadata": {},
   "outputs": [
    {
     "data": {
      "text/html": [
       "<div>\n",
       "<style scoped>\n",
       "    .dataframe tbody tr th:only-of-type {\n",
       "        vertical-align: middle;\n",
       "    }\n",
       "\n",
       "    .dataframe tbody tr th {\n",
       "        vertical-align: top;\n",
       "    }\n",
       "\n",
       "    .dataframe thead th {\n",
       "        text-align: right;\n",
       "    }\n",
       "</style>\n",
       "<table border=\"1\" class=\"dataframe\">\n",
       "  <thead>\n",
       "    <tr style=\"text-align: right;\">\n",
       "      <th></th>\n",
       "      <th>item_id</th>\n",
       "      <th>title</th>\n",
       "      <th>release_date</th>\n",
       "      <th>video_release_date</th>\n",
       "      <th>imdb_url</th>\n",
       "      <th>release_year</th>\n",
       "      <th>user_id</th>\n",
       "      <th>rating</th>\n",
       "      <th>timestamp</th>\n",
       "    </tr>\n",
       "  </thead>\n",
       "  <tbody>\n",
       "    <tr>\n",
       "      <th>0</th>\n",
       "      <td>1</td>\n",
       "      <td>Toy Story (1995)</td>\n",
       "      <td>1995-01-01</td>\n",
       "      <td>NaN</td>\n",
       "      <td>http://us.imdb.com/M/title-exact?Toy%20Story%2...</td>\n",
       "      <td>1995.0</td>\n",
       "      <td>308</td>\n",
       "      <td>4</td>\n",
       "      <td>887736532</td>\n",
       "    </tr>\n",
       "    <tr>\n",
       "      <th>1</th>\n",
       "      <td>1</td>\n",
       "      <td>Toy Story (1995)</td>\n",
       "      <td>1995-01-01</td>\n",
       "      <td>NaN</td>\n",
       "      <td>http://us.imdb.com/M/title-exact?Toy%20Story%2...</td>\n",
       "      <td>1995.0</td>\n",
       "      <td>287</td>\n",
       "      <td>5</td>\n",
       "      <td>875334088</td>\n",
       "    </tr>\n",
       "    <tr>\n",
       "      <th>2</th>\n",
       "      <td>1</td>\n",
       "      <td>Toy Story (1995)</td>\n",
       "      <td>1995-01-01</td>\n",
       "      <td>NaN</td>\n",
       "      <td>http://us.imdb.com/M/title-exact?Toy%20Story%2...</td>\n",
       "      <td>1995.0</td>\n",
       "      <td>148</td>\n",
       "      <td>4</td>\n",
       "      <td>877019411</td>\n",
       "    </tr>\n",
       "    <tr>\n",
       "      <th>3</th>\n",
       "      <td>1</td>\n",
       "      <td>Toy Story (1995)</td>\n",
       "      <td>1995-01-01</td>\n",
       "      <td>NaN</td>\n",
       "      <td>http://us.imdb.com/M/title-exact?Toy%20Story%2...</td>\n",
       "      <td>1995.0</td>\n",
       "      <td>280</td>\n",
       "      <td>4</td>\n",
       "      <td>891700426</td>\n",
       "    </tr>\n",
       "    <tr>\n",
       "      <th>4</th>\n",
       "      <td>1</td>\n",
       "      <td>Toy Story (1995)</td>\n",
       "      <td>1995-01-01</td>\n",
       "      <td>NaN</td>\n",
       "      <td>http://us.imdb.com/M/title-exact?Toy%20Story%2...</td>\n",
       "      <td>1995.0</td>\n",
       "      <td>66</td>\n",
       "      <td>3</td>\n",
       "      <td>883601324</td>\n",
       "    </tr>\n",
       "  </tbody>\n",
       "</table>\n",
       "</div>"
      ],
      "text/plain": [
       "   item_id             title release_date  video_release_date  \\\n",
       "0        1  Toy Story (1995)   1995-01-01                 NaN   \n",
       "1        1  Toy Story (1995)   1995-01-01                 NaN   \n",
       "2        1  Toy Story (1995)   1995-01-01                 NaN   \n",
       "3        1  Toy Story (1995)   1995-01-01                 NaN   \n",
       "4        1  Toy Story (1995)   1995-01-01                 NaN   \n",
       "\n",
       "                                            imdb_url  release_year  user_id  \\\n",
       "0  http://us.imdb.com/M/title-exact?Toy%20Story%2...        1995.0      308   \n",
       "1  http://us.imdb.com/M/title-exact?Toy%20Story%2...        1995.0      287   \n",
       "2  http://us.imdb.com/M/title-exact?Toy%20Story%2...        1995.0      148   \n",
       "3  http://us.imdb.com/M/title-exact?Toy%20Story%2...        1995.0      280   \n",
       "4  http://us.imdb.com/M/title-exact?Toy%20Story%2...        1995.0       66   \n",
       "\n",
       "   rating  timestamp  \n",
       "0       4  887736532  \n",
       "1       5  875334088  \n",
       "2       4  877019411  \n",
       "3       4  891700426  \n",
       "4       3  883601324  "
      ]
     },
     "execution_count": 9,
     "metadata": {},
     "output_type": "execute_result"
    }
   ],
   "source": [
    "all_ratings.head()"
   ]
  },
  {
   "cell_type": "markdown",
   "metadata": {},
   "source": [
    "### Data preprocessing\n",
    "\n",
    "It's always important to understand the data you've collected. Thankfully, Pandas continues to make this easy for us. Using the `describe` method, we can get a quick statistical summary of the data."
   ]
  },
  {
   "cell_type": "code",
   "execution_count": 10,
   "metadata": {},
   "outputs": [
    {
     "data": {
      "text/html": [
       "<div>\n",
       "<style scoped>\n",
       "    .dataframe tbody tr th:only-of-type {\n",
       "        vertical-align: middle;\n",
       "    }\n",
       "\n",
       "    .dataframe tbody tr th {\n",
       "        vertical-align: top;\n",
       "    }\n",
       "\n",
       "    .dataframe thead th {\n",
       "        text-align: right;\n",
       "    }\n",
       "</style>\n",
       "<table border=\"1\" class=\"dataframe\">\n",
       "  <thead>\n",
       "    <tr style=\"text-align: right;\">\n",
       "      <th></th>\n",
       "      <th>item_id</th>\n",
       "      <th>release_date</th>\n",
       "      <th>video_release_date</th>\n",
       "      <th>release_year</th>\n",
       "      <th>user_id</th>\n",
       "      <th>rating</th>\n",
       "      <th>timestamp</th>\n",
       "    </tr>\n",
       "  </thead>\n",
       "  <tbody>\n",
       "    <tr>\n",
       "      <th>count</th>\n",
       "      <td>100000.000000</td>\n",
       "      <td>99991</td>\n",
       "      <td>0.0</td>\n",
       "      <td>99991.000000</td>\n",
       "      <td>100000.00000</td>\n",
       "      <td>100000.000000</td>\n",
       "      <td>1.000000e+05</td>\n",
       "    </tr>\n",
       "    <tr>\n",
       "      <th>mean</th>\n",
       "      <td>425.530130</td>\n",
       "      <td>1988-02-09 00:43:11.369223296</td>\n",
       "      <td>NaN</td>\n",
       "      <td>1987.956216</td>\n",
       "      <td>462.48475</td>\n",
       "      <td>3.529860</td>\n",
       "      <td>8.835289e+08</td>\n",
       "    </tr>\n",
       "    <tr>\n",
       "      <th>min</th>\n",
       "      <td>1.000000</td>\n",
       "      <td>1922-01-01 00:00:00</td>\n",
       "      <td>NaN</td>\n",
       "      <td>1922.000000</td>\n",
       "      <td>1.00000</td>\n",
       "      <td>1.000000</td>\n",
       "      <td>8.747247e+08</td>\n",
       "    </tr>\n",
       "    <tr>\n",
       "      <th>25%</th>\n",
       "      <td>175.000000</td>\n",
       "      <td>1986-01-01 00:00:00</td>\n",
       "      <td>NaN</td>\n",
       "      <td>1986.000000</td>\n",
       "      <td>254.00000</td>\n",
       "      <td>3.000000</td>\n",
       "      <td>8.794487e+08</td>\n",
       "    </tr>\n",
       "    <tr>\n",
       "      <th>50%</th>\n",
       "      <td>322.000000</td>\n",
       "      <td>1994-01-01 00:00:00</td>\n",
       "      <td>NaN</td>\n",
       "      <td>1994.000000</td>\n",
       "      <td>447.00000</td>\n",
       "      <td>4.000000</td>\n",
       "      <td>8.828269e+08</td>\n",
       "    </tr>\n",
       "    <tr>\n",
       "      <th>75%</th>\n",
       "      <td>631.000000</td>\n",
       "      <td>1996-09-28 00:00:00</td>\n",
       "      <td>NaN</td>\n",
       "      <td>1996.000000</td>\n",
       "      <td>682.00000</td>\n",
       "      <td>4.000000</td>\n",
       "      <td>8.882600e+08</td>\n",
       "    </tr>\n",
       "    <tr>\n",
       "      <th>max</th>\n",
       "      <td>1682.000000</td>\n",
       "      <td>1998-10-23 00:00:00</td>\n",
       "      <td>NaN</td>\n",
       "      <td>1998.000000</td>\n",
       "      <td>943.00000</td>\n",
       "      <td>5.000000</td>\n",
       "      <td>8.932866e+08</td>\n",
       "    </tr>\n",
       "    <tr>\n",
       "      <th>std</th>\n",
       "      <td>330.798356</td>\n",
       "      <td>NaN</td>\n",
       "      <td>NaN</td>\n",
       "      <td>14.155523</td>\n",
       "      <td>266.61442</td>\n",
       "      <td>1.125674</td>\n",
       "      <td>5.343856e+06</td>\n",
       "    </tr>\n",
       "  </tbody>\n",
       "</table>\n",
       "</div>"
      ],
      "text/plain": [
       "             item_id                   release_date  video_release_date  \\\n",
       "count  100000.000000                          99991                 0.0   \n",
       "mean      425.530130  1988-02-09 00:43:11.369223296                 NaN   \n",
       "min         1.000000            1922-01-01 00:00:00                 NaN   \n",
       "25%       175.000000            1986-01-01 00:00:00                 NaN   \n",
       "50%       322.000000            1994-01-01 00:00:00                 NaN   \n",
       "75%       631.000000            1996-09-28 00:00:00                 NaN   \n",
       "max      1682.000000            1998-10-23 00:00:00                 NaN   \n",
       "std       330.798356                            NaN                 NaN   \n",
       "\n",
       "       release_year       user_id         rating     timestamp  \n",
       "count  99991.000000  100000.00000  100000.000000  1.000000e+05  \n",
       "mean    1987.956216     462.48475       3.529860  8.835289e+08  \n",
       "min     1922.000000       1.00000       1.000000  8.747247e+08  \n",
       "25%     1986.000000     254.00000       3.000000  8.794487e+08  \n",
       "50%     1994.000000     447.00000       4.000000  8.828269e+08  \n",
       "75%     1996.000000     682.00000       4.000000  8.882600e+08  \n",
       "max     1998.000000     943.00000       5.000000  8.932866e+08  \n",
       "std       14.155523     266.61442       1.125674  5.343856e+06  "
      ]
     },
     "execution_count": 10,
     "metadata": {},
     "output_type": "execute_result"
    }
   ],
   "source": [
    "all_ratings.describe()"
   ]
  },
  {
   "cell_type": "markdown",
   "metadata": {},
   "source": [
    "Let's do a bit more pandas magic to compute the popularity of each movie (number of ratings). We will use the `groupby` method to group the dataframe by the `item_id` column and then use the `size` method to compute the number of ratings for each movie. We will use the `reset_index` method to convert the resulting Series into a dataframe with an `item_id` column."
   ]
  },
  {
   "cell_type": "code",
   "execution_count": 11,
   "metadata": {},
   "outputs": [],
   "source": [
    "popularity = all_ratings.groupby('item_id').size().reset_index(name='popularity')\n",
    "items = pd.merge(popularity, items)"
   ]
  },
  {
   "cell_type": "code",
   "execution_count": 12,
   "metadata": {},
   "outputs": [
    {
     "data": {
      "image/png": "[encoded data removed]",
      "text/plain": [
       "<Figure size 640x480 with 1 Axes>"
      ]
     },
     "metadata": {},
     "output_type": "display_data"
    }
   ],
   "source": [
    "items['popularity'].plot.hist(bins=30);"
   ]
  },
  {
   "cell_type": "code",
   "execution_count": 13,
   "metadata": {},
   "outputs": [
    {
     "data": {
      "text/plain": [
       "141"
      ]
     },
     "execution_count": 13,
     "metadata": {},
     "output_type": "execute_result"
    }
   ],
   "source": [
    "(items['popularity'] == 1).sum() # Number of movies with only one rating"
   ]
  },
  {
   "cell_type": "code",
   "execution_count": 14,
   "metadata": {},
   "outputs": [
    {
     "data": {
      "text/plain": [
       "49                  Star Wars (1977)\n",
       "257                   Contact (1997)\n",
       "99                      Fargo (1996)\n",
       "180        Return of the Jedi (1983)\n",
       "293                 Liar Liar (1997)\n",
       "285      English Patient, The (1996)\n",
       "287                    Scream (1996)\n",
       "0                   Toy Story (1995)\n",
       "299             Air Force One (1997)\n",
       "120    Independence Day (ID4) (1996)\n",
       "Name: title, dtype: object"
      ]
     },
     "execution_count": 14,
     "metadata": {},
     "output_type": "execute_result"
    }
   ],
   "source": [
    "items.nlargest(10, 'popularity')['title'] # Get the 10 most popular movies"
   ]
  },
  {
   "cell_type": "code",
   "execution_count": 15,
   "metadata": {},
   "outputs": [
    {
     "data": {
      "text/html": [
       "<div>\n",
       "<style scoped>\n",
       "    .dataframe tbody tr th:only-of-type {\n",
       "        vertical-align: middle;\n",
       "    }\n",
       "\n",
       "    .dataframe tbody tr th {\n",
       "        vertical-align: top;\n",
       "    }\n",
       "\n",
       "    .dataframe thead th {\n",
       "        text-align: right;\n",
       "    }\n",
       "</style>\n",
       "<table border=\"1\" class=\"dataframe\">\n",
       "  <thead>\n",
       "    <tr style=\"text-align: right;\">\n",
       "      <th></th>\n",
       "      <th>item_id</th>\n",
       "      <th>popularity</th>\n",
       "      <th>release_date</th>\n",
       "      <th>video_release_date</th>\n",
       "      <th>release_year</th>\n",
       "      <th>user_id</th>\n",
       "      <th>rating</th>\n",
       "      <th>timestamp</th>\n",
       "    </tr>\n",
       "  </thead>\n",
       "  <tbody>\n",
       "    <tr>\n",
       "      <th>count</th>\n",
       "      <td>100000.000000</td>\n",
       "      <td>100000.000000</td>\n",
       "      <td>99991</td>\n",
       "      <td>0.0</td>\n",
       "      <td>99991.000000</td>\n",
       "      <td>100000.00000</td>\n",
       "      <td>100000.000000</td>\n",
       "      <td>1.000000e+05</td>\n",
       "    </tr>\n",
       "    <tr>\n",
       "      <th>mean</th>\n",
       "      <td>425.530130</td>\n",
       "      <td>168.071900</td>\n",
       "      <td>1988-02-09 00:43:11.369223296</td>\n",
       "      <td>NaN</td>\n",
       "      <td>1987.956216</td>\n",
       "      <td>462.48475</td>\n",
       "      <td>3.529860</td>\n",
       "      <td>8.835289e+08</td>\n",
       "    </tr>\n",
       "    <tr>\n",
       "      <th>min</th>\n",
       "      <td>1.000000</td>\n",
       "      <td>1.000000</td>\n",
       "      <td>1922-01-01 00:00:00</td>\n",
       "      <td>NaN</td>\n",
       "      <td>1922.000000</td>\n",
       "      <td>1.00000</td>\n",
       "      <td>1.000000</td>\n",
       "      <td>8.747247e+08</td>\n",
       "    </tr>\n",
       "    <tr>\n",
       "      <th>25%</th>\n",
       "      <td>175.000000</td>\n",
       "      <td>71.000000</td>\n",
       "      <td>1986-01-01 00:00:00</td>\n",
       "      <td>NaN</td>\n",
       "      <td>1986.000000</td>\n",
       "      <td>254.00000</td>\n",
       "      <td>3.000000</td>\n",
       "      <td>8.794487e+08</td>\n",
       "    </tr>\n",
       "    <tr>\n",
       "      <th>50%</th>\n",
       "      <td>322.000000</td>\n",
       "      <td>145.000000</td>\n",
       "      <td>1994-01-01 00:00:00</td>\n",
       "      <td>NaN</td>\n",
       "      <td>1994.000000</td>\n",
       "      <td>447.00000</td>\n",
       "      <td>4.000000</td>\n",
       "      <td>8.828269e+08</td>\n",
       "    </tr>\n",
       "    <tr>\n",
       "      <th>75%</th>\n",
       "      <td>631.000000</td>\n",
       "      <td>239.000000</td>\n",
       "      <td>1996-09-28 00:00:00</td>\n",
       "      <td>NaN</td>\n",
       "      <td>1996.000000</td>\n",
       "      <td>682.00000</td>\n",
       "      <td>4.000000</td>\n",
       "      <td>8.882600e+08</td>\n",
       "    </tr>\n",
       "    <tr>\n",
       "      <th>max</th>\n",
       "      <td>1682.000000</td>\n",
       "      <td>583.000000</td>\n",
       "      <td>1998-10-23 00:00:00</td>\n",
       "      <td>NaN</td>\n",
       "      <td>1998.000000</td>\n",
       "      <td>943.00000</td>\n",
       "      <td>5.000000</td>\n",
       "      <td>8.932866e+08</td>\n",
       "    </tr>\n",
       "    <tr>\n",
       "      <th>std</th>\n",
       "      <td>330.798356</td>\n",
       "      <td>121.784558</td>\n",
       "      <td>NaN</td>\n",
       "      <td>NaN</td>\n",
       "      <td>14.155523</td>\n",
       "      <td>266.61442</td>\n",
       "      <td>1.125674</td>\n",
       "      <td>5.343856e+06</td>\n",
       "    </tr>\n",
       "  </tbody>\n",
       "</table>\n",
       "</div>"
      ],
      "text/plain": [
       "             item_id     popularity                   release_date  \\\n",
       "count  100000.000000  100000.000000                          99991   \n",
       "mean      425.530130     168.071900  1988-02-09 00:43:11.369223296   \n",
       "min         1.000000       1.000000            1922-01-01 00:00:00   \n",
       "25%       175.000000      71.000000            1986-01-01 00:00:00   \n",
       "50%       322.000000     145.000000            1994-01-01 00:00:00   \n",
       "75%       631.000000     239.000000            1996-09-28 00:00:00   \n",
       "max      1682.000000     583.000000            1998-10-23 00:00:00   \n",
       "std       330.798356     121.784558                            NaN   \n",
       "\n",
       "       video_release_date  release_year       user_id         rating  \\\n",
       "count                 0.0  99991.000000  100000.00000  100000.000000   \n",
       "mean                  NaN   1987.956216     462.48475       3.529860   \n",
       "min                   NaN   1922.000000       1.00000       1.000000   \n",
       "25%                   NaN   1986.000000     254.00000       3.000000   \n",
       "50%                   NaN   1994.000000     447.00000       4.000000   \n",
       "75%                   NaN   1996.000000     682.00000       4.000000   \n",
       "max                   NaN   1998.000000     943.00000       5.000000   \n",
       "std                   NaN     14.155523     266.61442       1.125674   \n",
       "\n",
       "          timestamp  \n",
       "count  1.000000e+05  \n",
       "mean   8.835289e+08  \n",
       "min    8.747247e+08  \n",
       "25%    8.794487e+08  \n",
       "50%    8.828269e+08  \n",
       "75%    8.882600e+08  \n",
       "max    8.932866e+08  \n",
       "std    5.343856e+06  "
      ]
     },
     "execution_count": 15,
     "metadata": {},
     "output_type": "execute_result"
    }
   ],
   "source": [
    "all_ratings = pd.merge(popularity, all_ratings)\n",
    "all_ratings.describe()"
   ]
  },
  {
   "cell_type": "code",
   "execution_count": 16,
   "metadata": {
    "collapsed": false
   },
   "outputs": [],
   "source": [
    "indexed_items = items.set_index('item_id')"
   ]
  },
  {
   "cell_type": "code",
   "execution_count": 17,
   "metadata": {},
   "outputs": [
    {
     "data": {
      "text/html": [
       "<div>\n",
       "<style scoped>\n",
       "    .dataframe tbody tr th:only-of-type {\n",
       "        vertical-align: middle;\n",
       "    }\n",
       "\n",
       "    .dataframe tbody tr th {\n",
       "        vertical-align: top;\n",
       "    }\n",
       "\n",
       "    .dataframe thead th {\n",
       "        text-align: right;\n",
       "    }\n",
       "</style>\n",
       "<table border=\"1\" class=\"dataframe\">\n",
       "  <thead>\n",
       "    <tr style=\"text-align: right;\">\n",
       "      <th></th>\n",
       "      <th>item_id</th>\n",
       "      <th>popularity</th>\n",
       "      <th>title</th>\n",
       "      <th>release_date</th>\n",
       "      <th>video_release_date</th>\n",
       "      <th>imdb_url</th>\n",
       "      <th>release_year</th>\n",
       "      <th>user_id</th>\n",
       "      <th>rating</th>\n",
       "      <th>timestamp</th>\n",
       "    </tr>\n",
       "  </thead>\n",
       "  <tbody>\n",
       "    <tr>\n",
       "      <th>0</th>\n",
       "      <td>1</td>\n",
       "      <td>452</td>\n",
       "      <td>Toy Story (1995)</td>\n",
       "      <td>1995-01-01</td>\n",
       "      <td>NaN</td>\n",
       "      <td>http://us.imdb.com/M/title-exact?Toy%20Story%2...</td>\n",
       "      <td>1995.0</td>\n",
       "      <td>308</td>\n",
       "      <td>4</td>\n",
       "      <td>887736532</td>\n",
       "    </tr>\n",
       "    <tr>\n",
       "      <th>1</th>\n",
       "      <td>1</td>\n",
       "      <td>452</td>\n",
       "      <td>Toy Story (1995)</td>\n",
       "      <td>1995-01-01</td>\n",
       "      <td>NaN</td>\n",
       "      <td>http://us.imdb.com/M/title-exact?Toy%20Story%2...</td>\n",
       "      <td>1995.0</td>\n",
       "      <td>287</td>\n",
       "      <td>5</td>\n",
       "      <td>875334088</td>\n",
       "    </tr>\n",
       "    <tr>\n",
       "      <th>2</th>\n",
       "      <td>1</td>\n",
       "      <td>452</td>\n",
       "      <td>Toy Story (1995)</td>\n",
       "      <td>1995-01-01</td>\n",
       "      <td>NaN</td>\n",
       "      <td>http://us.imdb.com/M/title-exact?Toy%20Story%2...</td>\n",
       "      <td>1995.0</td>\n",
       "      <td>148</td>\n",
       "      <td>4</td>\n",
       "      <td>877019411</td>\n",
       "    </tr>\n",
       "    <tr>\n",
       "      <th>3</th>\n",
       "      <td>1</td>\n",
       "      <td>452</td>\n",
       "      <td>Toy Story (1995)</td>\n",
       "      <td>1995-01-01</td>\n",
       "      <td>NaN</td>\n",
       "      <td>http://us.imdb.com/M/title-exact?Toy%20Story%2...</td>\n",
       "      <td>1995.0</td>\n",
       "      <td>280</td>\n",
       "      <td>4</td>\n",
       "      <td>891700426</td>\n",
       "    </tr>\n",
       "    <tr>\n",
       "      <th>4</th>\n",
       "      <td>1</td>\n",
       "      <td>452</td>\n",
       "      <td>Toy Story (1995)</td>\n",
       "      <td>1995-01-01</td>\n",
       "      <td>NaN</td>\n",
       "      <td>http://us.imdb.com/M/title-exact?Toy%20Story%2...</td>\n",
       "      <td>1995.0</td>\n",
       "      <td>66</td>\n",
       "      <td>3</td>\n",
       "      <td>883601324</td>\n",
       "    </tr>\n",
       "  </tbody>\n",
       "</table>\n",
       "</div>"
      ],
      "text/plain": [
       "   item_id  popularity             title release_date  video_release_date  \\\n",
       "0        1         452  Toy Story (1995)   1995-01-01                 NaN   \n",
       "1        1         452  Toy Story (1995)   1995-01-01                 NaN   \n",
       "2        1         452  Toy Story (1995)   1995-01-01                 NaN   \n",
       "3        1         452  Toy Story (1995)   1995-01-01                 NaN   \n",
       "4        1         452  Toy Story (1995)   1995-01-01                 NaN   \n",
       "\n",
       "                                            imdb_url  release_year  user_id  \\\n",
       "0  http://us.imdb.com/M/title-exact?Toy%20Story%2...        1995.0      308   \n",
       "1  http://us.imdb.com/M/title-exact?Toy%20Story%2...        1995.0      287   \n",
       "2  http://us.imdb.com/M/title-exact?Toy%20Story%2...        1995.0      148   \n",
       "3  http://us.imdb.com/M/title-exact?Toy%20Story%2...        1995.0      280   \n",
       "4  http://us.imdb.com/M/title-exact?Toy%20Story%2...        1995.0       66   \n",
       "\n",
       "   rating  timestamp  \n",
       "0       4  887736532  \n",
       "1       5  875334088  \n",
       "2       4  877019411  \n",
       "3       4  891700426  \n",
       "4       3  883601324  "
      ]
     },
     "execution_count": 17,
     "metadata": {},
     "output_type": "execute_result"
    }
   ],
   "source": [
    "all_ratings.head()"
   ]
  },
  {
   "cell_type": "markdown",
   "metadata": {
    "collapsed": false
   },
   "source": [
    "**Quick Exercise**:\n",
    "\n",
    "As we have seen, the `groupby` method is a powerful tool to quickly compute statistics on the data. Use it to compute the average rating for each movie.\n",
    "\n",
    "**Hint**: you can use the `mean` method after the `groupby` method."
   ]
  },
  {
   "cell_type": "code",
   "execution_count": 18,
   "metadata": {
    "collapsed": false
   },
   "outputs": [
    {
     "data": {
      "text/plain": [
       "title\n",
       "'Til There Was You (1997)                2.333333\n",
       "1-900 (1994)                             2.600000\n",
       "101 Dalmatians (1996)                    2.908257\n",
       "12 Angry Men (1957)                      4.344000\n",
       "187 (1997)                               3.024390\n",
       "                                           ...   \n",
       "Young Guns II (1990)                     2.772727\n",
       "Young Poisoner's Handbook, The (1995)    3.341463\n",
       "Zeus and Roxanne (1997)                  2.166667\n",
       "unknown                                  3.444444\n",
       "Á köldum klaka (Cold Fever) (1994)       3.000000\n",
       "Name: rating, Length: 1664, dtype: float64"
      ]
     },
     "execution_count": 18,
     "metadata": {},
     "output_type": "execute_result"
    }
   ],
   "source": [
    "# Your code here\n",
    "all_ratings.groupby('title')['rating'].mean()"
   ]
  },
  {
   "cell_type": "markdown",
   "metadata": {},
   "source": [
    "Let's split the enriched data in a train / test split to make it possible to do predictive modeling:"
   ]
  },
  {
   "cell_type": "code",
   "execution_count": 19,
   "metadata": {},
   "outputs": [],
   "source": [
    "from sklearn.model_selection import train_test_split\n",
    "\n",
    "ratings_train, ratings_test = train_test_split(\n",
    "    all_ratings, test_size=0.2, random_state=0)\n",
    "\n",
    "user_id_train = np.array(ratings_train['user_id'])\n",
    "item_id_train = np.array(ratings_train['item_id'])\n",
    "rating_train = np.array(ratings_train['rating'])\n",
    "\n",
    "user_id_test = np.array(ratings_test['user_id'])\n",
    "item_id_test = np.array(ratings_test['item_id'])\n",
    "rating_test = np.array(ratings_test['rating'])"
   ]
  },
  {
   "cell_type": "markdown",
   "metadata": {},
   "source": [
    "# Explicit feedback: supervised ratings prediction\n",
    "\n",
    "Now let's begin to do some recommendation! We will build a model that takes a user and a movie as input and outputs a predicted rating. We will be taking advantage of embeddings to represent users and movies. That means that each movie and user will have an abstract representation in a continuous vector space. The model will learn these representations based on the ratings."
   ]
  },
  {
   "cell_type": "markdown",
   "metadata": {},
   "source": [
    "## Predictive ratings  as a regression problem\n",
    "\n",
    "The following code implements the following architecture:\n",
    "\n",
    "<img src=\"https://raw.githubusercontent.com/UofT-DSI/deep_learning/main/notebooks/images/rec_archi_1.svg\" style=\"width: 600px;\" />"
   ]
  },
  {
   "cell_type": "code",
   "execution_count": 20,
   "metadata": {},
   "outputs": [],
   "source": [
    "from tensorflow.keras.layers import Embedding, Flatten, Dense, Dropout\n",
    "from tensorflow.keras.layers import Dot\n",
    "from tensorflow.keras.models import Model"
   ]
  },
  {
   "cell_type": "code",
   "execution_count": 21,
   "metadata": {},
   "outputs": [
    {
     "name": "stderr",
     "output_type": "stream",
     "text": [
      "c:\\Users\\iryna\\AppData\\Local\\Continuum\\envs\\scale2prod\\Lib\\site-packages\\keras\\src\\layers\\core\\embedding.py:90: UserWarning: Argument `input_length` is deprecated. Just remove it.\n",
      "  warnings.warn(\n"
     ]
    }
   ],
   "source": [
    "# For each sample we input the integer identifiers\n",
    "# of a single user and a single item\n",
    "class RegressionModel(Model):\n",
    "    def __init__(self, embedding_size, max_user_id, max_item_id):\n",
    "        super().__init__()\n",
    "        \n",
    "        self.user_embedding = Embedding(output_dim=embedding_size,\n",
    "                                        input_dim=max_user_id + 1,\n",
    "                                        input_length=1,\n",
    "                                        name='user_embedding')\n",
    "        self.item_embedding = Embedding(output_dim=embedding_size,\n",
    "                                        input_dim=max_item_id + 1,\n",
    "                                        input_length=1,\n",
    "                                        name='item_embedding')\n",
    "        \n",
    "        # The following two layers don't have parameters.\n",
    "        self.flatten = Flatten()\n",
    "        self.dot = Dot(axes=1)\n",
    "        \n",
    "    def call(self, inputs):\n",
    "        user_inputs = inputs[0]\n",
    "        item_inputs = inputs[1]\n",
    "        \n",
    "        user_vecs = self.flatten(self.user_embedding(user_inputs))\n",
    "        item_vecs = self.flatten(self.item_embedding(item_inputs))\n",
    "        \n",
    "        y = self.dot([user_vecs, item_vecs])\n",
    "        return y\n",
    "\n",
    "\n",
    "model = RegressionModel(embedding_size=64, max_user_id=all_ratings['user_id'].max(), max_item_id=all_ratings['item_id'].max())\n",
    "model.compile(optimizer=\"adam\", loss='mae')"
   ]
  },
  {
   "cell_type": "markdown",
   "metadata": {},
   "source": [
    "### Monitoring runs\n",
    "\n",
    "When training a model with Keras, we get a `history` object back that contains lots of information about the training run. We can use this to plot the training and validation loss to see how the model has improved during training."
   ]
  },
  {
   "cell_type": "code",
   "execution_count": 22,
   "metadata": {},
   "outputs": [
    {
     "name": "stdout",
     "output_type": "stream",
     "text": [
      "Epoch 1/10\n",
      "\u001b[1m1125/1125\u001b[0m \u001b[32m━━━━━━━━━━━━━━━━━━━━\u001b[0m\u001b[37m\u001b[0m \u001b[1m4s\u001b[0m 3ms/step - loss: 3.2956 - val_loss: 1.0410\n",
      "Epoch 2/10\n",
      "\u001b[1m1125/1125\u001b[0m \u001b[32m━━━━━━━━━━━━━━━━━━━━\u001b[0m\u001b[37m\u001b[0m \u001b[1m3s\u001b[0m 2ms/step - loss: 0.9022 - val_loss: 0.7915\n",
      "Epoch 3/10\n",
      "\u001b[1m1125/1125\u001b[0m \u001b[32m━━━━━━━━━━━━━━━━━━━━\u001b[0m\u001b[37m\u001b[0m \u001b[1m3s\u001b[0m 2ms/step - loss: 0.7508 - val_loss: 0.7678\n",
      "Epoch 4/10\n",
      "\u001b[1m1125/1125\u001b[0m \u001b[32m━━━━━━━━━━━━━━━━━━━━\u001b[0m\u001b[37m\u001b[0m \u001b[1m3s\u001b[0m 2ms/step - loss: 0.7226 - val_loss: 0.7562\n",
      "Epoch 5/10\n",
      "\u001b[1m1125/1125\u001b[0m \u001b[32m━━━━━━━━━━━━━━━━━━━━\u001b[0m\u001b[37m\u001b[0m \u001b[1m7s\u001b[0m 6ms/step - loss: 0.6998 - val_loss: 0.7479\n",
      "Epoch 6/10\n",
      "\u001b[1m1125/1125\u001b[0m \u001b[32m━━━━━━━━━━━━━━━━━━━━\u001b[0m\u001b[37m\u001b[0m \u001b[1m5s\u001b[0m 4ms/step - loss: 0.6761 - val_loss: 0.7439\n",
      "Epoch 7/10\n",
      "\u001b[1m1125/1125\u001b[0m \u001b[32m━━━━━━━━━━━━━━━━━━━━\u001b[0m\u001b[37m\u001b[0m \u001b[1m5s\u001b[0m 4ms/step - loss: 0.6568 - val_loss: 0.7443\n",
      "Epoch 8/10\n",
      "\u001b[1m1125/1125\u001b[0m \u001b[32m━━━━━━━━━━━━━━━━━━━━\u001b[0m\u001b[37m\u001b[0m \u001b[1m4s\u001b[0m 4ms/step - loss: 0.6406 - val_loss: 0.7381\n",
      "Epoch 9/10\n",
      "\u001b[1m1125/1125\u001b[0m \u001b[32m━━━━━━━━━━━━━━━━━━━━\u001b[0m\u001b[37m\u001b[0m \u001b[1m4s\u001b[0m 4ms/step - loss: 0.6135 - val_loss: 0.7421\n",
      "Epoch 10/10\n",
      "\u001b[1m1125/1125\u001b[0m \u001b[32m━━━━━━━━━━━━━━━━━━━━\u001b[0m\u001b[37m\u001b[0m \u001b[1m3s\u001b[0m 2ms/step - loss: 0.5895 - val_loss: 0.7388\n",
      "CPU times: total: 17.3 s\n",
      "Wall time: 40 s\n"
     ]
    }
   ],
   "source": [
    "%%time\n",
    "\n",
    "# Training the model\n",
    "history = model.fit([user_id_train, item_id_train], rating_train,\n",
    "                    batch_size=64, epochs=10, validation_split=0.1,\n",
    "                    shuffle=True)"
   ]
  },
  {
   "cell_type": "code",
   "execution_count": 23,
   "metadata": {},
   "outputs": [
    {
     "data": {
      "image/png": "[encoded data removed]",
      "text/plain": [
       "<Figure size 640x480 with 1 Axes>"
      ]
     },
     "metadata": {},
     "output_type": "display_data"
    }
   ],
   "source": [
    "plt.plot(history.history['loss'], label='train')\n",
    "plt.plot(history.history['val_loss'], label='validation')\n",
    "plt.ylim(0, 2)\n",
    "plt.legend(loc='best')\n",
    "plt.title('Loss');"
   ]
  },
  {
   "cell_type": "markdown",
   "metadata": {},
   "source": [
    "**Questions**:\n",
    "\n",
    "- Does it look like our model has overfit? Why or why not?\n",
    "- Suggest something we could do to prevent overfitting.\n",
    "\n",
    "\n",
    "Now that the model is trained, let's check out the quality of predictions:"
   ]
  },
  {
   "cell_type": "code",
   "execution_count": 24,
   "metadata": {},
   "outputs": [],
   "source": [
    "def plot_predictions(y_true, y_pred):\n",
    "    plt.figure(figsize=(4, 4))\n",
    "    plt.xlim(-1, 6)\n",
    "    plt.xlabel(\"True rating\")\n",
    "    plt.ylim(-1, 6)\n",
    "    plt.ylabel(\"Predicted rating\")\n",
    "    plt.scatter(y_true, y_pred, s=60, alpha=0.01)"
   ]
  },
  {
   "cell_type": "code",
   "execution_count": 25,
   "metadata": {},
   "outputs": [
    {
     "name": "stdout",
     "output_type": "stream",
     "text": [
      "\u001b[1m625/625\u001b[0m \u001b[32m━━━━━━━━━━━━━━━━━━━━\u001b[0m\u001b[37m\u001b[0m \u001b[1m1s\u001b[0m 1ms/step\n",
      "Final test MSE: 0.899\n",
      "Final test MAE: 0.733\n"
     ]
    },
    {
     "data": {
      "image/png": "[encoded data removed]",
      "text/plain": [
       "<Figure size 400x400 with 1 Axes>"
      ]
     },
     "metadata": {},
     "output_type": "display_data"
    }
   ],
   "source": [
    "from sklearn.metrics import mean_squared_error\n",
    "from sklearn.metrics import mean_absolute_error\n",
    "\n",
    "test_preds = model.predict([user_id_test, item_id_test])\n",
    "print(\"Final test MSE: %0.3f\" % mean_squared_error(test_preds, rating_test))\n",
    "print(\"Final test MAE: %0.3f\" % mean_absolute_error(test_preds, rating_test))\n",
    "plot_predictions(rating_test, test_preds)"
   ]
  },
  {
   "cell_type": "markdown",
   "metadata": {
    "collapsed": false
   },
   "source": [
    "This graph shows us the range of predicted ratings our model gives, organized by the true rating. We can see that generally, the higher the true rating the higher the predicted rating, although there is quite a range of predictions for each instance. That's okay - our model is very simple, and human preferences are very complex!\n",
    "\n",
    "Taking a look at the Mean Absolute Error, hopefully you got something around 0.75. This means that, on average, our predicted ratings are about 0.75 stars off from the true ratings. This is a pretty good result for a first attempt. We could probably do better with a more complex model, but we'll leave that for another time."
   ]
  },
  {
   "cell_type": "markdown",
   "metadata": {},
   "source": [
    "### Model Embeddings\n",
    "\n",
    "Our model was built with two embedding layers. These layers have learned a representation of both the users and the movies in our dataset. We can extract these representations and use them to find similar movies or users. We can also do interesting exploratory analysis, like finding the most popular movies among our users, or finding the users that are most interested in a given movie."
   ]
  },
  {
   "cell_type": "code",
   "execution_count": 26,
   "metadata": {},
   "outputs": [
    {
     "data": {
      "text/plain": [
       "[(944, 64), (1683, 64)]"
      ]
     },
     "execution_count": 26,
     "metadata": {},
     "output_type": "execute_result"
    }
   ],
   "source": [
    "# weights and shape\n",
    "weights = model.get_weights()\n",
    "[w.shape for w in weights]"
   ]
  },
  {
   "cell_type": "code",
   "execution_count": 27,
   "metadata": {},
   "outputs": [],
   "source": [
    "user_embeddings = weights[0]\n",
    "item_embeddings = weights[1]"
   ]
  },
  {
   "cell_type": "code",
   "execution_count": 28,
   "metadata": {},
   "outputs": [
    {
     "name": "stdout",
     "output_type": "stream",
     "text": [
      "Title for item_id=181: Return of the Jedi (1983)\n"
     ]
    }
   ],
   "source": [
    "item_id = 181\n",
    "print(f\"Title for item_id={item_id}: {indexed_items['title'][item_id]}\")"
   ]
  },
  {
   "cell_type": "code",
   "execution_count": 29,
   "metadata": {},
   "outputs": [
    {
     "name": "stdout",
     "output_type": "stream",
     "text": [
      "Embedding vector for item_id=181\n",
      "[ 0.01174488 -0.39183792 -0.08085463  0.5039632  -0.47979546  0.36708772\n",
      "  0.39551064  0.22950438  0.16122945  0.5533423   0.14835341  0.4017437\n",
      "  0.29859427 -0.75467765  0.2474387  -0.02040651  0.24807939  0.28511903\n",
      " -0.5095405  -0.26116666 -0.10370922 -0.09211083 -0.25694308 -0.17576753\n",
      " -0.2802314   0.17117588  0.32690358 -0.15989828  0.4493361   0.26993912\n",
      "  0.13887984 -0.2806568  -0.398533    0.16412626 -0.33009493 -0.28055835\n",
      "  0.1783294   0.34408495  0.16641177 -0.13100123 -0.31512454 -0.35963064\n",
      " -0.39771372  0.28370285  0.33011147 -0.24751398  0.4378212   0.4979999\n",
      " -0.42787573  0.02919574  0.1575009  -0.3709369   0.37716314  0.29904762\n",
      " -0.1736553   0.39153603 -0.31141424 -0.51798445 -0.42322257  0.36764392\n",
      "  0.4734168  -0.43959644 -0.01978191 -0.31760937]\n",
      "shape: (64,)\n"
     ]
    }
   ],
   "source": [
    "print(f\"Embedding vector for item_id={item_id}\")\n",
    "print(item_embeddings[item_id])\n",
    "print(\"shape:\", item_embeddings[item_id].shape)"
   ]
  },
  {
   "cell_type": "markdown",
   "metadata": {
    "collapsed": false
   },
   "source": [
    "As we discussed in lecture, our embeddings are not directly interpretable - we can't look at, say, a value of 0.297 in the embedding vector and say \"this means that the movie is a drama\". As an aside, there is a field of research dedicated to making _interpretable_ embeddings, but it's not something we'll cover in this course. "
   ]
  },
  {
   "cell_type": "markdown",
   "metadata": {},
   "source": [
    "### Finding our most similar items\n",
    "\n",
    "Now we can have some fun, investigating the embeddings we've learned. We can start by finding the most similar items to a given item. We can do this by computing the cosine similarity between the item's embedding and the embedding of every other item. We can use the `cosine_similarity` function from `sklearn` to do this."
   ]
  },
  {
   "cell_type": "code",
   "execution_count": 30,
   "metadata": {
    "collapsed": false
   },
   "outputs": [],
   "source": [
    "from sklearn.metrics.pairwise import cosine_similarity\n",
    "\n",
    "def cosine(a, b):\n",
    "    # Reshape to the shape our function expects\n",
    "    a = a.reshape(1, -1)\n",
    "    b = b.reshape(1, -1)\n",
    "    return cosine_similarity(a, b)[0, 0]"
   ]
  },
  {
   "cell_type": "code",
   "execution_count": 31,
   "metadata": {},
   "outputs": [
    {
     "name": "stdout",
     "output_type": "stream",
     "text": [
      "Star Wars (1977)\n",
      "Return of the Jedi (1983)\n",
      "Cosine similarity: 0.928\n"
     ]
    }
   ],
   "source": [
    "def print_similarity(item_a, item_b, item_embeddings, titles):\n",
    "    print(titles[item_a])\n",
    "    print(titles[item_b])\n",
    "    similarity = cosine(item_embeddings[item_a],\n",
    "                        item_embeddings[item_b])\n",
    "    print(f\"Cosine similarity: {similarity:.3}\")\n",
    "    \n",
    "print_similarity(50, 181, item_embeddings, indexed_items[\"title\"])"
   ]
  },
  {
   "cell_type": "markdown",
   "metadata": {
    "collapsed": false
   },
   "source": [
    "It makes sense that the original Star Wars, and its later sequel Return of the Jedi have a high similarity. Let's try some other examples:"
   ]
  },
  {
   "cell_type": "code",
   "execution_count": 32,
   "metadata": {},
   "outputs": [
    {
     "name": "stdout",
     "output_type": "stream",
     "text": [
      "Return of the Jedi (1983)\n",
      "Scream (1996)\n",
      "Cosine similarity: 0.74\n"
     ]
    }
   ],
   "source": [
    "print_similarity(181, 288, item_embeddings, indexed_items[\"title\"])"
   ]
  },
  {
   "cell_type": "code",
   "execution_count": 33,
   "metadata": {},
   "outputs": [
    {
     "name": "stdout",
     "output_type": "stream",
     "text": [
      "Return of the Jedi (1983)\n",
      "Toy Story (1995)\n",
      "Cosine similarity: 0.814\n"
     ]
    }
   ],
   "source": [
    "print_similarity(181, 1, item_embeddings, indexed_items[\"title\"])"
   ]
  },
  {
   "cell_type": "code",
   "execution_count": 34,
   "metadata": {},
   "outputs": [
    {
     "name": "stdout",
     "output_type": "stream",
     "text": [
      "Return of the Jedi (1983)\n",
      "Return of the Jedi (1983)\n",
      "Cosine similarity: 1.0\n"
     ]
    }
   ],
   "source": [
    "print_similarity(181, 181, item_embeddings, indexed_items[\"title\"])"
   ]
  },
  {
   "cell_type": "markdown",
   "metadata": {
    "collapsed": false
   },
   "source": [
    "*Quick Exercise*:\n",
    "\n",
    "- Find some other films and compare their similarity. Do the results make sense to you? Can you find a pair of films that are very _dissimilar_?"
   ]
  },
  {
   "cell_type": "code",
   "execution_count": 35,
   "metadata": {
    "collapsed": false
   },
   "outputs": [
    {
     "name": "stdout",
     "output_type": "stream",
     "text": [
      "My Crazy Life (Mi vida loca) (1993)\n",
      "You So Crazy (1994)\n",
      "Cosine similarity: 0.751\n"
     ]
    }
   ],
   "source": [
    "# Code to help you search for a movie title\n",
    "partial_title = \"Jedi\"\n",
    "indexed_items[indexed_items['title'].str.contains(partial_title)]\n",
    "\n",
    "# Your code here\n",
    "partial_title = \"Crazy\"\n",
    "indexed_items[indexed_items['title'].str.contains(partial_title)]\n",
    "\n",
    "print_similarity(1421, 1681, item_embeddings, indexed_items[\"title\"])"
   ]
  },
  {
   "cell_type": "markdown",
   "metadata": {
    "collapsed": false
   },
   "source": [
    "Sometimes, even without knowing anything about a user, we can recommend films by asking them about a film that they do like. The code below compares the similarity of a given film to all others, and returns the most similar films."
   ]
  },
  {
   "cell_type": "code",
   "execution_count": 36,
   "metadata": {},
   "outputs": [
    {
     "data": {
      "text/plain": [
       "[(1421, 'My Crazy Life (Mi vida loca) (1993)', 1.0),\n",
       " (1624, 'Hush (1998)', 0.9429097),\n",
       " (1613, 'Tokyo Fist (1995)', 0.9421228),\n",
       " (1235, 'Big Bang Theory, The (1994)', 0.9414964),\n",
       " (1600, 'Guantanamera (1994)', 0.93623817),\n",
       " (1171, 'Wild Reeds (1994)', 0.93591475),\n",
       " (1396, 'Stonewall (1995)', 0.9338407),\n",
       " (1108, 'Feast of July (1995)', 0.9335857),\n",
       " (1316, 'Horse Whisperer, The (1998)', 0.9321735),\n",
       " (1625, 'Nightwatch (1997)', 0.93111277)]"
      ]
     },
     "execution_count": 36,
     "metadata": {},
     "output_type": "execute_result"
    }
   ],
   "source": [
    "import numpy as np\n",
    "from sklearn.metrics.pairwise import cosine_similarity\n",
    "import builtins\n",
    "\n",
    "def most_similar(item_id, item_embeddings, titles,\n",
    "                 top_n=30):\n",
    "    # Compute the cosine similarity between the item and all other items\n",
    "    sims = cosine_similarity(item_embeddings[item_id].reshape(1, -1),\n",
    "                             item_embeddings).ravel()\n",
    "    \n",
    "    # [::-1] makes it possible to reverse the order of a numpy\n",
    "    # array, this is required because most similar items have\n",
    "    # a larger cosine similarity value\n",
    "    sorted_indexes = np.argsort(sims)[::-1]\n",
    "    idxs = sorted_indexes[0:top_n]\n",
    "    return list(builtins.zip(idxs, titles[idxs], sims[idxs]))\n",
    "\n",
    "# Find the most similar films to \"Star Wars\"\n",
    "most_similar(1421, item_embeddings, indexed_items[\"title\"], top_n=10)"
   ]
  },
  {
   "cell_type": "code",
   "execution_count": 37,
   "metadata": {},
   "outputs": [
    {
     "data": {
      "text/plain": [
       "[(227, 'Star Trek VI: The Undiscovered Country (1991)', 1.0000002),\n",
       " (228, 'Star Trek: The Wrath of Khan (1982)', 0.89295286),\n",
       " (429, 'Day the Earth Stood Still, The (1951)', 0.8647301),\n",
       " (176, 'Aliens (1986)', 0.8640541),\n",
       " (1485, 'Colonel Chabert, Le (1994)', 0.8626678),\n",
       " (1542, 'Scarlet Letter, The (1926)', 0.8622458),\n",
       " (183, 'Alien (1979)', 0.8619864),\n",
       " (431, 'Highlander (1986)', 0.86058176),\n",
       " (586, 'Terminal Velocity (1994)', 0.86021554),\n",
       " (1269, 'Love in the Afternoon (1957)', 0.8580762)]"
      ]
     },
     "execution_count": 37,
     "metadata": {},
     "output_type": "execute_result"
    }
   ],
   "source": [
    "# Find the most similar films to \"Star Trek VI: The Undiscovered Country\"\n",
    "most_similar(227, item_embeddings, indexed_items[\"title\"], top_n=10)"
   ]
  },
  {
   "cell_type": "markdown",
   "metadata": {},
   "source": [
    "The similarities do not always make sense: the number of ratings is low and the embedding  does not automatically capture semantic relationships in that context. Better representations arise with higher number of ratings, and less overfitting  in models or maybe better loss function, such as those based on implicit feedback."
   ]
  },
  {
   "cell_type": "markdown",
   "metadata": {},
   "source": [
    "### Visualizing embeddings using TSNE\n",
    "\n",
    "The [t-SNE](https://en.wikipedia.org/wiki/T-distributed_stochastic_neighbor_embedding) algorithm enables us to visualize high dimensional vectors in a 2D space by preserving local neighborhoods. We can use it to get a 2D visualization of the item embeddings and see if similar items are close in the embedding space."
   ]
  },
  {
   "cell_type": "code",
   "execution_count": 38,
   "metadata": {},
   "outputs": [],
   "source": [
    "from sklearn.manifold import TSNE\n",
    "\n",
    "item_tsne = TSNE(learning_rate=\"auto\", init=\"pca\", perplexity=30).fit_transform(item_embeddings)"
   ]
  },
  {
   "cell_type": "code",
   "execution_count": 39,
   "metadata": {},
   "outputs": [
    {
     "data": {
      "image/png": "[encoded data removed]",
      "text/plain": [
       "<Figure size 1000x1000 with 1 Axes>"
      ]
     },
     "metadata": {},
     "output_type": "display_data"
    }
   ],
   "source": [
    "import matplotlib.pyplot as plt\n",
    "\n",
    "plt.figure(figsize=(10, 10))\n",
    "plt.scatter(item_tsne[:, 0], item_tsne[:, 1]);\n",
    "plt.xticks(()); plt.yticks(());\n",
    "plt.show()"
   ]
  },
  {
   "cell_type": "code",
   "execution_count": 42,
   "metadata": {
    "tags": []
   },
   "outputs": [
    {
     "ename": "ValueError",
     "evalue": "Mime type rendering requires nbformat>=4.2.0 but it is not installed",
     "output_type": "error",
     "traceback": [
      "\u001b[1;31m---------------------------------------------------------------------------\u001b[0m",
      "\u001b[1;31mValueError\u001b[0m                                Traceback (most recent call last)",
      "File \u001b[1;32mc:\\Users\\iryna\\AppData\\Local\\Continuum\\envs\\scale2prod\\Lib\\site-packages\\IPython\\core\\formatters.py:925\u001b[0m, in \u001b[0;36mIPythonDisplayFormatter.__call__\u001b[1;34m(self, obj)\u001b[0m\n\u001b[0;32m    923\u001b[0m method \u001b[38;5;241m=\u001b[39m get_real_method(obj, \u001b[38;5;28mself\u001b[39m\u001b[38;5;241m.\u001b[39mprint_method)\n\u001b[0;32m    924\u001b[0m \u001b[38;5;28;01mif\u001b[39;00m method \u001b[38;5;129;01mis\u001b[39;00m \u001b[38;5;129;01mnot\u001b[39;00m \u001b[38;5;28;01mNone\u001b[39;00m:\n\u001b[1;32m--> 925\u001b[0m     \u001b[43mmethod\u001b[49m\u001b[43m(\u001b[49m\u001b[43m)\u001b[49m\n\u001b[0;32m    926\u001b[0m     \u001b[38;5;28;01mreturn\u001b[39;00m \u001b[38;5;28;01mTrue\u001b[39;00m\n",
      "File \u001b[1;32mc:\\Users\\iryna\\AppData\\Local\\Continuum\\envs\\scale2prod\\Lib\\site-packages\\plotly\\basedatatypes.py:832\u001b[0m, in \u001b[0;36mBaseFigure._ipython_display_\u001b[1;34m(self)\u001b[0m\n\u001b[0;32m    829\u001b[0m \u001b[38;5;28;01mimport\u001b[39;00m \u001b[38;5;21;01mplotly\u001b[39;00m\u001b[38;5;21;01m.\u001b[39;00m\u001b[38;5;21;01mio\u001b[39;00m \u001b[38;5;28;01mas\u001b[39;00m \u001b[38;5;21;01mpio\u001b[39;00m\n\u001b[0;32m    831\u001b[0m \u001b[38;5;28;01mif\u001b[39;00m pio\u001b[38;5;241m.\u001b[39mrenderers\u001b[38;5;241m.\u001b[39mrender_on_display \u001b[38;5;129;01mand\u001b[39;00m pio\u001b[38;5;241m.\u001b[39mrenderers\u001b[38;5;241m.\u001b[39mdefault:\n\u001b[1;32m--> 832\u001b[0m     \u001b[43mpio\u001b[49m\u001b[38;5;241;43m.\u001b[39;49m\u001b[43mshow\u001b[49m\u001b[43m(\u001b[49m\u001b[38;5;28;43mself\u001b[39;49m\u001b[43m)\u001b[49m\n\u001b[0;32m    833\u001b[0m \u001b[38;5;28;01melse\u001b[39;00m:\n\u001b[0;32m    834\u001b[0m     \u001b[38;5;28mprint\u001b[39m(\u001b[38;5;28mrepr\u001b[39m(\u001b[38;5;28mself\u001b[39m))\n",
      "File \u001b[1;32mc:\\Users\\iryna\\AppData\\Local\\Continuum\\envs\\scale2prod\\Lib\\site-packages\\plotly\\io\\_renderers.py:394\u001b[0m, in \u001b[0;36mshow\u001b[1;34m(fig, renderer, validate, **kwargs)\u001b[0m\n\u001b[0;32m    389\u001b[0m         \u001b[38;5;28;01mraise\u001b[39;00m \u001b[38;5;167;01mValueError\u001b[39;00m(\n\u001b[0;32m    390\u001b[0m             \u001b[38;5;124m\"\u001b[39m\u001b[38;5;124mMime type rendering requires ipython but it is not installed\u001b[39m\u001b[38;5;124m\"\u001b[39m\n\u001b[0;32m    391\u001b[0m         )\n\u001b[0;32m    393\u001b[0m     \u001b[38;5;28;01mif\u001b[39;00m \u001b[38;5;129;01mnot\u001b[39;00m nbformat \u001b[38;5;129;01mor\u001b[39;00m Version(nbformat\u001b[38;5;241m.\u001b[39m__version__) \u001b[38;5;241m<\u001b[39m Version(\u001b[38;5;124m\"\u001b[39m\u001b[38;5;124m4.2.0\u001b[39m\u001b[38;5;124m\"\u001b[39m):\n\u001b[1;32m--> 394\u001b[0m         \u001b[38;5;28;01mraise\u001b[39;00m \u001b[38;5;167;01mValueError\u001b[39;00m(\n\u001b[0;32m    395\u001b[0m             \u001b[38;5;124m\"\u001b[39m\u001b[38;5;124mMime type rendering requires nbformat>=4.2.0 but it is not installed\u001b[39m\u001b[38;5;124m\"\u001b[39m\n\u001b[0;32m    396\u001b[0m         )\n\u001b[0;32m    398\u001b[0m     ipython_display\u001b[38;5;241m.\u001b[39mdisplay(bundle, raw\u001b[38;5;241m=\u001b[39m\u001b[38;5;28;01mTrue\u001b[39;00m)\n\u001b[0;32m    400\u001b[0m \u001b[38;5;66;03m# external renderers\u001b[39;00m\n",
      "\u001b[1;31mValueError\u001b[0m: Mime type rendering requires nbformat>=4.2.0 but it is not installed"
     ]
    },
    {
     "data": {
      "application/vnd.plotly.v1+json": {
       "config": {
        "plotlyServerURL": "https://plot.ly"
       },
       "data": [
        {
         "customdata": [
          [
           1,
           "Toy Story (1995)",
           452
          ],
          [
           2,
           "GoldenEye (1995)",
           131
          ],
          [
           3,
           "Four Rooms (1995)",
           90
          ],
          [
           4,
           "Get Shorty (1995)",
           209
          ],
          [
           5,
           "Copycat (1995)",
           86
          ],
          [
           6,
           "Shanghai Triad (Yao a yao yao dao waipo qiao) (1995)",
           26
          ],
          [
           7,
           "Twelve Monkeys (1995)",
           392
          ],
          [
           8,
           "Babe (1995)",
           219
          ],
          [
           9,
           "Dead Man Walking (1995)",
           299
          ],
          [
           10,
           "Richard III (1995)",
           89
          ],
          [
           11,
           "Seven (Se7en) (1995)",
           236
          ],
          [
           12,
           "Usual Suspects, The (1995)",
           267
          ],
          [
           13,
           "Mighty Aphrodite (1995)",
           184
          ],
          [
           14,
           "Postino, Il (1994)",
           183
          ],
          [
           15,
           "Mr. Holland's Opus (1995)",
           293
          ],
          [
           16,
           "French Twist (Gazon maudit) (1995)",
           39
          ],
          [
           17,
           "From Dusk Till Dawn (1996)",
           92
          ],
          [
           18,
           "White Balloon, The (1995)",
           10
          ],
          [
           19,
           "Antonia's Line (1995)",
           69
          ],
          [
           20,
           "Angels and Insects (1995)",
           72
          ],
          [
           21,
           "Muppet Treasure Island (1996)",
           84
          ],
          [
           22,
           "Braveheart (1995)",
           297
          ],
          [
           23,
           "Taxi Driver (1976)",
           182
          ],
          [
           24,
           "Rumble in the Bronx (1995)",
           174
          ],
          [
           25,
           "Birdcage, The (1996)",
           293
          ],
          [
           26,
           "Brothers McMullen, The (1995)",
           73
          ],
          [
           27,
           "Bad Boys (1995)",
           57
          ],
          [
           28,
           "Apollo 13 (1995)",
           276
          ],
          [
           29,
           "Batman Forever (1995)",
           114
          ],
          [
           30,
           "Belle de jour (1967)",
           37
          ],
          [
           31,
           "Crimson Tide (1995)",
           154
          ],
          [
           32,
           "Crumb (1994)",
           81
          ],
          [
           33,
           "Desperado (1995)",
           97
          ],
          [
           34,
           "Doom Generation, The (1995)",
           7
          ],
          [
           35,
           "Free Willy 2: The Adventure Home (1995)",
           11
          ],
          [
           36,
           "Mad Love (1995)",
           13
          ],
          [
           37,
           "Nadja (1994)",
           8
          ],
          [
           38,
           "Net, The (1995)",
           120
          ],
          [
           39,
           "Strange Days (1995)",
           87
          ],
          [
           40,
           "To Wong Foo, Thanks for Everything! Julie Newmar (1995)",
           57
          ],
          [
           41,
           "Billy Madison (1995)",
           37
          ],
          [
           42,
           "Clerks (1994)",
           148
          ],
          [
           43,
           "Disclosure (1994)",
           40
          ],
          [
           44,
           "Dolores Claiborne (1994)",
           79
          ],
          [
           45,
           "Eat Drink Man Woman (1994)",
           80
          ],
          [
           46,
           "Exotica (1994)",
           27
          ],
          [
           47,
           "Ed Wood (1994)",
           133
          ],
          [
           48,
           "Hoop Dreams (1994)",
           117
          ],
          [
           49,
           "I.Q. (1994)",
           81
          ],
          [
           50,
           "Star Wars (1977)",
           583
          ],
          [
           51,
           "Legends of the Fall (1994)",
           81
          ],
          [
           52,
           "Madness of King George, The (1994)",
           91
          ],
          [
           53,
           "Natural Born Killers (1994)",
           128
          ],
          [
           54,
           "Outbreak (1995)",
           104
          ],
          [
           55,
           "Professional, The (1994)",
           149
          ],
          [
           56,
           "Pulp Fiction (1994)",
           394
          ],
          [
           57,
           "Priest (1994)",
           40
          ],
          [
           58,
           "Quiz Show (1994)",
           175
          ],
          [
           59,
           "Three Colors: Red (1994)",
           83
          ],
          [
           60,
           "Three Colors: Blue (1993)",
           64
          ],
          [
           61,
           "Three Colors: White (1994)",
           59
          ],
          [
           62,
           "Stargate (1994)",
           127
          ],
          [
           63,
           "Santa Clause, The (1994)",
           82
          ],
          [
           64,
           "Shawshank Redemption, The (1994)",
           283
          ],
          [
           65,
           "What's Eating Gilbert Grape (1993)",
           115
          ],
          [
           66,
           "While You Were Sleeping (1995)",
           162
          ],
          [
           67,
           "Ace Ventura: Pet Detective (1994)",
           103
          ],
          [
           68,
           "Crow, The (1994)",
           134
          ],
          [
           69,
           "Forrest Gump (1994)",
           321
          ],
          [
           70,
           "Four Weddings and a Funeral (1994)",
           251
          ],
          [
           71,
           "Lion King, The (1994)",
           220
          ],
          [
           72,
           "Mask, The (1994)",
           129
          ],
          [
           73,
           "Maverick (1994)",
           128
          ],
          [
           74,
           "Faster Pussycat! Kill! Kill! (1965)",
           7
          ],
          [
           75,
           "Brother Minister: The Assassination of Malcolm X (1994)",
           5
          ],
          [
           76,
           "Carlito's Way (1993)",
           54
          ],
          [
           77,
           "Firm, The (1993)",
           151
          ],
          [
           78,
           "Free Willy (1993)",
           33
          ],
          [
           79,
           "Fugitive, The (1993)",
           336
          ],
          [
           80,
           "Hot Shots! Part Deux (1993)",
           68
          ],
          [
           81,
           "Hudsucker Proxy, The (1994)",
           110
          ],
          [
           82,
           "Jurassic Park (1993)",
           261
          ],
          [
           83,
           "Much Ado About Nothing (1993)",
           176
          ],
          [
           84,
           "Robert A. Heinlein's The Puppet Masters (1994)",
           18
          ],
          [
           85,
           "Ref, The (1994)",
           58
          ],
          [
           86,
           "Remains of the Day, The (1993)",
           150
          ],
          [
           87,
           "Searching for Bobby Fischer (1993)",
           138
          ],
          [
           88,
           "Sleepless in Seattle (1993)",
           213
          ],
          [
           89,
           "Blade Runner (1982)",
           275
          ],
          [
           90,
           "So I Married an Axe Murderer (1993)",
           95
          ],
          [
           91,
           "Nightmare Before Christmas, The (1993)",
           143
          ],
          [
           92,
           "True Romance (1993)",
           104
          ],
          [
           93,
           "Welcome to the Dollhouse (1995)",
           112
          ],
          [
           94,
           "Home Alone (1990)",
           137
          ],
          [
           95,
           "Aladdin (1992)",
           219
          ],
          [
           96,
           "Terminator 2: Judgment Day (1991)",
           295
          ],
          [
           97,
           "Dances with Wolves (1990)",
           256
          ],
          [
           98,
           "Silence of the Lambs, The (1991)",
           390
          ],
          [
           99,
           "Snow White and the Seven Dwarfs (1937)",
           172
          ],
          [
           100,
           "Fargo (1996)",
           508
          ],
          [
           101,
           "Heavy Metal (1981)",
           73
          ],
          [
           102,
           "Aristocats, The (1970)",
           54
          ],
          [
           103,
           "All Dogs Go to Heaven 2 (1996)",
           15
          ],
          [
           104,
           "Theodore Rex (1995)",
           5
          ],
          [
           105,
           "Sgt. Bilko (1996)",
           74
          ],
          [
           106,
           "Diabolique (1996)",
           71
          ],
          [
           107,
           "Moll Flanders (1996)",
           42
          ],
          [
           108,
           "Kids in the Hall: Brain Candy (1996)",
           65
          ],
          [
           109,
           "Mystery Science Theater 3000: The Movie (1996)",
           130
          ],
          [
           110,
           "Operation Dumbo Drop (1995)",
           31
          ],
          [
           111,
           "Truth About Cats & Dogs, The (1996)",
           272
          ],
          [
           112,
           "Flipper (1996)",
           20
          ],
          [
           113,
           "Horseman on the Roof, The (Hussard sur le toit, Le) (1995)",
           9
          ],
          [
           114,
           "Wallace & Gromit: The Best of Aardman Animation (1996)",
           67
          ],
          [
           115,
           "Haunted World of Edward D. Wood Jr., The (1995)",
           15
          ],
          [
           116,
           "Cold Comfort Farm (1995)",
           125
          ],
          [
           117,
           "Rock, The (1996)",
           378
          ],
          [
           118,
           "Twister (1996)",
           293
          ],
          [
           119,
           "Maya Lin: A Strong Clear Vision (1994)",
           4
          ],
          [
           120,
           "Striptease (1996)",
           67
          ],
          [
           121,
           "Independence Day (ID4) (1996)",
           429
          ],
          [
           122,
           "Cable Guy, The (1996)",
           106
          ],
          [
           123,
           "Frighteners, The (1996)",
           115
          ],
          [
           124,
           "Lone Star (1996)",
           187
          ],
          [
           125,
           "Phenomenon (1996)",
           244
          ],
          [
           126,
           "Spitfire Grill, The (1996)",
           97
          ],
          [
           127,
           "Godfather, The (1972)",
           413
          ],
          [
           128,
           "Supercop (1992)",
           65
          ],
          [
           129,
           "Bound (1996)",
           129
          ],
          [
           130,
           "Kansas City (1996)",
           23
          ],
          [
           131,
           "Breakfast at Tiffany's (1961)",
           95
          ],
          [
           132,
           "Wizard of Oz, The (1939)",
           246
          ],
          [
           133,
           "Gone with the Wind (1939)",
           171
          ],
          [
           134,
           "Citizen Kane (1941)",
           198
          ],
          [
           135,
           "2001: A Space Odyssey (1968)",
           259
          ],
          [
           136,
           "Mr. Smith Goes to Washington (1939)",
           105
          ],
          [
           137,
           "Big Night (1996)",
           171
          ],
          [
           138,
           "D3: The Mighty Ducks (1996)",
           19
          ],
          [
           139,
           "Love Bug, The (1969)",
           50
          ],
          [
           140,
           "Homeward Bound: The Incredible Journey (1993)",
           61
          ],
          [
           141,
           "20,000 Leagues Under the Sea (1954)",
           72
          ],
          [
           142,
           "Bedknobs and Broomsticks (1971)",
           57
          ],
          [
           143,
           "Sound of Music, The (1965)",
           222
          ],
          [
           144,
           "Die Hard (1988)",
           243
          ],
          [
           145,
           "Lawnmower Man, The (1992)",
           65
          ],
          [
           146,
           "Unhook the Stars (1996)",
           10
          ],
          [
           147,
           "Long Kiss Goodnight, The (1996)",
           185
          ],
          [
           148,
           "Ghost and the Darkness, The (1996)",
           128
          ],
          [
           149,
           "Jude (1996)",
           23
          ],
          [
           150,
           "Swingers (1996)",
           157
          ],
          [
           151,
           "Willy Wonka and the Chocolate Factory (1971)",
           326
          ],
          [
           152,
           "Sleeper (1973)",
           82
          ],
          [
           153,
           "Fish Called Wanda, A (1988)",
           247
          ],
          [
           154,
           "Monty Python's Life of Brian (1979)",
           174
          ],
          [
           155,
           "Dirty Dancing (1987)",
           98
          ],
          [
           156,
           "Reservoir Dogs (1992)",
           148
          ],
          [
           157,
           "Platoon (1986)",
           127
          ],
          [
           158,
           "Weekend at Bernie's (1989)",
           60
          ],
          [
           159,
           "Basic Instinct (1992)",
           101
          ],
          [
           160,
           "Glengarry Glen Ross (1992)",
           69
          ],
          [
           161,
           "Top Gun (1986)",
           220
          ],
          [
           162,
           "On Golden Pond (1981)",
           106
          ],
          [
           163,
           "Return of the Pink Panther, The (1974)",
           92
          ],
          [
           164,
           "Abyss, The (1989)",
           151
          ],
          [
           165,
           "Jean de Florette (1986)",
           64
          ],
          [
           166,
           "Manon of the Spring (Manon des sources) (1986)",
           58
          ],
          [
           167,
           "Private Benjamin (1980)",
           67
          ],
          [
           168,
           "Monty Python and the Holy Grail (1974)",
           316
          ],
          [
           169,
           "Wrong Trousers, The (1993)",
           118
          ],
          [
           170,
           "Cinema Paradiso (1988)",
           121
          ],
          [
           171,
           "Delicatessen (1991)",
           65
          ],
          [
           172,
           "Empire Strikes Back, The (1980)",
           367
          ],
          [
           173,
           "Princess Bride, The (1987)",
           324
          ],
          [
           174,
           "Raiders of the Lost Ark (1981)",
           420
          ],
          [
           175,
           "Brazil (1985)",
           208
          ],
          [
           176,
           "Aliens (1986)",
           284
          ],
          [
           177,
           "Good, The Bad and The Ugly, The (1966)",
           137
          ],
          [
           178,
           "12 Angry Men (1957)",
           125
          ],
          [
           179,
           "Clockwork Orange, A (1971)",
           221
          ],
          [
           180,
           "Apocalypse Now (1979)",
           221
          ],
          [
           181,
           "Return of the Jedi (1983)",
           507
          ],
          [
           182,
           "GoodFellas (1990)",
           226
          ],
          [
           183,
           "Alien (1979)",
           291
          ],
          [
           184,
           "Army of Darkness (1993)",
           116
          ],
          [
           185,
           "Psycho (1960)",
           239
          ],
          [
           186,
           "Blues Brothers, The (1980)",
           251
          ],
          [
           187,
           "Godfather: Part II, The (1974)",
           209
          ],
          [
           188,
           "Full Metal Jacket (1987)",
           170
          ],
          [
           189,
           "Grand Day Out, A (1992)",
           66
          ],
          [
           190,
           "Henry V (1989)",
           124
          ],
          [
           191,
           "Amadeus (1984)",
           276
          ],
          [
           192,
           "Raging Bull (1980)",
           116
          ],
          [
           193,
           "Right Stuff, The (1983)",
           157
          ],
          [
           194,
           "Sting, The (1973)",
           241
          ],
          [
           195,
           "Terminator, The (1984)",
           301
          ],
          [
           196,
           "Dead Poets Society (1989)",
           251
          ],
          [
           197,
           "Graduate, The (1967)",
           239
          ],
          [
           198,
           "Nikita (La Femme Nikita) (1990)",
           127
          ],
          [
           199,
           "Bridge on the River Kwai, The (1957)",
           165
          ],
          [
           200,
           "Shining, The (1980)",
           206
          ],
          [
           201,
           "Evil Dead II (1987)",
           89
          ],
          [
           202,
           "Groundhog Day (1993)",
           280
          ],
          [
           203,
           "Unforgiven (1992)",
           182
          ],
          [
           204,
           "Back to the Future (1985)",
           350
          ],
          [
           205,
           "Patton (1970)",
           136
          ],
          [
           206,
           "Akira (1988)",
           50
          ],
          [
           207,
           "Cyrano de Bergerac (1990)",
           66
          ],
          [
           208,
           "Young Frankenstein (1974)",
           200
          ],
          [
           209,
           "This Is Spinal Tap (1984)",
           191
          ],
          [
           210,
           "Indiana Jones and the Last Crusade (1989)",
           331
          ],
          [
           211,
           "M*A*S*H (1970)",
           206
          ],
          [
           212,
           "Unbearable Lightness of Being, The (1988)",
           92
          ],
          [
           213,
           "Room with a View, A (1986)",
           134
          ],
          [
           214,
           "Pink Floyd - The Wall (1982)",
           114
          ],
          [
           215,
           "Field of Dreams (1989)",
           212
          ],
          [
           216,
           "When Harry Met Sally... (1989)",
           290
          ],
          [
           217,
           "Bram Stoker's Dracula (1992)",
           120
          ],
          [
           218,
           "Cape Fear (1991)",
           171
          ],
          [
           219,
           "Nightmare on Elm Street, A (1984)",
           111
          ],
          [
           220,
           "Mirror Has Two Faces, The (1996)",
           66
          ],
          [
           221,
           "Breaking the Waves (1996)",
           74
          ],
          [
           222,
           "Star Trek: First Contact (1996)",
           365
          ],
          [
           223,
           "Sling Blade (1996)",
           136
          ],
          [
           224,
           "Ridicule (1996)",
           44
          ],
          [
           225,
           "101 Dalmatians (1996)",
           109
          ],
          [
           226,
           "Die Hard 2 (1990)",
           166
          ],
          [
           227,
           "Star Trek VI: The Undiscovered Country (1991)",
           161
          ],
          [
           228,
           "Star Trek: The Wrath of Khan (1982)",
           244
          ],
          [
           229,
           "Star Trek III: The Search for Spock (1984)",
           171
          ],
          [
           230,
           "Star Trek IV: The Voyage Home (1986)",
           199
          ],
          [
           231,
           "Batman Returns (1992)",
           142
          ],
          [
           232,
           "Young Guns (1988)",
           101
          ],
          [
           233,
           "Under Siege (1992)",
           124
          ],
          [
           234,
           "Jaws (1975)",
           280
          ],
          [
           235,
           "Mars Attacks! (1996)",
           217
          ],
          [
           236,
           "Citizen Ruth (1996)",
           45
          ],
          [
           237,
           "Jerry Maguire (1996)",
           384
          ],
          [
           238,
           "Raising Arizona (1987)",
           256
          ],
          [
           239,
           "Sneakers (1992)",
           150
          ],
          [
           240,
           "Beavis and Butt-head Do America (1996)",
           156
          ],
          [
           241,
           "Last of the Mohicans, The (1992)",
           128
          ],
          [
           242,
           "Kolya (1996)",
           117
          ],
          [
           243,
           "Jungle2Jungle (1997)",
           132
          ],
          [
           244,
           "Smilla's Sense of Snow (1997)",
           48
          ],
          [
           245,
           "Devil's Own, The (1997)",
           240
          ],
          [
           246,
           "Chasing Amy (1997)",
           124
          ],
          [
           247,
           "Turbo: A Power Rangers Movie (1997)",
           5
          ],
          [
           248,
           "Grosse Pointe Blank (1997)",
           160
          ],
          [
           249,
           "Austin Powers: International Man of Mystery (1997)",
           130
          ],
          [
           250,
           "Fifth Element, The (1997)",
           197
          ],
          [
           251,
           "Shall We Dance? (1996)",
           46
          ],
          [
           252,
           "Lost World: Jurassic Park, The (1997)",
           158
          ],
          [
           253,
           "Pillow Book, The (1995)",
           26
          ],
          [
           254,
           "Batman & Robin (1997)",
           62
          ],
          [
           255,
           "My Best Friend's Wedding (1997)",
           172
          ],
          [
           256,
           "When the Cats Away (Chacun cherche son chat) (1996)",
           16
          ],
          [
           257,
           "Men in Black (1997)",
           303
          ],
          [
           258,
           "Contact (1997)",
           509
          ],
          [
           259,
           "George of the Jungle (1997)",
           162
          ],
          [
           260,
           "Event Horizon (1997)",
           127
          ],
          [
           261,
           "Air Bud (1997)",
           43
          ],
          [
           262,
           "In the Company of Men (1997)",
           66
          ],
          [
           263,
           "Steel (1997)",
           19
          ],
          [
           264,
           "Mimic (1997)",
           101
          ],
          [
           265,
           "Hunt for Red October, The (1990)",
           227
          ],
          [
           266,
           "Kull the Conqueror (1997)",
           35
          ],
          [
           267,
           "unknown",
           9
          ],
          [
           268,
           "Chasing Amy (1997)",
           255
          ],
          [
           269,
           "Full Monty, The (1997)",
           315
          ],
          [
           270,
           "Gattaca (1997)",
           136
          ],
          [
           271,
           "Starship Troopers (1997)",
           211
          ],
          [
           272,
           "Good Will Hunting (1997)",
           198
          ],
          [
           273,
           "Heat (1995)",
           223
          ],
          [
           274,
           "Sabrina (1995)",
           190
          ],
          [
           275,
           "Sense and Sensibility (1995)",
           268
          ],
          [
           276,
           "Leaving Las Vegas (1995)",
           298
          ],
          [
           277,
           "Restoration (1995)",
           71
          ],
          [
           278,
           "Bed of Roses (1996)",
           60
          ],
          [
           279,
           "Once Upon a Time... When We Were Colored (1995)",
           28
          ],
          [
           280,
           "Up Close and Personal (1996)",
           85
          ],
          [
           281,
           "River Wild, The (1994)",
           146
          ],
          [
           282,
           "Time to Kill, A (1996)",
           232
          ],
          [
           283,
           "Emma (1996)",
           177
          ],
          [
           284,
           "Tin Cup (1996)",
           193
          ],
          [
           285,
           "Secrets & Lies (1996)",
           162
          ],
          [
           286,
           "English Patient, The (1996)",
           481
          ],
          [
           287,
           "Marvin's Room (1996)",
           78
          ],
          [
           288,
           "Scream (1996)",
           478
          ],
          [
           289,
           "Evita (1996)",
           259
          ],
          [
           290,
           "Fierce Creatures (1997)",
           96
          ],
          [
           291,
           "Absolute Power (1997)",
           127
          ],
          [
           292,
           "Rosewood (1997)",
           114
          ],
          [
           293,
           "Donnie Brasco (1997)",
           147
          ],
          [
           294,
           "Liar Liar (1997)",
           485
          ],
          [
           295,
           "Breakdown (1997)",
           77
          ],
          [
           296,
           "Promesse, La (1996)",
           6
          ],
          [
           297,
           "Ulee's Gold (1997)",
           50
          ],
          [
           298,
           "Face/Off (1997)",
           194
          ],
          [
           299,
           "Hoodlum (1997)",
           73
          ],
          [
           300,
           "Air Force One (1997)",
           431
          ],
          [
           301,
           "In & Out (1997)",
           230
          ],
          [
           302,
           "L.A. Confidential (1997)",
           297
          ],
          [
           303,
           "Ulee's Gold (1997)",
           134
          ],
          [
           304,
           "Fly Away Home (1996)",
           149
          ],
          [
           305,
           "Ice Storm, The (1997)",
           87
          ],
          [
           306,
           "Mrs. Brown (Her Majesty, Mrs. Brown) (1997)",
           96
          ],
          [
           307,
           "Devil's Advocate, The (1997)",
           188
          ],
          [
           308,
           "FairyTale: A True Story (1997)",
           30
          ],
          [
           309,
           "Deceiver (1997)",
           28
          ],
          [
           310,
           "Rainmaker, The (1997)",
           145
          ],
          [
           311,
           "Wings of the Dove, The (1997)",
           75
          ],
          [
           312,
           "Midnight in the Garden of Good and Evil (1997)",
           80
          ],
          [
           313,
           "Titanic (1997)",
           350
          ],
          [
           314,
           "3 Ninjas: High Noon At Mega Mountain (1998)",
           5
          ],
          [
           315,
           "Apt Pupil (1998)",
           160
          ],
          [
           316,
           "As Good As It Gets (1997)",
           112
          ],
          [
           317,
           "In the Name of the Father (1993)",
           102
          ],
          [
           318,
           "Schindler's List (1993)",
           298
          ],
          [
           319,
           "Everyone Says I Love You (1996)",
           168
          ],
          [
           320,
           "Paradise Lost: The Child Murders at Robin Hood Hills (1996)",
           20
          ],
          [
           321,
           "Mother (1996)",
           169
          ],
          [
           322,
           "Murder at 1600 (1997)",
           218
          ],
          [
           323,
           "Dante's Peak (1997)",
           240
          ],
          [
           324,
           "Lost Highway (1997)",
           125
          ],
          [
           325,
           "Crash (1996)",
           128
          ],
          [
           326,
           "G.I. Jane (1997)",
           175
          ],
          [
           327,
           "Cop Land (1997)",
           175
          ],
          [
           328,
           "Conspiracy Theory (1997)",
           295
          ],
          [
           329,
           "Desperate Measures (1998)",
           45
          ],
          [
           330,
           "187 (1997)",
           41
          ],
          [
           331,
           "Edge, The (1997)",
           113
          ],
          [
           332,
           "Kiss the Girls (1997)",
           143
          ],
          [
           333,
           "Game, The (1997)",
           251
          ],
          [
           334,
           "U Turn (1997)",
           64
          ],
          [
           335,
           "How to Be a Player (1997)",
           21
          ],
          [
           336,
           "Playing God (1997)",
           43
          ],
          [
           337,
           "House of Yes, The (1997)",
           18
          ],
          [
           338,
           "Bean (1997)",
           91
          ],
          [
           339,
           "Mad City (1997)",
           47
          ],
          [
           340,
           "Boogie Nights (1997)",
           189
          ],
          [
           341,
           "Critical Care (1997)",
           11
          ],
          [
           342,
           "Man Who Knew Too Little, The (1997)",
           52
          ],
          [
           343,
           "Alien: Resurrection (1997)",
           124
          ],
          [
           344,
           "Apostle, The (1997)",
           55
          ],
          [
           345,
           "Deconstructing Harry (1997)",
           65
          ],
          [
           346,
           "Jackie Brown (1997)",
           126
          ],
          [
           347,
           "Wag the Dog (1997)",
           137
          ],
          [
           348,
           "Desperate Measures (1998)",
           27
          ],
          [
           349,
           "Hard Rain (1998)",
           31
          ],
          [
           350,
           "Fallen (1998)",
           41
          ],
          [
           351,
           "Prophecy II, The (1998)",
           20
          ],
          [
           352,
           "Spice World (1997)",
           26
          ],
          [
           353,
           "Deep Rising (1998)",
           14
          ],
          [
           354,
           "Wedding Singer, The (1998)",
           72
          ],
          [
           355,
           "Sphere (1998)",
           41
          ],
          [
           356,
           "Client, The (1994)",
           97
          ],
          [
           357,
           "One Flew Over the Cuckoo's Nest (1975)",
           264
          ],
          [
           358,
           "Spawn (1997)",
           143
          ],
          [
           359,
           "Assignment, The (1997)",
           18
          ],
          [
           360,
           "Wonderland (1997)",
           10
          ],
          [
           361,
           "Incognito (1997)",
           10
          ],
          [
           362,
           "Blues Brothers 2000 (1998)",
           28
          ],
          [
           363,
           "Sudden Death (1995)",
           47
          ],
          [
           364,
           "Ace Ventura: When Nature Calls (1995)",
           37
          ],
          [
           365,
           "Powder (1995)",
           48
          ],
          [
           366,
           "Dangerous Minds (1995)",
           47
          ],
          [
           367,
           "Clueless (1995)",
           170
          ],
          [
           368,
           "Bio-Dome (1996)",
           31
          ],
          [
           369,
           "Black Sheep (1996)",
           55
          ],
          [
           370,
           "Mary Reilly (1996)",
           39
          ],
          [
           371,
           "Bridges of Madison County, The (1995)",
           67
          ],
          [
           372,
           "Jeffrey (1995)",
           34
          ],
          [
           373,
           "Judge Dredd (1995)",
           39
          ],
          [
           374,
           "Mighty Morphin Power Rangers: The Movie (1995)",
           11
          ],
          [
           375,
           "Showgirls (1995)",
           23
          ],
          [
           376,
           "Houseguest (1994)",
           24
          ],
          [
           377,
           "Heavyweights (1994)",
           13
          ],
          [
           378,
           "Miracle on 34th Street (1994)",
           101
          ],
          [
           379,
           "Tales From the Crypt Presents: Demon Knight (1995)",
           43
          ],
          [
           380,
           "Star Trek: Generations (1994)",
           116
          ],
          [
           381,
           "Muriel's Wedding (1994)",
           100
          ],
          [
           382,
           "Adventures of Priscilla, Queen of the Desert, The (1994)",
           111
          ],
          [
           383,
           "Flintstones, The (1994)",
           31
          ],
          [
           384,
           "Naked Gun 33 1/3: The Final Insult (1994)",
           69
          ],
          [
           385,
           "True Lies (1994)",
           208
          ],
          [
           386,
           "Addams Family Values (1993)",
           87
          ],
          [
           387,
           "Age of Innocence, The (1993)",
           65
          ],
          [
           388,
           "Beverly Hills Cop III (1994)",
           28
          ],
          [
           389,
           "Black Beauty (1994)",
           27
          ],
          [
           390,
           "Fear of a Black Hat (1993)",
           10
          ],
          [
           391,
           "Last Action Hero (1993)",
           59
          ],
          [
           392,
           "Man Without a Face, The (1993)",
           68
          ],
          [
           393,
           "Mrs. Doubtfire (1993)",
           192
          ],
          [
           394,
           "Radioland Murders (1994)",
           12
          ],
          [
           395,
           "Robin Hood: Men in Tights (1993)",
           56
          ],
          [
           396,
           "Serial Mom (1994)",
           54
          ],
          [
           397,
           "Striking Distance (1993)",
           12
          ],
          [
           398,
           "Super Mario Bros. (1993)",
           26
          ],
          [
           399,
           "Three Musketeers, The (1993)",
           89
          ],
          [
           400,
           "Little Rascals, The (1994)",
           18
          ],
          [
           401,
           "Brady Bunch Movie, The (1995)",
           76
          ],
          [
           402,
           "Ghost (1990)",
           170
          ],
          [
           403,
           "Batman (1989)",
           201
          ],
          [
           404,
           "Pinocchio (1940)",
           101
          ],
          [
           405,
           "Mission: Impossible (1996)",
           344
          ],
          [
           406,
           "Thinner (1996)",
           49
          ],
          [
           407,
           "Spy Hard (1996)",
           43
          ],
          [
           408,
           "Close Shave, A (1995)",
           112
          ],
          [
           409,
           "Jack (1996)",
           70
          ],
          [
           410,
           "Kingpin (1996)",
           162
          ],
          [
           411,
           "Nutty Professor, The (1996)",
           163
          ],
          [
           412,
           "Very Brady Sequel, A (1996)",
           93
          ],
          [
           413,
           "Tales from the Crypt Presents: Bordello of Blood (1996)",
           55
          ],
          [
           414,
           "My Favorite Year (1982)",
           62
          ],
          [
           415,
           "Apple Dumpling Gang, The (1975)",
           25
          ],
          [
           416,
           "Old Yeller (1957)",
           64
          ],
          [
           417,
           "Parent Trap, The (1961)",
           73
          ],
          [
           418,
           "Cinderella (1950)",
           129
          ],
          [
           419,
           "Mary Poppins (1964)",
           178
          ],
          [
           420,
           "Alice in Wonderland (1951)",
           81
          ],
          [
           421,
           "William Shakespeare's Romeo and Juliet (1996)",
           106
          ],
          [
           422,
           "Aladdin and the King of Thieves (1996)",
           26
          ],
          [
           423,
           "E.T. the Extra-Terrestrial (1982)",
           300
          ],
          [
           424,
           "Children of the Corn: The Gathering (1996)",
           19
          ],
          [
           425,
           "Bob Roberts (1992)",
           85
          ],
          [
           426,
           "Transformers: The Movie, The (1986)",
           32
          ],
          [
           427,
           "To Kill a Mockingbird (1962)",
           219
          ],
          [
           428,
           "Harold and Maude (1971)",
           121
          ],
          [
           429,
           "Day the Earth Stood Still, The (1951)",
           97
          ],
          [
           430,
           "Duck Soup (1933)",
           93
          ],
          [
           431,
           "Highlander (1986)",
           153
          ],
          [
           432,
           "Fantasia (1940)",
           174
          ],
          [
           433,
           "Heathers (1989)",
           171
          ],
          [
           434,
           "Forbidden Planet (1956)",
           67
          ],
          [
           435,
           "Butch Cassidy and the Sundance Kid (1969)",
           216
          ],
          [
           436,
           "American Werewolf in London, An (1981)",
           99
          ],
          [
           437,
           "Amityville 1992: It's About Time (1992)",
           5
          ],
          [
           438,
           "Amityville 3-D (1983)",
           6
          ],
          [
           439,
           "Amityville: A New Generation (1993)",
           5
          ],
          [
           440,
           "Amityville II: The Possession (1982)",
           14
          ],
          [
           441,
           "Amityville Horror, The (1979)",
           53
          ],
          [
           442,
           "Amityville Curse, The (1990)",
           4
          ],
          [
           443,
           "Birds, The (1963)",
           162
          ],
          [
           444,
           "Blob, The (1958)",
           46
          ],
          [
           445,
           "Body Snatcher, The (1945)",
           22
          ],
          [
           446,
           "Burnt Offerings (1976)",
           9
          ],
          [
           447,
           "Carrie (1976)",
           121
          ],
          [
           448,
           "Omen, The (1976)",
           85
          ],
          [
           449,
           "Star Trek: The Motion Picture (1979)",
           117
          ],
          [
           450,
           "Star Trek V: The Final Frontier (1989)",
           63
          ],
          [
           451,
           "Grease (1978)",
           170
          ],
          [
           452,
           "Jaws 2 (1978)",
           66
          ],
          [
           453,
           "Jaws 3-D (1983)",
           16
          ],
          [
           454,
           "Bastard Out of Carolina (1996)",
           16
          ],
          [
           455,
           "Jackie Chan's First Strike (1996)",
           145
          ],
          [
           456,
           "Beverly Hills Ninja (1997)",
           48
          ],
          [
           457,
           "Free Willy 3: The Rescue (1997)",
           27
          ],
          [
           458,
           "Nixon (1995)",
           90
          ],
          [
           459,
           "Cry, the Beloved Country (1995)",
           24
          ],
          [
           460,
           "Crossing Guard, The (1995)",
           28
          ],
          [
           461,
           "Smoke (1995)",
           74
          ],
          [
           462,
           "Like Water For Chocolate (Como agua para chocolate) (1992)",
           148
          ],
          [
           463,
           "Secret of Roan Inish, The (1994)",
           71
          ],
          [
           464,
           "Vanya on 42nd Street (1994)",
           27
          ],
          [
           465,
           "Jungle Book, The (1994)",
           85
          ],
          [
           466,
           "Red Rock West (1992)",
           52
          ],
          [
           467,
           "Bronx Tale, A (1993)",
           48
          ],
          [
           468,
           "Rudy (1993)",
           64
          ],
          [
           469,
           "Short Cuts (1993)",
           67
          ],
          [
           470,
           "Tombstone (1993)",
           108
          ],
          [
           471,
           "Courage Under Fire (1996)",
           221
          ],
          [
           472,
           "Dragonheart (1996)",
           158
          ],
          [
           473,
           "James and the Giant Peach (1996)",
           126
          ],
          [
           474,
           "Dr. Strangelove or: How I Learned to Stop Worrying and Love the Bomb (1963)",
           194
          ],
          [
           475,
           "Trainspotting (1996)",
           250
          ],
          [
           476,
           "First Wives Club, The (1996)",
           160
          ],
          [
           477,
           "Matilda (1996)",
           95
          ],
          [
           478,
           "Philadelphia Story, The (1940)",
           104
          ],
          [
           479,
           "Vertigo (1958)",
           179
          ],
          [
           480,
           "North by Northwest (1959)",
           179
          ],
          [
           481,
           "Apartment, The (1960)",
           63
          ],
          [
           482,
           "Some Like It Hot (1959)",
           128
          ],
          [
           483,
           "Casablanca (1942)",
           243
          ],
          [
           484,
           "Maltese Falcon, The (1941)",
           138
          ],
          [
           485,
           "My Fair Lady (1964)",
           125
          ],
          [
           486,
           "Sabrina (1954)",
           64
          ],
          [
           487,
           "Roman Holiday (1953)",
           68
          ],
          [
           488,
           "Sunset Blvd. (1950)",
           65
          ],
          [
           489,
           "Notorious (1946)",
           52
          ],
          [
           490,
           "To Catch a Thief (1955)",
           50
          ],
          [
           491,
           "Adventures of Robin Hood, The (1938)",
           67
          ],
          [
           492,
           "East of Eden (1955)",
           59
          ],
          [
           493,
           "Thin Man, The (1934)",
           60
          ],
          [
           494,
           "His Girl Friday (1940)",
           56
          ],
          [
           495,
           "Around the World in 80 Days (1956)",
           59
          ],
          [
           496,
           "It's a Wonderful Life (1946)",
           231
          ],
          [
           497,
           "Bringing Up Baby (1938)",
           68
          ],
          [
           498,
           "African Queen, The (1951)",
           152
          ],
          [
           499,
           "Cat on a Hot Tin Roof (1958)",
           62
          ],
          [
           500,
           "Fly Away Home (1996)",
           31
          ],
          [
           501,
           "Dumbo (1941)",
           123
          ],
          [
           502,
           "Bananas (1971)",
           57
          ],
          [
           503,
           "Candidate, The (1972)",
           39
          ],
          [
           504,
           "Bonnie and Clyde (1967)",
           122
          ],
          [
           505,
           "Dial M for Murder (1954)",
           68
          ],
          [
           506,
           "Rebel Without a Cause (1955)",
           90
          ],
          [
           507,
           "Streetcar Named Desire, A (1951)",
           98
          ],
          [
           508,
           "People vs. Larry Flynt, The (1996)",
           215
          ],
          [
           509,
           "My Left Foot (1989)",
           121
          ],
          [
           510,
           "Magnificent Seven, The (1954)",
           121
          ],
          [
           511,
           "Lawrence of Arabia (1962)",
           173
          ],
          [
           512,
           "Wings of Desire (1987)",
           57
          ],
          [
           513,
           "Third Man, The (1949)",
           72
          ],
          [
           514,
           "Annie Hall (1977)",
           180
          ],
          [
           515,
           "Boot, Das (1981)",
           201
          ],
          [
           516,
           "Local Hero (1983)",
           63
          ],
          [
           517,
           "Manhattan (1979)",
           91
          ],
          [
           518,
           "Miller's Crossing (1990)",
           89
          ],
          [
           519,
           "Treasure of the Sierra Madre, The (1948)",
           80
          ],
          [
           520,
           "Great Escape, The (1963)",
           124
          ],
          [
           521,
           "Deer Hunter, The (1978)",
           120
          ],
          [
           522,
           "Down by Law (1986)",
           35
          ],
          [
           523,
           "Cool Hand Luke (1967)",
           164
          ],
          [
           524,
           "Great Dictator, The (1940)",
           46
          ],
          [
           525,
           "Big Sleep, The (1946)",
           73
          ],
          [
           526,
           "Ben-Hur (1959)",
           124
          ],
          [
           527,
           "Gandhi (1982)",
           195
          ],
          [
           528,
           "Killing Fields, The (1984)",
           121
          ],
          [
           529,
           "My Life as a Dog (Mitt liv som hund) (1985)",
           93
          ],
          [
           530,
           "Man Who Would Be King, The (1975)",
           80
          ],
          [
           531,
           "Shine (1996)",
           129
          ],
          [
           532,
           "Kama Sutra: A Tale of Love (1996)",
           22
          ],
          [
           533,
           "Daytrippers, The (1996)",
           15
          ],
          [
           534,
           "Traveller (1997)",
           13
          ],
          [
           535,
           "Addicted to Love (1997)",
           54
          ],
          [
           536,
           "Ponette (1996)",
           10
          ],
          [
           537,
           "My Own Private Idaho (1991)",
           30
          ],
          [
           538,
           "Anastasia (1997)",
           66
          ],
          [
           539,
           "Mouse Hunt (1997)",
           44
          ],
          [
           540,
           "Money Train (1995)",
           43
          ],
          [
           541,
           "Mortal Kombat (1995)",
           49
          ],
          [
           542,
           "Pocahontas (1995)",
           51
          ],
          [
           543,
           "Misérables, Les (1995)",
           21
          ],
          [
           544,
           "Things to Do in Denver when You're Dead (1995)",
           71
          ],
          [
           545,
           "Vampire in Brooklyn (1995)",
           12
          ],
          [
           546,
           "Broken Arrow (1996)",
           254
          ],
          [
           547,
           "Young Poisoner's Handbook, The (1995)",
           41
          ],
          [
           548,
           "NeverEnding Story III, The (1994)",
           12
          ],
          [
           549,
           "Rob Roy (1995)",
           92
          ],
          [
           550,
           "Die Hard: With a Vengeance (1995)",
           151
          ],
          [
           551,
           "Lord of Illusions (1995)",
           24
          ],
          [
           552,
           "Species (1995)",
           45
          ],
          [
           553,
           "Walk in the Clouds, A (1995)",
           63
          ],
          [
           554,
           "Waterworld (1995)",
           102
          ],
          [
           555,
           "White Man's Burden (1995)",
           10
          ],
          [
           556,
           "Wild Bill (1995)",
           12
          ],
          [
           557,
           "Farinelli: il castrato (1994)",
           17
          ],
          [
           558,
           "Heavenly Creatures (1994)",
           70
          ],
          [
           559,
           "Interview with the Vampire (1994)",
           137
          ],
          [
           560,
           "Kid in King Arthur's Court, A (1995)",
           22
          ],
          [
           561,
           "Mary Shelley's Frankenstein (1994)",
           59
          ],
          [
           562,
           "Quick and the Dead, The (1995)",
           48
          ],
          [
           563,
           "Stephen King's The Langoliers (1995)",
           29
          ],
          [
           564,
           "Tales from the Hood (1995)",
           27
          ],
          [
           565,
           "Village of the Damned (1995)",
           22
          ],
          [
           566,
           "Clear and Present Danger (1994)",
           179
          ],
          [
           567,
           "Wes Craven's New Nightmare (1994)",
           35
          ],
          [
           568,
           "Speed (1994)",
           230
          ],
          [
           569,
           "Wolf (1994)",
           67
          ],
          [
           570,
           "Wyatt Earp (1994)",
           50
          ],
          [
           571,
           "Another Stakeout (1993)",
           28
          ],
          [
           572,
           "Blown Away (1994)",
           29
          ],
          [
           573,
           "Body Snatchers (1993)",
           33
          ],
          [
           574,
           "Boxing Helena (1993)",
           15
          ],
          [
           575,
           "City Slickers II: The Legend of Curly's Gold (1994)",
           44
          ],
          [
           576,
           "Cliffhanger (1993)",
           93
          ],
          [
           577,
           "Coneheads (1993)",
           41
          ],
          [
           578,
           "Demolition Man (1993)",
           92
          ],
          [
           579,
           "Fatal Instinct (1993)",
           19
          ],
          [
           580,
           "Englishman Who Went Up a Hill, But Came Down a Mountain, The (1995)",
           32
          ],
          [
           581,
           "Kalifornia (1993)",
           59
          ],
          [
           582,
           "Piano, The (1993)",
           168
          ],
          [
           583,
           "Romeo Is Bleeding (1993)",
           37
          ],
          [
           584,
           "Secret Garden, The (1993)",
           79
          ],
          [
           585,
           "Son in Law (1993)",
           39
          ],
          [
           586,
           "Terminal Velocity (1994)",
           34
          ],
          [
           587,
           "Hour of the Pig, The (1993)",
           14
          ],
          [
           588,
           "Beauty and the Beast (1991)",
           202
          ],
          [
           589,
           "Wild Bunch, The (1969)",
           43
          ],
          [
           590,
           "Hellraiser: Bloodline (1996)",
           18
          ],
          [
           591,
           "Primal Fear (1996)",
           178
          ],
          [
           592,
           "True Crime (1995)",
           9
          ],
          [
           593,
           "Stalingrad (1993)",
           12
          ],
          [
           594,
           "Heavy (1995)",
           5
          ],
          [
           595,
           "Fan, The (1996)",
           64
          ],
          [
           596,
           "Hunchback of Notre Dame, The (1996)",
           127
          ],
          [
           597,
           "Eraser (1996)",
           206
          ],
          [
           598,
           "Big Squeeze, The (1996)",
           4
          ],
          [
           599,
           "Police Story 4: Project S (Chao ji ji hua) (1993)",
           1
          ],
          [
           600,
           "Daniel Defoe's Robinson Crusoe (1996)",
           2
          ],
          [
           601,
           "For Whom the Bell Tolls (1943)",
           20
          ],
          [
           602,
           "American in Paris, An (1951)",
           50
          ],
          [
           603,
           "Rear Window (1954)",
           209
          ],
          [
           604,
           "It Happened One Night (1934)",
           81
          ],
          [
           605,
           "Meet Me in St. Louis (1944)",
           31
          ],
          [
           606,
           "All About Eve (1950)",
           66
          ],
          [
           607,
           "Rebecca (1940)",
           66
          ],
          [
           608,
           "Spellbound (1945)",
           30
          ],
          [
           609,
           "Father of the Bride (1950)",
           60
          ],
          [
           610,
           "Gigi (1958)",
           41
          ],
          [
           611,
           "Laura (1944)",
           40
          ],
          [
           612,
           "Lost Horizon (1937)",
           34
          ],
          [
           613,
           "My Man Godfrey (1936)",
           27
          ],
          [
           614,
           "Giant (1956)",
           51
          ],
          [
           615,
           "39 Steps, The (1935)",
           59
          ],
          [
           616,
           "Night of the Living Dead (1968)",
           64
          ],
          [
           617,
           "Blue Angel, The (Blaue Engel, Der) (1930)",
           18
          ],
          [
           618,
           "Picnic (1955)",
           18
          ],
          [
           619,
           "Extreme Measures (1996)",
           64
          ],
          [
           620,
           "Chamber, The (1996)",
           43
          ],
          [
           621,
           "Davy Crockett, King of the Wild Frontier (1955)",
           11
          ],
          [
           622,
           "Swiss Family Robinson (1960)",
           39
          ],
          [
           623,
           "Angels in the Outfield (1994)",
           39
          ],
          [
           624,
           "Three Caballeros, The (1945)",
           22
          ],
          [
           625,
           "Sword in the Stone, The (1963)",
           82
          ],
          [
           626,
           "So Dear to My Heart (1949)",
           4
          ],
          [
           627,
           "Robin Hood: Prince of Thieves (1991)",
           75
          ],
          [
           628,
           "Sleepers (1996)",
           169
          ],
          [
           629,
           "Victor/Victoria (1982)",
           77
          ],
          [
           630,
           "Great Race, The (1965)",
           31
          ],
          [
           631,
           "Crying Game, The (1992)",
           119
          ],
          [
           632,
           "Sophie's Choice (1982)",
           58
          ],
          [
           633,
           "Christmas Carol, A (1938)",
           69
          ],
          [
           634,
           "Microcosmos: Le peuple de l'herbe (1996)",
           24
          ],
          [
           635,
           "Fog, The (1980)",
           23
          ],
          [
           636,
           "Escape from New York (1981)",
           91
          ],
          [
           637,
           "Howling, The (1981)",
           38
          ],
          [
           638,
           "Return of Martin Guerre, The (Retour de Martin Guerre, Le) (1982)",
           44
          ],
          [
           639,
           "Tin Drum, The (Blechtrommel, Die) (1979)",
           40
          ],
          [
           640,
           "Cook the Thief His Wife & Her Lover, The (1989)",
           82
          ],
          [
           641,
           "Paths of Glory (1957)",
           33
          ],
          [
           642,
           "Grifters, The (1990)",
           89
          ],
          [
           643,
           "The Innocent (1994)",
           4
          ],
          [
           644,
           "Thin Blue Line, The (1988)",
           35
          ],
          [
           645,
           "Paris Is Burning (1990)",
           27
          ],
          [
           646,
           "Once Upon a Time in the West (1969)",
           38
          ],
          [
           647,
           "Ran (1985)",
           70
          ],
          [
           648,
           "Quiet Man, The (1952)",
           67
          ],
          [
           649,
           "Once Upon a Time in America (1984)",
           50
          ],
          [
           650,
           "Seventh Seal, The (Sjunde inseglet, Det) (1957)",
           72
          ],
          [
           651,
           "Glory (1989)",
           171
          ],
          [
           652,
           "Rosencrantz and Guildenstern Are Dead (1990)",
           90
          ],
          [
           653,
           "Touch of Evil (1958)",
           34
          ],
          [
           654,
           "Chinatown (1974)",
           147
          ],
          [
           655,
           "Stand by Me (1986)",
           227
          ],
          [
           656,
           "M (1931)",
           44
          ],
          [
           657,
           "Manchurian Candidate, The (1962)",
           131
          ],
          [
           658,
           "Pump Up the Volume (1990)",
           79
          ],
          [
           659,
           "Arsenic and Old Lace (1944)",
           115
          ],
          [
           660,
           "Fried Green Tomatoes (1991)",
           153
          ],
          [
           661,
           "High Noon (1952)",
           88
          ],
          [
           662,
           "Somewhere in Time (1980)",
           82
          ],
          [
           663,
           "Being There (1979)",
           116
          ],
          [
           664,
           "Paris, Texas (1984)",
           46
          ],
          [
           665,
           "Alien 3 (1992)",
           100
          ],
          [
           666,
           "Blood For Dracula (Andy Warhol's Dracula) (1974)",
           5
          ],
          [
           667,
           "Audrey Rose (1977)",
           12
          ],
          [
           668,
           "Blood Beach (1981)",
           6
          ],
          [
           669,
           "Body Parts (1991)",
           13
          ],
          [
           670,
           "Body Snatchers (1993)",
           36
          ],
          [
           671,
           "Bride of Frankenstein (1935)",
           46
          ],
          [
           672,
           "Candyman (1992)",
           65
          ],
          [
           673,
           "Cape Fear (1962)",
           86
          ],
          [
           674,
           "Cat People (1982)",
           48
          ],
          [
           675,
           "Nosferatu (Nosferatu, eine Symphonie des Grauens) (1922)",
           54
          ],
          [
           676,
           "Crucible, The (1996)",
           77
          ],
          [
           677,
           "Fire on the Mountain (1996)",
           1
          ],
          [
           678,
           "Volcano (1997)",
           219
          ],
          [
           679,
           "Conan the Barbarian (1981)",
           107
          ],
          [
           680,
           "Kull the Conqueror (1997)",
           34
          ],
          [
           681,
           "Wishmaster (1997)",
           27
          ],
          [
           682,
           "I Know What You Did Last Summer (1997)",
           100
          ],
          [
           683,
           "Rocket Man (1997)",
           49
          ],
          [
           684,
           "In the Line of Fire (1993)",
           169
          ],
          [
           685,
           "Executive Decision (1996)",
           157
          ],
          [
           686,
           "Perfect World, A (1993)",
           50
          ],
          [
           687,
           "McHale's Navy (1997)",
           69
          ],
          [
           688,
           "Leave It to Beaver (1997)",
           44
          ],
          [
           689,
           "Jackal, The (1997)",
           87
          ],
          [
           690,
           "Seven Years in Tibet (1997)",
           155
          ],
          [
           691,
           "Dark City (1998)",
           16
          ],
          [
           692,
           "American President, The (1995)",
           164
          ],
          [
           693,
           "Casino (1995)",
           91
          ],
          [
           694,
           "Persuasion (1995)",
           44
          ],
          [
           695,
           "Kicking and Screaming (1995)",
           13
          ],
          [
           696,
           "City Hall (1996)",
           79
          ],
          [
           697,
           "Basketball Diaries, The (1995)",
           40
          ],
          [
           698,
           "Browning Version, The (1994)",
           10
          ],
          [
           699,
           "Little Women (1994)",
           102
          ],
          [
           700,
           "Miami Rhapsody (1995)",
           15
          ],
          [
           701,
           "Wonderful, Horrible Life of Leni Riefenstahl, The (1993)",
           10
          ],
          [
           702,
           "Barcelona (1994)",
           53
          ],
          [
           703,
           "Widows' Peak (1994)",
           19
          ],
          [
           704,
           "House of the Spirits, The (1993)",
           24
          ],
          [
           705,
           "Singin' in the Rain (1952)",
           137
          ],
          [
           706,
           "Bad Moon (1996)",
           6
          ],
          [
           707,
           "Enchanted April (1991)",
           70
          ],
          [
           708,
           "Sex, Lies, and Videotape (1989)",
           101
          ],
          [
           709,
           "Strictly Ballroom (1992)",
           104
          ],
          [
           710,
           "Better Off Dead... (1985)",
           79
          ],
          [
           711,
           "Substance of Fire, The (1996)",
           1
          ],
          [
           712,
           "Tin Men (1987)",
           51
          ],
          [
           713,
           "Othello (1995)",
           72
          ],
          [
           714,
           "Carrington (1995)",
           13
          ],
          [
           715,
           "To Die For (1995)",
           87
          ],
          [
           716,
           "Home for the Holidays (1995)",
           58
          ],
          [
           717,
           "Juror, The (1996)",
           82
          ],
          [
           718,
           "In the Bleak Midwinter (1995)",
           16
          ],
          [
           719,
           "Canadian Bacon (1994)",
           29
          ],
          [
           720,
           "First Knight (1995)",
           86
          ],
          [
           721,
           "Mallrats (1995)",
           54
          ],
          [
           722,
           "Nine Months (1995)",
           58
          ],
          [
           723,
           "Boys on the Side (1995)",
           34
          ],
          [
           724,
           "Circle of Friends (1995)",
           76
          ],
          [
           725,
           "Exit to Eden (1994)",
           16
          ],
          [
           726,
           "Fluke (1995)",
           14
          ],
          [
           727,
           "Immortal Beloved (1994)",
           63
          ],
          [
           728,
           "Junior (1994)",
           45
          ],
          [
           729,
           "Nell (1994)",
           81
          ],
          [
           730,
           "Queen Margot (Reine Margot, La) (1994)",
           24
          ],
          [
           731,
           "Corrina, Corrina (1994)",
           39
          ],
          [
           732,
           "Dave (1993)",
           180
          ],
          [
           733,
           "Go Fish (1994)",
           15
          ],
          [
           734,
           "Made in America (1993)",
           27
          ],
          [
           735,
           "Philadelphia (1993)",
           137
          ],
          [
           736,
           "Shadowlands (1993)",
           78
          ],
          [
           737,
           "Sirens (1994)",
           59
          ],
          [
           738,
           "Threesome (1994)",
           31
          ],
          [
           739,
           "Pretty Woman (1990)",
           164
          ],
          [
           740,
           "Jane Eyre (1996)",
           63
          ],
          [
           741,
           "Last Supper, The (1995)",
           58
          ],
          [
           742,
           "Ransom (1996)",
           267
          ],
          [
           743,
           "Crow: City of Angels, The (1996)",
           39
          ],
          [
           744,
           "Michael Collins (1996)",
           92
          ],
          [
           745,
           "Ruling Class, The (1972)",
           16
          ],
          [
           746,
           "Real Genius (1985)",
           119
          ],
          [
           747,
           "Benny & Joon (1993)",
           102
          ],
          [
           748,
           "Saint, The (1997)",
           316
          ],
          [
           749,
           "MatchMaker, The (1997)",
           51
          ],
          [
           750,
           "Amistad (1997)",
           124
          ],
          [
           751,
           "Tomorrow Never Dies (1997)",
           180
          ],
          [
           752,
           "Replacement Killers, The (1998)",
           39
          ],
          [
           753,
           "Burnt By the Sun (1994)",
           24
          ],
          [
           754,
           "Red Corner (1997)",
           57
          ],
          [
           755,
           "Jumanji (1995)",
           96
          ],
          [
           756,
           "Father of the Bride Part II (1995)",
           128
          ],
          [
           757,
           "Across the Sea of Time (1995)",
           4
          ],
          [
           758,
           "Lawnmower Man 2: Beyond Cyberspace (1996)",
           21
          ],
          [
           759,
           "Fair Game (1995)",
           11
          ],
          [
           760,
           "Screamers (1995)",
           46
          ],
          [
           761,
           "Nick of Time (1995)",
           44
          ],
          [
           762,
           "Beautiful Girls (1996)",
           115
          ],
          [
           763,
           "Happy Gilmore (1996)",
           149
          ],
          [
           764,
           "If Lucy Fell (1996)",
           29
          ],
          [
           765,
           "Boomerang (1992)",
           32
          ],
          [
           766,
           "Man of the Year (1995)",
           9
          ],
          [
           767,
           "Addiction, The (1995)",
           11
          ],
          [
           768,
           "Casper (1995)",
           52
          ],
          [
           769,
           "Congo (1995)",
           42
          ],
          [
           770,
           "Devil in a Blue Dress (1995)",
           57
          ],
          [
           771,
           "Johnny Mnemonic (1995)",
           41
          ],
          [
           772,
           "Kids (1995)",
           49
          ],
          [
           773,
           "Mute Witness (1994)",
           17
          ],
          [
           774,
           "Prophecy, The (1995)",
           32
          ],
          [
           775,
           "Something to Talk About (1995)",
           26
          ],
          [
           776,
           "Three Wishes (1995)",
           9
          ],
          [
           777,
           "Castle Freak (1995)",
           4
          ],
          [
           778,
           "Don Juan DeMarco (1995)",
           76
          ],
          [
           779,
           "Drop Zone (1994)",
           31
          ],
          [
           780,
           "Dumb & Dumber (1994)",
           69
          ],
          [
           781,
           "French Kiss (1995)",
           84
          ],
          [
           782,
           "Little Odessa (1994)",
           10
          ],
          [
           783,
           "Milk Money (1994)",
           37
          ],
          [
           784,
           "Beyond Bedlam (1993)",
           2
          ],
          [
           785,
           "Only You (1994)",
           39
          ],
          [
           786,
           "Perez Family, The (1995)",
           14
          ],
          [
           787,
           "Roommates (1995)",
           13
          ],
          [
           788,
           "Relative Fear (1994)",
           3
          ],
          [
           789,
           "Swimming with Sharks (1995)",
           47
          ],
          [
           790,
           "Tommy Boy (1995)",
           66
          ],
          [
           791,
           "Baby-Sitters Club, The (1995)",
           10
          ],
          [
           792,
           "Bullets Over Broadway (1994)",
           86
          ],
          [
           793,
           "Crooklyn (1994)",
           10
          ],
          [
           794,
           "It Could Happen to You (1994)",
           46
          ],
          [
           795,
           "Richie Rich (1994)",
           21
          ],
          [
           796,
           "Speechless (1994)",
           36
          ],
          [
           797,
           "Timecop (1994)",
           31
          ],
          [
           798,
           "Bad Company (1995)",
           9
          ],
          [
           799,
           "Boys Life (1995)",
           5
          ],
          [
           800,
           "In the Mouth of Madness (1995)",
           26
          ],
          [
           801,
           "Air Up There, The (1994)",
           16
          ],
          [
           802,
           "Hard Target (1993)",
           40
          ],
          [
           803,
           "Heaven & Earth (1993)",
           9
          ],
          [
           804,
           "Jimmy Hollywood (1994)",
           8
          ],
          [
           805,
           "Manhattan Murder Mystery (1993)",
           27
          ],
          [
           806,
           "Menace II Society (1993)",
           50
          ],
          [
           807,
           "Poetic Justice (1993)",
           9
          ],
          [
           808,
           "Program, The (1993)",
           31
          ],
          [
           809,
           "Rising Sun (1993)",
           43
          ],
          [
           810,
           "Shadow, The (1994)",
           45
          ],
          [
           811,
           "Thirty-Two Short Films About Glenn Gould (1993)",
           18
          ],
          [
           812,
           "Andre (1994)",
           18
          ],
          [
           813,
           "Celluloid Closet, The (1995)",
           56
          ],
          [
           814,
           "Great Day in Harlem, A (1994)",
           1
          ],
          [
           815,
           "One Fine Day (1996)",
           112
          ],
          [
           816,
           "Candyman: Farewell to the Flesh (1995)",
           21
          ],
          [
           817,
           "Frisk (1995)",
           3
          ],
          [
           818,
           "Girl 6 (1996)",
           25
          ],
          [
           819,
           "Eddie (1996)",
           40
          ],
          [
           820,
           "Space Jam (1996)",
           93
          ],
          [
           821,
           "Mrs. Winterbourne (1996)",
           22
          ],
          [
           822,
           "Faces (1968)",
           4
          ],
          [
           823,
           "Mulholland Falls (1996)",
           82
          ],
          [
           824,
           "Great White Hype, The (1996)",
           49
          ],
          [
           825,
           "Arrival, The (1996)",
           83
          ],
          [
           826,
           "Phantom, The (1996)",
           80
          ],
          [
           827,
           "Daylight (1996)",
           57
          ],
          [
           828,
           "Alaska (1996)",
           13
          ],
          [
           829,
           "Fled (1996)",
           34
          ],
          [
           830,
           "Power 98 (1995)",
           1
          ],
          [
           831,
           "Escape from L.A. (1996)",
           91
          ],
          [
           832,
           "Bogus (1996)",
           22
          ],
          [
           833,
           "Bulletproof (1996)",
           49
          ],
          [
           834,
           "Halloween: The Curse of Michael Myers (1995)",
           25
          ],
          [
           835,
           "Gay Divorcee, The (1934)",
           15
          ],
          [
           836,
           "Ninotchka (1939)",
           26
          ],
          [
           837,
           "Meet John Doe (1941)",
           25
          ],
          [
           838,
           "In the Line of Duty 2 (1987)",
           4
          ],
          [
           839,
           "Loch Ness (1995)",
           4
          ],
          [
           840,
           "Last Man Standing (1996)",
           53
          ],
          [
           841,
           "Glimmer Man, The (1996)",
           48
          ],
          [
           842,
           "Pollyanna (1960)",
           27
          ],
          [
           843,
           "Shaggy Dog, The (1959)",
           30
          ],
          [
           844,
           "Freeway (1996)",
           42
          ],
          [
           845,
           "That Thing You Do! (1996)",
           176
          ],
          [
           846,
           "To Gillian on Her 37th Birthday (1996)",
           44
          ],
          [
           847,
           "Looking for Richard (1996)",
           55
          ],
          [
           848,
           "Murder, My Sweet (1944)",
           9
          ],
          [
           849,
           "Days of Thunder (1990)",
           53
          ],
          [
           850,
           "Perfect Candidate, A (1996)",
           4
          ],
          [
           851,
           "Two or Three Things I Know About Her (1966)",
           4
          ],
          [
           852,
           "Bloody Child, The (1996)",
           1
          ],
          [
           853,
           "Braindead (1992)",
           14
          ],
          [
           854,
           "Bad Taste (1987)",
           16
          ],
          [
           855,
           "Diva (1981)",
           66
          ],
          [
           856,
           "Night on Earth (1991)",
           36
          ],
          [
           857,
           "Paris Was a Woman (1995)",
           1
          ],
          [
           858,
           "Amityville: Dollhouse (1996)",
           3
          ],
          [
           859,
           "April Fool's Day (1986)",
           15
          ],
          [
           860,
           "Believers, The (1987)",
           16
          ],
          [
           861,
           "Nosferatu a Venezia (1986)",
           3
          ],
          [
           862,
           "Jingle All the Way (1996)",
           18
          ],
          [
           863,
           "Garden of Finzi-Contini, The (Giardino dei Finzi-Contini, Il) (1970)",
           24
          ],
          [
           864,
           "My Fellow Americans (1996)",
           86
          ],
          [
           865,
           "Ice Storm, The (1997)",
           21
          ],
          [
           866,
           "Michael (1996)",
           119
          ],
          [
           867,
           "Whole Wide World, The (1996)",
           6
          ],
          [
           868,
           "Hearts and Minds (1996)",
           5
          ],
          [
           869,
           "Fools Rush In (1997)",
           24
          ],
          [
           870,
           "Touch (1997)",
           9
          ],
          [
           871,
           "Vegas Vacation (1997)",
           75
          ],
          [
           872,
           "Love Jones (1997)",
           42
          ],
          [
           873,
           "Picture Perfect (1997)",
           81
          ],
          [
           874,
           "Career Girls (1997)",
           39
          ],
          [
           875,
           "She's So Lovely (1997)",
           53
          ],
          [
           876,
           "Money Talks (1997)",
           47
          ],
          [
           877,
           "Excess Baggage (1997)",
           52
          ],
          [
           878,
           "That Darn Cat! (1997)",
           33
          ],
          [
           879,
           "Peacemaker, The (1997)",
           136
          ],
          [
           880,
           "Soul Food (1997)",
           59
          ],
          [
           881,
           "Money Talks (1997)",
           45
          ],
          [
           882,
           "Washington Square (1997)",
           34
          ],
          [
           883,
           "Telling Lies in America (1997)",
           13
          ],
          [
           884,
           "Year of the Horse (1997)",
           7
          ],
          [
           885,
           "Phantoms (1998)",
           13
          ],
          [
           886,
           "Life Less Ordinary, A (1997)",
           53
          ],
          [
           887,
           "Eve's Bayou (1997)",
           64
          ],
          [
           888,
           "One Night Stand (1997)",
           15
          ],
          [
           889,
           "Tango Lesson, The (1997)",
           13
          ],
          [
           890,
           "Mortal Kombat: Annihilation (1997)",
           43
          ],
          [
           891,
           "Bent (1997)",
           6
          ],
          [
           892,
           "Flubber (1997)",
           53
          ],
          [
           893,
           "For Richer or Poorer (1997)",
           14
          ],
          [
           894,
           "Home Alone 3 (1997)",
           19
          ],
          [
           895,
           "Scream 2 (1997)",
           106
          ],
          [
           896,
           "Sweet Hereafter, The (1997)",
           44
          ],
          [
           897,
           "Time Tracers (1995)",
           2
          ],
          [
           898,
           "Postman, The (1997)",
           58
          ],
          [
           899,
           "Winter Guest, The (1997)",
           9
          ],
          [
           900,
           "Kundun (1997)",
           42
          ],
          [
           901,
           "Mr. Magoo (1997)",
           12
          ],
          [
           902,
           "Big Lebowski, The (1998)",
           42
          ],
          [
           903,
           "Afterglow (1997)",
           18
          ],
          [
           904,
           "Ma vie en rose (My Life in Pink) (1997)",
           20
          ],
          [
           905,
           "Great Expectations (1998)",
           27
          ],
          [
           906,
           "Oscar & Lucinda (1997)",
           21
          ],
          [
           907,
           "Vermin (1998)",
           2
          ],
          [
           908,
           "Half Baked (1998)",
           20
          ],
          [
           909,
           "Dangerous Beauty (1998)",
           13
          ],
          [
           910,
           "Nil By Mouth (1997)",
           4
          ],
          [
           911,
           "Twilight (1998)",
           4
          ],
          [
           912,
           "U.S. Marshalls (1998)",
           9
          ],
          [
           913,
           "Love and Death on Long Island (1997)",
           2
          ],
          [
           914,
           "Wild Things (1998)",
           11
          ],
          [
           915,
           "Primary Colors (1998)",
           13
          ],
          [
           916,
           "Lost in Space (1998)",
           18
          ],
          [
           917,
           "Mercury Rising (1998)",
           7
          ],
          [
           918,
           "City of Angels (1998)",
           8
          ],
          [
           919,
           "City of Lost Children, The (1995)",
           96
          ],
          [
           920,
           "Two Bits (1995)",
           5
          ],
          [
           921,
           "Farewell My Concubine (1993)",
           46
          ],
          [
           922,
           "Dead Man (1995)",
           34
          ],
          [
           923,
           "Raise the Red Lantern (1991)",
           58
          ],
          [
           924,
           "White Squall (1996)",
           85
          ],
          [
           925,
           "Unforgettable (1996)",
           34
          ],
          [
           926,
           "Down Periscope (1996)",
           101
          ],
          [
           927,
           "Flower of My Secret, The (Flor de mi secreto, La) (1995)",
           6
          ],
          [
           928,
           "Craft, The (1996)",
           104
          ],
          [
           929,
           "Harriet the Spy (1996)",
           40
          ],
          [
           930,
           "Chain Reaction (1996)",
           80
          ],
          [
           931,
           "Island of Dr. Moreau, The (1996)",
           57
          ],
          [
           932,
           "First Kid (1996)",
           40
          ],
          [
           933,
           "Funeral, The (1996)",
           21
          ],
          [
           934,
           "Preacher's Wife, The (1996)",
           68
          ],
          [
           935,
           "Paradise Road (1997)",
           7
          ],
          [
           936,
           "Brassed Off (1996)",
           32
          ],
          [
           937,
           "Thousand Acres, A (1997)",
           37
          ],
          [
           938,
           "Smile Like Yours, A (1997)",
           25
          ],
          [
           939,
           "Murder in the First (1995)",
           60
          ],
          [
           940,
           "Airheads (1994)",
           32
          ],
          [
           941,
           "With Honors (1994)",
           46
          ],
          [
           942,
           "What's Love Got to Do with It (1993)",
           45
          ],
          [
           943,
           "Killing Zoe (1994)",
           40
          ],
          [
           944,
           "Renaissance Man (1994)",
           43
          ],
          [
           945,
           "Charade (1963)",
           40
          ],
          [
           946,
           "Fox and the Hound, The (1981)",
           61
          ],
          [
           947,
           "Big Blue, The (Grand bleu, Le) (1988)",
           17
          ],
          [
           948,
           "Booty Call (1997)",
           48
          ],
          [
           949,
           "How to Make an American Quilt (1995)",
           71
          ],
          [
           950,
           "Georgia (1995)",
           30
          ],
          [
           951,
           "Indian in the Cupboard, The (1995)",
           39
          ],
          [
           952,
           "Blue in the Face (1995)",
           45
          ],
          [
           953,
           "Unstrung Heroes (1995)",
           22
          ],
          [
           954,
           "Unzipped (1995)",
           11
          ],
          [
           955,
           "Before Sunrise (1995)",
           49
          ],
          [
           956,
           "Nobody's Fool (1994)",
           46
          ],
          [
           957,
           "Pushing Hands (1992)",
           2
          ],
          [
           958,
           "To Live (Huozhe) (1994)",
           14
          ],
          [
           959,
           "Dazed and Confused (1993)",
           64
          ],
          [
           960,
           "Naked (1993)",
           25
          ],
          [
           961,
           "Orlando (1993)",
           34
          ],
          [
           962,
           "Ruby in Paradise (1993)",
           23
          ],
          [
           963,
           "Some Folks Call It a Sling Blade (1993)",
           41
          ],
          [
           964,
           "Month by the Lake, A (1995)",
           9
          ],
          [
           965,
           "Funny Face (1957)",
           21
          ],
          [
           966,
           "Affair to Remember, An (1957)",
           26
          ],
          [
           967,
           "Little Lord Fauntleroy (1936)",
           12
          ],
          [
           968,
           "Inspector General, The (1949)",
           18
          ],
          [
           969,
           "Winnie the Pooh and the Blustery Day (1968)",
           75
          ],
          [
           970,
           "Hear My Song (1991)",
           8
          ],
          [
           971,
           "Mediterraneo (1991)",
           34
          ],
          [
           972,
           "Passion Fish (1992)",
           28
          ],
          [
           973,
           "Grateful Dead (1995)",
           4
          ],
          [
           974,
           "Eye for an Eye (1996)",
           32
          ],
          [
           975,
           "Fear (1996)",
           44
          ],
          [
           976,
           "Solo (1996)",
           12
          ],
          [
           977,
           "Substitute, The (1996)",
           49
          ],
          [
           978,
           "Heaven's Prisoners (1996)",
           27
          ],
          [
           979,
           "Trigger Effect, The (1996)",
           35
          ],
          [
           980,
           "Mother Night (1996)",
           22
          ],
          [
           981,
           "Dangerous Ground (1997)",
           8
          ],
          [
           982,
           "Maximum Risk (1996)",
           20
          ],
          [
           983,
           "Rich Man's Wife, The (1996)",
           15
          ],
          [
           984,
           "Shadow Conspiracy (1997)",
           44
          ],
          [
           985,
           "Blood & Wine (1997)",
           22
          ],
          [
           986,
           "Turbulence (1997)",
           23
          ],
          [
           987,
           "Underworld (1997)",
           4
          ],
          [
           988,
           "Beautician and the Beast, The (1997)",
           86
          ],
          [
           989,
           "Cats Don't Dance (1997)",
           32
          ],
          [
           990,
           "Anna Karenina (1997)",
           33
          ],
          [
           991,
           "Keys to Tulsa (1997)",
           25
          ],
          [
           992,
           "Head Above Water (1996)",
           4
          ],
          [
           993,
           "Hercules (1997)",
           66
          ],
          [
           994,
           "Last Time I Committed Suicide, The (1997)",
           7
          ],
          [
           995,
           "Kiss Me, Guido (1997)",
           31
          ],
          [
           996,
           "Big Green, The (1995)",
           14
          ],
          [
           997,
           "Stuart Saves His Family (1995)",
           16
          ],
          [
           998,
           "Cabin Boy (1994)",
           16
          ],
          [
           999,
           "Clean Slate (1994)",
           10
          ],
          [
           1000,
           "Lightning Jack (1994)",
           10
          ],
          [
           1001,
           "Stupids, The (1996)",
           17
          ],
          [
           1002,
           "Pest, The (1997)",
           8
          ],
          [
           1003,
           "That Darn Cat! (1997)",
           8
          ],
          [
           1004,
           "Geronimo: An American Legend (1993)",
           9
          ],
          [
           1005,
           "Double vie de Véronique, La (Double Life of Veronique, The) (1991)",
           22
          ],
          [
           1006,
           "Until the End of the World (Bis ans Ende der Welt) (1991)",
           23
          ],
          [
           1007,
           "Waiting for Guffman (1996)",
           47
          ],
          [
           1008,
           "I Shot Andy Warhol (1996)",
           37
          ],
          [
           1009,
           "Stealing Beauty (1996)",
           64
          ],
          [
           1010,
           "Basquiat (1996)",
           44
          ],
          [
           1011,
           "2 Days in the Valley (1996)",
           93
          ],
          [
           1012,
           "Private Parts (1997)",
           100
          ],
          [
           1013,
           "Anaconda (1997)",
           38
          ],
          [
           1014,
           "Romy and Michele's High School Reunion (1997)",
           98
          ],
          [
           1015,
           "Shiloh (1997)",
           12
          ],
          [
           1016,
           "Con Air (1997)",
           137
          ],
          [
           1017,
           "Trees Lounge (1996)",
           50
          ],
          [
           1018,
           "Tie Me Up! Tie Me Down! (1990)",
           32
          ],
          [
           1019,
           "Die xue shuang xiong (Killer, The) (1989)",
           31
          ],
          [
           1020,
           "Gaslight (1944)",
           35
          ],
          [
           1021,
           "8 1/2 (1963)",
           38
          ],
          [
           1022,
           "Fast, Cheap & Out of Control (1997)",
           32
          ],
          [
           1023,
           "Fathers' Day (1997)",
           31
          ],
          [
           1024,
           "Mrs. Dalloway (1997)",
           15
          ],
          [
           1025,
           "Fire Down Below (1997)",
           44
          ],
          [
           1026,
           "Lay of the Land, The (1997)",
           4
          ],
          [
           1027,
           "Shooter, The (1995)",
           3
          ],
          [
           1028,
           "Grumpier Old Men (1995)",
           148
          ],
          [
           1029,
           "Jury Duty (1995)",
           14
          ],
          [
           1030,
           "Beverly Hillbillies, The (1993)",
           20
          ],
          [
           1031,
           "Lassie (1994)",
           7
          ],
          [
           1032,
           "Little Big League (1994)",
           16
          ],
          [
           1033,
           "Homeward Bound II: Lost in San Francisco (1996)",
           32
          ],
          [
           1034,
           "Quest, The (1996)",
           27
          ],
          [
           1035,
           "Cool Runnings (1993)",
           68
          ],
          [
           1036,
           "Drop Dead Fred (1991)",
           24
          ],
          [
           1037,
           "Grease 2 (1982)",
           24
          ],
          [
           1038,
           "Switchback (1997)",
           17
          ],
          [
           1039,
           "Hamlet (1996)",
           90
          ],
          [
           1040,
           "Two if by Sea (1996)",
           25
          ],
          [
           1041,
           "Forget Paris (1995)",
           62
          ],
          [
           1042,
           "Just Cause (1995)",
           28
          ],
          [
           1043,
           "Rent-a-Kid (1995)",
           8
          ],
          [
           1044,
           "Paper, The (1994)",
           40
          ],
          [
           1045,
           "Fearless (1993)",
           25
          ],
          [
           1046,
           "Malice (1993)",
           46
          ],
          [
           1047,
           "Multiplicity (1996)",
           134
          ],
          [
           1048,
           "She's the One (1996)",
           73
          ],
          [
           1049,
           "House Arrest (1996)",
           25
          ],
          [
           1050,
           "Ghost and Mrs. Muir, The (1947)",
           43
          ],
          [
           1051,
           "Associate, The (1996)",
           41
          ],
          [
           1052,
           "Dracula: Dead and Loving It (1995)",
           25
          ],
          [
           1053,
           "Now and Then (1995)",
           24
          ],
          [
           1054,
           "Mr. Wrong (1996)",
           23
          ],
          [
           1055,
           "Simple Twist of Fate, A (1994)",
           10
          ],
          [
           1056,
           "Cronos (1992)",
           10
          ],
          [
           1057,
           "Pallbearer, The (1996)",
           22
          ],
          [
           1058,
           "War, The (1994)",
           15
          ],
          [
           1059,
           "Don't Be a Menace to South Central While Drinking Your Juice in the Hood (1996)",
           35
          ],
          [
           1060,
           "Adventures of Pinocchio, The (1996)",
           39
          ],
          [
           1061,
           "Evening Star, The (1996)",
           29
          ],
          [
           1062,
           "Four Days in September (1997)",
           12
          ],
          [
           1063,
           "Little Princess, A (1995)",
           41
          ],
          [
           1064,
           "Crossfire (1947)",
           4
          ],
          [
           1065,
           "Koyaanisqatsi (1983)",
           53
          ],
          [
           1066,
           "Balto (1995)",
           16
          ],
          [
           1067,
           "Bottle Rocket (1996)",
           44
          ],
          [
           1068,
           "Star Maker, The (Uomo delle stelle, L') (1995)",
           12
          ],
          [
           1069,
           "Amateur (1994)",
           18
          ],
          [
           1070,
           "Living in Oblivion (1995)",
           27
          ],
          [
           1071,
           "Party Girl (1995)",
           16
          ],
          [
           1072,
           "Pyromaniac's Love Story, A (1995)",
           7
          ],
          [
           1073,
           "Shallow Grave (1994)",
           66
          ],
          [
           1074,
           "Reality Bites (1994)",
           77
          ],
          [
           1075,
           "Man of No Importance, A (1994)",
           7
          ],
          [
           1076,
           "Pagemaster, The (1994)",
           12
          ],
          [
           1077,
           "Love and a .45 (1994)",
           8
          ],
          [
           1078,
           "Oliver & Company (1988)",
           22
          ],
          [
           1079,
           "Joe's Apartment (1996)",
           45
          ],
          [
           1080,
           "Celestial Clockwork (1994)",
           2
          ],
          [
           1081,
           "Curdled (1996)",
           8
          ],
          [
           1082,
           "Female Perversions (1996)",
           8
          ],
          [
           1083,
           "Albino Alligator (1996)",
           6
          ],
          [
           1084,
           "Anne Frank Remembered (1995)",
           21
          ],
          [
           1085,
           "Carried Away (1996)",
           11
          ],
          [
           1086,
           "It's My Party (1995)",
           21
          ],
          [
           1087,
           "Bloodsport 2 (1995)",
           10
          ],
          [
           1088,
           "Double Team (1997)",
           13
          ],
          [
           1089,
           "Speed 2: Cruise Control (1997)",
           38
          ],
          [
           1090,
           "Sliver (1993)",
           37
          ],
          [
           1091,
           "Pete's Dragon (1977)",
           43
          ],
          [
           1092,
           "Dear God (1996)",
           12
          ],
          [
           1093,
           "Live Nude Girls (1995)",
           23
          ],
          [
           1094,
           "Thin Line Between Love and Hate, A (1996)",
           12
          ],
          [
           1095,
           "High School High (1996)",
           29
          ],
          [
           1096,
           "Commandments (1997)",
           3
          ],
          [
           1097,
           "Hate (Haine, La) (1995)",
           18
          ],
          [
           1098,
           "Flirting With Disaster (1996)",
           42
          ],
          [
           1099,
           "Red Firecracker, Green Firecracker (1994)",
           13
          ],
          [
           1100,
           "What Happened Was... (1994)",
           8
          ],
          [
           1101,
           "Six Degrees of Separation (1993)",
           74
          ],
          [
           1102,
           "Two Much (1996)",
           7
          ],
          [
           1103,
           "Trust (1990)",
           19
          ],
          [
           1104,
           "C'est arrivé près de chez vous (1992)",
           4
          ],
          [
           1105,
           "Firestorm (1998)",
           18
          ],
          [
           1106,
           "Newton Boys, The (1998)",
           4
          ],
          [
           1107,
           "Beyond Rangoon (1995)",
           18
          ],
          [
           1108,
           "Feast of July (1995)",
           5
          ],
          [
           1109,
           "Death and the Maiden (1994)",
           28
          ],
          [
           1110,
           "Tank Girl (1995)",
           41
          ],
          [
           1111,
           "Double Happiness (1994)",
           7
          ],
          [
           1112,
           "Cobb (1994)",
           15
          ],
          [
           1113,
           "Mrs. Parker and the Vicious Circle (1994)",
           22
          ],
          [
           1114,
           "Faithful (1996)",
           10
          ],
          [
           1115,
           "Twelfth Night (1996)",
           29
          ],
          [
           1116,
           "Mark of Zorro, The (1940)",
           13
          ],
          [
           1117,
           "Surviving Picasso (1996)",
           19
          ],
          [
           1118,
           "Up in Smoke (1978)",
           47
          ],
          [
           1119,
           "Some Kind of Wonderful (1987)",
           59
          ],
          [
           1120,
           "I'm Not Rappaport (1996)",
           17
          ],
          [
           1121,
           "Umbrellas of Cherbourg, The (Parapluies de Cherbourg, Les) (1964)",
           21
          ],
          [
           1122,
           "They Made Me a Criminal (1939)",
           1
          ],
          [
           1123,
           "Last Time I Saw Paris, The (1954)",
           3
          ],
          [
           1124,
           "Farewell to Arms, A (1932)",
           12
          ],
          [
           1125,
           "Innocents, The (1961)",
           4
          ],
          [
           1126,
           "Old Man and the Sea, The (1958)",
           32
          ],
          [
           1127,
           "Truman Show, The (1998)",
           11
          ],
          [
           1128,
           "Heidi Fleiss: Hollywood Madam (1995) ",
           13
          ],
          [
           1129,
           "Chungking Express (1994)",
           28
          ],
          [
           1130,
           "Jupiter's Wife (1994)",
           1
          ],
          [
           1131,
           "Safe (1995)",
           13
          ],
          [
           1132,
           "Feeling Minnesota (1996)",
           32
          ],
          [
           1133,
           "Escape to Witch Mountain (1975)",
           30
          ],
          [
           1134,
           "Get on the Bus (1996)",
           38
          ],
          [
           1135,
           "Doors, The (1991)",
           46
          ],
          [
           1136,
           "Ghosts of Mississippi (1996)",
           29
          ],
          [
           1137,
           "Beautiful Thing (1996)",
           29
          ],
          [
           1138,
           "Best Men (1997)",
           5
          ],
          [
           1139,
           "Hackers (1995)",
           33
          ],
          [
           1140,
           "Road to Wellville, The (1994)",
           17
          ],
          [
           1141,
           "War Room, The (1993)",
           9
          ],
          [
           1142,
           "When We Were Kings (1996)",
           44
          ],
          [
           1143,
           "Hard Eight (1996)",
           15
          ],
          [
           1144,
           "Quiet Room, The (1996)",
           3
          ],
          [
           1145,
           "Blue Chips (1994)",
           9
          ],
          [
           1146,
           "Calendar Girl (1993)",
           3
          ],
          [
           1147,
           "My Family (1995)",
           21
          ],
          [
           1148,
           "Tom & Viv (1994)",
           9
          ],
          [
           1149,
           "Walkabout (1971)",
           26
          ],
          [
           1150,
           "Last Dance (1996)",
           9
          ],
          [
           1151,
           "Original Gangstas (1996)",
           7
          ],
          [
           1152,
           "In Love and War (1996)",
           28
          ],
          [
           1153,
           "Backbeat (1993)",
           19
          ],
          [
           1154,
           "Alphaville (1965)",
           12
          ],
          [
           1155,
           "Rendezvous in Paris (Rendez-vous de Paris, Les) (1995)",
           3
          ],
          [
           1156,
           "Cyclo (1995)",
           1
          ],
          [
           1157,
           "Relic, The (1997)",
           25
          ],
          [
           1158,
           "Fille seule, La (A Single Girl) (1995)",
           4
          ],
          [
           1159,
           "Stalker (1979)",
           11
          ],
          [
           1160,
           "Love! Valour! Compassion! (1997)",
           26
          ],
          [
           1161,
           "Palookaville (1996)",
           13
          ],
          [
           1162,
           "Phat Beach (1996)",
           5
          ],
          [
           1163,
           "Portrait of a Lady, The (1996)",
           25
          ],
          [
           1164,
           "Zeus and Roxanne (1997)",
           6
          ],
          [
           1165,
           "Big Bully (1996)",
           14
          ],
          [
           1166,
           "Love & Human Remains (1993)",
           12
          ],
          [
           1167,
           "Sum of Us, The (1994)",
           11
          ],
          [
           1168,
           "Little Buddha (1993)",
           22
          ],
          [
           1169,
           "Fresh (1994)",
           10
          ],
          [
           1170,
           "Spanking the Monkey (1994)",
           27
          ],
          [
           1171,
           "Wild Reeds (1994)",
           14
          ],
          [
           1172,
           "Women, The (1939)",
           15
          ],
          [
           1173,
           "Bliss (1997)",
           7
          ],
          [
           1174,
           "Caught (1996)",
           8
          ],
          [
           1175,
           "Hugo Pool (1997)",
           5
          ],
          [
           1176,
           "Welcome To Sarajevo (1997)",
           22
          ],
          [
           1177,
           "Dunston Checks In (1996)",
           7
          ],
          [
           1178,
           "Major Payne (1994)",
           19
          ],
          [
           1179,
           "Man of the House (1995)",
           9
          ],
          [
           1180,
           "I Love Trouble (1994)",
           10
          ],
          [
           1181,
           "Low Down Dirty Shame, A (1994)",
           10
          ],
          [
           1182,
           "Cops and Robbersons (1994)",
           13
          ],
          [
           1183,
           "Cowboy Way, The (1994)",
           19
          ],
          [
           1184,
           "Endless Summer 2, The (1994)",
           10
          ],
          [
           1185,
           "In the Army Now (1994)",
           18
          ],
          [
           1186,
           "Inkwell, The (1994)",
           3
          ],
          [
           1187,
           "Switchblade Sisters (1975)",
           13
          ],
          [
           1188,
           "Young Guns II (1990)",
           44
          ],
          [
           1189,
           "Prefontaine (1997)",
           3
          ],
          [
           1190,
           "That Old Feeling (1997)",
           11
          ],
          [
           1191,
           "Letter From Death Row, A (1998)",
           3
          ],
          [
           1192,
           "Boys of St. Vincent, The (1993)",
           13
          ],
          [
           1193,
           "Before the Rain (Pred dozhdot) (1994)",
           10
          ],
          [
           1194,
           "Once Were Warriors (1994)",
           31
          ],
          [
           1195,
           "Strawberry and Chocolate (Fresa y chocolate) (1993)",
           11
          ],
          [
           1196,
           "Savage Nights (Nuits fauves, Les) (1992)",
           3
          ],
          [
           1197,
           "Family Thing, A (1996)",
           45
          ],
          [
           1198,
           "Purple Noon (1960)",
           7
          ],
          [
           1199,
           "Cemetery Man (Dellamorte Dellamore) (1994)",
           23
          ],
          [
           1200,
           "Kim (1950)",
           7
          ],
          [
           1201,
           "Marlene Dietrich: Shadow and Light (1996) ",
           1
          ],
          [
           1202,
           "Maybe, Maybe Not (Bewegte Mann, Der) (1994)",
           8
          ],
          [
           1203,
           "Top Hat (1935)",
           21
          ],
          [
           1204,
           "To Be or Not to Be (1942)",
           18
          ],
          [
           1205,
           "Secret Agent, The (1996)",
           6
          ],
          [
           1206,
           "Amos & Andrew (1993)",
           19
          ],
          [
           1207,
           "Jade (1995)",
           17
          ],
          [
           1208,
           "Kiss of Death (1995)",
           20
          ],
          [
           1209,
           "Mixed Nuts (1994)",
           15
          ],
          [
           1210,
           "Virtuosity (1995)",
           38
          ],
          [
           1211,
           "Blue Sky (1994)",
           12
          ],
          [
           1212,
           "Flesh and Bone (1993)",
           6
          ],
          [
           1213,
           "Guilty as Sin (1993)",
           6
          ],
          [
           1214,
           "In the Realm of the Senses (Ai no corrida) (1976)",
           9
          ],
          [
           1215,
           "Barb Wire (1996)",
           30
          ],
          [
           1216,
           "Kissed (1996)",
           6
          ],
          [
           1217,
           "Assassins (1995)",
           39
          ],
          [
           1218,
           "Friday (1995)",
           26
          ],
          [
           1219,
           "Goofy Movie, A (1995)",
           20
          ],
          [
           1220,
           "Higher Learning (1995)",
           30
          ],
          [
           1221,
           "When a Man Loves a Woman (1994)",
           39
          ],
          [
           1222,
           "Judgment Night (1993)",
           25
          ],
          [
           1223,
           "King of the Hill (1993)",
           4
          ],
          [
           1224,
           "Scout, The (1994)",
           12
          ],
          [
           1225,
           "Angus (1995)",
           14
          ],
          [
           1226,
           "Night Falls on Manhattan (1997)",
           32
          ],
          [
           1227,
           "Awfully Big Adventure, An (1995)",
           8
          ],
          [
           1228,
           "Under Siege 2: Dark Territory (1995)",
           48
          ],
          [
           1229,
           "Poison Ivy II (1995)",
           13
          ],
          [
           1230,
           "Ready to Wear (Pret-A-Porter) (1994)",
           18
          ],
          [
           1231,
           "Marked for Death (1990)",
           22
          ],
          [
           1232,
           "Madonna: Truth or Dare (1991)",
           17
          ],
          [
           1233,
           "Nénette et Boni (1996)",
           6
          ],
          [
           1234,
           "Chairman of the Board (1998)",
           8
          ],
          [
           1235,
           "Big Bang Theory, The (1994)",
           1
          ],
          [
           1236,
           "Other Voices, Other Rooms (1997)",
           1
          ],
          [
           1237,
           "Twisted (1996)",
           6
          ],
          [
           1238,
           "Full Speed (1996)",
           8
          ],
          [
           1239,
           "Cutthroat Island (1995)",
           18
          ],
          [
           1240,
           "Ghost in the Shell (Kokaku kidotai) (1995)",
           26
          ],
          [
           1241,
           "Van, The (1996)",
           6
          ],
          [
           1242,
           "Old Lady Who Walked in the Sea, The (Vieille qui marchait dans la mer, La) (1991)",
           5
          ],
          [
           1243,
           "Night Flier (1997)",
           7
          ],
          [
           1244,
           "Metro (1997)",
           36
          ],
          [
           1245,
           "Gridlock'd (1997)",
           19
          ],
          [
           1246,
           "Bushwhacked (1995)",
           7
          ],
          [
           1247,
           "Bad Girls (1994)",
           6
          ],
          [
           1248,
           "Blink (1994)",
           19
          ],
          [
           1249,
           "For Love or Money (1993)",
           12
          ],
          [
           1250,
           "Best of the Best 3: No Turning Back (1995)",
           6
          ],
          [
           1251,
           "A Chef in Love (1996)",
           8
          ],
          [
           1252,
           "Contempt (Mépris, Le) (1963)",
           9
          ],
          [
           1253,
           "Tie That Binds, The (1995)",
           7
          ],
          [
           1254,
           "Gone Fishin' (1997)",
           11
          ],
          [
           1255,
           "Broken English (1996)",
           8
          ],
          [
           1256,
           "Designated Mourner, The (1997)",
           3
          ],
          [
           1257,
           "Designated Mourner, The (1997)",
           4
          ],
          [
           1258,
           "Trial and Error (1997)",
           23
          ],
          [
           1259,
           "Pie in the Sky (1995)",
           4
          ],
          [
           1260,
           "Total Eclipse (1995)",
           4
          ],
          [
           1261,
           "Run of the Country, The (1995)",
           4
          ],
          [
           1262,
           "Walking and Talking (1996)",
           8
          ],
          [
           1263,
           "Foxfire (1996)",
           15
          ],
          [
           1264,
           "Nothing to Lose (1994)",
           7
          ],
          [
           1265,
           "Star Maps (1997)",
           19
          ],
          [
           1266,
           "Bread and Chocolate (Pane e cioccolata) (1973)",
           12
          ],
          [
           1267,
           "Clockers (1995)",
           33
          ],
          [
           1268,
           "Bitter Moon (1992)",
           10
          ],
          [
           1269,
           "Love in the Afternoon (1957)",
           10
          ],
          [
           1270,
           "Life with Mikey (1993)",
           7
          ],
          [
           1271,
           "North (1994)",
           7
          ],
          [
           1272,
           "Talking About Sex (1994)",
           5
          ],
          [
           1273,
           "Color of Night (1994)",
           15
          ],
          [
           1274,
           "Robocop 3 (1993)",
           11
          ],
          [
           1275,
           "Killer (Bulletproof Heart) (1994)",
           4
          ],
          [
           1276,
           "Sunset Park (1996)",
           8
          ],
          [
           1277,
           "Set It Off (1996)",
           19
          ],
          [
           1278,
           "Selena (1997)",
           16
          ],
          [
           1279,
           "Wild America (1997)",
           9
          ],
          [
           1280,
           "Gang Related (1997)",
           16
          ],
          [
           1281,
           "Manny & Lo (1996)",
           13
          ],
          [
           1282,
           "Grass Harp, The (1995)",
           9
          ],
          [
           1283,
           "Out to Sea (1997)",
           19
          ],
          [
           1284,
           "Before and After (1996)",
           26
          ],
          [
           1285,
           "Princess Caraboo (1994)",
           15
          ],
          [
           1286,
           "Shall We Dance? (1937)",
           17
          ],
          [
           1287,
           "Ed (1996)",
           6
          ],
          [
           1288,
           "Denise Calls Up (1995)",
           7
          ],
          [
           1289,
           "Jack and Sarah (1995)",
           7
          ],
          [
           1290,
           "Country Life (1994)",
           2
          ],
          [
           1291,
           "Celtic Pride (1996)",
           15
          ],
          [
           1292,
           "Simple Wish, A (1997)",
           3
          ],
          [
           1293,
           "Star Kid (1997)",
           3
          ],
          [
           1294,
           "Ayn Rand: A Sense of Life (1997)",
           7
          ],
          [
           1295,
           "Kicked in the Head (1997)",
           7
          ],
          [
           1296,
           "Indian Summer (1996)",
           20
          ],
          [
           1297,
           "Love Affair (1994)",
           12
          ],
          [
           1298,
           "Band Wagon, The (1953)",
           9
          ],
          [
           1299,
           "Penny Serenade (1941)",
           8
          ],
          [
           1300,
           "'Til There Was You (1997)",
           9
          ],
          [
           1301,
           "Stripes (1981)",
           5
          ],
          [
           1302,
           "Late Bloomers (1996)",
           5
          ],
          [
           1303,
           "Getaway, The (1994)",
           18
          ],
          [
           1304,
           "New York Cop (1996)",
           2
          ],
          [
           1305,
           "National Lampoon's Senior Trip (1995)",
           7
          ],
          [
           1306,
           "Delta of Venus (1994)",
           2
          ],
          [
           1307,
           "Carmen Miranda: Bananas Is My Business (1994)",
           2
          ],
          [
           1308,
           "Babyfever (1994)",
           2
          ],
          [
           1309,
           "Very Natural Thing, A (1974)",
           1
          ],
          [
           1310,
           "Walk in the Sun, A (1945)",
           1
          ],
          [
           1311,
           "Waiting to Exhale (1995)",
           16
          ],
          [
           1312,
           "Pompatus of Love, The (1996)",
           7
          ],
          [
           1313,
           "Palmetto (1998)",
           14
          ],
          [
           1314,
           "Surviving the Game (1994)",
           11
          ],
          [
           1315,
           "Inventing the Abbotts (1997)",
           23
          ],
          [
           1316,
           "Horse Whisperer, The (1998)",
           7
          ],
          [
           1317,
           "Journey of August King, The (1995)",
           4
          ],
          [
           1318,
           "Catwalk (1995)",
           3
          ],
          [
           1319,
           "Neon Bible, The (1995)",
           4
          ],
          [
           1320,
           "Homage (1995)",
           1
          ],
          [
           1321,
           "Open Season (1996)",
           2
          ],
          [
           1322,
           "Metisse (Café au Lait) (1993)",
           6
          ],
          [
           1323,
           "Wooden Man's Bride, The (Wu Kui) (1994)",
           3
          ],
          [
           1324,
           "Loaded (1994)",
           5
          ],
          [
           1325,
           "August (1996)",
           1
          ],
          [
           1326,
           "Boys (1996)",
           6
          ],
          [
           1327,
           "Captives (1994)",
           3
          ],
          [
           1328,
           "Of Love and Shadows (1994)",
           6
          ],
          [
           1329,
           "Low Life, The (1994)",
           1
          ],
          [
           1330,
           "An Unforgettable Summer (1994)",
           4
          ],
          [
           1331,
           "Last Klezmer: Leopold Kozlowski, His Life and Music, The (1995)",
           4
          ],
          [
           1332,
           "My Life and Times With Antonin Artaud (En compagnie d'Antonin Artaud) (1993)",
           2
          ],
          [
           1333,
           "Midnight Dancers (Sibak) (1994)",
           5
          ],
          [
           1334,
           "Somebody to Love (1994)",
           2
          ],
          [
           1335,
           "American Buffalo (1996)",
           11
          ],
          [
           1336,
           "Kazaam (1996)",
           10
          ],
          [
           1337,
           "Larger Than Life (1996)",
           9
          ],
          [
           1338,
           "Two Deaths (1995)",
           4
          ],
          [
           1339,
           "Stefano Quantestorie (1993)",
           1
          ],
          [
           1340,
           "Crude Oasis, The (1995)",
           1
          ],
          [
           1341,
           "Hedd Wyn (1992)",
           1
          ],
          [
           1342,
           "Convent, The (Convento, O) (1995)",
           2
          ],
          [
           1343,
           "Lotto Land (1995)",
           1
          ],
          [
           1344,
           "Story of Xinghua, The (1993)",
           5
          ],
          [
           1345,
           "Day the Sun Turned Cold, The (Tianguo niezi) (1994)",
           2
          ],
          [
           1346,
           "Dingo (1992)",
           5
          ],
          [
           1347,
           "Ballad of Narayama, The (Narayama Bushiko) (1958)",
           4
          ],
          [
           1348,
           "Every Other Weekend (1990)",
           1
          ],
          [
           1349,
           "Mille bolle blu (1993)",
           1
          ],
          [
           1350,
           "Crows and Sparrows (1949)",
           2
          ],
          [
           1351,
           "Lover's Knot (1996)",
           3
          ],
          [
           1352,
           "Shadow of Angels (Schatten der Engel) (1976)",
           1
          ],
          [
           1353,
           "1-900 (1994)",
           5
          ],
          [
           1354,
           "Venice/Venice (1992)",
           2
          ],
          [
           1355,
           "Infinity (1996)",
           6
          ],
          [
           1356,
           "Ed's Next Move (1996)",
           3
          ],
          [
           1357,
           "For the Moment (1994)",
           3
          ],
          [
           1358,
           "The Deadly Cure (1996)",
           2
          ],
          [
           1359,
           "Boys in Venice (1996)",
           2
          ],
          [
           1360,
           "Sexual Life of the Belgians, The (1994)",
           2
          ],
          [
           1361,
           "Search for One-eye Jimmy, The (1996)",
           3
          ],
          [
           1362,
           "American Strays (1996)",
           2
          ],
          [
           1363,
           "Leopard Son, The (1996)",
           1
          ],
          [
           1364,
           "Bird of Prey (1996)",
           1
          ],
          [
           1365,
           "Johnny 100 Pesos (1993)",
           2
          ],
          [
           1366,
           "JLG/JLG - autoportrait de décembre (1994)",
           1
          ],
          [
           1367,
           "Faust (1994)",
           5
          ],
          [
           1368,
           "Mina Tannenbaum (1994)",
           6
          ],
          [
           1369,
           "Forbidden Christ, The (Cristo proibito, Il) (1950)",
           4
          ],
          [
           1370,
           "I Can't Sleep (J'ai pas sommeil) (1994)",
           3
          ],
          [
           1371,
           "Machine, The (1994)",
           2
          ],
          [
           1372,
           "Stranger, The (1994)",
           3
          ],
          [
           1373,
           "Good Morning (1971)",
           1
          ],
          [
           1374,
           "Falling in Love Again (1980)",
           2
          ],
          [
           1375,
           "Cement Garden, The (1993)",
           10
          ],
          [
           1376,
           "Meet Wally Sparks (1997)",
           7
          ],
          [
           1377,
           "Hotel de Love (1996)",
           4
          ],
          [
           1378,
           "Rhyme & Reason (1997)",
           5
          ],
          [
           1379,
           "Love and Other Catastrophes (1996)",
           7
          ],
          [
           1380,
           "Hollow Reed (1996)",
           6
          ],
          [
           1381,
           "Losing Chase (1996)",
           8
          ],
          [
           1382,
           "Bonheur, Le (1965)",
           4
          ],
          [
           1383,
           "Second Jungle Book: Mowgli & Baloo, The (1997)",
           6
          ],
          [
           1384,
           "Squeeze (1996)",
           3
          ],
          [
           1385,
           "Roseanna's Grave (For Roseanna) (1997)",
           5
          ],
          [
           1386,
           "Tetsuo II: Body Hammer (1992)",
           6
          ],
          [
           1387,
           "Fall (1997)",
           3
          ],
          [
           1388,
           "Gabbeh (1996)",
           6
          ],
          [
           1389,
           "Mondo (1996)",
           3
          ],
          [
           1390,
           "Innocent Sleep, The (1995)",
           2
          ],
          [
           1391,
           "For Ever Mozart (1996)",
           3
          ],
          [
           1392,
           "Locusts, The (1997)",
           5
          ],
          [
           1393,
           "Stag (1997)",
           9
          ],
          [
           1394,
           "Swept from the Sea (1997)",
           7
          ],
          [
           1395,
           "Hurricane Streets (1998)",
           6
          ],
          [
           1396,
           "Stonewall (1995)",
           5
          ],
          [
           1397,
           "Of Human Bondage (1934)",
           5
          ],
          [
           1398,
           "Anna (1996)",
           2
          ],
          [
           1399,
           "Stranger in the House (1997)",
           7
          ],
          [
           1400,
           "Picture Bride (1995)",
           10
          ],
          [
           1401,
           "M. Butterfly (1993)",
           18
          ],
          [
           1402,
           "Ciao, Professore! (1993)",
           4
          ],
          [
           1403,
           "Caro Diario (Dear Diary) (1994)",
           4
          ],
          [
           1404,
           "Withnail and I (1987)",
           13
          ],
          [
           1405,
           "Boy's Life 2 (1997)",
           6
          ],
          [
           1406,
           "When Night Is Falling (1995)",
           5
          ],
          [
           1407,
           "Specialist, The (1994)",
           20
          ],
          [
           1408,
           "Gordy (1995)",
           3
          ],
          [
           1409,
           "Swan Princess, The (1994)",
           7
          ],
          [
           1410,
           "Harlem (1993)",
           4
          ],
          [
           1411,
           "Barbarella (1968)",
           28
          ],
          [
           1412,
           "Land Before Time III: The Time of the Great Giving (1995) (V)",
           6
          ],
          [
           1413,
           "Street Fighter (1994)",
           8
          ],
          [
           1414,
           "Coldblooded (1995)",
           1
          ],
          [
           1415,
           "Next Karate Kid, The (1994)",
           9
          ],
          [
           1416,
           "No Escape (1994)",
           5
          ],
          [
           1417,
           "Turning, The (1992)",
           2
          ],
          [
           1418,
           "Joy Luck Club, The (1993)",
           3
          ],
          [
           1419,
           "Highlander III: The Sorcerer (1994)",
           16
          ],
          [
           1420,
           "Gilligan's Island: The Movie (1998)",
           3
          ],
          [
           1421,
           "My Crazy Life (Mi vida loca) (1993)",
           11
          ],
          [
           1422,
           "Suture (1993)",
           4
          ],
          [
           1423,
           "Walking Dead, The (1995)",
           4
          ],
          [
           1424,
           "I Like It Like That (1994)",
           3
          ],
          [
           1425,
           "I'll Do Anything (1994)",
           10
          ],
          [
           1426,
           "Grace of My Heart (1996)",
           8
          ],
          [
           1427,
           "Drunks (1995)",
           5
          ],
          [
           1428,
           "SubUrbia (1997)",
           12
          ],
          [
           1429,
           "Sliding Doors (1998)",
           4
          ],
          [
           1430,
           "Ill Gotten Gains (1997)",
           3
          ],
          [
           1431,
           "Legal Deceit (1997)",
           5
          ],
          [
           1432,
           "Mighty, The (1998)",
           3
          ],
          [
           1433,
           "Men of Means (1998)",
           2
          ],
          [
           1434,
           "Shooting Fish (1997)",
           10
          ],
          [
           1435,
           "Steal Big, Steal Little (1995)",
           7
          ],
          [
           1436,
           "Mr. Jones (1993)",
           2
          ],
          [
           1437,
           "House Party 3 (1994)",
           9
          ],
          [
           1438,
           "Panther (1995)",
           5
          ],
          [
           1439,
           "Jason's Lyric (1994)",
           8
          ],
          [
           1440,
           "Above the Rim (1994)",
           5
          ],
          [
           1441,
           "Moonlight and Valentino (1995)",
           7
          ],
          [
           1442,
           "Scarlet Letter, The (1995)",
           5
          ],
          [
           1443,
           "8 Seconds (1994)",
           4
          ],
          [
           1444,
           "That Darn Cat! (1965)",
           19
          ],
          [
           1445,
           "Ladybird Ladybird (1994)",
           4
          ],
          [
           1446,
           "Bye Bye, Love (1995)",
           15
          ],
          [
           1447,
           "Century (1993)",
           1
          ],
          [
           1448,
           "My Favorite Season (1993)",
           3
          ],
          [
           1449,
           "Pather Panchali (1955)",
           8
          ],
          [
           1450,
           "Golden Earrings (1947)",
           2
          ],
          [
           1451,
           "Foreign Correspondent (1940)",
           15
          ],
          [
           1452,
           "Lady of Burlesque (1943)",
           1
          ],
          [
           1453,
           "Angel on My Shoulder (1946)",
           1
          ],
          [
           1454,
           "Angel and the Badman (1947)",
           6
          ],
          [
           1455,
           "Outlaw, The (1943)",
           2
          ],
          [
           1456,
           "Beat the Devil (1954)",
           7
          ],
          [
           1457,
           "Love Is All There Is (1996)",
           1
          ],
          [
           1458,
           "Damsel in Distress, A (1937)",
           1
          ],
          [
           1459,
           "Madame Butterfly (1995)",
           7
          ],
          [
           1460,
           "Sleepover (1995)",
           1
          ],
          [
           1461,
           "Here Comes Cookie (1935)",
           1
          ],
          [
           1462,
           "Thieves (Voleurs, Les) (1996)",
           7
          ],
          [
           1463,
           "Boys, Les (1997)",
           3
          ],
          [
           1464,
           "Stars Fell on Henrietta, The (1995)",
           3
          ],
          [
           1465,
           "Last Summer in the Hamptons (1995)",
           3
          ],
          [
           1466,
           "Margaret's Museum (1995)",
           6
          ],
          [
           1467,
           "Saint of Fort Washington, The (1993)",
           2
          ],
          [
           1468,
           "Cure, The (1995)",
           6
          ],
          [
           1469,
           "Tom and Huck (1995)",
           12
          ],
          [
           1470,
           "Gumby: The Movie (1995)",
           5
          ],
          [
           1471,
           "Hideaway (1995)",
           9
          ],
          [
           1472,
           "Visitors, The (Visiteurs, Les) (1993)",
           2
          ],
          [
           1473,
           "Little Princess, The (1939)",
           9
          ],
          [
           1474,
           "Nina Takes a Lover (1994)",
           6
          ],
          [
           1475,
           "Bhaji on the Beach (1993)",
           8
          ],
          [
           1476,
           "Raw Deal (1948)",
           1
          ],
          [
           1477,
           "Nightwatch (1997)",
           2
          ],
          [
           1478,
           "Dead Presidents (1995)",
           18
          ],
          [
           1479,
           "Reckless (1995)",
           8
          ],
          [
           1480,
           "Herbie Rides Again (1974)",
           11
          ],
          [
           1481,
           "S.F.W. (1994)",
           2
          ],
          [
           1482,
           "Gate of Heavenly Peace, The (1995)",
           1
          ],
          [
           1483,
           "Man in the Iron Mask, The (1998)",
           12
          ],
          [
           1484,
           "Jerky Boys, The (1994)",
           3
          ],
          [
           1485,
           "Colonel Chabert, Le (1994)",
           4
          ],
          [
           1486,
           "Girl in the Cadillac (1995)",
           1
          ],
          [
           1487,
           "Even Cowgirls Get the Blues (1993)",
           5
          ],
          [
           1488,
           "Germinal (1993)",
           4
          ],
          [
           1489,
           "Chasers (1994)",
           5
          ],
          [
           1490,
           "Fausto (1993)",
           3
          ],
          [
           1491,
           "Tough and Deadly (1995)",
           2
          ],
          [
           1492,
           "Window to Paris (1994)",
           1
          ],
          [
           1493,
           "Modern Affair, A (1995)",
           1
          ],
          [
           1494,
           "Mostro, Il (1994)",
           1
          ],
          [
           1495,
           "Flirt (1995)",
           5
          ],
          [
           1496,
           "Carpool (1996)",
           5
          ],
          [
           1497,
           "Line King: Al Hirschfeld, The (1996)",
           2
          ],
          [
           1498,
           "Farmer & Chase (1995)",
           1
          ],
          [
           1499,
           "Grosse Fatigue (1994)",
           4
          ],
          [
           1500,
           "Santa with Muscles (1996)",
           2
          ],
          [
           1501,
           "Prisoner of the Mountains (Kavkazsky Plennik) (1996)",
           5
          ],
          [
           1502,
           "Naked in New York (1994)",
           2
          ],
          [
           1503,
           "Gold Diggers: The Secret of Bear Mountain (1995)",
           10
          ],
          [
           1504,
           "Bewegte Mann, Der (1994)",
           3
          ],
          [
           1505,
           "Killer: A Journal of Murder (1995)",
           1
          ],
          [
           1506,
           "Nelly & Monsieur Arnaud (1995)",
           3
          ],
          [
           1507,
           "Three Lives and Only One Death (1996)",
           1
          ],
          [
           1508,
           "Babysitter, The (1995)",
           3
          ],
          [
           1509,
           "Getting Even with Dad (1994)",
           5
          ],
          [
           1510,
           "Mad Dog Time (1996)",
           1
          ],
          [
           1511,
           "Children of the Revolution (1996)",
           5
          ],
          [
           1512,
           "World of Apu, The (Apur Sansar) (1959)",
           6
          ],
          [
           1513,
           "Sprung (1997)",
           3
          ],
          [
           1514,
           "Dream With the Fishes (1997)",
           7
          ],
          [
           1515,
           "Wings of Courage (1995)",
           1
          ],
          [
           1516,
           "Wedding Gift, The (1994)",
           3
          ],
          [
           1517,
           "Race the Sun (1996)",
           5
          ],
          [
           1518,
           "Losing Isaiah (1995)",
           12
          ],
          [
           1519,
           "New Jersey Drive (1995)",
           2
          ],
          [
           1520,
           "Fear, The (1995)",
           1
          ],
          [
           1521,
           "Mr. Wonderful (1993)",
           4
          ],
          [
           1522,
           "Trial by Jury (1994)",
           7
          ],
          [
           1523,
           "Good Man in Africa, A (1994)",
           2
          ],
          [
           1524,
           "Kaspar Hauser (1993)",
           8
          ],
          [
           1525,
           "Object of My Affection, The (1998)",
           1
          ],
          [
           1526,
           "Witness (1985)",
           1
          ],
          [
           1527,
           "Senseless (1998)",
           7
          ],
          [
           1528,
           "Nowhere (1997)",
           3
          ],
          [
           1529,
           "Underground (1995)",
           5
          ],
          [
           1530,
           "Jefferson in Paris (1995)",
           5
          ],
          [
           1531,
           "Far From Home: The Adventures of Yellow Dog (1995)",
           7
          ],
          [
           1532,
           "Foreign Student (1994)",
           2
          ],
          [
           1533,
           "I Don't Want to Talk About It (De eso no se habla) (1993)",
           1
          ],
          [
           1534,
           "Twin Town (1997)",
           6
          ],
          [
           1535,
           "Enfer, L' (1994)",
           4
          ],
          [
           1536,
           "Aiqing wansui (1994)",
           1
          ],
          [
           1537,
           "Cosi (1996)",
           4
          ],
          [
           1538,
           "All Over Me (1997)",
           3
          ],
          [
           1539,
           "Being Human (1993)",
           4
          ],
          [
           1540,
           "Amazing Panda Adventure, The (1995)",
           10
          ],
          [
           1541,
           "Beans of Egypt, Maine, The (1994)",
           2
          ],
          [
           1542,
           "Scarlet Letter, The (1926)",
           2
          ],
          [
           1543,
           "Johns (1996)",
           1
          ],
          [
           1544,
           "It Takes Two (1995)",
           3
          ],
          [
           1545,
           "Frankie Starlight (1995)",
           4
          ],
          [
           1546,
           "Shadows (Cienie) (1988)",
           1
          ],
          [
           1547,
           "Show, The (1995)",
           2
          ],
          [
           1548,
           "The Courtyard (1995)",
           1
          ],
          [
           1549,
           "Dream Man (1995)",
           2
          ],
          [
           1550,
           "Destiny Turns on the Radio (1995)",
           2
          ],
          [
           1551,
           "Glass Shield, The (1994)",
           2
          ],
          [
           1552,
           "Hunted, The (1995)",
           3
          ],
          [
           1553,
           "Underneath, The (1995)",
           4
          ],
          [
           1554,
           "Safe Passage (1994)",
           2
          ],
          [
           1555,
           "Secret Adventures of Tom Thumb, The (1993)",
           5
          ],
          [
           1556,
           "Condition Red (1995)",
           2
          ],
          [
           1557,
           "Yankee Zulu (1994)",
           1
          ],
          [
           1558,
           "Aparajito (1956)",
           7
          ],
          [
           1559,
           "Hostile Intentions (1994)",
           1
          ],
          [
           1560,
           "Clean Slate (Coup de Torchon) (1981)",
           4
          ],
          [
           1561,
           "Tigrero: A Film That Was Never Made (1994)",
           1
          ],
          [
           1562,
           "Eye of Vichy, The (Oeil de Vichy, L') (1993)",
           1
          ],
          [
           1563,
           "Promise, The (Versprechen, Das) (1994)",
           1
          ],
          [
           1564,
           "To Cross the Rubicon (1991)",
           1
          ],
          [
           1565,
           "Daens (1992)",
           1
          ],
          [
           1566,
           "Man from Down Under, The (1943)",
           1
          ],
          [
           1567,
           "Careful (1992)",
           1
          ],
          [
           1568,
           "Vermont Is For Lovers (1992)",
           1
          ],
          [
           1569,
           "Vie est belle, La (Life is Rosey) (1987)",
           1
          ],
          [
           1570,
           "Quartier Mozart (1992)",
           1
          ],
          [
           1571,
           "Touki Bouki (Journey of the Hyena) (1973)",
           1
          ],
          [
           1572,
           "Wend Kuuni (God's Gift) (1982)",
           1
          ],
          [
           1573,
           "Spirits of the Dead (Tre passi nel delirio) (1968)",
           2
          ],
          [
           1574,
           "Pharaoh's Army (1995)",
           1
          ],
          [
           1575,
           "I, Worst of All (Yo, la peor de todas) (1990)",
           1
          ],
          [
           1576,
           "Hungarian Fairy Tale, A (1987)",
           1
          ],
          [
           1577,
           "Death in the Garden (Mort en ce jardin, La) (1956)",
           1
          ],
          [
           1578,
           "Collectionneuse, La (1967)",
           2
          ],
          [
           1579,
           "Baton Rouge (1988)",
           1
          ],
          [
           1580,
           "Liebelei (1933)",
           1
          ],
          [
           1581,
           "Woman in Question, The (1950)",
           1
          ],
          [
           1582,
           "T-Men (1947)",
           1
          ],
          [
           1583,
           "Invitation, The (Zaproszenie) (1986)",
           1
          ],
          [
           1584,
           "Symphonie pastorale, La (1946)",
           1
          ],
          [
           1585,
           "American Dream (1990)",
           2
          ],
          [
           1586,
           "Lashou shentan (1992)",
           1
          ],
          [
           1587,
           "Terror in a Texas Town (1958)",
           1
          ],
          [
           1588,
           "Salut cousin! (1996)",
           2
          ],
          [
           1589,
           "Schizopolis (1996)",
           4
          ],
          [
           1590,
           "To Have, or Not (1995)",
           2
          ],
          [
           1591,
           "Duoluo tianshi (1995)",
           6
          ],
          [
           1592,
           "Magic Hour, The (1998)",
           5
          ],
          [
           1593,
           "Death in Brunswick (1991)",
           1
          ],
          [
           1594,
           "Everest (1998)",
           2
          ],
          [
           1595,
           "Shopping (1994)",
           1
          ],
          [
           1596,
           "Nemesis 2: Nebula (1995)",
           1
          ],
          [
           1597,
           "Romper Stomper (1992)",
           5
          ],
          [
           1598,
           "City of Industry (1997)",
           6
          ],
          [
           1599,
           "Someone Else's America (1995)",
           1
          ],
          [
           1600,
           "Guantanamera (1994)",
           4
          ],
          [
           1601,
           "Office Killer (1997)",
           1
          ],
          [
           1602,
           "Price Above Rubies, A (1998)",
           3
          ],
          [
           1603,
           "Angela (1995)",
           1
          ],
          [
           1604,
           "He Walked by Night (1948)",
           1
          ],
          [
           1605,
           "Love Serenade (1996)",
           4
          ],
          [
           1606,
           "Deceiver (1997)",
           1
          ],
          [
           1607,
           "Hurricane Streets (1998)",
           3
          ],
          [
           1608,
           "Buddy (1997)",
           4
          ],
          [
           1609,
           "B*A*P*S (1997)",
           3
          ],
          [
           1610,
           "Truth or Consequences, N.M. (1997)",
           3
          ],
          [
           1611,
           "Intimate Relations (1996)",
           2
          ],
          [
           1612,
           "Leading Man, The (1996)",
           4
          ],
          [
           1613,
           "Tokyo Fist (1995)",
           1
          ],
          [
           1614,
           "Reluctant Debutante, The (1958)",
           1
          ],
          [
           1615,
           "Warriors of Virtue (1997)",
           10
          ],
          [
           1616,
           "Desert Winds (1995)",
           1
          ],
          [
           1617,
           "Hugo Pool (1997)",
           2
          ],
          [
           1618,
           "King of New York (1990)",
           1
          ],
          [
           1619,
           "All Things Fair (1996)",
           1
          ],
          [
           1620,
           "Sixth Man, The (1997)",
           9
          ],
          [
           1621,
           "Butterfly Kiss (1995)",
           1
          ],
          [
           1622,
           "Paris, France (1993)",
           3
          ],
          [
           1623,
           "Cérémonie, La (1995)",
           3
          ],
          [
           1624,
           "Hush (1998)",
           1
          ],
          [
           1625,
           "Nightwatch (1997)",
           1
          ],
          [
           1626,
           "Nobody Loves Me (Keiner liebt mich) (1994)",
           1
          ],
          [
           1627,
           "Wife, The (1995)",
           1
          ],
          [
           1628,
           "Lamerica (1994)",
           4
          ],
          [
           1629,
           "Nico Icon (1995)",
           2
          ],
          [
           1630,
           "Silence of the Palace, The (Saimt el Qusur) (1994)",
           1
          ],
          [
           1631,
           "Slingshot, The (1993)",
           2
          ],
          [
           1632,
           "Land and Freedom (Tierra y libertad) (1995)",
           1
          ],
          [
           1633,
           "Á köldum klaka (Cold Fever) (1994)",
           1
          ],
          [
           1634,
           "Etz Hadomim Tafus (Under the Domin Tree) (1994)",
           1
          ],
          [
           1635,
           "Two Friends (1986) ",
           1
          ],
          [
           1636,
           "Brothers in Trouble (1995)",
           1
          ],
          [
           1637,
           "Girls Town (1996)",
           1
          ],
          [
           1638,
           "Normal Life (1996)",
           1
          ],
          [
           1639,
           "Bitter Sugar (Azucar Amargo) (1996)",
           3
          ],
          [
           1640,
           "Eighth Day, The (1996)",
           1
          ],
          [
           1641,
           "Dadetown (1995)",
           1
          ],
          [
           1642,
           "Some Mother's Son (1996)",
           2
          ],
          [
           1643,
           "Angel Baby (1995)",
           4
          ],
          [
           1644,
           "Sudden Manhattan (1996)",
           2
          ],
          [
           1645,
           "Butcher Boy, The (1998)",
           1
          ],
          [
           1646,
           "Men With Guns (1997)",
           2
          ],
          [
           1647,
           "Hana-bi (1997)",
           1
          ],
          [
           1648,
           "Niagara, Niagara (1997)",
           1
          ],
          [
           1649,
           "Big One, The (1997)",
           1
          ],
          [
           1650,
           "Butcher Boy, The (1998)",
           1
          ],
          [
           1651,
           "Spanish Prisoner, The (1997)",
           1
          ],
          [
           1652,
           "Temptress Moon (Feng Yue) (1996)",
           3
          ],
          [
           1653,
           "Entertaining Angels: The Dorothy Day Story (1996)",
           1
          ],
          [
           1654,
           "Chairman of the Board (1998)",
           1
          ],
          [
           1655,
           "Favor, The (1994)",
           1
          ],
          [
           1656,
           "Little City (1998)",
           2
          ],
          [
           1657,
           "Target (1995)",
           1
          ],
          [
           1658,
           "Substance of Fire, The (1996)",
           3
          ],
          [
           1659,
           "Getting Away With Murder (1996)",
           1
          ],
          [
           1660,
           "Small Faces (1995)",
           1
          ],
          [
           1661,
           "New Age, The (1994)",
           1
          ],
          [
           1662,
           "Rough Magic (1995)",
           2
          ],
          [
           1663,
           "Nothing Personal (1995)",
           1
          ],
          [
           1664,
           "8 Heads in a Duffel Bag (1997)",
           4
          ],
          [
           1665,
           "Brother's Kiss, A (1997)",
           1
          ],
          [
           1666,
           "Ripe (1996)",
           1
          ],
          [
           1667,
           "Next Step, The (1995)",
           1
          ],
          [
           1668,
           "Wedding Bell Blues (1996)",
           1
          ],
          [
           1669,
           "MURDER and murder (1996)",
           1
          ],
          [
           1670,
           "Tainted (1998)",
           1
          ],
          [
           1671,
           "Further Gesture, A (1996)",
           1
          ],
          [
           1672,
           "Kika (1993)",
           2
          ],
          [
           1673,
           "Mirage (1995)",
           1
          ],
          [
           1674,
           "Mamma Roma (1962)",
           1
          ],
          [
           1675,
           "Sunchaser, The (1996)",
           1
          ],
          [
           1676,
           "War at Home, The (1996)",
           1
          ],
          [
           1677,
           "Sweet Nothing (1995)",
           1
          ],
          [
           1678,
           "Mat' i syn (1997)",
           1
          ],
          [
           1679,
           "B. Monkey (1998)",
           1
          ],
          [
           1680,
           "Sliding Doors (1998)",
           1
          ],
          [
           1681,
           "You So Crazy (1994)",
           1
          ],
          [
           1682,
           "Scream of Stone (Schrei aus Stein) (1991)",
           1
          ]
         ],
         "hovertemplate": "tsne_1=%{x}<br>tsne_2=%{y}<br>item_id=%{customdata[0]}<br>title=%{customdata[1]}<br>popularity=%{marker.color}<extra></extra>",
         "legendgroup": "",
         "marker": {
          "color": [
           452,
           131,
           90,
           209,
           86,
           26,
           392,
           219,
           299,
           89,
           236,
           267,
           184,
           183,
           293,
           39,
           92,
           10,
           69,
           72,
           84,
           297,
           182,
           174,
           293,
           73,
           57,
           276,
           114,
           37,
           154,
           81,
           97,
           7,
           11,
           13,
           8,
           120,
           87,
           57,
           37,
           148,
           40,
           79,
           80,
           27,
           133,
           117,
           81,
           583,
           81,
           91,
           128,
           104,
           149,
           394,
           40,
           175,
           83,
           64,
           59,
           127,
           82,
           283,
           115,
           162,
           103,
           134,
           321,
           251,
           220,
           129,
           128,
           7,
           5,
           54,
           151,
           33,
           336,
           68,
           110,
           261,
           176,
           18,
           58,
           150,
           138,
           213,
           275,
           95,
           143,
           104,
           112,
           137,
           219,
           295,
           256,
           390,
           172,
           508,
           73,
           54,
           15,
           5,
           74,
           71,
           42,
           65,
           130,
           31,
           272,
           20,
           9,
           67,
           15,
           125,
           378,
           293,
           4,
           67,
           429,
           106,
           115,
           187,
           244,
           97,
           413,
           65,
           129,
           23,
           95,
           246,
           171,
           198,
           259,
           105,
           171,
           19,
           50,
           61,
           72,
           57,
           222,
           243,
           65,
           10,
           185,
           128,
           23,
           157,
           326,
           82,
           247,
           174,
           98,
           148,
           127,
           60,
           101,
           69,
           220,
           106,
           92,
           151,
           64,
           58,
           67,
           316,
           118,
           121,
           65,
           367,
           324,
           420,
           208,
           284,
           137,
           125,
           221,
           221,
           507,
           226,
           291,
           116,
           239,
           251,
           209,
           170,
           66,
           124,
           276,
           116,
           157,
           241,
           301,
           251,
           239,
           127,
           165,
           206,
           89,
           280,
           182,
           350,
           136,
           50,
           66,
           200,
           191,
           331,
           206,
           92,
           134,
           114,
           212,
           290,
           120,
           171,
           111,
           66,
           74,
           365,
           136,
           44,
           109,
           166,
           161,
           244,
           171,
           199,
           142,
           101,
           124,
           280,
           217,
           45,
           384,
           256,
           150,
           156,
           128,
           117,
           132,
           48,
           240,
           124,
           5,
           160,
           130,
           197,
           46,
           158,
           26,
           62,
           172,
           16,
           303,
           509,
           162,
           127,
           43,
           66,
           19,
           101,
           227,
           35,
           9,
           255,
           315,
           136,
           211,
           198,
           223,
           190,
           268,
           298,
           71,
           60,
           28,
           85,
           146,
           232,
           177,
           193,
           162,
           481,
           78,
           478,
           259,
           96,
           127,
           114,
           147,
           485,
           77,
           6,
           50,
           194,
           73,
           431,
           230,
           297,
           134,
           149,
           87,
           96,
           188,
           30,
           28,
           145,
           75,
           80,
           350,
           5,
           160,
           112,
           102,
           298,
           168,
           20,
           169,
           218,
           240,
           125,
           128,
           175,
           175,
           295,
           45,
           41,
           113,
           143,
           251,
           64,
           21,
           43,
           18,
           91,
           47,
           189,
           11,
           52,
           124,
           55,
           65,
           126,
           137,
           27,
           31,
           41,
           20,
           26,
           14,
           72,
           41,
           97,
           264,
           143,
           18,
           10,
           10,
           28,
           47,
           37,
           48,
           47,
           170,
           31,
           55,
           39,
           67,
           34,
           39,
           11,
           23,
           24,
           13,
           101,
           43,
           116,
           100,
           111,
           31,
           69,
           208,
           87,
           65,
           28,
           27,
           10,
           59,
           68,
           192,
           12,
           56,
           54,
           12,
           26,
           89,
           18,
           76,
           170,
           201,
           101,
           344,
           49,
           43,
           112,
           70,
           162,
           163,
           93,
           55,
           62,
           25,
           64,
           73,
           129,
           178,
           81,
           106,
           26,
           300,
           19,
           85,
           32,
           219,
           121,
           97,
           93,
           153,
           174,
           171,
           67,
           216,
           99,
           5,
           6,
           5,
           14,
           53,
           4,
           162,
           46,
           22,
           9,
           121,
           85,
           117,
           63,
           170,
           66,
           16,
           16,
           145,
           48,
           27,
           90,
           24,
           28,
           74,
           148,
           71,
           27,
           85,
           52,
           48,
           64,
           67,
           108,
           221,
           158,
           126,
           194,
           250,
           160,
           95,
           104,
           179,
           179,
           63,
           128,
           243,
           138,
           125,
           64,
           68,
           65,
           52,
           50,
           67,
           59,
           60,
           56,
           59,
           231,
           68,
           152,
           62,
           31,
           123,
           57,
           39,
           122,
           68,
           90,
           98,
           215,
           121,
           121,
           173,
           57,
           72,
           180,
           201,
           63,
           91,
           89,
           80,
           124,
           120,
           35,
           164,
           46,
           73,
           124,
           195,
           121,
           93,
           80,
           129,
           22,
           15,
           13,
           54,
           10,
           30,
           66,
           44,
           43,
           49,
           51,
           21,
           71,
           12,
           254,
           41,
           12,
           92,
           151,
           24,
           45,
           63,
           102,
           10,
           12,
           17,
           70,
           137,
           22,
           59,
           48,
           29,
           27,
           22,
           179,
           35,
           230,
           67,
           50,
           28,
           29,
           33,
           15,
           44,
           93,
           41,
           92,
           19,
           32,
           59,
           168,
           37,
           79,
           39,
           34,
           14,
           202,
           43,
           18,
           178,
           9,
           12,
           5,
           64,
           127,
           206,
           4,
           1,
           2,
           20,
           50,
           209,
           81,
           31,
           66,
           66,
           30,
           60,
           41,
           40,
           34,
           27,
           51,
           59,
           64,
           18,
           18,
           64,
           43,
           11,
           39,
           39,
           22,
           82,
           4,
           75,
           169,
           77,
           31,
           119,
           58,
           69,
           24,
           23,
           91,
           38,
           44,
           40,
           82,
           33,
           89,
           4,
           35,
           27,
           38,
           70,
           67,
           50,
           72,
           171,
           90,
           34,
           147,
           227,
           44,
           131,
           79,
           115,
           153,
           88,
           82,
           116,
           46,
           100,
           5,
           12,
           6,
           13,
           36,
           46,
           65,
           86,
           48,
           54,
           77,
           1,
           219,
           107,
           34,
           27,
           100,
           49,
           169,
           157,
           50,
           69,
           44,
           87,
           155,
           16,
           164,
           91,
           44,
           13,
           79,
           40,
           10,
           102,
           15,
           10,
           53,
           19,
           24,
           137,
           6,
           70,
           101,
           104,
           79,
           1,
           51,
           72,
           13,
           87,
           58,
           82,
           16,
           29,
           86,
           54,
           58,
           34,
           76,
           16,
           14,
           63,
           45,
           81,
           24,
           39,
           180,
           15,
           27,
           137,
           78,
           59,
           31,
           164,
           63,
           58,
           267,
           39,
           92,
           16,
           119,
           102,
           316,
           51,
           124,
           180,
           39,
           24,
           57,
           96,
           128,
           4,
           21,
           11,
           46,
           44,
           115,
           149,
           29,
           32,
           9,
           11,
           52,
           42,
           57,
           41,
           49,
           17,
           32,
           26,
           9,
           4,
           76,
           31,
           69,
           84,
           10,
           37,
           2,
           39,
           14,
           13,
           3,
           47,
           66,
           10,
           86,
           10,
           46,
           21,
           36,
           31,
           9,
           5,
           26,
           16,
           40,
           9,
           8,
           27,
           50,
           9,
           31,
           43,
           45,
           18,
           18,
           56,
           1,
           112,
           21,
           3,
           25,
           40,
           93,
           22,
           4,
           82,
           49,
           83,
           80,
           57,
           13,
           34,
           1,
           91,
           22,
           49,
           25,
           15,
           26,
           25,
           4,
           4,
           53,
           48,
           27,
           30,
           42,
           176,
           44,
           55,
           9,
           53,
           4,
           4,
           1,
           14,
           16,
           66,
           36,
           1,
           3,
           15,
           16,
           3,
           18,
           24,
           86,
           21,
           119,
           6,
           5,
           24,
           9,
           75,
           42,
           81,
           39,
           53,
           47,
           52,
           33,
           136,
           59,
           45,
           34,
           13,
           7,
           13,
           53,
           64,
           15,
           13,
           43,
           6,
           53,
           14,
           19,
           106,
           44,
           2,
           58,
           9,
           42,
           12,
           42,
           18,
           20,
           27,
           21,
           2,
           20,
           13,
           4,
           4,
           9,
           2,
           11,
           13,
           18,
           7,
           8,
           96,
           5,
           46,
           34,
           58,
           85,
           34,
           101,
           6,
           104,
           40,
           80,
           57,
           40,
           21,
           68,
           7,
           32,
           37,
           25,
           60,
           32,
           46,
           45,
           40,
           43,
           40,
           61,
           17,
           48,
           71,
           30,
           39,
           45,
           22,
           11,
           49,
           46,
           2,
           14,
           64,
           25,
           34,
           23,
           41,
           9,
           21,
           26,
           12,
           18,
           75,
           8,
           34,
           28,
           4,
           32,
           44,
           12,
           49,
           27,
           35,
           22,
           8,
           20,
           15,
           44,
           22,
           23,
           4,
           86,
           32,
           33,
           25,
           4,
           66,
           7,
           31,
           14,
           16,
           16,
           10,
           10,
           17,
           8,
           8,
           9,
           22,
           23,
           47,
           37,
           64,
           44,
           93,
           100,
           38,
           98,
           12,
           137,
           50,
           32,
           31,
           35,
           38,
           32,
           31,
           15,
           44,
           4,
           3,
           148,
           14,
           20,
           7,
           16,
           32,
           27,
           68,
           24,
           24,
           17,
           90,
           25,
           62,
           28,
           8,
           40,
           25,
           46,
           134,
           73,
           25,
           43,
           41,
           25,
           24,
           23,
           10,
           10,
           22,
           15,
           35,
           39,
           29,
           12,
           41,
           4,
           53,
           16,
           44,
           12,
           18,
           27,
           16,
           7,
           66,
           77,
           7,
           12,
           8,
           22,
           45,
           2,
           8,
           8,
           6,
           21,
           11,
           21,
           10,
           13,
           38,
           37,
           43,
           12,
           23,
           12,
           29,
           3,
           18,
           42,
           13,
           8,
           74,
           7,
           19,
           4,
           18,
           4,
           18,
           5,
           28,
           41,
           7,
           15,
           22,
           10,
           29,
           13,
           19,
           47,
           59,
           17,
           21,
           1,
           3,
           12,
           4,
           32,
           11,
           13,
           28,
           1,
           13,
           32,
           30,
           38,
           46,
           29,
           29,
           5,
           33,
           17,
           9,
           44,
           15,
           3,
           9,
           3,
           21,
           9,
           26,
           9,
           7,
           28,
           19,
           12,
           3,
           1,
           25,
           4,
           11,
           26,
           13,
           5,
           25,
           6,
           14,
           12,
           11,
           22,
           10,
           27,
           14,
           15,
           7,
           8,
           5,
           22,
           7,
           19,
           9,
           10,
           10,
           13,
           19,
           10,
           18,
           3,
           13,
           44,
           3,
           11,
           3,
           13,
           10,
           31,
           11,
           3,
           45,
           7,
           23,
           7,
           1,
           8,
           21,
           18,
           6,
           19,
           17,
           20,
           15,
           38,
           12,
           6,
           6,
           9,
           30,
           6,
           39,
           26,
           20,
           30,
           39,
           25,
           4,
           12,
           14,
           32,
           8,
           48,
           13,
           18,
           22,
           17,
           6,
           8,
           1,
           1,
           6,
           8,
           18,
           26,
           6,
           5,
           7,
           36,
           19,
           7,
           6,
           19,
           12,
           6,
           8,
           9,
           7,
           11,
           8,
           3,
           4,
           23,
           4,
           4,
           4,
           8,
           15,
           7,
           19,
           12,
           33,
           10,
           10,
           7,
           7,
           5,
           15,
           11,
           4,
           8,
           19,
           16,
           9,
           16,
           13,
           9,
           19,
           26,
           15,
           17,
           6,
           7,
           7,
           2,
           15,
           3,
           3,
           7,
           7,
           20,
           12,
           9,
           8,
           9,
           5,
           5,
           18,
           2,
           7,
           2,
           2,
           2,
           1,
           1,
           16,
           7,
           14,
           11,
           23,
           7,
           4,
           3,
           4,
           1,
           2,
           6,
           3,
           5,
           1,
           6,
           3,
           6,
           1,
           4,
           4,
           2,
           5,
           2,
           11,
           10,
           9,
           4,
           1,
           1,
           1,
           2,
           1,
           5,
           2,
           5,
           4,
           1,
           1,
           2,
           3,
           1,
           5,
           2,
           6,
           3,
           3,
           2,
           2,
           2,
           3,
           2,
           1,
           1,
           2,
           1,
           5,
           6,
           4,
           3,
           2,
           3,
           1,
           2,
           10,
           7,
           4,
           5,
           7,
           6,
           8,
           4,
           6,
           3,
           5,
           6,
           3,
           6,
           3,
           2,
           3,
           5,
           9,
           7,
           6,
           5,
           5,
           2,
           7,
           10,
           18,
           4,
           4,
           13,
           6,
           5,
           20,
           3,
           7,
           4,
           28,
           6,
           8,
           1,
           9,
           5,
           2,
           3,
           16,
           3,
           11,
           4,
           4,
           3,
           10,
           8,
           5,
           12,
           4,
           3,
           5,
           3,
           2,
           10,
           7,
           2,
           9,
           5,
           8,
           5,
           7,
           5,
           4,
           19,
           4,
           15,
           1,
           3,
           8,
           2,
           15,
           1,
           1,
           6,
           2,
           7,
           1,
           1,
           7,
           1,
           1,
           7,
           3,
           3,
           3,
           6,
           2,
           6,
           12,
           5,
           9,
           2,
           9,
           6,
           8,
           1,
           2,
           18,
           8,
           11,
           2,
           1,
           12,
           3,
           4,
           1,
           5,
           4,
           5,
           3,
           2,
           1,
           1,
           1,
           5,
           5,
           2,
           1,
           4,
           2,
           5,
           2,
           10,
           3,
           1,
           3,
           1,
           3,
           5,
           1,
           5,
           6,
           3,
           7,
           1,
           3,
           5,
           12,
           2,
           1,
           4,
           7,
           2,
           8,
           1,
           1,
           7,
           3,
           5,
           5,
           7,
           2,
           1,
           6,
           4,
           1,
           4,
           3,
           4,
           10,
           2,
           2,
           1,
           3,
           4,
           1,
           2,
           1,
           2,
           2,
           2,
           3,
           4,
           2,
           5,
           2,
           1,
           7,
           1,
           4,
           1,
           1,
           1,
           1,
           1,
           1,
           1,
           1,
           1,
           1,
           1,
           1,
           2,
           1,
           1,
           1,
           1,
           2,
           1,
           1,
           1,
           1,
           1,
           1,
           2,
           1,
           1,
           2,
           4,
           2,
           6,
           5,
           1,
           2,
           1,
           1,
           5,
           6,
           1,
           4,
           1,
           3,
           1,
           1,
           4,
           1,
           3,
           4,
           3,
           3,
           2,
           4,
           1,
           1,
           10,
           1,
           2,
           1,
           1,
           9,
           1,
           3,
           3,
           1,
           1,
           1,
           1,
           4,
           2,
           1,
           2,
           1,
           1,
           1,
           1,
           1,
           1,
           1,
           3,
           1,
           1,
           2,
           4,
           2,
           1,
           2,
           1,
           1,
           1,
           1,
           1,
           3,
           1,
           1,
           1,
           2,
           1,
           3,
           1,
           1,
           1,
           2,
           1,
           4,
           1,
           1,
           1,
           1,
           1,
           1,
           1,
           2,
           1,
           1,
           1,
           1,
           1,
           1,
           1,
           1,
           1,
           1
          ],
          "coloraxis": "coloraxis",
          "symbol": "circle"
         },
         "mode": "markers",
         "name": "",
         "showlegend": false,
         "type": "scattergl",
         "x": [
          10.69198989868164,
          9.610832214355469,
          21.751056671142578,
          -5.272697448730469,
          14.428170204162598,
          -21.744638442993164,
          -9.8438138961792,
          -12.154257774353027,
          -29.483728408813477,
          -24.906959533691406,
          -6.699661731719971,
          -19.112693786621094,
          -25.1073055267334,
          -28.682281494140625,
          12.88089370727539,
          -13.174646377563477,
          2.473074436187744,
          -5.731672763824463,
          -19.839677810668945,
          -28.144941329956055,
          7.21791410446167,
          10.108366966247559,
          -19.148427963256836,
          1.1009587049484253,
          0.7207145690917969,
          -6.871255874633789,
          -2.024829149246216,
          8.210460662841797,
          15.214164733886719,
          -15.566461563110352,
          12.40406608581543,
          -15.922860145568848,
          -1.0708229541778564,
          3.3979673385620117,
          29.889188766479492,
          10.875086784362793,
          -3.5037410259246826,
          10.176074981689453,
          -18.209651947021484,
          18.364774703979492,
          2.039060115814209,
          -14.220170021057129,
          2.2667133808135986,
          -17.70266342163086,
          -19.003507614135742,
          -26.80703353881836,
          -11.327943801879883,
          -23.355070114135742,
          0.5265341401100159,
          4.575815677642822,
          10.04110336303711,
          -15.53293514251709,
          -8.235356330871582,
          12.83043384552002,
          -12.876548767089844,
          -13.41594409942627,
          -15.72990608215332,
          -7.532171249389648,
          -18.903566360473633,
          -18.750534057617188,
          -18.225309371948242,
          13.039644241333008,
          7.752560138702393,
          -19.151277542114258,
          -21.940330505371094,
          11.296273231506348,
          15.696819305419922,
          2.0447680950164795,
          -12.764547348022461,
          -10.262715339660645,
          6.714120388031006,
          2.7757437229156494,
          15.59691047668457,
          3.5923779010772705,
          3.5874435901641846,
          -5.989666938781738,
          14.083389282226562,
          21.9208984375,
          9.75898265838623,
          19.420825958251953,
          -13.966886520385742,
          17.202072143554688,
          -11.767646789550781,
          9.330947875976562,
          10.974396705627441,
          -18.084144592285156,
          -0.47787055373191833,
          9.642572402954102,
          -21.223052978515625,
          2.167357921600342,
          -12.665705680847168,
          -10.737546920776367,
          -20.417266845703125,
          17.771909713745117,
          6.999089241027832,
          5.0755181312561035,
          -7.89111852645874,
          -14.992049217224121,
          -14.01179313659668,
          -20.87809181213379,
          12.590869903564453,
          11.087394714355469,
          28.645044326782227,
          26.14155387878418,
          18.551227569580078,
          13.96792984008789,
          -23.262239456176758,
          -3.9389283657073975,
          0.49176502227783203,
          11.408699989318848,
          5.354002475738525,
          12.19438648223877,
          -18.492612838745117,
          -18.96495246887207,
          5.22260046005249,
          -27.81754493713379,
          13.021267890930176,
          14.54206371307373,
          -15.331637382507324,
          14.955946922302246,
          14.61911392211914,
          -2.770313262939453,
          10.185826301574707,
          -32.12807846069336,
          13.266047477722168,
          -9.908461570739746,
          -21.665014266967773,
          0.7857532501220703,
          -9.302943229675293,
          28.12235450744629,
          -26.618213653564453,
          -25.868051528930664,
          -13.27235221862793,
          -16.941179275512695,
          -21.87696647644043,
          -11.735051155090332,
          -31.7802734375,
          19.886930465698242,
          8.348407745361328,
          2.7969040870666504,
          -7.414964199066162,
          5.8056416511535645,
          8.025829315185547,
          6.087701320648193,
          5.59721565246582,
          13.302382469177246,
          17.18609619140625,
          12.180694580078125,
          -8.362625122070312,
          -26.689634323120117,
          -27.200485229492188,
          -11.607405662536621,
          -8.872056007385254,
          -15.346511840820312,
          7.331007957458496,
          -18.71660614013672,
          -7.190031051635742,
          16.21738052368164,
          0.10763555765151978,
          -18.858911514282227,
          7.335152626037598,
          -11.47377872467041,
          3.3698575496673584,
          7.767895221710205,
          -16.149354934692383,
          -17.32481575012207,
          1.2561266422271729,
          -10.469710350036621,
          -19.60700035095215,
          -25.844282150268555,
          -28.25214195251465,
          4.318979740142822,
          4.799649715423584,
          5.9666361808776855,
          -13.836566925048828,
          3.5132603645324707,
          -11.390374183654785,
          -24.108074188232422,
          -19.544763565063477,
          -19.132230758666992,
          4.609113693237305,
          -10.697023391723633,
          3.4846909046173096,
          2.0724215507507324,
          -25.398662567138672,
          2.549381732940674,
          -20.952192306518555,
          -13.956217765808105,
          -15.575543403625488,
          -17.11220932006836,
          -24.96234130859375,
          -17.724809646606445,
          -15.463207244873047,
          -9.071513175964355,
          4.9704179763793945,
          -11.641789436340332,
          -25.93503761291504,
          -15.268900871276855,
          -10.232776641845703,
          -9.697623252868652,
          -14.452094078063965,
          7.078650951385498,
          -16.53959083557129,
          6.391112327575684,
          -9.474190711975098,
          -28.669763565063477,
          -16.090389251708984,
          -12.124486923217773,
          -16.7548885345459,
          10.6720552444458,
          -10.121565818786621,
          -26.19327735900879,
          -15.8363037109375,
          -7.559142589569092,
          7.604097843170166,
          -4.070444583892822,
          6.967586040496826,
          -1.0043693780899048,
          7.326600551605225,
          3.6286048889160156,
          -28.016260147094727,
          4.107888698577881,
          -11.23052978515625,
          -17.614944458007812,
          4.07804012298584,
          12.769264221191406,
          5.867111682891846,
          4.983251094818115,
          9.709205627441406,
          17.409482955932617,
          19.90952491760254,
          13.726730346679688,
          13.373530387878418,
          -15.991594314575195,
          -6.008986473083496,
          -19.23554801940918,
          12.76668643951416,
          -13.773529052734375,
          13.666131973266602,
          1.1034584045410156,
          7.130805015563965,
          -29.040620803833008,
          6.042062759399414,
          -4.370855331420898,
          3.1404826641082764,
          -33.17813491821289,
          21.00592041015625,
          -10.908945083618164,
          -5.221290111541748,
          -0.2591632902622223,
          -27.54773712158203,
          18.306095123291016,
          -20.210739135742188,
          19.84334373474121,
          11.321432113647461,
          -23.48434066772461,
          11.947892189025879,
          0.9700511693954468,
          5.117709159851074,
          -6.087218284606934,
          0.4817076623439789,
          -31.314712524414062,
          17.193613052368164,
          5.564405918121338,
          9.66309642791748,
          2.926720380783081,
          10.489908218383789,
          -33.184471130371094,
          -30.496929168701172,
          10.207724571228027,
          2.6883113384246826,
          -18.636014938354492,
          -3.764202356338501,
          10.993429183959961,
          -19.131065368652344,
          -17.42505645751953,
          -12.729631423950195,
          3.3496997356414795,
          3.8847577571868896,
          14.598798751831055,
          1.0307745933532715,
          15.219114303588867,
          -17.19781494140625,
          15.009191513061523,
          -28.543092727661133,
          -32.6349983215332,
          -16.914417266845703,
          3.0251853466033936,
          2.0161941051483154,
          2.431109666824341,
          15.00902271270752,
          -30.2917423248291,
          -14.100394248962402,
          2.7909398078918457,
          11.70634651184082,
          -4.852985382080078,
          -21.8117733001709,
          -4.778894424438477,
          -8.703705787658691,
          3.7796239852905273,
          2.9724574089050293,
          -19.23526382446289,
          -32.62918472290039,
          0.8230602741241455,
          -32.809696197509766,
          -19.857624053955078,
          0.5700034499168396,
          -23.517263412475586,
          4.914149284362793,
          3.8560702800750732,
          -30.063840866088867,
          -10.069107055664062,
          11.14762020111084,
          22.920982360839844,
          -17.93937873840332,
          -18.42608642578125,
          -28.32337760925293,
          -14.793380737304688,
          -30.351821899414062,
          -12.115425109863281,
          -7.019102096557617,
          5.057834148406982,
          5.542390823364258,
          -8.530401229858398,
          22.063859939575195,
          3.85870361328125,
          -0.23759788274765015,
          2.990049123764038,
          1.361733078956604,
          -4.942473411560059,
          0.10686462372541428,
          3.9437074661254883,
          2.8262290954589844,
          -25.725996017456055,
          -7.851263523101807,
          12.95660400390625,
          -22.44514274597168,
          11.156362533569336,
          -8.342809677124023,
          -16.65805435180664,
          -11.864297866821289,
          15.40425968170166,
          1.9417307376861572,
          -12.033129692077637,
          -30.876428604125977,
          -17.608036041259766,
          -10.240647315979004,
          0.5083434581756592,
          5.470954418182373,
          -11.125007629394531,
          7.1239471435546875,
          16.39658546447754,
          11.475890159606934,
          11.743461608886719,
          15.124982833862305,
          9.566788673400879,
          -23.331106185913086,
          18.83351707458496,
          -18.490890502929688,
          -18.114225387573242,
          -16.200847625732422,
          -4.764347553253174,
          15.030123710632324,
          19.59193229675293,
          7.23753023147583,
          15.999286651611328,
          6.420436859130859,
          17.72325325012207,
          -7.971935749053955,
          10.042619705200195,
          -21.18296241760254,
          -17.610946655273438,
          12.512678146362305,
          18.26906967163086,
          19.06774139404297,
          11.934142112731934,
          10.037388801574707,
          6.428982257843018,
          -3.8661038875579834,
          16.37957191467285,
          -26.44884490966797,
          -14.643963813781738,
          26.312347412109375,
          16.263763427734375,
          16.576618194580078,
          1.0740195512771606,
          -14.228802680969238,
          19.879985809326172,
          7.555335521697998,
          -4.852244853973389,
          5.130274295806885,
          8.630796432495117,
          6.99552583694458,
          7.482834339141846,
          20.47261619567871,
          -5.66482400894165,
          17.875389099121094,
          20.195087432861328,
          15.322524070739746,
          2.6527960300445557,
          -4.337857723236084,
          8.119776725769043,
          8.826493263244629,
          -14.34764289855957,
          12.95406723022461,
          21.27367401123047,
          17.669517517089844,
          -19.62230682373047,
          -1.0558054447174072,
          11.991204261779785,
          16.079267501831055,
          -5.098686218261719,
          11.07649040222168,
          -22.967857360839844,
          1.2887687683105469,
          -9.160926818847656,
          -0.6243324279785156,
          7.279726505279541,
          4.9139628410339355,
          -15.041549682617188,
          -2.5834615230560303,
          -2.025233268737793,
          -13.2740478515625,
          24.28654670715332,
          -28.376070022583008,
          -2.8192944526672363,
          -24.637466430664062,
          -28.473798751831055,
          3.4938056468963623,
          -26.001232147216797,
          9.352099418640137,
          -13.36226749420166,
          -10.86270523071289,
          -11.515215873718262,
          -16.61034393310547,
          -9.481674194335938,
          28.66729736328125,
          28.411985397338867,
          30.256698608398438,
          20.170114517211914,
          8.70942497253418,
          22.17707633972168,
          -24.486061096191406,
          -6.820456027984619,
          -9.964706420898438,
          8.520169258117676,
          -16.367164611816406,
          -2.0470871925354004,
          4.114302635192871,
          4.607502460479736,
          5.000324726104736,
          16.058582305908203,
          21.992769241333008,
          8.412081718444824,
          1.5557209253311157,
          19.32809066772461,
          8.258153915405273,
          -14.649271011352539,
          -18.305809020996094,
          -4.3676934242248535,
          -12.254405975341797,
          -23.17037582397461,
          -24.989383697509766,
          -14.994256973266602,
          5.340057849884033,
          -23.249317169189453,
          -12.781929016113281,
          11.577496528625488,
          -15.29898452758789,
          7.106131553649902,
          13.248871803283691,
          17.86972427368164,
          -5.793166160583496,
          -27.02399253845215,
          -15.014647483825684,
          1.9606472253799438,
          -9.8742036819458,
          -16.96829605102539,
          -21.497936248779297,
          -24.085777282714844,
          -10.911669731140137,
          -24.3847713470459,
          -24.000778198242188,
          -22.862730026245117,
          -23.225629806518555,
          -2.0265514850616455,
          -21.152359008789062,
          -19.009750366210938,
          -15.306614875793457,
          -24.723379135131836,
          -11.269218444824219,
          -24.272926330566406,
          -24.93896484375,
          -11.674296379089355,
          -8.709491729736328,
          -13.02148151397705,
          -9.486268997192383,
          -25.53809356689453,
          -27.977474212646484,
          -9.366130828857422,
          -14.121650695800781,
          6.739957809448242,
          -2.200392961502075,
          -27.65618896484375,
          -22.037296295166016,
          -26.155895233154297,
          -16.680343627929688,
          -5.088204383850098,
          -21.235536575317383,
          -25.198213577270508,
          -20.736122131347656,
          -18.11601448059082,
          -16.68606948852539,
          -31.557233810424805,
          -31.535114288330078,
          -22.831375122070312,
          -18.261260986328125,
          -26.704755783081055,
          -21.611209869384766,
          -9.901378631591797,
          -17.66318702697754,
          -26.19515609741211,
          -17.068857192993164,
          -17.106273651123047,
          -16.21748161315918,
          -8.229947090148926,
          -11.425787925720215,
          -23.253944396972656,
          -28.151073455810547,
          -20.59473419189453,
          -12.919323921203613,
          -9.14886474609375,
          -20.172574996948242,
          -25.34575080871582,
          0.7458905577659607,
          -26.45330047607422,
          -14.482063293457031,
          4.055784702301025,
          15.81032657623291,
          6.436817646026611,
          8.517908096313477,
          24.06604766845703,
          -28.48371124267578,
          -9.657026290893555,
          21.28575325012207,
          11.324384689331055,
          -14.053976058959961,
          -6.781060218811035,
          -20.085250854492188,
          12.49551773071289,
          15.617437362670898,
          13.200065612792969,
          4.277936935424805,
          16.774747848510742,
          21.61553955078125,
          -5.099003791809082,
          -14.061097145080566,
          -13.282010078430176,
          21.677749633789062,
          3.669301748275757,
          0.461738258600235,
          0.7361935377120972,
          10.985784530639648,
          6.829774856567383,
          16.79583740234375,
          3.8755104541778564,
          -4.972085952758789,
          8.211380004882812,
          13.043700218200684,
          0.8793330788612366,
          21.15058135986328,
          4.951159954071045,
          -0.3853943943977356,
          8.42323112487793,
          22.210725784301758,
          14.499212265014648,
          30.126386642456055,
          12.776795387268066,
          11.088347434997559,
          -0.08739912509918213,
          -16.87546157836914,
          -28.15453338623047,
          -3.7275888919830322,
          -15.844208717346191,
          20.888080596923828,
          19.57237434387207,
          -16.8333797454834,
          6.93581485748291,
          -17.73971176147461,
          23.37865447998047,
          13.012489318847656,
          -13.355649948120117,
          -23.537063598632812,
          -4.5282206535339355,
          11.18263053894043,
          7.9695892333984375,
          14.76130485534668,
          15.269923210144043,
          22.938106536865234,
          -7.080238342285156,
          -0.34865081310272217,
          -12.215718269348145,
          -22.267759323120117,
          -24.033527374267578,
          -2.461869478225708,
          -23.13361930847168,
          -22.942899703979492,
          -23.852745056152344,
          -2.792750597000122,
          -20.346418380737305,
          -17.3249454498291,
          -9.767194747924805,
          -19.28373908996582,
          -0.8958449363708496,
          -24.196474075317383,
          -22.679988861083984,
          -11.848734855651855,
          -7.7377448081970215,
          15.162328720092773,
          -2.1243391036987305,
          -3.289523124694824,
          3.2332468032836914,
          9.765470504760742,
          24.942211151123047,
          8.135063171386719,
          -24.130001068115234,
          10.834501266479492,
          14.594970703125,
          -0.07366540282964706,
          16.516347885131836,
          -16.87038803100586,
          -24.582141876220703,
          -28.372501373291016,
          6.615642547607422,
          -6.7086262702941895,
          5.329781532287598,
          -7.638970851898193,
          -24.294658660888672,
          -14.854470252990723,
          -13.473718643188477,
          -19.823402404785156,
          -20.65053367614746,
          -24.1842041015625,
          -25.553621292114258,
          -19.294437408447266,
          -10.842516899108887,
          -20.701196670532227,
          -23.575321197509766,
          -17.01578140258789,
          -23.38429069519043,
          -8.258651733398438,
          -24.50118064880371,
          -19.827558517456055,
          -18.919384002685547,
          -16.264068603515625,
          -18.930892944335938,
          -26.85062026977539,
          8.773974418640137,
          -23.23673439025879,
          -2.4011099338531494,
          -21.41970443725586,
          3.1403865814208984,
          -22.20067596435547,
          -20.82124900817871,
          -0.7822603583335876,
          12.759333610534668,
          10.808201789855957,
          -3.3261818885803223,
          23.35038185119629,
          -0.5286667943000793,
          -24.86985206604004,
          -2.74564266204834,
          11.00562572479248,
          -1.7260868549346924,
          -20.070127487182617,
          -14.868254661560059,
          35.33102035522461,
          5.463291168212891,
          -7.528293132781982,
          2.854717254638672,
          10.850916862487793,
          4.574173450469971,
          7.27815055847168,
          4.927052974700928,
          9.960293769836426,
          8.712427139282227,
          18.478984832763672,
          10.732245445251465,
          4.237565517425537,
          -0.951381266117096,
          -22.377227783203125,
          7.729478359222412,
          -11.073015213012695,
          -18.581016540527344,
          -5.8640360832214355,
          -5.122745037078857,
          -15.24601936340332,
          -9.326900482177734,
          -8.500422477722168,
          -0.7633718252182007,
          -23.995222091674805,
          -0.9431804418563843,
          -1.3206462860107422,
          -0.5023719668388367,
          -25.703659057617188,
          -0.30416661500930786,
          -20.160152435302734,
          -17.08734130859375,
          -31.87107276916504,
          1.932660460472107,
          36.7801513671875,
          5.457241535186768,
          -30.159713745117188,
          -7.609224796295166,
          -18.129114151000977,
          -1.125362753868103,
          25.019372940063477,
          -24.222951889038086,
          8.085736274719238,
          8.7786865234375,
          13.78519344329834,
          3.847857713699341,
          0.6677497029304504,
          -23.082664489746094,
          16.340946197509766,
          8.002187728881836,
          -12.790813446044922,
          17.962167739868164,
          12.394227981567383,
          -21.360595703125,
          9.449478149414062,
          7.352557182312012,
          -19.98666763305664,
          10.561062812805176,
          -11.402350425720215,
          -20.844511032104492,
          -1.6159799098968506,
          1.4418938159942627,
          7.487704753875732,
          -19.4212646484375,
          -11.34172248840332,
          13.196428298950195,
          18.25786590576172,
          -14.931196212768555,
          -15.197225570678711,
          -12.103239059448242,
          -20.22331428527832,
          4.5656819343566895,
          -8.876361846923828,
          -17.441383361816406,
          1.0614266395568848,
          -11.031375885009766,
          -21.256532669067383,
          2.518655300140381,
          18.29093360900879,
          14.096832275390625,
          4.513710021972656,
          26.062761306762695,
          14.691075325012207,
          -2.1410341262817383,
          5.465301990509033,
          -4.217276096343994,
          11.392422676086426,
          -13.975496292114258,
          9.724909782409668,
          -5.173420429229736,
          13.590465545654297,
          10.008522033691406,
          19.765275955200195,
          -31.045637130737305,
          15.388016700744629,
          -13.588299751281738,
          -5.346928596496582,
          19.96920394897461,
          0.5612559914588928,
          0.04847308248281479,
          16.506757736206055,
          -1.9732048511505127,
          10.277210235595703,
          7.208326816558838,
          9.947281837463379,
          -7.910177230834961,
          19.013721466064453,
          37.37790298461914,
          3.910583019256592,
          -5.494912147521973,
          9.252812385559082,
          35.98019790649414,
          -17.18219566345215,
          7.073119640350342,
          16.783533096313477,
          -22.73668670654297,
          -9.387688636779785,
          5.030404567718506,
          23.366933822631836,
          21.532608032226562,
          3.1840949058532715,
          19.61066246032715,
          -22.70488929748535,
          1.0506064891815186,
          5.860613822937012,
          18.65665054321289,
          -7.167623043060303,
          18.40057945251465,
          -23.354568481445312,
          -14.572463989257812,
          0.13670825958251953,
          10.01444149017334,
          13.999319076538086,
          4.270545482635498,
          -19.207393646240234,
          1.7163918018341064,
          -18.851762771606445,
          34.960357666015625,
          14.701992988586426,
          12.889758110046387,
          6.330669403076172,
          -5.804202556610107,
          5.296639919281006,
          13.696781158447266,
          11.325776100158691,
          2.343867778778076,
          6.137638568878174,
          -6.766809940338135,
          18.202430725097656,
          12.109865188598633,
          15.362857818603516,
          9.342100143432617,
          5.710258483886719,
          22.92266273498535,
          20.796321868896484,
          15.585165977478027,
          1.8037134408950806,
          19.94508934020996,
          -21.237424850463867,
          -15.302264213562012,
          -9.572395324707031,
          23.30054473876953,
          22.450590133666992,
          13.441306114196777,
          14.51822280883789,
          -23.618749618530273,
          -5.706695079803467,
          -19.560800552368164,
          -10.979988098144531,
          14.095935821533203,
          -12.866719245910645,
          -21.054935455322266,
          15.826648712158203,
          -16.247291564941406,
          -25.28612518310547,
          22.928861618041992,
          -18.8612003326416,
          -18.78727912902832,
          -25.880300521850586,
          -28.78297996520996,
          15.633928298950195,
          28.571069717407227,
          -3.055767774581909,
          9.352334976196289,
          -6.0401930809021,
          23.367063522338867,
          -13.879610061645508,
          5.950900077819824,
          -25.817712783813477,
          12.13058853149414,
          -26.215173721313477,
          -24.84048843383789,
          13.690905570983887,
          15.933942794799805,
          19.37009048461914,
          -7.052131175994873,
          4.171877861022949,
          -11.29375171661377,
          -8.499682426452637,
          -3.5351340770721436,
          7.887604236602783,
          7.828961372375488,
          4.751733303070068,
          -6.832311153411865,
          -3.4495770931243896,
          -17.405555725097656,
          -22.081382751464844,
          -12.387864112854004,
          8.799822807312012,
          -9.559385299682617,
          -29.79486083984375,
          -14.829858779907227,
          -9.537562370300293,
          26.647891998291016,
          -0.6292975544929504,
          12.518628120422363,
          -0.507490873336792,
          10.527408599853516,
          4.5108747482299805,
          -21.20899200439453,
          19.030134201049805,
          -11.889674186706543,
          -18.705398559570312,
          -27.53115463256836,
          19.373550415039062,
          -25.247093200683594,
          -1.4579061269760132,
          -12.829204559326172,
          12.190780639648438,
          -14.026090621948242,
          8.421945571899414,
          -8.354720115661621,
          -17.345308303833008,
          16.79366111755371,
          13.165573120117188,
          -3.2608377933502197,
          22.84231185913086,
          4.076595306396484,
          -14.386837005615234,
          -7.24276065826416,
          -8.012049674987793,
          9.918506622314453,
          -21.150060653686523,
          -14.560429573059082,
          -19.716632843017578,
          -26.159748077392578,
          -20.916072845458984,
          0.8308305144309998,
          1.3031851053237915,
          24.709463119506836,
          25.925594329833984,
          13.531939506530762,
          -0.3018195629119873,
          24.86725616455078,
          23.438875198364258,
          23.40971565246582,
          12.359864234924316,
          11.042359352111816,
          -23.151844024658203,
          -16.788238525390625,
          -1.6396284103393555,
          6.558327674865723,
          -15.940752983093262,
          11.786371231079102,
          6.1895551681518555,
          -9.642577171325684,
          -12.835965156555176,
          20.421716690063477,
          0.19533199071884155,
          -3.3273370265960693,
          -24.81463050842285,
          13.358688354492188,
          -3.2151143550872803,
          -4.959704875946045,
          -0.7277595400810242,
          -4.158211708068848,
          -25.19911766052246,
          2.945417881011963,
          -18.441265106201172,
          -24.352140426635742,
          -3.017683506011963,
          -22.34489631652832,
          -11.143733978271484,
          -30.17120933532715,
          -26.67576789855957,
          -10.998982429504395,
          -0.5089145302772522,
          -21.300825119018555,
          -20.70113754272461,
          0.665956974029541,
          -14.06474781036377,
          2.6243197917938232,
          -22.20311164855957,
          -23.627994537353516,
          -21.1806640625,
          -28.26475715637207,
          3.0650217533111572,
          16.553651809692383,
          -6.509936332702637,
          25.42795181274414,
          -3.2519373893737793,
          13.314241409301758,
          3.7978880405426025,
          -8.707833290100098,
          16.803640365600586,
          19.53411293029785,
          10.890144348144531,
          5.775250434875488,
          -8.607572555541992,
          19.5555419921875,
          19.87358283996582,
          17.786096572875977,
          -2.8463339805603027,
          -12.136999130249023,
          7.407881259918213,
          18.753917694091797,
          4.021805286407471,
          13.958734512329102,
          -25.642635345458984,
          11.349541664123535,
          12.64264965057373,
          14.933871269226074,
          7.465256214141846,
          14.06820297241211,
          26.88060188293457,
          9.74848747253418,
          25.303543090820312,
          3.095348596572876,
          -12.89609146118164,
          -13.210132598876953,
          -23.69478416442871,
          -17.389888763427734,
          -21.634639739990234,
          -10.708568572998047,
          -15.63345718383789,
          -6.530886173248291,
          8.913721084594727,
          0.19285179674625397,
          1.707131266593933,
          12.82775592803955,
          -7.4489336013793945,
          -2.349069118499756,
          -16.563486099243164,
          -24.6105899810791,
          -14.310885429382324,
          -16.533845901489258,
          5.636790752410889,
          -21.212923049926758,
          0.8383106589317322,
          -12.041594505310059,
          30.846981048583984,
          15.590377807617188,
          23.01891326904297,
          17.578107833862305,
          9.213497161865234,
          13.746638298034668,
          9.015810012817383,
          15.809503555297852,
          15.743852615356445,
          12.921760559082031,
          21.85382843017578,
          6.779452800750732,
          -5.053262710571289,
          14.016423225402832,
          8.008344650268555,
          -10.910073280334473,
          3.583735704421997,
          -2.3417491912841797,
          -13.857443809509277,
          6.811324119567871,
          15.124831199645996,
          -7.545127868652344,
          21.011205673217773,
          -2.7648253440856934,
          12.595746994018555,
          23.490732192993164,
          10.485090255737305,
          16.89725112915039,
          5.516374588012695,
          -11.290815353393555,
          -2.757218360900879,
          2.2023298740386963,
          6.173420429229736,
          -22.02060317993164,
          4.30354118347168,
          -15.173389434814453,
          -4.483476161956787,
          -24.633852005004883,
          -20.832401275634766,
          -11.48624038696289,
          -10.373119354248047,
          -17.37936782836914,
          -20.387645721435547,
          -21.719953536987305,
          -3.4847497940063477,
          12.951549530029297,
          -25.024229049682617,
          0.06149514392018318,
          -15.29236888885498,
          17.473581314086914,
          -17.707576751708984,
          21.53460693359375,
          9.450947761535645,
          -14.003059387207031,
          -4.070967674255371,
          -5.850062847137451,
          -1.9394289255142212,
          -24.85990333557129,
          -8.245160102844238,
          6.150981426239014,
          25.36668586730957,
          23.235721588134766,
          23.720409393310547,
          12.894184112548828,
          3.8534679412841797,
          9.309053421020508,
          -10.219024658203125,
          15.559950828552246,
          14.455331802368164,
          -5.3328471183776855,
          -20.242151260375977,
          -21.847888946533203,
          -18.942432403564453,
          3.293627977371216,
          -18.928064346313477,
          21.696582794189453,
          -17.570478439331055,
          16.52214813232422,
          3.712153434753418,
          -6.228909492492676,
          -1.9223734140396118,
          -12.054636001586914,
          -9.473661422729492,
          -0.8017244338989258,
          -15.421422958374023,
          5.529018878936768,
          -26.12975311279297,
          -1.8419221639633179,
          -14.445549011230469,
          -25.01255989074707,
          -2.047538995742798,
          -12.05336856842041,
          8.262823104858398,
          -1.2928743362426758,
          -15.580521583557129,
          -14.647368431091309,
          -16.162813186645508,
          0.6736293435096741,
          -22.25104331970215,
          -21.88265609741211,
          4.708606719970703,
          -6.6829071044921875,
          -22.479700088500977,
          -10.329236030578613,
          -26.741451263427734,
          -6.234053611755371,
          -1.547716498374939,
          -21.172027587890625,
          -1.6072784662246704,
          1.8565900325775146,
          -25.256187438964844,
          7.250848770141602,
          7.4874420166015625,
          16.514795303344727,
          -8.268135070800781,
          -29.904903411865234,
          -16.214279174804688,
          -16.4695987701416,
          7.173081398010254,
          31.35153579711914,
          -23.0731258392334,
          -26.347305297851562,
          -15.482680320739746,
          -22.71767234802246,
          11.759057998657227,
          -0.5380594730377197,
          -5.525291442871094,
          -4.458641052246094,
          36.69932174682617,
          -5.603119373321533,
          9.051982879638672,
          -16.10641098022461,
          -19.941959381103516,
          -15.077492713928223,
          -6.917134761810303,
          26.087556838989258,
          17.996044158935547,
          5.613866806030273,
          17.880619049072266,
          -14.983482360839844,
          2.9762892723083496,
          -0.3529593050479889,
          -24.115745544433594,
          -22.30430793762207,
          -12.193068504333496,
          -15.131314277648926,
          -0.40966248512268066,
          -6.354825019836426,
          -16.410369873046875,
          -24.009536743164062,
          16.380416870117188,
          16.605215072631836,
          21.320009231567383,
          6.704568386077881,
          25.959897994995117,
          21.369474411010742,
          22.683490753173828,
          -6.900557518005371,
          22.80162239074707,
          -23.857114791870117,
          -7.703827857971191,
          2.942843198776245,
          0.4152263104915619,
          13.092630386352539,
          -20.541465759277344,
          -13.163744926452637,
          -16.745155334472656,
          -17.820871353149414,
          -7.481492519378662,
          0.28205952048301697,
          -23.18596649169922,
          -14.458864212036133,
          -6.6185784339904785,
          -0.725069522857666,
          35.047035217285156,
          -24.993289947509766,
          -24.547178268432617,
          -20.30771255493164,
          12.543846130371094,
          13.353891372680664,
          14.308401107788086,
          26.05838966369629,
          21.775562286376953,
          6.5047125816345215,
          -8.076473236083984,
          -3.55682373046875,
          11.461466789245605,
          20.905054092407227,
          18.09014129638672,
          -6.480838775634766,
          18.53533935546875,
          9.264981269836426,
          8.95702075958252,
          16.374874114990234,
          -12.49855899810791,
          -5.842825412750244,
          -6.811519145965576,
          1.299639344215393,
          9.50130558013916,
          -9.660139083862305,
          -5.2129082679748535,
          17.98358154296875,
          9.914011001586914,
          25.966571807861328,
          14.387431144714355,
          -3.926525592803955,
          -4.201698303222656,
          -6.575870990753174,
          -0.1345246285200119,
          35.495811462402344,
          0.08491836488246918,
          4.30016565322876,
          8.975493431091309,
          -18.838685989379883,
          -21.12686538696289,
          13.155632972717285,
          -0.20172835886478424,
          16.51358413696289,
          -21.24388885498047,
          21.080419540405273,
          21.30817985534668,
          -2.885686159133911,
          10.284566879272461,
          31.589693069458008,
          -19.866844177246094,
          -10.796924591064453,
          7.131836891174316,
          20.209457397460938,
          -5.26789665222168,
          17.182405471801758,
          15.876995086669922,
          12.40787410736084,
          -6.310820579528809,
          18.56090545654297,
          -19.472124099731445,
          -5.897477626800537,
          -26.05927085876465,
          -1.7848562002182007,
          0.7307825088500977,
          -27.656579971313477,
          -9.668866157531738,
          3.1550495624542236,
          9.279483795166016,
          20.02899169921875,
          14.772801399230957,
          15.390811920166016,
          19.411537170410156,
          25.610408782958984,
          16.074077606201172,
          7.26022481918335,
          -10.232851028442383,
          4.874022006988525,
          -0.8134253621101379,
          7.295379161834717,
          -4.080591201782227,
          -10.866190910339355,
          17.125221252441406,
          9.300030708312988,
          4.326386451721191,
          -26.55814552307129,
          27.05255699157715,
          2.6873679161071777,
          10.655692100524902,
          35.75413131713867,
          0.18392691016197205,
          10.173125267028809,
          -16.988975524902344,
          2.0417628288269043,
          11.579734802246094,
          -23.245838165283203,
          -0.03221357613801956,
          -11.233427047729492,
          -22.0319881439209,
          22.52001953125,
          10.120899200439453,
          -18.92061424255371,
          8.00499439239502,
          33.48366165161133,
          25.584070205688477,
          -8.808553695678711,
          19.343759536743164,
          29.25847625732422,
          35.267425537109375,
          -4.271597862243652,
          9.810086250305176,
          0.6740583777427673,
          -6.926641941070557,
          5.237570762634277,
          -8.046087265014648,
          -0.19799268245697021,
          26.13717269897461,
          17.73136329650879,
          -4.598101615905762,
          26.657257080078125,
          15.697826385498047,
          -5.192312717437744,
          -17.963260650634766,
          -2.7582173347473145,
          26.492273330688477,
          -17.329734802246094,
          18.49091339111328,
          -19.19167709350586,
          35.708553314208984,
          -7.106751441955566,
          -21.221405029296875,
          13.851249694824219,
          -26.949861526489258,
          26.59111785888672,
          16.50645637512207,
          26.927770614624023,
          22.30597686767578,
          13.370569229125977,
          25.589101791381836,
          26.32639503479004,
          25.58795928955078,
          -5.425304412841797,
          25.607131958007812,
          -17.04476547241211,
          6.838224411010742,
          -15.218744277954102,
          -6.578515529632568,
          26.282583236694336,
          37.27898406982422,
          26.22650146484375,
          -3.9735348224639893,
          25.55937385559082,
          -18.641437530517578,
          25.45829200744629,
          13.517067909240723,
          -4.485301971435547,
          20.144874572753906,
          -22.518611907958984,
          24.05976104736328,
          16.178607940673828,
          -25.01491928100586,
          26.031543731689453,
          25.620603561401367,
          34.948551177978516,
          19.396862030029297,
          25.530460357666016,
          -16.912803649902344,
          -19.266742706298828,
          -20.201059341430664,
          -20.305578231811523,
          19.592792510986328,
          -24.04305076599121,
          25.94503402709961,
          26.68260955810547,
          -20.18062973022461,
          27.221830368041992,
          -18.23866844177246,
          -13.723312377929688,
          -13.546016693115234,
          -4.274255275726318,
          -11.000141143798828,
          -14.072848320007324,
          7.490079879760742,
          29.89955711364746,
          -15.04571533203125,
          27.850296020507812,
          7.255303859710693,
          -23.3032283782959,
          7.2799601554870605,
          5.30817174911499,
          5.503447532653809,
          14.319602966308594,
          6.330611705780029,
          -14.939728736877441,
          -6.218315601348877,
          -11.601463317871094,
          -23.700231552124023,
          -6.7608795166015625,
          -1.5351052284240723,
          1.3951399326324463,
          -9.825699806213379,
          13.198978424072266,
          -4.871767997741699,
          -16.494749069213867,
          -28.973299026489258,
          0.9976353049278259,
          10.614978790283203,
          22.738014221191406,
          8.99576187133789,
          8.521982192993164,
          -1.1460075378417969,
          16.490041732788086,
          17.17278480529785,
          14.968644142150879,
          22.812986373901367,
          17.913795471191406,
          -6.20737361907959,
          -20.479618072509766,
          5.10399866104126,
          21.42877960205078,
          -0.7179715037345886,
          -2.740529775619507,
          17.3428897857666,
          -6.660102367401123,
          -3.854358673095703,
          -3.515430450439453,
          15.891556739807129,
          -22.39692497253418,
          1.1080459356307983,
          6.770806312561035,
          1.9362205266952515,
          14.832934379577637,
          -6.4743828773498535,
          -20.888324737548828,
          6.601617336273193,
          13.44835376739502,
          14.861985206604004,
          -8.3097562789917,
          2.6716556549072266,
          2.0325605869293213,
          0.7979689836502075,
          15.977675437927246,
          3.693317174911499,
          8.316299438476562,
          -23.861724853515625,
          14.496578216552734,
          -24.552640914916992,
          36.12577438354492,
          -17.84702491760254,
          -24.372554779052734,
          -22.827720642089844,
          -24.477802276611328,
          34.472652435302734,
          1.1412473917007446,
          14.048721313476562,
          -27.38630485534668,
          -24.295045852661133,
          -24.217920303344727,
          -13.477523803710938,
          35.52177429199219,
          15.61788272857666,
          -14.462913513183594,
          15.653762817382812,
          -13.108048439025879,
          -3.026554822921753,
          -19.323484420776367,
          -19.970767974853516,
          -15.889148712158203,
          4.618229866027832,
          14.839855194091797,
          -3.541888475418091,
          34.40037536621094,
          -9.345499992370605,
          -9.127813339233398,
          -10.844109535217285,
          34.34696960449219,
          7.660991668701172,
          2.0194735527038574,
          1.9403949975967407,
          20.47909164428711,
          16.865110397338867,
          -7.258294105529785,
          11.400081634521484,
          1.6014034748077393,
          5.137025356292725,
          23.19572639465332,
          15.619111061096191,
          -13.342496871948242,
          17.731779098510742,
          15.492602348327637,
          35.111637115478516,
          15.69892406463623,
          36.56631851196289,
          23.385570526123047,
          3.482219696044922,
          26.01120948791504,
          25.27252769470215,
          15.48881721496582,
          -15.362635612487793,
          0.06487389653921127,
          -6.175122261047363,
          22.939579010009766,
          -3.6748619079589844,
          -5.121496200561523,
          34.65446090698242,
          -14.849287033081055,
          -5.47074556350708,
          9.05262279510498,
          23.421335220336914,
          -5.530352592468262,
          -18.411096572875977,
          -14.70004653930664,
          15.746326446533203,
          -16.684648513793945,
          -11.48709487915039,
          0.3844872713088989,
          10.949755668640137,
          10.192699432373047,
          14.05070972442627,
          17.187055587768555,
          -5.607167720794678,
          14.014065742492676,
          -4.738743305206299,
          -19.94598388671875,
          -15.3818359375,
          36.77728271484375,
          20.436237335205078,
          -5.710700988769531,
          -9.0590238571167,
          17.578893661499023,
          -24.165103912353516,
          18.52459144592285,
          -22.942792892456055,
          14.539016723632812,
          -13.423511505126953,
          -19.928531646728516,
          -23.09457015991211,
          -1.272457242012024,
          23.058269500732422,
          20.275146484375,
          -9.176284790039062,
          5.4271135330200195,
          35.96174621582031,
          3.579091787338257,
          -3.209196090698242,
          28.825098037719727,
          35.75120162963867,
          28.919485092163086,
          30.060426712036133,
          22.233388900756836,
          36.679298400878906,
          10.437979698181152,
          -2.1068055629730225,
          22.422924041748047,
          -8.342138290405273,
          0.6713435053825378,
          29.673507690429688,
          -13.966363906860352,
          29.64602279663086,
          -17.475650787353516,
          28.87730598449707,
          30.810644149780273,
          30.27899169921875,
          37.137943267822266,
          30.371294021606445,
          33.645477294921875,
          34.929237365722656,
          29.194591522216797,
          30.183385848999023,
          35.203853607177734,
          29.728836059570312,
          29.98104476928711,
          29.648054122924805,
          30.307966232299805,
          29.345367431640625,
          29.916799545288086,
          29.05890464782715,
          -4.310028076171875,
          29.341859817504883,
          29.398386001586914,
          36.18205261230469,
          30.206079483032227,
          34.24723434448242,
          37.449127197265625,
          -4.430253028869629,
          30.204103469848633,
          29.66281509399414,
          5.331379413604736,
          -14.837357521057129,
          5.789351463317871,
          -25.230220794677734,
          -15.991610527038574,
          33.79608917236328,
          2.520932674407959,
          35.9866943359375,
          15.656975746154785,
          -9.63492202758789,
          8.293505668640137,
          -21.305360794067383,
          -11.514074325561523,
          19.24252700805664,
          -17.341947555541992,
          36.1026725769043,
          -23.319150924682617,
          5.174880504608154,
          14.57386302947998,
          -16.83293914794922,
          9.074015617370605,
          21.846569061279297,
          14.15994930267334,
          -5.560207843780518,
          -17.41374397277832,
          -1.0958592891693115,
          37.25082015991211,
          14.810565948486328,
          34.77477264404297,
          -21.65806770324707,
          35.66900634765625,
          3.5784971714019775,
          4.091305255889893,
          22.93047523498535,
          14.99672794342041,
          -14.79893970489502,
          12.980588912963867,
          -12.107069969177246,
          24.689510345458984,
          -3.138916254043579,
          -3.8899619579315186,
          -13.896872520446777,
          -3.718468189239502,
          -0.7427021861076355,
          -3.6215591430664062,
          -3.421508312225342,
          13.22768783569336,
          -3.9192869663238525,
          35.451663970947266,
          -3.65923810005188,
          34.5167236328125,
          -4.670902729034424,
          -3.7822961807250977,
          34.42101287841797,
          -22.291732788085938,
          -5.6529059410095215,
          37.05906677246094,
          36.35674285888672,
          -17.174240112304688,
          -3.563373565673828,
          35.61188888549805,
          -3.749481678009033,
          33.654197692871094,
          34.53630447387695,
          -4.240540981292725,
          35.82273864746094,
          35.674983978271484,
          34.223209381103516,
          11.240303993225098,
          7.337172985076904,
          -5.0247602462768555,
          23.26316261291504,
          20.9484920501709,
          23.08819007873535,
          9.497964859008789,
          9.022138595581055,
          2.392258405685425,
          35.064022064208984,
          9.25556468963623,
          4.873219966888428,
          5.470911979675293,
          9.319110870361328,
          5.310795783996582,
          21.325088500976562,
          17.18795394897461,
          -4.108135223388672,
          -23.924266815185547,
          34.97822952270508,
          21.294652938842773,
          -5.008221626281738,
          22.166837692260742,
          7.263282299041748,
          16.56231117248535,
          17.336599349975586,
          -6.425790786743164
         ],
         "xaxis": "x",
         "y": [
          -15.838321685791016,
          -8.838957786560059,
          -8.254987716674805,
          -16.891077041625977,
          -10.608513832092285,
          1.875652551651001,
          -14.533488273620605,
          -21.365768432617188,
          -5.901281833648682,
          3.4169414043426514,
          -15.348397254943848,
          -21.239276885986328,
          -13.91007137298584,
          -8.048327445983887,
          -18.392732620239258,
          -10.819269180297852,
          -15.317692756652832,
          -8.383063316345215,
          4.806125640869141,
          -4.626636028289795,
          0.340238094329834,
          -19.050519943237305,
          -14.693572044372559,
          -16.877187728881836,
          -9.432621002197266,
          -18.258853912353516,
          10.293807983398438,
          -16.38011932373047,
          -6.028181552886963,
          -2.0932960510253906,
          -16.15169906616211,
          -11.002796173095703,
          -15.229532241821289,
          11.62140941619873,
          12.670413970947266,
          11.546408653259277,
          -3.054676055908203,
          2.423504590988159,
          -3.81744122505188,
          -2.6123275756835938,
          -6.044852256774902,
          -18.10533332824707,
          -2.969057083129883,
          -21.22610092163086,
          -4.009507179260254,
          2.7176389694213867,
          -15.1078519821167,
          -10.221203804016113,
          -2.3974876403808594,
          -22.73518180847168,
          -5.046236038208008,
          -8.918022155761719,
          -2.6410071849823,
          -8.316996574401855,
          -13.93736457824707,
          -15.926990509033203,
          -5.35581111907959,
          -16.83656883239746,
          -6.66885232925415,
          -6.771195888519287,
          -7.2988057136535645,
          -6.596100330352783,
          -4.086849689483643,
          -21.414339065551758,
          -0.06743105500936508,
          -8.806489944458008,
          -3.4039721488952637,
          -15.365869522094727,
          -24.459653854370117,
          -7.39219331741333,
          -14.977068901062012,
          11.919974327087402,
          -9.695773124694824,
          7.848085880279541,
          13.21879768371582,
          -17.564699172973633,
          -9.563680648803711,
          9.965359687805176,
          -17.917051315307617,
          -1.4927141666412354,
          -12.241933822631836,
          -13.251492500305176,
          5.459997177124023,
          -13.812639236450195,
          -11.049985885620117,
          -8.838133811950684,
          -11.14985179901123,
          -15.71488094329834,
          -17.378355026245117,
          -13.892237663269043,
          -8.142865180969238,
          -13.005163192749023,
          1.2680296897888184,
          -8.408551216125488,
          -19.028118133544922,
          -21.109172821044922,
          -22.44118881225586,
          -24.247089385986328,
          -21.163524627685547,
          -18.949119567871094,
          -7.301499366760254,
          -4.1425628662109375,
          13.324925422668457,
          13.314563751220703,
          2.961167573928833,
          2.7280189990997314,
          8.366052627563477,
          -9.900552749633789,
          -16.0626277923584,
          4.518132209777832,
          -11.765734672546387,
          6.762949466705322,
          -3.8694143295288086,
          -16.69329833984375,
          -8.577022552490234,
          -5.778380870819092,
          -13.106050491333008,
          -14.08460521697998,
          1.8226163387298584,
          5.312951564788818,
          -13.93354320526123,
          -23.025421142578125,
          -12.1078462600708,
          -3.11130952835083,
          -12.637751579284668,
          -5.050617218017578,
          -20.692501068115234,
          -16.206941604614258,
          -14.208386421203613,
          2.4361817836761475,
          -10.81314468383789,
          -15.74561595916748,
          -23.295230865478516,
          -17.41349983215332,
          -19.200517654418945,
          -17.48297691345215,
          -4.74766206741333,
          2.014880895614624,
          -6.800716400146484,
          10.539043426513672,
          -19.79711151123047,
          -2.976698160171509,
          -16.213333129882812,
          -22.256601333618164,
          8.5501708984375,
          9.68994140625,
          -12.99389362335205,
          2.966545581817627,
          6.319039344787598,
          -6.134910583496094,
          -16.105783462524414,
          -19.115175247192383,
          -14.355988502502441,
          -12.646228790283203,
          3.0917775630950928,
          -19.55108070373535,
          -16.85694122314453,
          5.800775527954102,
          -4.534433364868164,
          -16.415306091308594,
          3.020803689956665,
          -5.078955173492432,
          -7.853809356689453,
          -11.13991928100586,
          -6.116071701049805,
          -7.229414939880371,
          1.6040966510772705,
          -16.096725463867188,
          -17.250606536865234,
          -3.6152288913726807,
          -6.640699863433838,
          -22.40642547607422,
          -20.373756408691406,
          -22.3887996673584,
          -15.120643615722656,
          -21.928585052490234,
          -19.415143966674805,
          -16.953807830810547,
          -12.919896125793457,
          -19.77530288696289,
          -22.663883209228516,
          -15.209806442260742,
          -22.042150497436523,
          -13.35562801361084,
          -14.87795639038086,
          -20.832311630249023,
          -20.241479873657227,
          -18.39552116394043,
          2.9339356422424316,
          -15.221820831298828,
          -17.193675994873047,
          -13.417531967163086,
          -23.965442657470703,
          -20.789888381958008,
          -21.0379695892334,
          -5.234936237335205,
          -13.301210403442383,
          -14.899465560913086,
          -19.16756820678711,
          -13.021772384643555,
          -12.10269832611084,
          -18.625593185424805,
          -15.695183753967285,
          -19.45524024963379,
          -21.88599395751953,
          -2.9925291538238525,
          -2.608290195465088,
          -21.24049949645996,
          -12.381656646728516,
          -16.72504997253418,
          -19.439067840576172,
          -0.8216439485549927,
          -7.8959431648254395,
          -14.826833724975586,
          -17.33119773864746,
          -17.89102554321289,
          -10.702715873718262,
          -9.154025077819824,
          -11.469303131103516,
          4.787907123565674,
          -4.699014186859131,
          -12.435430526733398,
          -16.375558853149414,
          -4.228813648223877,
          9.997163772583008,
          -9.534014701843262,
          -6.828974723815918,
          -20.442228317260742,
          -4.262943267822266,
          -13.014315605163574,
          -4.410006999969482,
          -16.142112731933594,
          -9.722038269042969,
          -23.694528579711914,
          -12.429139137268066,
          -2.5757017135620117,
          -17.06272315979004,
          -15.2556734085083,
          -15.664949417114258,
          -17.247648239135742,
          3.2004425525665283,
          -2.116443157196045,
          14.52841854095459,
          6.903899192810059,
          17.216873168945312,
          -11.312189102172852,
          10.269889831542969,
          -3.5278501510620117,
          -13.67846965789795,
          -17.492910385131836,
          -3.1280219554901123,
          -8.4381685256958,
          0.348165363073349,
          -6.062322616577148,
          -8.126834869384766,
          -2.955212354660034,
          -14.150500297546387,
          21.923229217529297,
          19.459413528442383,
          17.44089698791504,
          9.440595626831055,
          -5.70422887802124,
          16.00636100769043,
          18.595048904418945,
          -16.89104652404785,
          3.4253711700439453,
          -0.17124366760253906,
          -11.31827449798584,
          3.129605770111084,
          -0.2779500484466553,
          12.877206802368164,
          9.563016891479492,
          -15.546896934509277,
          -15.035682678222656,
          11.64499282836914,
          -17.941299438476562,
          1.922279715538025,
          18.18869972229004,
          -9.25650691986084,
          -12.041848182678223,
          -9.069966316223145,
          -16.207632064819336,
          3.5310521125793457,
          -17.689775466918945,
          -0.8618024587631226,
          -1.928613305091858,
          12.214568138122559,
          21.37651824951172,
          7.408623695373535,
          -10.35153579711914,
          -16.53488540649414,
          0.279575914144516,
          -18.16375732421875,
          15.586197853088379,
          -9.984811782836914,
          1.0540575981140137,
          2.7598955631256104,
          -17.63913917541504,
          -3.564258098602295,
          15.382187843322754,
          22.29270362854004,
          10.711471557617188,
          -7.877694129943848,
          20.707916259765625,
          -7.806257247924805,
          -4.573017120361328,
          15.326080322265625,
          6.319929122924805,
          14.607483863830566,
          20.79674530029297,
          3.027867555618286,
          11.528440475463867,
          -17.80324935913086,
          18.685771942138672,
          9.276062965393066,
          9.506744384765625,
          -3.128142833709717,
          -24.457290649414062,
          -6.809451580047607,
          -10.955192565917969,
          2.9664199352264404,
          15.490899085998535,
          14.29621696472168,
          1.834551453590393,
          -10.885499954223633,
          11.923096656799316,
          16.849952697753906,
          14.932966232299805,
          16.61452293395996,
          3.797745704650879,
          15.236400604248047,
          19.237003326416016,
          15.215852737426758,
          7.245683670043945,
          2.1273865699768066,
          11.238544464111328,
          -6.948177337646484,
          -6.762973308563232,
          12.228466987609863,
          10.17613697052002,
          12.976239204406738,
          -4.162420272827148,
          13.648162841796875,
          6.4526472091674805,
          -6.294818878173828,
          11.24143123626709,
          -23.76949119567871,
          12.492722511291504,
          15.316006660461426,
          12.97475814819336,
          18.947978973388672,
          13.594961166381836,
          14.389836311340332,
          -13.405863761901855,
          0.4174872636795044,
          -7.5912957191467285,
          -17.918827056884766,
          -2.9158215522766113,
          2.990837812423706,
          2.3864083290100098,
          7.27333402633667,
          -6.315725326538086,
          -2.8528287410736084,
          -1.153804898262024,
          -3.8453314304351807,
          -7.75416374206543,
          -13.452292442321777,
          15.043506622314453,
          3.7716586589813232,
          6.167845726013184,
          10.222874641418457,
          0.8813986778259277,
          -5.120444297790527,
          3.0025815963745117,
          14.071135520935059,
          9.304429054260254,
          8.70055103302002,
          -15.094217300415039,
          7.860733509063721,
          -9.56224536895752,
          -4.471173286437988,
          -8.550174713134766,
          8.891325950622559,
          -2.8554575443267822,
          -12.03115177154541,
          2.8938369750976562,
          -5.274810791015625,
          -5.82951021194458,
          -14.441339492797852,
          -5.856057167053223,
          1.1356184482574463,
          -3.40639328956604,
          -14.622225761413574,
          7.722710132598877,
          -5.1379828453063965,
          -8.121333122253418,
          -5.523560523986816,
          0.8782473206520081,
          -8.050461769104004,
          1.0922268629074097,
          -4.592439651489258,
          -14.822728157043457,
          -11.666945457458496,
          -22.487411499023438,
          -14.961173057556152,
          4.470665454864502,
          -1.5219707489013672,
          -17.237390518188477,
          -3.472515821456909,
          -11.511600494384766,
          -17.923839569091797,
          -8.097408294677734,
          -0.08766056597232819,
          -13.324081420898438,
          4.387265682220459,
          -24.049291610717773,
          -7.201882362365723,
          -14.231630325317383,
          -14.589217185974121,
          -16.667152404785156,
          -6.67510986328125,
          -0.5857799649238586,
          -23.269067764282227,
          14.278520584106445,
          -6.362680435180664,
          6.01206111907959,
          -16.779260635375977,
          -8.363351821899414,
          -9.428139686584473,
          -17.347383499145508,
          -9.660506248474121,
          -19.949613571166992,
          -12.395112991333008,
          3.744849443435669,
          -20.12717628479004,
          -9.560617446899414,
          16.873327255249023,
          16.239582061767578,
          17.497425079345703,
          17.352380752563477,
          1.8251363039016724,
          11.956096649169922,
          -9.33802604675293,
          -3.701387882232666,
          -23.49782943725586,
          10.818341255187988,
          -17.65696144104004,
          8.80937671661377,
          0.2040891945362091,
          7.039516925811768,
          10.829278945922852,
          1.95787513256073,
          0.012933764606714249,
          8.772736549377441,
          -17.03314971923828,
          5.266714096069336,
          16.929594039916992,
          10.544634819030762,
          5.702202320098877,
          -1.790771722793579,
          -6.829343318939209,
          -1.8373621702194214,
          0.2869095206260681,
          -9.895049095153809,
          -2.492445945739746,
          -4.522862434387207,
          -13.80772876739502,
          -6.217938423156738,
          -11.573264122009277,
          -8.412139892578125,
          -18.33348274230957,
          -9.02332878112793,
          -7.651404857635498,
          -13.33598804473877,
          -15.090570449829102,
          9.030004501342773,
          -0.16846829652786255,
          -15.152043342590332,
          -17.375154495239258,
          -16.78812599182129,
          -8.830205917358398,
          -15.09536361694336,
          -16.584299087524414,
          -19.193506240844727,
          2.0736680030822754,
          -19.956254959106445,
          -4.723954677581787,
          -10.19597053527832,
          -8.236621856689453,
          -7.071547031402588,
          -21.317005157470703,
          -14.186626434326172,
          -12.745173454284668,
          -21.401844024658203,
          -23.07586097717285,
          -23.822561264038086,
          -17.53169059753418,
          -16.546377182006836,
          -7.518531322479248,
          -20.54854965209961,
          -21.254589080810547,
          -5.944075107574463,
          -3.0607070922851562,
          -14.445454597473145,
          -5.853438377380371,
          -9.491150856018066,
          -17.556123733520508,
          -18.158674240112305,
          -13.964742660522461,
          -6.840340614318848,
          -20.301128387451172,
          -14.128826141357422,
          -4.872011184692383,
          -4.597630500793457,
          -1.864147424697876,
          3.2647147178649902,
          -11.861123085021973,
          -12.048874855041504,
          -13.863709449768066,
          -21.494077682495117,
          -21.208467483520508,
          -14.384198188781738,
          -21.452638626098633,
          -5.942659378051758,
          -13.130648612976074,
          -21.425493240356445,
          -22.585201263427734,
          -20.64504051208496,
          -0.9063260555267334,
          -15.757590293884277,
          -5.761610507965088,
          3.4501094818115234,
          -7.918499946594238,
          -10.495594024658203,
          -9.156447410583496,
          -2.579577922821045,
          -7.67075777053833,
          16.908647537231445,
          -5.976517200469971,
          5.073487281799316,
          0.3912005126476288,
          0.4478846490383148,
          -1.6665068864822388,
          4.7248759269714355,
          12.09219741821289,
          -11.918925285339355,
          6.966146945953369,
          5.40426778793335,
          -2.785764217376709,
          -9.866580963134766,
          6.8991851806640625,
          5.8190155029296875,
          5.741217613220215,
          -5.300431728363037,
          12.40842056274414,
          -3.3573923110961914,
          -3.9439427852630615,
          -9.504183769226074,
          -6.633898735046387,
          7.735044956207275,
          13.678940773010254,
          -3.592597723007202,
          1.7168526649475098,
          10.444563865661621,
          -7.191778659820557,
          -7.6261491775512695,
          9.482696533203125,
          -17.724506378173828,
          8.455577850341797,
          -5.280267238616943,
          -5.301969051361084,
          3.2549686431884766,
          10.842095375061035,
          11.340388298034668,
          -0.035314977169036865,
          -3.514756917953491,
          14.13774299621582,
          -5.53259801864624,
          -2.8814516067504883,
          -4.808108329772949,
          0.12300888448953629,
          0.940172016620636,
          -3.1521759033203125,
          -0.2971346378326416,
          -3.582805633544922,
          -4.288308620452881,
          2.616481065750122,
          -18.739885330200195,
          -8.404716491699219,
          9.024530410766602,
          -18.171123504638672,
          -1.9798007011413574,
          -5.764655590057373,
          13.539846420288086,
          0.5392123460769653,
          -13.150731086730957,
          -12.23287582397461,
          10.993810653686523,
          17.71087074279785,
          -3.67440128326416,
          -5.114607810974121,
          -17.175519943237305,
          -17.47833824157715,
          1.200010895729065,
          -5.393584251403809,
          -11.78892993927002,
          -11.613109588623047,
          -6.606526851654053,
          -4.720702648162842,
          -9.809372901916504,
          -7.911154270172119,
          -20.52065658569336,
          -2.1757702827453613,
          -5.322429656982422,
          -0.3544294834136963,
          1.210601806640625,
          -18.30156707763672,
          -6.970139503479004,
          -17.465862274169922,
          15.371870994567871,
          -13.485309600830078,
          2.2718167304992676,
          -2.0467090606689453,
          -6.577042102813721,
          -7.025874137878418,
          -4.998354911804199,
          -4.874956130981445,
          -15.926152229309082,
          -0.636624813079834,
          -7.298789978027344,
          -8.037805557250977,
          -8.241743087768555,
          -11.932023048400879,
          -9.386189460754395,
          -10.527283668518066,
          -5.913275718688965,
          -2.7112486362457275,
          -5.903228759765625,
          -6.421795845031738,
          -12.011130332946777,
          -12.973560333251953,
          -7.966638565063477,
          -10.947795867919922,
          -13.524709701538086,
          0.13009940087795258,
          -15.176419258117676,
          -12.949394226074219,
          -0.872137725353241,
          -11.363250732421875,
          8.304924964904785,
          -22.479066848754883,
          -3.777517795562744,
          -11.237601280212402,
          -13.690061569213867,
          -23.57052230834961,
          -10.347899436950684,
          -7.0613694190979,
          -5.512063026428223,
          -7.784191131591797,
          -8.645917892456055,
          -19.35018539428711,
          -6.530428886413574,
          -3.8381524085998535,
          -9.036736488342285,
          7.203194618225098,
          12.431360244750977,
          14.771252632141113,
          -0.10475520044565201,
          9.051009178161621,
          11.149847984313965,
          -8.440638542175293,
          11.296080589294434,
          -15.964032173156738,
          12.084938049316406,
          -8.719131469726562,
          12.579612731933594,
          35.57426452636719,
          14.286087989807129,
          -12.906167030334473,
          3.5535082817077637,
          7.74235725402832,
          19.343822479248047,
          16.56682777404785,
          -16.52556037902832,
          -13.872998237609863,
          -8.946971893310547,
          0.31493836641311646,
          18.425966262817383,
          14.881269454956055,
          20.20883560180664,
          -5.2209858894348145,
          -15.126269340515137,
          -13.685358047485352,
          -10.139963150024414,
          7.696526050567627,
          6.199602127075195,
          8.813682556152344,
          -7.698932647705078,
          -4.998340606689453,
          -14.909590721130371,
          -7.223251819610596,
          -15.031773567199707,
          -7.743409633636475,
          0.9533528089523315,
          -11.61526107788086,
          6.609289646148682,
          6.518871307373047,
          -11.314031600952148,
          -2.399035930633545,
          -12.953837394714355,
          34.15909957885742,
          -0.470756471157074,
          3.2551372051239014,
          7.99118185043335,
          -12.020367622375488,
          -0.37514635920524597,
          -3.01436185836792,
          1.9449883699417114,
          14.23488998413086,
          -3.20041823387146,
          -3.6123690605163574,
          -4.0834832191467285,
          0.6322622299194336,
          -15.78282356262207,
          -0.5516332387924194,
          4.961209774017334,
          -0.7118175625801086,
          -5.941298007965088,
          -15.98253059387207,
          -5.993768215179443,
          -13.953276634216309,
          -17.45764923095703,
          -0.6030952334403992,
          13.460747718811035,
          -1.0894246101379395,
          -2.9511008262634277,
          1.68016517162323,
          2.832411050796509,
          2.822213888168335,
          1.3920671939849854,
          -10.568063735961914,
          -14.526636123657227,
          6.891528129577637,
          12.03480339050293,
          2.464519739151001,
          3.520610809326172,
          -3.505869150161743,
          14.115160942077637,
          9.872227668762207,
          9.418082237243652,
          21.79572868347168,
          8.017934799194336,
          4.030980110168457,
          5.393543243408203,
          -11.067756652832031,
          3.8659136295318604,
          -3.298307418823242,
          6.450928688049316,
          -1.4243448972702026,
          2.5925779342651367,
          5.190248966217041,
          -10.914573669433594,
          -11.93100643157959,
          3.4754693508148193,
          4.4096245765686035,
          -2.02333402633667,
          15.047408103942871,
          -2.9100050926208496,
          2.018707513809204,
          -4.628045558929443,
          -2.0504472255706787,
          -6.716216564178467,
          11.946465492248535,
          -8.233144760131836,
          8.726165771484375,
          6.50543212890625,
          11.117691040039062,
          -19.921598434448242,
          11.51009750366211,
          -1.2576946020126343,
          -6.300137996673584,
          13.893123626708984,
          -6.452975273132324,
          33.40018081665039,
          -3.9049785137176514,
          -4.953883647918701,
          -10.658596992492676,
          35.25611114501953,
          -2.7549846172332764,
          -1.2555958032608032,
          10.8522310256958,
          -14.247178077697754,
          -6.099078178405762,
          -4.4068684577941895,
          0.5181539058685303,
          -2.8414981365203857,
          -5.177677631378174,
          9.996918678283691,
          -3.721862316131592,
          6.188271999359131,
          1.626173973083496,
          -4.654129981994629,
          13.771651268005371,
          -0.14885464310646057,
          -8.784646034240723,
          -1.6692073345184326,
          8.64902114868164,
          2.776425838470459,
          -8.639730453491211,
          2.1870956420898438,
          -1.5275788307189941,
          4.360154151916504,
          -1.7342877388000488,
          33.81266784667969,
          -7.12660551071167,
          14.266100883483887,
          10.216257095336914,
          -1.3412978649139404,
          12.283326148986816,
          -0.19927141070365906,
          -8.584694862365723,
          0.8717553615570068,
          1.6856999397277832,
          -1.6427948474884033,
          -11.063419342041016,
          -2.7529845237731934,
          2.821608066558838,
          9.33524227142334,
          4.122944355010986,
          16.520130157470703,
          9.680407524108887,
          10.093222618103027,
          -4.372384548187256,
          3.4827065467834473,
          5.470097064971924,
          -6.098109722137451,
          -21.14442253112793,
          11.924882888793945,
          16.328386306762695,
          -2.6504735946655273,
          -5.485352039337158,
          11.072117805480957,
          -4.456165790557861,
          1.9910904169082642,
          -1.704846978187561,
          2.9525556564331055,
          5.9813232421875,
          -8.663302421569824,
          4.89517068862915,
          -0.9900689721107483,
          -5.8323140144348145,
          17.70290756225586,
          -5.464807987213135,
          -5.434514045715332,
          -0.6627073884010315,
          -11.861462593078613,
          10.55048942565918,
          16.987070083618164,
          2.6081533432006836,
          9.692850112915039,
          -2.6500492095947266,
          1.9234402179718018,
          1.9780181646347046,
          -7.974785804748535,
          7.142684459686279,
          2.9039108753204346,
          3.5241918563842773,
          -6.401819229125977,
          -11.169083595275879,
          8.562793731689453,
          5.206275463104248,
          8.285563468933105,
          20.704381942749023,
          14.295580863952637,
          -10.839357376098633,
          18.948680877685547,
          19.571144104003906,
          15.667041778564453,
          15.032692909240723,
          1.3697826862335205,
          18.951692581176758,
          6.940627098083496,
          -0.5588362216949463,
          8.781728744506836,
          17.431610107421875,
          9.775908470153809,
          2.7332324981689453,
          11.682650566101074,
          6.764087200164795,
          6.025936603546143,
          17.84419822692871,
          -3.5838232040405273,
          19.758657455444336,
          19.442153930664062,
          18.36762237548828,
          7.260835647583008,
          16.519052505493164,
          13.340126991271973,
          -4.325466632843018,
          -1.3548784255981445,
          17.036941528320312,
          -0.9716131091117859,
          14.502873420715332,
          12.249584197998047,
          0.28710946440696716,
          10.95843505859375,
          11.969569206237793,
          9.830706596374512,
          -1.8487873077392578,
          18.0599365234375,
          13.41683578491211,
          14.994467735290527,
          17.509077072143555,
          16.98366355895996,
          0.9649850130081177,
          -10.064351081848145,
          0.4483772814273834,
          -9.734970092773438,
          -6.851428031921387,
          -13.248607635498047,
          3.5573065280914307,
          1.284134864807129,
          -4.296474933624268,
          20.212108612060547,
          11.117944717407227,
          -2.9454452991485596,
          12.059401512145996,
          -5.919106483459473,
          4.197588920593262,
          -2.9568734169006348,
          2.829533815383911,
          0.15558651089668274,
          -1.1724374294281006,
          5.604475975036621,
          -2.938709259033203,
          8.229093551635742,
          17.545621871948242,
          19.827402114868164,
          4.55470085144043,
          16.985034942626953,
          -3.6783103942871094,
          -16.957834243774414,
          -2.7621467113494873,
          -3.0046238899230957,
          -12.050272941589355,
          -12.844590187072754,
          -1.835219383239746,
          18.283418655395508,
          -12.445917129516602,
          11.16307258605957,
          14.500153541564941,
          -9.168210983276367,
          4.8818864822387695,
          -3.7873475551605225,
          -0.9073388576507568,
          -10.199203491210938,
          0.7556878924369812,
          4.573307514190674,
          -6.816246509552002,
          -3.8776793479919434,
          1.1953400373458862,
          -9.866867065429688,
          -12.643999099731445,
          -11.615687370300293,
          2.137629508972168,
          -11.884214401245117,
          1.9841684103012085,
          -4.870733261108398,
          3.758000373840332,
          -5.997238636016846,
          5.453638076782227,
          0.7180224061012268,
          -1.7708646059036255,
          3.031897783279419,
          10.587236404418945,
          9.179282188415527,
          15.921911239624023,
          16.519046783447266,
          -11.881881713867188,
          -10.784876823425293,
          2.13993239402771,
          8.182483673095703,
          6.1347432136535645,
          12.934247016906738,
          3.5828447341918945,
          7.014655113220215,
          13.503052711486816,
          1.1794155836105347,
          6.019919395446777,
          12.209028244018555,
          21.561586380004883,
          13.037454605102539,
          -11.788379669189453,
          14.530654907226562,
          -2.107398748397827,
          4.774951934814453,
          12.236891746520996,
          -0.8276051878929138,
          -2.485579013824463,
          -2.7316250801086426,
          8.22297477722168,
          6.116103649139404,
          16.18408203125,
          5.303796291351318,
          -9.989508628845215,
          4.290695667266846,
          -7.54573917388916,
          -0.18627676367759705,
          -2.5619072914123535,
          2.5606226921081543,
          0.7715876698493958,
          -19.313982009887695,
          18.442485809326172,
          -7.199303150177002,
          -2.8355374336242676,
          -7.770550727844238,
          -4.313913345336914,
          -2.0197510719299316,
          1.272079586982727,
          -11.774429321289062,
          -10.015896797180176,
          -10.008369445800781,
          12.740373611450195,
          0.37904420495033264,
          18.081594467163086,
          8.810531616210938,
          16.312721252441406,
          2.567979335784912,
          2.292595386505127,
          -0.14390596747398376,
          -1.5027663707733154,
          5.648613452911377,
          6.686164855957031,
          -1.4104987382888794,
          -9.569009780883789,
          7.039331912994385,
          10.778874397277832,
          18.223262786865234,
          -15.20512580871582,
          4.237068176269531,
          -2.7423884868621826,
          -2.562373638153076,
          2.470086097717285,
          6.649071216583252,
          -10.640795707702637,
          -5.797414302825928,
          -13.382518768310547,
          1.1078499555587769,
          0.2972028851509094,
          -6.220976829528809,
          1.3734557628631592,
          7.273125648498535,
          -9.46906852722168,
          3.445901393890381,
          -2.0492148399353027,
          -1.503834843635559,
          -23.031522750854492,
          -7.434049129486084,
          -1.9025094509124756,
          -8.157176971435547,
          12.844259262084961,
          10.978461265563965,
          -17.806930541992188,
          -15.82376766204834,
          -2.3657827377319336,
          1.8319209814071655,
          -4.239696979522705,
          11.21749210357666,
          -5.55045223236084,
          -9.940176010131836,
          4.073511600494385,
          -0.24604567885398865,
          -2.107442855834961,
          -9.10743522644043,
          6.526825428009033,
          8.119099617004395,
          1.1980319023132324,
          1.615625023841858,
          15.79906940460205,
          0.046406764537096024,
          2.3699331283569336,
          17.389005661010742,
          -1.611220359802246,
          0.9202125668525696,
          -9.45211124420166,
          -4.345991611480713,
          14.228948593139648,
          6.99446439743042,
          9.901177406311035,
          3.18896222114563,
          -0.18720906972885132,
          13.293659210205078,
          -8.520613670349121,
          14.954704284667969,
          14.07400894165039,
          -3.6024463176727295,
          3.4546403884887695,
          -3.6814842224121094,
          -9.590520858764648,
          8.55877685546875,
          -2.3518145084381104,
          14.626638412475586,
          -14.154122352600098,
          11.557059288024902,
          17.964374542236328,
          2.3734548091888428,
          14.021522521972656,
          0.3432297110557556,
          4.408311367034912,
          5.534010410308838,
          -4.9244489669799805,
          -1.3022276163101196,
          -4.205151557922363,
          3.9967596530914307,
          -2.7499170303344727,
          -4.30690860748291,
          -9.3867826461792,
          -8.229641914367676,
          -9.59385871887207,
          3.2034335136413574,
          -3.8170166015625,
          1.193768858909607,
          -1.438348650932312,
          -5.864178657531738,
          3.501300573348999,
          -12.20704174041748,
          21.409212112426758,
          -6.046760559082031,
          -2.492889165878296,
          -13.12755012512207,
          2.6614983081817627,
          -2.643087148666382,
          -7.571321964263916,
          -1.3051416873931885,
          13.15859603881836,
          18.141523361206055,
          1.8815693855285645,
          -8.4855318069458,
          12.764978408813477,
          18.18370246887207,
          -0.4526941776275635,
          -8.665750503540039,
          -12.557154655456543,
          -0.9958688616752625,
          6.823286533355713,
          17.210155487060547,
          -6.533965110778809,
          -8.996044158935547,
          -6.903693675994873,
          -1.4682910442352295,
          9.390494346618652,
          13.294727325439453,
          4.3204145431518555,
          -0.898366391658783,
          34.415889739990234,
          0.14990797638893127,
          -1.6205852031707764,
          -5.746731758117676,
          -0.8543457984924316,
          4.272557258605957,
          6.952178478240967,
          7.269218921661377,
          3.8474416732788086,
          0.18799950182437897,
          9.157074928283691,
          8.529949188232422,
          -1.3083795309066772,
          6.065164566040039,
          2.6739766597747803,
          -9.072863578796387,
          0.130380779504776,
          -0.8085405826568604,
          -2.5158026218414307,
          8.313883781433105,
          6.291551113128662,
          -1.5177900791168213,
          14.568668365478516,
          -2.0571672916412354,
          1.8889143466949463,
          5.272228240966797,
          6.6165337562561035,
          4.2654924392700195,
          4.417044162750244,
          -11.689216613769531,
          2.3114025592803955,
          -13.04484748840332,
          -8.625116348266602,
          -0.44543012976646423,
          -11.984329223632812,
          -13.248126983642578,
          -1.2086894512176514,
          0.7919048070907593,
          -4.822838306427002,
          -2.890005350112915,
          -0.6422085762023926,
          2.4603793621063232,
          0.6272540092468262,
          -0.6689531803131104,
          -11.581167221069336,
          -1.6653878688812256,
          34.742431640625,
          2.992263078689575,
          1.5695892572402954,
          -11.427520751953125,
          0.3119294047355652,
          -1.2559211254119873,
          8.70749568939209,
          2.9399852752685547,
          -2.511390447616577,
          5.162725925445557,
          7.778120517730713,
          8.427027702331543,
          10.938547134399414,
          7.614744186401367,
          13.045073509216309,
          -0.07996318489313126,
          -0.4156568944454193,
          -11.459548950195312,
          13.406067848205566,
          -9.701420783996582,
          -3.6360528469085693,
          -9.836943626403809,
          7.876261234283447,
          0.2610429525375366,
          0.5356355905532837,
          -6.628613471984863,
          1.5380045175552368,
          -4.808463096618652,
          9.436141014099121,
          7.156380653381348,
          0.7506904602050781,
          10.559097290039062,
          12.868393898010254,
          3.805828809738159,
          14.476168632507324,
          34.13919448852539,
          -1.4942525625228882,
          -1.4470453262329102,
          8.226346015930176,
          6.693144798278809,
          0.9088890552520752,
          16.111785888671875,
          17.121883392333984,
          -4.024220943450928,
          -8.616025924682617,
          2.0474562644958496,
          4.340908527374268,
          12.449514389038086,
          3.7370152473449707,
          15.448895454406738,
          -1.6283427476882935,
          10.699503898620605,
          7.000317096710205,
          15.5005464553833,
          13.41014289855957,
          17.988977432250977,
          12.70605182647705,
          12.315082550048828,
          2.258312463760376,
          10.684846878051758,
          0.8599540591239929,
          12.770747184753418,
          6.201544284820557,
          -9.149815559387207,
          17.939952850341797,
          5.50333833694458,
          1.8008970022201538,
          -2.340106248855591,
          -9.898517608642578,
          2.039278984069824,
          7.701886177062988,
          14.890083312988281,
          9.500176429748535,
          7.994014739990234,
          0.17923295497894287,
          7.234183311462402,
          -5.137911319732666,
          -9.898126602172852,
          1.06948983669281,
          21.28278923034668,
          11.77540111541748,
          -4.733947277069092,
          2.2044219970703125,
          3.727409839630127,
          -7.024960994720459,
          -7.589371204376221,
          13.07660961151123,
          -2.4497807025909424,
          11.559310913085938,
          34.508663177490234,
          2.7880287170410156,
          18.93067169189453,
          9.507869720458984,
          14.741857528686523,
          12.783955574035645,
          6.187193870544434,
          8.245320320129395,
          0.5756188631057739,
          0.6620752215385437,
          0.5191112756729126,
          -10.381467819213867,
          0.2835921049118042,
          5.026225566864014,
          35.41309356689453,
          5.630331039428711,
          -1.194405436515808,
          12.832374572753906,
          17.467117309570312,
          35.47676086425781,
          -0.698702335357666,
          15.146008491516113,
          -2.2982594966888428,
          -1.394354224205017,
          8.127634048461914,
          4.710213661193848,
          13.932089805603027,
          12.066722869873047,
          9.35890007019043,
          12.92611312866211,
          12.184663772583008,
          -2.807708740234375,
          -0.6225674152374268,
          -0.5329044461250305,
          1.0390886068344116,
          12.479842185974121,
          -9.567483901977539,
          11.51484203338623,
          5.050871849060059,
          36.349876403808594,
          0.29450446367263794,
          -0.6995694637298584,
          10.456637382507324,
          -8.416328430175781,
          12.231431007385254,
          9.116090774536133,
          10.993724822998047,
          2.3476181030273438,
          10.550398826599121,
          11.916825294494629,
          12.026876449584961,
          11.816399574279785,
          0.3228631615638733,
          12.17758846282959,
          5.844359874725342,
          11.946794509887695,
          7.590271472930908,
          0.9576683044433594,
          12.934805870056152,
          34.79372787475586,
          12.550403594970703,
          13.88530445098877,
          12.383543968200684,
          0.31431183218955994,
          13.570035934448242,
          3.2670319080352783,
          13.527966499328613,
          11.121070861816406,
          -1.3149640560150146,
          12.001745223999023,
          8.829219818115234,
          -13.578722953796387,
          12.38410758972168,
          12.282990455627441,
          36.027191162109375,
          11.040244102478027,
          12.739970207214355,
          -5.9521098136901855,
          10.65652847290039,
          -10.959535598754883,
          -2.368340015411377,
          10.427850723266602,
          -7.741458415985107,
          12.356375694274902,
          12.446390151977539,
          3.3845720291137695,
          16.5533390045166,
          -0.0945935770869255,
          -0.944068968296051,
          -0.09883319586515427,
          12.793911933898926,
          -2.6550962924957275,
          8.429184913635254,
          18.76376724243164,
          16.399394989013672,
          -5.027744293212891,
          11.965252876281738,
          17.40277099609375,
          -0.20904657244682312,
          17.468292236328125,
          17.587688446044922,
          16.973039627075195,
          11.67924690246582,
          10.597267150878906,
          8.130412101745605,
          8.917261123657227,
          -7.371450901031494,
          -12.972725868225098,
          -6.0633392333984375,
          17.798315048217773,
          -1.7297745943069458,
          -11.73784351348877,
          15.755570411682129,
          14.227439880371094,
          -11.379793167114258,
          -6.0036091804504395,
          -5.277647972106934,
          16.257362365722656,
          16.137605667114258,
          -2.2152316570281982,
          1.4736191034317017,
          4.571626663208008,
          12.064640045166016,
          -1.663416862487793,
          12.315526962280273,
          0.714895486831665,
          12.903478622436523,
          2.013948917388916,
          10.111311912536621,
          7.93822717666626,
          16.05801010131836,
          12.520973205566406,
          -0.9098927974700928,
          7.007896900177002,
          -5.9778008460998535,
          1.2343493700027466,
          4.178207874298096,
          0.9517645835876465,
          -10.412391662597656,
          -2.8960418701171875,
          11.513566017150879,
          13.187362670898438,
          16.19303321838379,
          3.3079450130462646,
          -0.2240716516971588,
          -0.6889792084693909,
          13.22455883026123,
          -1.305685043334961,
          -1.0398964881896973,
          5.986623764038086,
          -5.587182998657227,
          -0.5674711465835571,
          5.33257532119751,
          -6.812626361846924,
          -6.8318305015563965,
          -5.294281482696533,
          -6.475856304168701,
          -12.99304485321045,
          33.906349182128906,
          -13.928818702697754,
          -13.044611930847168,
          1.0027979612350464,
          -12.950862884521484,
          34.4985466003418,
          -1.1943153142929077,
          10.60219955444336,
          -8.997710227966309,
          -13.128704071044922,
          -13.19303035736084,
          -7.657858848571777,
          33.167518615722656,
          11.65699577331543,
          -10.595224380493164,
          15.759566307067871,
          -3.8521344661712646,
          2.101314067840576,
          5.412896633148193,
          -1.3332600593566895,
          4.215222358703613,
          -0.6980128884315491,
          6.328057765960693,
          7.792155742645264,
          35.73386764526367,
          -22.985708236694336,
          -1.9286118745803833,
          10.661653518676758,
          36.66529846191406,
          17.14779281616211,
          -1.3845839500427246,
          -1.0682697296142578,
          -4.824191093444824,
          -1.7660373449325562,
          -14.96750545501709,
          -6.836703300476074,
          -2.668550491333008,
          -5.667369842529297,
          17.465730667114258,
          13.737251281738281,
          -4.416932582855225,
          -4.025203227996826,
          -1.5456570386886597,
          36.6934928894043,
          -2.8249924182891846,
          32.770687103271484,
          17.864980697631836,
          -2.227588176727295,
          7.43333101272583,
          9.568657875061035,
          -2.6478614807128906,
          -3.4477052688598633,
          -12.358512878417969,
          15.247357368469238,
          17.429424285888672,
          -1.2008596658706665,
          2.9582417011260986,
          34.67369079589844,
          -0.07090623676776886,
          -0.5621955990791321,
          8.851648330688477,
          11.131941795349121,
          -7.984530448913574,
          1.4435266256332397,
          -6.319278717041016,
          11.927536964416504,
          -9.889022827148438,
          -10.319210052490234,
          -11.722994804382324,
          4.032850742340088,
          -4.909483432769775,
          -8.816061019897461,
          9.812752723693848,
          0.8886355757713318,
          5.484330654144287,
          0.5328174829483032,
          -6.935652732849121,
          -7.869576930999756,
          35.99856185913086,
          15.495735168457031,
          -0.20723868906497955,
          -8.311718940734863,
          14.724080085754395,
          4.7763671875,
          16.260786056518555,
          -8.594611167907715,
          13.409911155700684,
          -4.158205509185791,
          -7.912357330322266,
          -0.8312516212463379,
          13.799853324890137,
          11.075803756713867,
          -5.010497093200684,
          -8.141088485717773,
          -0.36227619647979736,
          35.874080657958984,
          2.511373996734619,
          2.459690809249878,
          18.12308692932129,
          35.87858200073242,
          15.697988510131836,
          15.875009536743164,
          -5.938518524169922,
          35.504940032958984,
          -0.12454190105199814,
          0.3762204051017761,
          -5.932195663452148,
          -8.038938522338867,
          1.7703218460083008,
          16.774991989135742,
          -4.418004989624023,
          15.97649097442627,
          -3.8125784397125244,
          18.098468780517578,
          16.000789642333984,
          16.771682739257812,
          34.66634750366211,
          16.341615676879883,
          33.82429122924805,
          33.84134292602539,
          15.158318519592285,
          16.731647491455078,
          36.424652099609375,
          16.163089752197266,
          15.659479141235352,
          15.48206901550293,
          16.58047103881836,
          16.36490249633789,
          15.45914363861084,
          15.557900428771973,
          14.219321250915527,
          15.880460739135742,
          17.09438705444336,
          36.58854293823242,
          16.21065330505371,
          35.726009368896484,
          35.18293380737305,
          14.483592987060547,
          15.513331413269043,
          16.192710876464844,
          17.55845832824707,
          6.553624153137207,
          17.266664505004883,
          -2.243971586227417,
          -4.246819019317627,
          34.883670806884766,
          -7.446387767791748,
          33.64225769042969,
          12.197294235229492,
          0.729347288608551,
          17.962575912475586,
          -1.7262462377548218,
          -6.584068775177002,
          13.102749824523926,
          7.3608574867248535,
          33.30950164794922,
          -7.254117012023926,
          -3.3695852756500244,
          13.878594398498535,
          7.2502760887146,
          17.99478530883789,
          16.5455379486084,
          12.175362586975098,
          0.028290124610066414,
          8.858078002929688,
          13.620349884033203,
          33.71875762939453,
          -6.165786266326904,
          35.23234176635742,
          -1.2437268495559692,
          34.59370040893555,
          -1.176476240158081,
          4.381568431854248,
          17.71237564086914,
          -0.19267451763153076,
          -6.229005813598633,
          12.956062316894531,
          6.080356121063232,
          15.999934196472168,
          -11.890275955200195,
          3.5727481842041016,
          -7.53251314163208,
          13.40341567993164,
          2.1254732608795166,
          13.4129056930542,
          13.448858261108398,
          13.13892936706543,
          13.250771522521973,
          35.108280181884766,
          13.382380485534668,
          33.36439514160156,
          14.93603515625,
          13.35937213897705,
          34.924964904785156,
          -0.6965258121490479,
          -0.14558297395706177,
          35.50044250488281,
          34.72573471069336,
          7.404629230499268,
          13.716426849365234,
          32.65241622924805,
          13.595061302185059,
          34.11525344848633,
          33.2071533203125,
          0.2602732479572296,
          33.59942626953125,
          34.32025909423828,
          33.99509811401367,
          14.347973823547363,
          -10.916230201721191,
          3.0651838779449463,
          17.833127975463867,
          14.527689933776855,
          16.332185745239258,
          18.49924659729004,
          16.450931549072266,
          19.163972854614258,
          36.33026123046875,
          16.768531799316406,
          17.768630981445312,
          17.562114715576172,
          16.381900787353516,
          17.848678588867188,
          15.603494644165039,
          8.099337577819824,
          0.22875873744487762,
          -8.655115127563477,
          32.843528747558594,
          14.473639488220215,
          -0.0010402543703094125,
          16.783632278442383,
          12.525422096252441,
          15.323931694030762,
          6.964674472808838,
          -5.8395891189575195
         ],
         "yaxis": "y"
        }
       ],
       "layout": {
        "coloraxis": {
         "colorbar": {
          "title": {
           "text": "popularity"
          }
         },
         "colorscale": [
          [
           0,
           "#0d0887"
          ],
          [
           0.1111111111111111,
           "#46039f"
          ],
          [
           0.2222222222222222,
           "#7201a8"
          ],
          [
           0.3333333333333333,
           "#9c179e"
          ],
          [
           0.4444444444444444,
           "#bd3786"
          ],
          [
           0.5555555555555556,
           "#d8576b"
          ],
          [
           0.6666666666666666,
           "#ed7953"
          ],
          [
           0.7777777777777778,
           "#fb9f3a"
          ],
          [
           0.8888888888888888,
           "#fdca26"
          ],
          [
           1,
           "#f0f921"
          ]
         ]
        },
        "legend": {
         "tracegroupgap": 0
        },
        "margin": {
         "t": 60
        },
        "template": {
         "data": {
          "bar": [
           {
            "error_x": {
             "color": "#2a3f5f"
            },
            "error_y": {
             "color": "#2a3f5f"
            },
            "marker": {
             "line": {
              "color": "#E5ECF6",
              "width": 0.5
             },
             "pattern": {
              "fillmode": "overlay",
              "size": 10,
              "solidity": 0.2
             }
            },
            "type": "bar"
           }
          ],
          "barpolar": [
           {
            "marker": {
             "line": {
              "color": "#E5ECF6",
              "width": 0.5
             },
             "pattern": {
              "fillmode": "overlay",
              "size": 10,
              "solidity": 0.2
             }
            },
            "type": "barpolar"
           }
          ],
          "carpet": [
           {
            "aaxis": {
             "endlinecolor": "#2a3f5f",
             "gridcolor": "white",
             "linecolor": "white",
             "minorgridcolor": "white",
             "startlinecolor": "#2a3f5f"
            },
            "baxis": {
             "endlinecolor": "#2a3f5f",
             "gridcolor": "white",
             "linecolor": "white",
             "minorgridcolor": "white",
             "startlinecolor": "#2a3f5f"
            },
            "type": "carpet"
           }
          ],
          "choropleth": [
           {
            "colorbar": {
             "outlinewidth": 0,
             "ticks": ""
            },
            "type": "choropleth"
           }
          ],
          "contour": [
           {
            "colorbar": {
             "outlinewidth": 0,
             "ticks": ""
            },
            "colorscale": [
             [
              0,
              "#0d0887"
             ],
             [
              0.1111111111111111,
              "#46039f"
             ],
             [
              0.2222222222222222,
              "#7201a8"
             ],
             [
              0.3333333333333333,
              "#9c179e"
             ],
             [
              0.4444444444444444,
              "#bd3786"
             ],
             [
              0.5555555555555556,
              "#d8576b"
             ],
             [
              0.6666666666666666,
              "#ed7953"
             ],
             [
              0.7777777777777778,
              "#fb9f3a"
             ],
             [
              0.8888888888888888,
              "#fdca26"
             ],
             [
              1,
              "#f0f921"
             ]
            ],
            "type": "contour"
           }
          ],
          "contourcarpet": [
           {
            "colorbar": {
             "outlinewidth": 0,
             "ticks": ""
            },
            "type": "contourcarpet"
           }
          ],
          "heatmap": [
           {
            "colorbar": {
             "outlinewidth": 0,
             "ticks": ""
            },
            "colorscale": [
             [
              0,
              "#0d0887"
             ],
             [
              0.1111111111111111,
              "#46039f"
             ],
             [
              0.2222222222222222,
              "#7201a8"
             ],
             [
              0.3333333333333333,
              "#9c179e"
             ],
             [
              0.4444444444444444,
              "#bd3786"
             ],
             [
              0.5555555555555556,
              "#d8576b"
             ],
             [
              0.6666666666666666,
              "#ed7953"
             ],
             [
              0.7777777777777778,
              "#fb9f3a"
             ],
             [
              0.8888888888888888,
              "#fdca26"
             ],
             [
              1,
              "#f0f921"
             ]
            ],
            "type": "heatmap"
           }
          ],
          "heatmapgl": [
           {
            "colorbar": {
             "outlinewidth": 0,
             "ticks": ""
            },
            "colorscale": [
             [
              0,
              "#0d0887"
             ],
             [
              0.1111111111111111,
              "#46039f"
             ],
             [
              0.2222222222222222,
              "#7201a8"
             ],
             [
              0.3333333333333333,
              "#9c179e"
             ],
             [
              0.4444444444444444,
              "#bd3786"
             ],
             [
              0.5555555555555556,
              "#d8576b"
             ],
             [
              0.6666666666666666,
              "#ed7953"
             ],
             [
              0.7777777777777778,
              "#fb9f3a"
             ],
             [
              0.8888888888888888,
              "#fdca26"
             ],
             [
              1,
              "#f0f921"
             ]
            ],
            "type": "heatmapgl"
           }
          ],
          "histogram": [
           {
            "marker": {
             "pattern": {
              "fillmode": "overlay",
              "size": 10,
              "solidity": 0.2
             }
            },
            "type": "histogram"
           }
          ],
          "histogram2d": [
           {
            "colorbar": {
             "outlinewidth": 0,
             "ticks": ""
            },
            "colorscale": [
             [
              0,
              "#0d0887"
             ],
             [
              0.1111111111111111,
              "#46039f"
             ],
             [
              0.2222222222222222,
              "#7201a8"
             ],
             [
              0.3333333333333333,
              "#9c179e"
             ],
             [
              0.4444444444444444,
              "#bd3786"
             ],
             [
              0.5555555555555556,
              "#d8576b"
             ],
             [
              0.6666666666666666,
              "#ed7953"
             ],
             [
              0.7777777777777778,
              "#fb9f3a"
             ],
             [
              0.8888888888888888,
              "#fdca26"
             ],
             [
              1,
              "#f0f921"
             ]
            ],
            "type": "histogram2d"
           }
          ],
          "histogram2dcontour": [
           {
            "colorbar": {
             "outlinewidth": 0,
             "ticks": ""
            },
            "colorscale": [
             [
              0,
              "#0d0887"
             ],
             [
              0.1111111111111111,
              "#46039f"
             ],
             [
              0.2222222222222222,
              "#7201a8"
             ],
             [
              0.3333333333333333,
              "#9c179e"
             ],
             [
              0.4444444444444444,
              "#bd3786"
             ],
             [
              0.5555555555555556,
              "#d8576b"
             ],
             [
              0.6666666666666666,
              "#ed7953"
             ],
             [
              0.7777777777777778,
              "#fb9f3a"
             ],
             [
              0.8888888888888888,
              "#fdca26"
             ],
             [
              1,
              "#f0f921"
             ]
            ],
            "type": "histogram2dcontour"
           }
          ],
          "mesh3d": [
           {
            "colorbar": {
             "outlinewidth": 0,
             "ticks": ""
            },
            "type": "mesh3d"
           }
          ],
          "parcoords": [
           {
            "line": {
             "colorbar": {
              "outlinewidth": 0,
              "ticks": ""
             }
            },
            "type": "parcoords"
           }
          ],
          "pie": [
           {
            "automargin": true,
            "type": "pie"
           }
          ],
          "scatter": [
           {
            "fillpattern": {
             "fillmode": "overlay",
             "size": 10,
             "solidity": 0.2
            },
            "type": "scatter"
           }
          ],
          "scatter3d": [
           {
            "line": {
             "colorbar": {
              "outlinewidth": 0,
              "ticks": ""
             }
            },
            "marker": {
             "colorbar": {
              "outlinewidth": 0,
              "ticks": ""
             }
            },
            "type": "scatter3d"
           }
          ],
          "scattercarpet": [
           {
            "marker": {
             "colorbar": {
              "outlinewidth": 0,
              "ticks": ""
             }
            },
            "type": "scattercarpet"
           }
          ],
          "scattergeo": [
           {
            "marker": {
             "colorbar": {
              "outlinewidth": 0,
              "ticks": ""
             }
            },
            "type": "scattergeo"
           }
          ],
          "scattergl": [
           {
            "marker": {
             "colorbar": {
              "outlinewidth": 0,
              "ticks": ""
             }
            },
            "type": "scattergl"
           }
          ],
          "scattermapbox": [
           {
            "marker": {
             "colorbar": {
              "outlinewidth": 0,
              "ticks": ""
             }
            },
            "type": "scattermapbox"
           }
          ],
          "scatterpolar": [
           {
            "marker": {
             "colorbar": {
              "outlinewidth": 0,
              "ticks": ""
             }
            },
            "type": "scatterpolar"
           }
          ],
          "scatterpolargl": [
           {
            "marker": {
             "colorbar": {
              "outlinewidth": 0,
              "ticks": ""
             }
            },
            "type": "scatterpolargl"
           }
          ],
          "scatterternary": [
           {
            "marker": {
             "colorbar": {
              "outlinewidth": 0,
              "ticks": ""
             }
            },
            "type": "scatterternary"
           }
          ],
          "surface": [
           {
            "colorbar": {
             "outlinewidth": 0,
             "ticks": ""
            },
            "colorscale": [
             [
              0,
              "#0d0887"
             ],
             [
              0.1111111111111111,
              "#46039f"
             ],
             [
              0.2222222222222222,
              "#7201a8"
             ],
             [
              0.3333333333333333,
              "#9c179e"
             ],
             [
              0.4444444444444444,
              "#bd3786"
             ],
             [
              0.5555555555555556,
              "#d8576b"
             ],
             [
              0.6666666666666666,
              "#ed7953"
             ],
             [
              0.7777777777777778,
              "#fb9f3a"
             ],
             [
              0.8888888888888888,
              "#fdca26"
             ],
             [
              1,
              "#f0f921"
             ]
            ],
            "type": "surface"
           }
          ],
          "table": [
           {
            "cells": {
             "fill": {
              "color": "#EBF0F8"
             },
             "line": {
              "color": "white"
             }
            },
            "header": {
             "fill": {
              "color": "#C8D4E3"
             },
             "line": {
              "color": "white"
             }
            },
            "type": "table"
           }
          ]
         },
         "layout": {
          "annotationdefaults": {
           "arrowcolor": "#2a3f5f",
           "arrowhead": 0,
           "arrowwidth": 1
          },
          "autotypenumbers": "strict",
          "coloraxis": {
           "colorbar": {
            "outlinewidth": 0,
            "ticks": ""
           }
          },
          "colorscale": {
           "diverging": [
            [
             0,
             "#8e0152"
            ],
            [
             0.1,
             "#c51b7d"
            ],
            [
             0.2,
             "#de77ae"
            ],
            [
             0.3,
             "#f1b6da"
            ],
            [
             0.4,
             "#fde0ef"
            ],
            [
             0.5,
             "#f7f7f7"
            ],
            [
             0.6,
             "#e6f5d0"
            ],
            [
             0.7,
             "#b8e186"
            ],
            [
             0.8,
             "#7fbc41"
            ],
            [
             0.9,
             "#4d9221"
            ],
            [
             1,
             "#276419"
            ]
           ],
           "sequential": [
            [
             0,
             "#0d0887"
            ],
            [
             0.1111111111111111,
             "#46039f"
            ],
            [
             0.2222222222222222,
             "#7201a8"
            ],
            [
             0.3333333333333333,
             "#9c179e"
            ],
            [
             0.4444444444444444,
             "#bd3786"
            ],
            [
             0.5555555555555556,
             "#d8576b"
            ],
            [
             0.6666666666666666,
             "#ed7953"
            ],
            [
             0.7777777777777778,
             "#fb9f3a"
            ],
            [
             0.8888888888888888,
             "#fdca26"
            ],
            [
             1,
             "#f0f921"
            ]
           ],
           "sequentialminus": [
            [
             0,
             "#0d0887"
            ],
            [
             0.1111111111111111,
             "#46039f"
            ],
            [
             0.2222222222222222,
             "#7201a8"
            ],
            [
             0.3333333333333333,
             "#9c179e"
            ],
            [
             0.4444444444444444,
             "#bd3786"
            ],
            [
             0.5555555555555556,
             "#d8576b"
            ],
            [
             0.6666666666666666,
             "#ed7953"
            ],
            [
             0.7777777777777778,
             "#fb9f3a"
            ],
            [
             0.8888888888888888,
             "#fdca26"
            ],
            [
             1,
             "#f0f921"
            ]
           ]
          },
          "colorway": [
           "#636efa",
           "#EF553B",
           "#00cc96",
           "#ab63fa",
           "#FFA15A",
           "#19d3f3",
           "#FF6692",
           "#B6E880",
           "#FF97FF",
           "#FECB52"
          ],
          "font": {
           "color": "#2a3f5f"
          },
          "geo": {
           "bgcolor": "white",
           "lakecolor": "white",
           "landcolor": "#E5ECF6",
           "showlakes": true,
           "showland": true,
           "subunitcolor": "white"
          },
          "hoverlabel": {
           "align": "left"
          },
          "hovermode": "closest",
          "mapbox": {
           "style": "light"
          },
          "paper_bgcolor": "white",
          "plot_bgcolor": "#E5ECF6",
          "polar": {
           "angularaxis": {
            "gridcolor": "white",
            "linecolor": "white",
            "ticks": ""
           },
           "bgcolor": "#E5ECF6",
           "radialaxis": {
            "gridcolor": "white",
            "linecolor": "white",
            "ticks": ""
           }
          },
          "scene": {
           "xaxis": {
            "backgroundcolor": "#E5ECF6",
            "gridcolor": "white",
            "gridwidth": 2,
            "linecolor": "white",
            "showbackground": true,
            "ticks": "",
            "zerolinecolor": "white"
           },
           "yaxis": {
            "backgroundcolor": "#E5ECF6",
            "gridcolor": "white",
            "gridwidth": 2,
            "linecolor": "white",
            "showbackground": true,
            "ticks": "",
            "zerolinecolor": "white"
           },
           "zaxis": {
            "backgroundcolor": "#E5ECF6",
            "gridcolor": "white",
            "gridwidth": 2,
            "linecolor": "white",
            "showbackground": true,
            "ticks": "",
            "zerolinecolor": "white"
           }
          },
          "shapedefaults": {
           "line": {
            "color": "#2a3f5f"
           }
          },
          "ternary": {
           "aaxis": {
            "gridcolor": "white",
            "linecolor": "white",
            "ticks": ""
           },
           "baxis": {
            "gridcolor": "white",
            "linecolor": "white",
            "ticks": ""
           },
           "bgcolor": "#E5ECF6",
           "caxis": {
            "gridcolor": "white",
            "linecolor": "white",
            "ticks": ""
           }
          },
          "title": {
           "x": 0.05
          },
          "xaxis": {
           "automargin": true,
           "gridcolor": "white",
           "linecolor": "white",
           "ticks": "",
           "title": {
            "standoff": 15
           },
           "zerolinecolor": "white",
           "zerolinewidth": 2
          },
          "yaxis": {
           "automargin": true,
           "gridcolor": "white",
           "linecolor": "white",
           "ticks": "",
           "title": {
            "standoff": 15
           },
           "zerolinecolor": "white",
           "zerolinewidth": 2
          }
         }
        },
        "xaxis": {
         "anchor": "y",
         "domain": [
          0,
          1
         ],
         "title": {
          "text": "tsne_1"
         }
        },
        "yaxis": {
         "anchor": "x",
         "domain": [
          0,
          1
         ],
         "title": {
          "text": "tsne_2"
         }
        }
       }
      },
      "text/html": [
       "<div>                        <script type=\"text/javascript\">window.PlotlyConfig = {MathJaxConfig: 'local'};</script>\n",
       "        <script charset=\"utf-8\" src=\"https://cdn.plot.ly/plotly-2.34.0.min.js\"></script>                <div id=\"fc4e5b4e-12a4-4b98-88a2-6bb4d36acb78\" class=\"plotly-graph-div\" style=\"height:100%; width:100%;\"></div>            <script type=\"text/javascript\">                                    window.PLOTLYENV=window.PLOTLYENV || {};                                    if (document.getElementById(\"fc4e5b4e-12a4-4b98-88a2-6bb4d36acb78\")) {                    Plotly.newPlot(                        \"fc4e5b4e-12a4-4b98-88a2-6bb4d36acb78\",                        [{\"customdata\":[[1,\"Toy Story (1995)\",452],[2,\"GoldenEye (1995)\",131],[3,\"Four Rooms (1995)\",90],[4,\"Get Shorty (1995)\",209],[5,\"Copycat (1995)\",86],[6,\"Shanghai Triad (Yao a yao yao dao waipo qiao) (1995)\",26],[7,\"Twelve Monkeys (1995)\",392],[8,\"Babe (1995)\",219],[9,\"Dead Man Walking (1995)\",299],[10,\"Richard III (1995)\",89],[11,\"Seven (Se7en) (1995)\",236],[12,\"Usual Suspects, The (1995)\",267],[13,\"Mighty Aphrodite (1995)\",184],[14,\"Postino, Il (1994)\",183],[15,\"Mr. Holland's Opus (1995)\",293],[16,\"French Twist (Gazon maudit) (1995)\",39],[17,\"From Dusk Till Dawn (1996)\",92],[18,\"White Balloon, The (1995)\",10],[19,\"Antonia's Line (1995)\",69],[20,\"Angels and Insects (1995)\",72],[21,\"Muppet Treasure Island (1996)\",84],[22,\"Braveheart (1995)\",297],[23,\"Taxi Driver (1976)\",182],[24,\"Rumble in the Bronx (1995)\",174],[25,\"Birdcage, The (1996)\",293],[26,\"Brothers McMullen, The (1995)\",73],[27,\"Bad Boys (1995)\",57],[28,\"Apollo 13 (1995)\",276],[29,\"Batman Forever (1995)\",114],[30,\"Belle de jour (1967)\",37],[31,\"Crimson Tide (1995)\",154],[32,\"Crumb (1994)\",81],[33,\"Desperado (1995)\",97],[34,\"Doom Generation, The (1995)\",7],[35,\"Free Willy 2: The Adventure Home (1995)\",11],[36,\"Mad Love (1995)\",13],[37,\"Nadja (1994)\",8],[38,\"Net, The (1995)\",120],[39,\"Strange Days (1995)\",87],[40,\"To Wong Foo, Thanks for Everything! Julie Newmar (1995)\",57],[41,\"Billy Madison (1995)\",37],[42,\"Clerks (1994)\",148],[43,\"Disclosure (1994)\",40],[44,\"Dolores Claiborne (1994)\",79],[45,\"Eat Drink Man Woman (1994)\",80],[46,\"Exotica (1994)\",27],[47,\"Ed Wood (1994)\",133],[48,\"Hoop Dreams (1994)\",117],[49,\"I.Q. (1994)\",81],[50,\"Star Wars (1977)\",583],[51,\"Legends of the Fall (1994)\",81],[52,\"Madness of King George, The (1994)\",91],[53,\"Natural Born Killers (1994)\",128],[54,\"Outbreak (1995)\",104],[55,\"Professional, The (1994)\",149],[56,\"Pulp Fiction (1994)\",394],[57,\"Priest (1994)\",40],[58,\"Quiz Show (1994)\",175],[59,\"Three Colors: Red (1994)\",83],[60,\"Three Colors: Blue (1993)\",64],[61,\"Three Colors: White (1994)\",59],[62,\"Stargate (1994)\",127],[63,\"Santa Clause, The (1994)\",82],[64,\"Shawshank Redemption, The (1994)\",283],[65,\"What's Eating Gilbert Grape (1993)\",115],[66,\"While You Were Sleeping (1995)\",162],[67,\"Ace Ventura: Pet Detective (1994)\",103],[68,\"Crow, The (1994)\",134],[69,\"Forrest Gump (1994)\",321],[70,\"Four Weddings and a Funeral (1994)\",251],[71,\"Lion King, The (1994)\",220],[72,\"Mask, The (1994)\",129],[73,\"Maverick (1994)\",128],[74,\"Faster Pussycat! Kill! Kill! (1965)\",7],[75,\"Brother Minister: The Assassination of Malcolm X (1994)\",5],[76,\"Carlito's Way (1993)\",54],[77,\"Firm, The (1993)\",151],[78,\"Free Willy (1993)\",33],[79,\"Fugitive, The (1993)\",336],[80,\"Hot Shots! Part Deux (1993)\",68],[81,\"Hudsucker Proxy, The (1994)\",110],[82,\"Jurassic Park (1993)\",261],[83,\"Much Ado About Nothing (1993)\",176],[84,\"Robert A. Heinlein's The Puppet Masters (1994)\",18],[85,\"Ref, The (1994)\",58],[86,\"Remains of the Day, The (1993)\",150],[87,\"Searching for Bobby Fischer (1993)\",138],[88,\"Sleepless in Seattle (1993)\",213],[89,\"Blade Runner (1982)\",275],[90,\"So I Married an Axe Murderer (1993)\",95],[91,\"Nightmare Before Christmas, The (1993)\",143],[92,\"True Romance (1993)\",104],[93,\"Welcome to the Dollhouse (1995)\",112],[94,\"Home Alone (1990)\",137],[95,\"Aladdin (1992)\",219],[96,\"Terminator 2: Judgment Day (1991)\",295],[97,\"Dances with Wolves (1990)\",256],[98,\"Silence of the Lambs, The (1991)\",390],[99,\"Snow White and the Seven Dwarfs (1937)\",172],[100,\"Fargo (1996)\",508],[101,\"Heavy Metal (1981)\",73],[102,\"Aristocats, The (1970)\",54],[103,\"All Dogs Go to Heaven 2 (1996)\",15],[104,\"Theodore Rex (1995)\",5],[105,\"Sgt. Bilko (1996)\",74],[106,\"Diabolique (1996)\",71],[107,\"Moll Flanders (1996)\",42],[108,\"Kids in the Hall: Brain Candy (1996)\",65],[109,\"Mystery Science Theater 3000: The Movie (1996)\",130],[110,\"Operation Dumbo Drop (1995)\",31],[111,\"Truth About Cats & Dogs, The (1996)\",272],[112,\"Flipper (1996)\",20],[113,\"Horseman on the Roof, The (Hussard sur le toit, Le) (1995)\",9],[114,\"Wallace & Gromit: The Best of Aardman Animation (1996)\",67],[115,\"Haunted World of Edward D. Wood Jr., The (1995)\",15],[116,\"Cold Comfort Farm (1995)\",125],[117,\"Rock, The (1996)\",378],[118,\"Twister (1996)\",293],[119,\"Maya Lin: A Strong Clear Vision (1994)\",4],[120,\"Striptease (1996)\",67],[121,\"Independence Day (ID4) (1996)\",429],[122,\"Cable Guy, The (1996)\",106],[123,\"Frighteners, The (1996)\",115],[124,\"Lone Star (1996)\",187],[125,\"Phenomenon (1996)\",244],[126,\"Spitfire Grill, The (1996)\",97],[127,\"Godfather, The (1972)\",413],[128,\"Supercop (1992)\",65],[129,\"Bound (1996)\",129],[130,\"Kansas City (1996)\",23],[131,\"Breakfast at Tiffany's (1961)\",95],[132,\"Wizard of Oz, The (1939)\",246],[133,\"Gone with the Wind (1939)\",171],[134,\"Citizen Kane (1941)\",198],[135,\"2001: A Space Odyssey (1968)\",259],[136,\"Mr. Smith Goes to Washington (1939)\",105],[137,\"Big Night (1996)\",171],[138,\"D3: The Mighty Ducks (1996)\",19],[139,\"Love Bug, The (1969)\",50],[140,\"Homeward Bound: The Incredible Journey (1993)\",61],[141,\"20,000 Leagues Under the Sea (1954)\",72],[142,\"Bedknobs and Broomsticks (1971)\",57],[143,\"Sound of Music, The (1965)\",222],[144,\"Die Hard (1988)\",243],[145,\"Lawnmower Man, The (1992)\",65],[146,\"Unhook the Stars (1996)\",10],[147,\"Long Kiss Goodnight, The (1996)\",185],[148,\"Ghost and the Darkness, The (1996)\",128],[149,\"Jude (1996)\",23],[150,\"Swingers (1996)\",157],[151,\"Willy Wonka and the Chocolate Factory (1971)\",326],[152,\"Sleeper (1973)\",82],[153,\"Fish Called Wanda, A (1988)\",247],[154,\"Monty Python's Life of Brian (1979)\",174],[155,\"Dirty Dancing (1987)\",98],[156,\"Reservoir Dogs (1992)\",148],[157,\"Platoon (1986)\",127],[158,\"Weekend at Bernie's (1989)\",60],[159,\"Basic Instinct (1992)\",101],[160,\"Glengarry Glen Ross (1992)\",69],[161,\"Top Gun (1986)\",220],[162,\"On Golden Pond (1981)\",106],[163,\"Return of the Pink Panther, The (1974)\",92],[164,\"Abyss, The (1989)\",151],[165,\"Jean de Florette (1986)\",64],[166,\"Manon of the Spring (Manon des sources) (1986)\",58],[167,\"Private Benjamin (1980)\",67],[168,\"Monty Python and the Holy Grail (1974)\",316],[169,\"Wrong Trousers, The (1993)\",118],[170,\"Cinema Paradiso (1988)\",121],[171,\"Delicatessen (1991)\",65],[172,\"Empire Strikes Back, The (1980)\",367],[173,\"Princess Bride, The (1987)\",324],[174,\"Raiders of the Lost Ark (1981)\",420],[175,\"Brazil (1985)\",208],[176,\"Aliens (1986)\",284],[177,\"Good, The Bad and The Ugly, The (1966)\",137],[178,\"12 Angry Men (1957)\",125],[179,\"Clockwork Orange, A (1971)\",221],[180,\"Apocalypse Now (1979)\",221],[181,\"Return of the Jedi (1983)\",507],[182,\"GoodFellas (1990)\",226],[183,\"Alien (1979)\",291],[184,\"Army of Darkness (1993)\",116],[185,\"Psycho (1960)\",239],[186,\"Blues Brothers, The (1980)\",251],[187,\"Godfather: Part II, The (1974)\",209],[188,\"Full Metal Jacket (1987)\",170],[189,\"Grand Day Out, A (1992)\",66],[190,\"Henry V (1989)\",124],[191,\"Amadeus (1984)\",276],[192,\"Raging Bull (1980)\",116],[193,\"Right Stuff, The (1983)\",157],[194,\"Sting, The (1973)\",241],[195,\"Terminator, The (1984)\",301],[196,\"Dead Poets Society (1989)\",251],[197,\"Graduate, The (1967)\",239],[198,\"Nikita (La Femme Nikita) (1990)\",127],[199,\"Bridge on the River Kwai, The (1957)\",165],[200,\"Shining, The (1980)\",206],[201,\"Evil Dead II (1987)\",89],[202,\"Groundhog Day (1993)\",280],[203,\"Unforgiven (1992)\",182],[204,\"Back to the Future (1985)\",350],[205,\"Patton (1970)\",136],[206,\"Akira (1988)\",50],[207,\"Cyrano de Bergerac (1990)\",66],[208,\"Young Frankenstein (1974)\",200],[209,\"This Is Spinal Tap (1984)\",191],[210,\"Indiana Jones and the Last Crusade (1989)\",331],[211,\"M*A*S*H (1970)\",206],[212,\"Unbearable Lightness of Being, The (1988)\",92],[213,\"Room with a View, A (1986)\",134],[214,\"Pink Floyd - The Wall (1982)\",114],[215,\"Field of Dreams (1989)\",212],[216,\"When Harry Met Sally... (1989)\",290],[217,\"Bram Stoker's Dracula (1992)\",120],[218,\"Cape Fear (1991)\",171],[219,\"Nightmare on Elm Street, A (1984)\",111],[220,\"Mirror Has Two Faces, The (1996)\",66],[221,\"Breaking the Waves (1996)\",74],[222,\"Star Trek: First Contact (1996)\",365],[223,\"Sling Blade (1996)\",136],[224,\"Ridicule (1996)\",44],[225,\"101 Dalmatians (1996)\",109],[226,\"Die Hard 2 (1990)\",166],[227,\"Star Trek VI: The Undiscovered Country (1991)\",161],[228,\"Star Trek: The Wrath of Khan (1982)\",244],[229,\"Star Trek III: The Search for Spock (1984)\",171],[230,\"Star Trek IV: The Voyage Home (1986)\",199],[231,\"Batman Returns (1992)\",142],[232,\"Young Guns (1988)\",101],[233,\"Under Siege (1992)\",124],[234,\"Jaws (1975)\",280],[235,\"Mars Attacks! (1996)\",217],[236,\"Citizen Ruth (1996)\",45],[237,\"Jerry Maguire (1996)\",384],[238,\"Raising Arizona (1987)\",256],[239,\"Sneakers (1992)\",150],[240,\"Beavis and Butt-head Do America (1996)\",156],[241,\"Last of the Mohicans, The (1992)\",128],[242,\"Kolya (1996)\",117],[243,\"Jungle2Jungle (1997)\",132],[244,\"Smilla's Sense of Snow (1997)\",48],[245,\"Devil's Own, The (1997)\",240],[246,\"Chasing Amy (1997)\",124],[247,\"Turbo: A Power Rangers Movie (1997)\",5],[248,\"Grosse Pointe Blank (1997)\",160],[249,\"Austin Powers: International Man of Mystery (1997)\",130],[250,\"Fifth Element, The (1997)\",197],[251,\"Shall We Dance? (1996)\",46],[252,\"Lost World: Jurassic Park, The (1997)\",158],[253,\"Pillow Book, The (1995)\",26],[254,\"Batman & Robin (1997)\",62],[255,\"My Best Friend's Wedding (1997)\",172],[256,\"When the Cats Away (Chacun cherche son chat) (1996)\",16],[257,\"Men in Black (1997)\",303],[258,\"Contact (1997)\",509],[259,\"George of the Jungle (1997)\",162],[260,\"Event Horizon (1997)\",127],[261,\"Air Bud (1997)\",43],[262,\"In the Company of Men (1997)\",66],[263,\"Steel (1997)\",19],[264,\"Mimic (1997)\",101],[265,\"Hunt for Red October, The (1990)\",227],[266,\"Kull the Conqueror (1997)\",35],[267,\"unknown\",9],[268,\"Chasing Amy (1997)\",255],[269,\"Full Monty, The (1997)\",315],[270,\"Gattaca (1997)\",136],[271,\"Starship Troopers (1997)\",211],[272,\"Good Will Hunting (1997)\",198],[273,\"Heat (1995)\",223],[274,\"Sabrina (1995)\",190],[275,\"Sense and Sensibility (1995)\",268],[276,\"Leaving Las Vegas (1995)\",298],[277,\"Restoration (1995)\",71],[278,\"Bed of Roses (1996)\",60],[279,\"Once Upon a Time... When We Were Colored (1995)\",28],[280,\"Up Close and Personal (1996)\",85],[281,\"River Wild, The (1994)\",146],[282,\"Time to Kill, A (1996)\",232],[283,\"Emma (1996)\",177],[284,\"Tin Cup (1996)\",193],[285,\"Secrets & Lies (1996)\",162],[286,\"English Patient, The (1996)\",481],[287,\"Marvin's Room (1996)\",78],[288,\"Scream (1996)\",478],[289,\"Evita (1996)\",259],[290,\"Fierce Creatures (1997)\",96],[291,\"Absolute Power (1997)\",127],[292,\"Rosewood (1997)\",114],[293,\"Donnie Brasco (1997)\",147],[294,\"Liar Liar (1997)\",485],[295,\"Breakdown (1997)\",77],[296,\"Promesse, La (1996)\",6],[297,\"Ulee's Gold (1997)\",50],[298,\"Face\\u002fOff (1997)\",194],[299,\"Hoodlum (1997)\",73],[300,\"Air Force One (1997)\",431],[301,\"In & Out (1997)\",230],[302,\"L.A. Confidential (1997)\",297],[303,\"Ulee's Gold (1997)\",134],[304,\"Fly Away Home (1996)\",149],[305,\"Ice Storm, The (1997)\",87],[306,\"Mrs. Brown (Her Majesty, Mrs. Brown) (1997)\",96],[307,\"Devil's Advocate, The (1997)\",188],[308,\"FairyTale: A True Story (1997)\",30],[309,\"Deceiver (1997)\",28],[310,\"Rainmaker, The (1997)\",145],[311,\"Wings of the Dove, The (1997)\",75],[312,\"Midnight in the Garden of Good and Evil (1997)\",80],[313,\"Titanic (1997)\",350],[314,\"3 Ninjas: High Noon At Mega Mountain (1998)\",5],[315,\"Apt Pupil (1998)\",160],[316,\"As Good As It Gets (1997)\",112],[317,\"In the Name of the Father (1993)\",102],[318,\"Schindler's List (1993)\",298],[319,\"Everyone Says I Love You (1996)\",168],[320,\"Paradise Lost: The Child Murders at Robin Hood Hills (1996)\",20],[321,\"Mother (1996)\",169],[322,\"Murder at 1600 (1997)\",218],[323,\"Dante's Peak (1997)\",240],[324,\"Lost Highway (1997)\",125],[325,\"Crash (1996)\",128],[326,\"G.I. Jane (1997)\",175],[327,\"Cop Land (1997)\",175],[328,\"Conspiracy Theory (1997)\",295],[329,\"Desperate Measures (1998)\",45],[330,\"187 (1997)\",41],[331,\"Edge, The (1997)\",113],[332,\"Kiss the Girls (1997)\",143],[333,\"Game, The (1997)\",251],[334,\"U Turn (1997)\",64],[335,\"How to Be a Player (1997)\",21],[336,\"Playing God (1997)\",43],[337,\"House of Yes, The (1997)\",18],[338,\"Bean (1997)\",91],[339,\"Mad City (1997)\",47],[340,\"Boogie Nights (1997)\",189],[341,\"Critical Care (1997)\",11],[342,\"Man Who Knew Too Little, The (1997)\",52],[343,\"Alien: Resurrection (1997)\",124],[344,\"Apostle, The (1997)\",55],[345,\"Deconstructing Harry (1997)\",65],[346,\"Jackie Brown (1997)\",126],[347,\"Wag the Dog (1997)\",137],[348,\"Desperate Measures (1998)\",27],[349,\"Hard Rain (1998)\",31],[350,\"Fallen (1998)\",41],[351,\"Prophecy II, The (1998)\",20],[352,\"Spice World (1997)\",26],[353,\"Deep Rising (1998)\",14],[354,\"Wedding Singer, The (1998)\",72],[355,\"Sphere (1998)\",41],[356,\"Client, The (1994)\",97],[357,\"One Flew Over the Cuckoo's Nest (1975)\",264],[358,\"Spawn (1997)\",143],[359,\"Assignment, The (1997)\",18],[360,\"Wonderland (1997)\",10],[361,\"Incognito (1997)\",10],[362,\"Blues Brothers 2000 (1998)\",28],[363,\"Sudden Death (1995)\",47],[364,\"Ace Ventura: When Nature Calls (1995)\",37],[365,\"Powder (1995)\",48],[366,\"Dangerous Minds (1995)\",47],[367,\"Clueless (1995)\",170],[368,\"Bio-Dome (1996)\",31],[369,\"Black Sheep (1996)\",55],[370,\"Mary Reilly (1996)\",39],[371,\"Bridges of Madison County, The (1995)\",67],[372,\"Jeffrey (1995)\",34],[373,\"Judge Dredd (1995)\",39],[374,\"Mighty Morphin Power Rangers: The Movie (1995)\",11],[375,\"Showgirls (1995)\",23],[376,\"Houseguest (1994)\",24],[377,\"Heavyweights (1994)\",13],[378,\"Miracle on 34th Street (1994)\",101],[379,\"Tales From the Crypt Presents: Demon Knight (1995)\",43],[380,\"Star Trek: Generations (1994)\",116],[381,\"Muriel's Wedding (1994)\",100],[382,\"Adventures of Priscilla, Queen of the Desert, The (1994)\",111],[383,\"Flintstones, The (1994)\",31],[384,\"Naked Gun 33 1\\u002f3: The Final Insult (1994)\",69],[385,\"True Lies (1994)\",208],[386,\"Addams Family Values (1993)\",87],[387,\"Age of Innocence, The (1993)\",65],[388,\"Beverly Hills Cop III (1994)\",28],[389,\"Black Beauty (1994)\",27],[390,\"Fear of a Black Hat (1993)\",10],[391,\"Last Action Hero (1993)\",59],[392,\"Man Without a Face, The (1993)\",68],[393,\"Mrs. Doubtfire (1993)\",192],[394,\"Radioland Murders (1994)\",12],[395,\"Robin Hood: Men in Tights (1993)\",56],[396,\"Serial Mom (1994)\",54],[397,\"Striking Distance (1993)\",12],[398,\"Super Mario Bros. (1993)\",26],[399,\"Three Musketeers, The (1993)\",89],[400,\"Little Rascals, The (1994)\",18],[401,\"Brady Bunch Movie, The (1995)\",76],[402,\"Ghost (1990)\",170],[403,\"Batman (1989)\",201],[404,\"Pinocchio (1940)\",101],[405,\"Mission: Impossible (1996)\",344],[406,\"Thinner (1996)\",49],[407,\"Spy Hard (1996)\",43],[408,\"Close Shave, A (1995)\",112],[409,\"Jack (1996)\",70],[410,\"Kingpin (1996)\",162],[411,\"Nutty Professor, The (1996)\",163],[412,\"Very Brady Sequel, A (1996)\",93],[413,\"Tales from the Crypt Presents: Bordello of Blood (1996)\",55],[414,\"My Favorite Year (1982)\",62],[415,\"Apple Dumpling Gang, The (1975)\",25],[416,\"Old Yeller (1957)\",64],[417,\"Parent Trap, The (1961)\",73],[418,\"Cinderella (1950)\",129],[419,\"Mary Poppins (1964)\",178],[420,\"Alice in Wonderland (1951)\",81],[421,\"William Shakespeare's Romeo and Juliet (1996)\",106],[422,\"Aladdin and the King of Thieves (1996)\",26],[423,\"E.T. the Extra-Terrestrial (1982)\",300],[424,\"Children of the Corn: The Gathering (1996)\",19],[425,\"Bob Roberts (1992)\",85],[426,\"Transformers: The Movie, The (1986)\",32],[427,\"To Kill a Mockingbird (1962)\",219],[428,\"Harold and Maude (1971)\",121],[429,\"Day the Earth Stood Still, The (1951)\",97],[430,\"Duck Soup (1933)\",93],[431,\"Highlander (1986)\",153],[432,\"Fantasia (1940)\",174],[433,\"Heathers (1989)\",171],[434,\"Forbidden Planet (1956)\",67],[435,\"Butch Cassidy and the Sundance Kid (1969)\",216],[436,\"American Werewolf in London, An (1981)\",99],[437,\"Amityville 1992: It's About Time (1992)\",5],[438,\"Amityville 3-D (1983)\",6],[439,\"Amityville: A New Generation (1993)\",5],[440,\"Amityville II: The Possession (1982)\",14],[441,\"Amityville Horror, The (1979)\",53],[442,\"Amityville Curse, The (1990)\",4],[443,\"Birds, The (1963)\",162],[444,\"Blob, The (1958)\",46],[445,\"Body Snatcher, The (1945)\",22],[446,\"Burnt Offerings (1976)\",9],[447,\"Carrie (1976)\",121],[448,\"Omen, The (1976)\",85],[449,\"Star Trek: The Motion Picture (1979)\",117],[450,\"Star Trek V: The Final Frontier (1989)\",63],[451,\"Grease (1978)\",170],[452,\"Jaws 2 (1978)\",66],[453,\"Jaws 3-D (1983)\",16],[454,\"Bastard Out of Carolina (1996)\",16],[455,\"Jackie Chan's First Strike (1996)\",145],[456,\"Beverly Hills Ninja (1997)\",48],[457,\"Free Willy 3: The Rescue (1997)\",27],[458,\"Nixon (1995)\",90],[459,\"Cry, the Beloved Country (1995)\",24],[460,\"Crossing Guard, The (1995)\",28],[461,\"Smoke (1995)\",74],[462,\"Like Water For Chocolate (Como agua para chocolate) (1992)\",148],[463,\"Secret of Roan Inish, The (1994)\",71],[464,\"Vanya on 42nd Street (1994)\",27],[465,\"Jungle Book, The (1994)\",85],[466,\"Red Rock West (1992)\",52],[467,\"Bronx Tale, A (1993)\",48],[468,\"Rudy (1993)\",64],[469,\"Short Cuts (1993)\",67],[470,\"Tombstone (1993)\",108],[471,\"Courage Under Fire (1996)\",221],[472,\"Dragonheart (1996)\",158],[473,\"James and the Giant Peach (1996)\",126],[474,\"Dr. Strangelove or: How I Learned to Stop Worrying and Love the Bomb (1963)\",194],[475,\"Trainspotting (1996)\",250],[476,\"First Wives Club, The (1996)\",160],[477,\"Matilda (1996)\",95],[478,\"Philadelphia Story, The (1940)\",104],[479,\"Vertigo (1958)\",179],[480,\"North by Northwest (1959)\",179],[481,\"Apartment, The (1960)\",63],[482,\"Some Like It Hot (1959)\",128],[483,\"Casablanca (1942)\",243],[484,\"Maltese Falcon, The (1941)\",138],[485,\"My Fair Lady (1964)\",125],[486,\"Sabrina (1954)\",64],[487,\"Roman Holiday (1953)\",68],[488,\"Sunset Blvd. (1950)\",65],[489,\"Notorious (1946)\",52],[490,\"To Catch a Thief (1955)\",50],[491,\"Adventures of Robin Hood, The (1938)\",67],[492,\"East of Eden (1955)\",59],[493,\"Thin Man, The (1934)\",60],[494,\"His Girl Friday (1940)\",56],[495,\"Around the World in 80 Days (1956)\",59],[496,\"It's a Wonderful Life (1946)\",231],[497,\"Bringing Up Baby (1938)\",68],[498,\"African Queen, The (1951)\",152],[499,\"Cat on a Hot Tin Roof (1958)\",62],[500,\"Fly Away Home (1996)\",31],[501,\"Dumbo (1941)\",123],[502,\"Bananas (1971)\",57],[503,\"Candidate, The (1972)\",39],[504,\"Bonnie and Clyde (1967)\",122],[505,\"Dial M for Murder (1954)\",68],[506,\"Rebel Without a Cause (1955)\",90],[507,\"Streetcar Named Desire, A (1951)\",98],[508,\"People vs. Larry Flynt, The (1996)\",215],[509,\"My Left Foot (1989)\",121],[510,\"Magnificent Seven, The (1954)\",121],[511,\"Lawrence of Arabia (1962)\",173],[512,\"Wings of Desire (1987)\",57],[513,\"Third Man, The (1949)\",72],[514,\"Annie Hall (1977)\",180],[515,\"Boot, Das (1981)\",201],[516,\"Local Hero (1983)\",63],[517,\"Manhattan (1979)\",91],[518,\"Miller's Crossing (1990)\",89],[519,\"Treasure of the Sierra Madre, The (1948)\",80],[520,\"Great Escape, The (1963)\",124],[521,\"Deer Hunter, The (1978)\",120],[522,\"Down by Law (1986)\",35],[523,\"Cool Hand Luke (1967)\",164],[524,\"Great Dictator, The (1940)\",46],[525,\"Big Sleep, The (1946)\",73],[526,\"Ben-Hur (1959)\",124],[527,\"Gandhi (1982)\",195],[528,\"Killing Fields, The (1984)\",121],[529,\"My Life as a Dog (Mitt liv som hund) (1985)\",93],[530,\"Man Who Would Be King, The (1975)\",80],[531,\"Shine (1996)\",129],[532,\"Kama Sutra: A Tale of Love (1996)\",22],[533,\"Daytrippers, The (1996)\",15],[534,\"Traveller (1997)\",13],[535,\"Addicted to Love (1997)\",54],[536,\"Ponette (1996)\",10],[537,\"My Own Private Idaho (1991)\",30],[538,\"Anastasia (1997)\",66],[539,\"Mouse Hunt (1997)\",44],[540,\"Money Train (1995)\",43],[541,\"Mortal Kombat (1995)\",49],[542,\"Pocahontas (1995)\",51],[543,\"Mis\\u00e9rables, Les (1995)\",21],[544,\"Things to Do in Denver when You're Dead (1995)\",71],[545,\"Vampire in Brooklyn (1995)\",12],[546,\"Broken Arrow (1996)\",254],[547,\"Young Poisoner's Handbook, The (1995)\",41],[548,\"NeverEnding Story III, The (1994)\",12],[549,\"Rob Roy (1995)\",92],[550,\"Die Hard: With a Vengeance (1995)\",151],[551,\"Lord of Illusions (1995)\",24],[552,\"Species (1995)\",45],[553,\"Walk in the Clouds, A (1995)\",63],[554,\"Waterworld (1995)\",102],[555,\"White Man's Burden (1995)\",10],[556,\"Wild Bill (1995)\",12],[557,\"Farinelli: il castrato (1994)\",17],[558,\"Heavenly Creatures (1994)\",70],[559,\"Interview with the Vampire (1994)\",137],[560,\"Kid in King Arthur's Court, A (1995)\",22],[561,\"Mary Shelley's Frankenstein (1994)\",59],[562,\"Quick and the Dead, The (1995)\",48],[563,\"Stephen King's The Langoliers (1995)\",29],[564,\"Tales from the Hood (1995)\",27],[565,\"Village of the Damned (1995)\",22],[566,\"Clear and Present Danger (1994)\",179],[567,\"Wes Craven's New Nightmare (1994)\",35],[568,\"Speed (1994)\",230],[569,\"Wolf (1994)\",67],[570,\"Wyatt Earp (1994)\",50],[571,\"Another Stakeout (1993)\",28],[572,\"Blown Away (1994)\",29],[573,\"Body Snatchers (1993)\",33],[574,\"Boxing Helena (1993)\",15],[575,\"City Slickers II: The Legend of Curly's Gold (1994)\",44],[576,\"Cliffhanger (1993)\",93],[577,\"Coneheads (1993)\",41],[578,\"Demolition Man (1993)\",92],[579,\"Fatal Instinct (1993)\",19],[580,\"Englishman Who Went Up a Hill, But Came Down a Mountain, The (1995)\",32],[581,\"Kalifornia (1993)\",59],[582,\"Piano, The (1993)\",168],[583,\"Romeo Is Bleeding (1993)\",37],[584,\"Secret Garden, The (1993)\",79],[585,\"Son in Law (1993)\",39],[586,\"Terminal Velocity (1994)\",34],[587,\"Hour of the Pig, The (1993)\",14],[588,\"Beauty and the Beast (1991)\",202],[589,\"Wild Bunch, The (1969)\",43],[590,\"Hellraiser: Bloodline (1996)\",18],[591,\"Primal Fear (1996)\",178],[592,\"True Crime (1995)\",9],[593,\"Stalingrad (1993)\",12],[594,\"Heavy (1995)\",5],[595,\"Fan, The (1996)\",64],[596,\"Hunchback of Notre Dame, The (1996)\",127],[597,\"Eraser (1996)\",206],[598,\"Big Squeeze, The (1996)\",4],[599,\"Police Story 4: Project S (Chao ji ji hua) (1993)\",1],[600,\"Daniel Defoe's Robinson Crusoe (1996)\",2],[601,\"For Whom the Bell Tolls (1943)\",20],[602,\"American in Paris, An (1951)\",50],[603,\"Rear Window (1954)\",209],[604,\"It Happened One Night (1934)\",81],[605,\"Meet Me in St. Louis (1944)\",31],[606,\"All About Eve (1950)\",66],[607,\"Rebecca (1940)\",66],[608,\"Spellbound (1945)\",30],[609,\"Father of the Bride (1950)\",60],[610,\"Gigi (1958)\",41],[611,\"Laura (1944)\",40],[612,\"Lost Horizon (1937)\",34],[613,\"My Man Godfrey (1936)\",27],[614,\"Giant (1956)\",51],[615,\"39 Steps, The (1935)\",59],[616,\"Night of the Living Dead (1968)\",64],[617,\"Blue Angel, The (Blaue Engel, Der) (1930)\",18],[618,\"Picnic (1955)\",18],[619,\"Extreme Measures (1996)\",64],[620,\"Chamber, The (1996)\",43],[621,\"Davy Crockett, King of the Wild Frontier (1955)\",11],[622,\"Swiss Family Robinson (1960)\",39],[623,\"Angels in the Outfield (1994)\",39],[624,\"Three Caballeros, The (1945)\",22],[625,\"Sword in the Stone, The (1963)\",82],[626,\"So Dear to My Heart (1949)\",4],[627,\"Robin Hood: Prince of Thieves (1991)\",75],[628,\"Sleepers (1996)\",169],[629,\"Victor\\u002fVictoria (1982)\",77],[630,\"Great Race, The (1965)\",31],[631,\"Crying Game, The (1992)\",119],[632,\"Sophie's Choice (1982)\",58],[633,\"Christmas Carol, A (1938)\",69],[634,\"Microcosmos: Le peuple de l'herbe (1996)\",24],[635,\"Fog, The (1980)\",23],[636,\"Escape from New York (1981)\",91],[637,\"Howling, The (1981)\",38],[638,\"Return of Martin Guerre, The (Retour de Martin Guerre, Le) (1982)\",44],[639,\"Tin Drum, The (Blechtrommel, Die) (1979)\",40],[640,\"Cook the Thief His Wife & Her Lover, The (1989)\",82],[641,\"Paths of Glory (1957)\",33],[642,\"Grifters, The (1990)\",89],[643,\"The Innocent (1994)\",4],[644,\"Thin Blue Line, The (1988)\",35],[645,\"Paris Is Burning (1990)\",27],[646,\"Once Upon a Time in the West (1969)\",38],[647,\"Ran (1985)\",70],[648,\"Quiet Man, The (1952)\",67],[649,\"Once Upon a Time in America (1984)\",50],[650,\"Seventh Seal, The (Sjunde inseglet, Det) (1957)\",72],[651,\"Glory (1989)\",171],[652,\"Rosencrantz and Guildenstern Are Dead (1990)\",90],[653,\"Touch of Evil (1958)\",34],[654,\"Chinatown (1974)\",147],[655,\"Stand by Me (1986)\",227],[656,\"M (1931)\",44],[657,\"Manchurian Candidate, The (1962)\",131],[658,\"Pump Up the Volume (1990)\",79],[659,\"Arsenic and Old Lace (1944)\",115],[660,\"Fried Green Tomatoes (1991)\",153],[661,\"High Noon (1952)\",88],[662,\"Somewhere in Time (1980)\",82],[663,\"Being There (1979)\",116],[664,\"Paris, Texas (1984)\",46],[665,\"Alien 3 (1992)\",100],[666,\"Blood For Dracula (Andy Warhol's Dracula) (1974)\",5],[667,\"Audrey Rose (1977)\",12],[668,\"Blood Beach (1981)\",6],[669,\"Body Parts (1991)\",13],[670,\"Body Snatchers (1993)\",36],[671,\"Bride of Frankenstein (1935)\",46],[672,\"Candyman (1992)\",65],[673,\"Cape Fear (1962)\",86],[674,\"Cat People (1982)\",48],[675,\"Nosferatu (Nosferatu, eine Symphonie des Grauens) (1922)\",54],[676,\"Crucible, The (1996)\",77],[677,\"Fire on the Mountain (1996)\",1],[678,\"Volcano (1997)\",219],[679,\"Conan the Barbarian (1981)\",107],[680,\"Kull the Conqueror (1997)\",34],[681,\"Wishmaster (1997)\",27],[682,\"I Know What You Did Last Summer (1997)\",100],[683,\"Rocket Man (1997)\",49],[684,\"In the Line of Fire (1993)\",169],[685,\"Executive Decision (1996)\",157],[686,\"Perfect World, A (1993)\",50],[687,\"McHale's Navy (1997)\",69],[688,\"Leave It to Beaver (1997)\",44],[689,\"Jackal, The (1997)\",87],[690,\"Seven Years in Tibet (1997)\",155],[691,\"Dark City (1998)\",16],[692,\"American President, The (1995)\",164],[693,\"Casino (1995)\",91],[694,\"Persuasion (1995)\",44],[695,\"Kicking and Screaming (1995)\",13],[696,\"City Hall (1996)\",79],[697,\"Basketball Diaries, The (1995)\",40],[698,\"Browning Version, The (1994)\",10],[699,\"Little Women (1994)\",102],[700,\"Miami Rhapsody (1995)\",15],[701,\"Wonderful, Horrible Life of Leni Riefenstahl, The (1993)\",10],[702,\"Barcelona (1994)\",53],[703,\"Widows' Peak (1994)\",19],[704,\"House of the Spirits, The (1993)\",24],[705,\"Singin' in the Rain (1952)\",137],[706,\"Bad Moon (1996)\",6],[707,\"Enchanted April (1991)\",70],[708,\"Sex, Lies, and Videotape (1989)\",101],[709,\"Strictly Ballroom (1992)\",104],[710,\"Better Off Dead... (1985)\",79],[711,\"Substance of Fire, The (1996)\",1],[712,\"Tin Men (1987)\",51],[713,\"Othello (1995)\",72],[714,\"Carrington (1995)\",13],[715,\"To Die For (1995)\",87],[716,\"Home for the Holidays (1995)\",58],[717,\"Juror, The (1996)\",82],[718,\"In the Bleak Midwinter (1995)\",16],[719,\"Canadian Bacon (1994)\",29],[720,\"First Knight (1995)\",86],[721,\"Mallrats (1995)\",54],[722,\"Nine Months (1995)\",58],[723,\"Boys on the Side (1995)\",34],[724,\"Circle of Friends (1995)\",76],[725,\"Exit to Eden (1994)\",16],[726,\"Fluke (1995)\",14],[727,\"Immortal Beloved (1994)\",63],[728,\"Junior (1994)\",45],[729,\"Nell (1994)\",81],[730,\"Queen Margot (Reine Margot, La) (1994)\",24],[731,\"Corrina, Corrina (1994)\",39],[732,\"Dave (1993)\",180],[733,\"Go Fish (1994)\",15],[734,\"Made in America (1993)\",27],[735,\"Philadelphia (1993)\",137],[736,\"Shadowlands (1993)\",78],[737,\"Sirens (1994)\",59],[738,\"Threesome (1994)\",31],[739,\"Pretty Woman (1990)\",164],[740,\"Jane Eyre (1996)\",63],[741,\"Last Supper, The (1995)\",58],[742,\"Ransom (1996)\",267],[743,\"Crow: City of Angels, The (1996)\",39],[744,\"Michael Collins (1996)\",92],[745,\"Ruling Class, The (1972)\",16],[746,\"Real Genius (1985)\",119],[747,\"Benny & Joon (1993)\",102],[748,\"Saint, The (1997)\",316],[749,\"MatchMaker, The (1997)\",51],[750,\"Amistad (1997)\",124],[751,\"Tomorrow Never Dies (1997)\",180],[752,\"Replacement Killers, The (1998)\",39],[753,\"Burnt By the Sun (1994)\",24],[754,\"Red Corner (1997)\",57],[755,\"Jumanji (1995)\",96],[756,\"Father of the Bride Part II (1995)\",128],[757,\"Across the Sea of Time (1995)\",4],[758,\"Lawnmower Man 2: Beyond Cyberspace (1996)\",21],[759,\"Fair Game (1995)\",11],[760,\"Screamers (1995)\",46],[761,\"Nick of Time (1995)\",44],[762,\"Beautiful Girls (1996)\",115],[763,\"Happy Gilmore (1996)\",149],[764,\"If Lucy Fell (1996)\",29],[765,\"Boomerang (1992)\",32],[766,\"Man of the Year (1995)\",9],[767,\"Addiction, The (1995)\",11],[768,\"Casper (1995)\",52],[769,\"Congo (1995)\",42],[770,\"Devil in a Blue Dress (1995)\",57],[771,\"Johnny Mnemonic (1995)\",41],[772,\"Kids (1995)\",49],[773,\"Mute Witness (1994)\",17],[774,\"Prophecy, The (1995)\",32],[775,\"Something to Talk About (1995)\",26],[776,\"Three Wishes (1995)\",9],[777,\"Castle Freak (1995)\",4],[778,\"Don Juan DeMarco (1995)\",76],[779,\"Drop Zone (1994)\",31],[780,\"Dumb & Dumber (1994)\",69],[781,\"French Kiss (1995)\",84],[782,\"Little Odessa (1994)\",10],[783,\"Milk Money (1994)\",37],[784,\"Beyond Bedlam (1993)\",2],[785,\"Only You (1994)\",39],[786,\"Perez Family, The (1995)\",14],[787,\"Roommates (1995)\",13],[788,\"Relative Fear (1994)\",3],[789,\"Swimming with Sharks (1995)\",47],[790,\"Tommy Boy (1995)\",66],[791,\"Baby-Sitters Club, The (1995)\",10],[792,\"Bullets Over Broadway (1994)\",86],[793,\"Crooklyn (1994)\",10],[794,\"It Could Happen to You (1994)\",46],[795,\"Richie Rich (1994)\",21],[796,\"Speechless (1994)\",36],[797,\"Timecop (1994)\",31],[798,\"Bad Company (1995)\",9],[799,\"Boys Life (1995)\",5],[800,\"In the Mouth of Madness (1995)\",26],[801,\"Air Up There, The (1994)\",16],[802,\"Hard Target (1993)\",40],[803,\"Heaven & Earth (1993)\",9],[804,\"Jimmy Hollywood (1994)\",8],[805,\"Manhattan Murder Mystery (1993)\",27],[806,\"Menace II Society (1993)\",50],[807,\"Poetic Justice (1993)\",9],[808,\"Program, The (1993)\",31],[809,\"Rising Sun (1993)\",43],[810,\"Shadow, The (1994)\",45],[811,\"Thirty-Two Short Films About Glenn Gould (1993)\",18],[812,\"Andre (1994)\",18],[813,\"Celluloid Closet, The (1995)\",56],[814,\"Great Day in Harlem, A (1994)\",1],[815,\"One Fine Day (1996)\",112],[816,\"Candyman: Farewell to the Flesh (1995)\",21],[817,\"Frisk (1995)\",3],[818,\"Girl 6 (1996)\",25],[819,\"Eddie (1996)\",40],[820,\"Space Jam (1996)\",93],[821,\"Mrs. Winterbourne (1996)\",22],[822,\"Faces (1968)\",4],[823,\"Mulholland Falls (1996)\",82],[824,\"Great White Hype, The (1996)\",49],[825,\"Arrival, The (1996)\",83],[826,\"Phantom, The (1996)\",80],[827,\"Daylight (1996)\",57],[828,\"Alaska (1996)\",13],[829,\"Fled (1996)\",34],[830,\"Power 98 (1995)\",1],[831,\"Escape from L.A. (1996)\",91],[832,\"Bogus (1996)\",22],[833,\"Bulletproof (1996)\",49],[834,\"Halloween: The Curse of Michael Myers (1995)\",25],[835,\"Gay Divorcee, The (1934)\",15],[836,\"Ninotchka (1939)\",26],[837,\"Meet John Doe (1941)\",25],[838,\"In the Line of Duty 2 (1987)\",4],[839,\"Loch Ness (1995)\",4],[840,\"Last Man Standing (1996)\",53],[841,\"Glimmer Man, The (1996)\",48],[842,\"Pollyanna (1960)\",27],[843,\"Shaggy Dog, The (1959)\",30],[844,\"Freeway (1996)\",42],[845,\"That Thing You Do! (1996)\",176],[846,\"To Gillian on Her 37th Birthday (1996)\",44],[847,\"Looking for Richard (1996)\",55],[848,\"Murder, My Sweet (1944)\",9],[849,\"Days of Thunder (1990)\",53],[850,\"Perfect Candidate, A (1996)\",4],[851,\"Two or Three Things I Know About Her (1966)\",4],[852,\"Bloody Child, The (1996)\",1],[853,\"Braindead (1992)\",14],[854,\"Bad Taste (1987)\",16],[855,\"Diva (1981)\",66],[856,\"Night on Earth (1991)\",36],[857,\"Paris Was a Woman (1995)\",1],[858,\"Amityville: Dollhouse (1996)\",3],[859,\"April Fool's Day (1986)\",15],[860,\"Believers, The (1987)\",16],[861,\"Nosferatu a Venezia (1986)\",3],[862,\"Jingle All the Way (1996)\",18],[863,\"Garden of Finzi-Contini, The (Giardino dei Finzi-Contini, Il) (1970)\",24],[864,\"My Fellow Americans (1996)\",86],[865,\"Ice Storm, The (1997)\",21],[866,\"Michael (1996)\",119],[867,\"Whole Wide World, The (1996)\",6],[868,\"Hearts and Minds (1996)\",5],[869,\"Fools Rush In (1997)\",24],[870,\"Touch (1997)\",9],[871,\"Vegas Vacation (1997)\",75],[872,\"Love Jones (1997)\",42],[873,\"Picture Perfect (1997)\",81],[874,\"Career Girls (1997)\",39],[875,\"She's So Lovely (1997)\",53],[876,\"Money Talks (1997)\",47],[877,\"Excess Baggage (1997)\",52],[878,\"That Darn Cat! (1997)\",33],[879,\"Peacemaker, The (1997)\",136],[880,\"Soul Food (1997)\",59],[881,\"Money Talks (1997)\",45],[882,\"Washington Square (1997)\",34],[883,\"Telling Lies in America (1997)\",13],[884,\"Year of the Horse (1997)\",7],[885,\"Phantoms (1998)\",13],[886,\"Life Less Ordinary, A (1997)\",53],[887,\"Eve's Bayou (1997)\",64],[888,\"One Night Stand (1997)\",15],[889,\"Tango Lesson, The (1997)\",13],[890,\"Mortal Kombat: Annihilation (1997)\",43],[891,\"Bent (1997)\",6],[892,\"Flubber (1997)\",53],[893,\"For Richer or Poorer (1997)\",14],[894,\"Home Alone 3 (1997)\",19],[895,\"Scream 2 (1997)\",106],[896,\"Sweet Hereafter, The (1997)\",44],[897,\"Time Tracers (1995)\",2],[898,\"Postman, The (1997)\",58],[899,\"Winter Guest, The (1997)\",9],[900,\"Kundun (1997)\",42],[901,\"Mr. Magoo (1997)\",12],[902,\"Big Lebowski, The (1998)\",42],[903,\"Afterglow (1997)\",18],[904,\"Ma vie en rose (My Life in Pink) (1997)\",20],[905,\"Great Expectations (1998)\",27],[906,\"Oscar & Lucinda (1997)\",21],[907,\"Vermin (1998)\",2],[908,\"Half Baked (1998)\",20],[909,\"Dangerous Beauty (1998)\",13],[910,\"Nil By Mouth (1997)\",4],[911,\"Twilight (1998)\",4],[912,\"U.S. Marshalls (1998)\",9],[913,\"Love and Death on Long Island (1997)\",2],[914,\"Wild Things (1998)\",11],[915,\"Primary Colors (1998)\",13],[916,\"Lost in Space (1998)\",18],[917,\"Mercury Rising (1998)\",7],[918,\"City of Angels (1998)\",8],[919,\"City of Lost Children, The (1995)\",96],[920,\"Two Bits (1995)\",5],[921,\"Farewell My Concubine (1993)\",46],[922,\"Dead Man (1995)\",34],[923,\"Raise the Red Lantern (1991)\",58],[924,\"White Squall (1996)\",85],[925,\"Unforgettable (1996)\",34],[926,\"Down Periscope (1996)\",101],[927,\"Flower of My Secret, The (Flor de mi secreto, La) (1995)\",6],[928,\"Craft, The (1996)\",104],[929,\"Harriet the Spy (1996)\",40],[930,\"Chain Reaction (1996)\",80],[931,\"Island of Dr. Moreau, The (1996)\",57],[932,\"First Kid (1996)\",40],[933,\"Funeral, The (1996)\",21],[934,\"Preacher's Wife, The (1996)\",68],[935,\"Paradise Road (1997)\",7],[936,\"Brassed Off (1996)\",32],[937,\"Thousand Acres, A (1997)\",37],[938,\"Smile Like Yours, A (1997)\",25],[939,\"Murder in the First (1995)\",60],[940,\"Airheads (1994)\",32],[941,\"With Honors (1994)\",46],[942,\"What's Love Got to Do with It (1993)\",45],[943,\"Killing Zoe (1994)\",40],[944,\"Renaissance Man (1994)\",43],[945,\"Charade (1963)\",40],[946,\"Fox and the Hound, The (1981)\",61],[947,\"Big Blue, The (Grand bleu, Le) (1988)\",17],[948,\"Booty Call (1997)\",48],[949,\"How to Make an American Quilt (1995)\",71],[950,\"Georgia (1995)\",30],[951,\"Indian in the Cupboard, The (1995)\",39],[952,\"Blue in the Face (1995)\",45],[953,\"Unstrung Heroes (1995)\",22],[954,\"Unzipped (1995)\",11],[955,\"Before Sunrise (1995)\",49],[956,\"Nobody's Fool (1994)\",46],[957,\"Pushing Hands (1992)\",2],[958,\"To Live (Huozhe) (1994)\",14],[959,\"Dazed and Confused (1993)\",64],[960,\"Naked (1993)\",25],[961,\"Orlando (1993)\",34],[962,\"Ruby in Paradise (1993)\",23],[963,\"Some Folks Call It a Sling Blade (1993)\",41],[964,\"Month by the Lake, A (1995)\",9],[965,\"Funny Face (1957)\",21],[966,\"Affair to Remember, An (1957)\",26],[967,\"Little Lord Fauntleroy (1936)\",12],[968,\"Inspector General, The (1949)\",18],[969,\"Winnie the Pooh and the Blustery Day (1968)\",75],[970,\"Hear My Song (1991)\",8],[971,\"Mediterraneo (1991)\",34],[972,\"Passion Fish (1992)\",28],[973,\"Grateful Dead (1995)\",4],[974,\"Eye for an Eye (1996)\",32],[975,\"Fear (1996)\",44],[976,\"Solo (1996)\",12],[977,\"Substitute, The (1996)\",49],[978,\"Heaven's Prisoners (1996)\",27],[979,\"Trigger Effect, The (1996)\",35],[980,\"Mother Night (1996)\",22],[981,\"Dangerous Ground (1997)\",8],[982,\"Maximum Risk (1996)\",20],[983,\"Rich Man's Wife, The (1996)\",15],[984,\"Shadow Conspiracy (1997)\",44],[985,\"Blood & Wine (1997)\",22],[986,\"Turbulence (1997)\",23],[987,\"Underworld (1997)\",4],[988,\"Beautician and the Beast, The (1997)\",86],[989,\"Cats Don't Dance (1997)\",32],[990,\"Anna Karenina (1997)\",33],[991,\"Keys to Tulsa (1997)\",25],[992,\"Head Above Water (1996)\",4],[993,\"Hercules (1997)\",66],[994,\"Last Time I Committed Suicide, The (1997)\",7],[995,\"Kiss Me, Guido (1997)\",31],[996,\"Big Green, The (1995)\",14],[997,\"Stuart Saves His Family (1995)\",16],[998,\"Cabin Boy (1994)\",16],[999,\"Clean Slate (1994)\",10],[1000,\"Lightning Jack (1994)\",10],[1001,\"Stupids, The (1996)\",17],[1002,\"Pest, The (1997)\",8],[1003,\"That Darn Cat! (1997)\",8],[1004,\"Geronimo: An American Legend (1993)\",9],[1005,\"Double vie de V\\u00e9ronique, La (Double Life of Veronique, The) (1991)\",22],[1006,\"Until the End of the World (Bis ans Ende der Welt) (1991)\",23],[1007,\"Waiting for Guffman (1996)\",47],[1008,\"I Shot Andy Warhol (1996)\",37],[1009,\"Stealing Beauty (1996)\",64],[1010,\"Basquiat (1996)\",44],[1011,\"2 Days in the Valley (1996)\",93],[1012,\"Private Parts (1997)\",100],[1013,\"Anaconda (1997)\",38],[1014,\"Romy and Michele's High School Reunion (1997)\",98],[1015,\"Shiloh (1997)\",12],[1016,\"Con Air (1997)\",137],[1017,\"Trees Lounge (1996)\",50],[1018,\"Tie Me Up! Tie Me Down! (1990)\",32],[1019,\"Die xue shuang xiong (Killer, The) (1989)\",31],[1020,\"Gaslight (1944)\",35],[1021,\"8 1\\u002f2 (1963)\",38],[1022,\"Fast, Cheap & Out of Control (1997)\",32],[1023,\"Fathers' Day (1997)\",31],[1024,\"Mrs. Dalloway (1997)\",15],[1025,\"Fire Down Below (1997)\",44],[1026,\"Lay of the Land, The (1997)\",4],[1027,\"Shooter, The (1995)\",3],[1028,\"Grumpier Old Men (1995)\",148],[1029,\"Jury Duty (1995)\",14],[1030,\"Beverly Hillbillies, The (1993)\",20],[1031,\"Lassie (1994)\",7],[1032,\"Little Big League (1994)\",16],[1033,\"Homeward Bound II: Lost in San Francisco (1996)\",32],[1034,\"Quest, The (1996)\",27],[1035,\"Cool Runnings (1993)\",68],[1036,\"Drop Dead Fred (1991)\",24],[1037,\"Grease 2 (1982)\",24],[1038,\"Switchback (1997)\",17],[1039,\"Hamlet (1996)\",90],[1040,\"Two if by Sea (1996)\",25],[1041,\"Forget Paris (1995)\",62],[1042,\"Just Cause (1995)\",28],[1043,\"Rent-a-Kid (1995)\",8],[1044,\"Paper, The (1994)\",40],[1045,\"Fearless (1993)\",25],[1046,\"Malice (1993)\",46],[1047,\"Multiplicity (1996)\",134],[1048,\"She's the One (1996)\",73],[1049,\"House Arrest (1996)\",25],[1050,\"Ghost and Mrs. Muir, The (1947)\",43],[1051,\"Associate, The (1996)\",41],[1052,\"Dracula: Dead and Loving It (1995)\",25],[1053,\"Now and Then (1995)\",24],[1054,\"Mr. Wrong (1996)\",23],[1055,\"Simple Twist of Fate, A (1994)\",10],[1056,\"Cronos (1992)\",10],[1057,\"Pallbearer, The (1996)\",22],[1058,\"War, The (1994)\",15],[1059,\"Don't Be a Menace to South Central While Drinking Your Juice in the Hood (1996)\",35],[1060,\"Adventures of Pinocchio, The (1996)\",39],[1061,\"Evening Star, The (1996)\",29],[1062,\"Four Days in September (1997)\",12],[1063,\"Little Princess, A (1995)\",41],[1064,\"Crossfire (1947)\",4],[1065,\"Koyaanisqatsi (1983)\",53],[1066,\"Balto (1995)\",16],[1067,\"Bottle Rocket (1996)\",44],[1068,\"Star Maker, The (Uomo delle stelle, L') (1995)\",12],[1069,\"Amateur (1994)\",18],[1070,\"Living in Oblivion (1995)\",27],[1071,\"Party Girl (1995)\",16],[1072,\"Pyromaniac's Love Story, A (1995)\",7],[1073,\"Shallow Grave (1994)\",66],[1074,\"Reality Bites (1994)\",77],[1075,\"Man of No Importance, A (1994)\",7],[1076,\"Pagemaster, The (1994)\",12],[1077,\"Love and a .45 (1994)\",8],[1078,\"Oliver & Company (1988)\",22],[1079,\"Joe's Apartment (1996)\",45],[1080,\"Celestial Clockwork (1994)\",2],[1081,\"Curdled (1996)\",8],[1082,\"Female Perversions (1996)\",8],[1083,\"Albino Alligator (1996)\",6],[1084,\"Anne Frank Remembered (1995)\",21],[1085,\"Carried Away (1996)\",11],[1086,\"It's My Party (1995)\",21],[1087,\"Bloodsport 2 (1995)\",10],[1088,\"Double Team (1997)\",13],[1089,\"Speed 2: Cruise Control (1997)\",38],[1090,\"Sliver (1993)\",37],[1091,\"Pete's Dragon (1977)\",43],[1092,\"Dear God (1996)\",12],[1093,\"Live Nude Girls (1995)\",23],[1094,\"Thin Line Between Love and Hate, A (1996)\",12],[1095,\"High School High (1996)\",29],[1096,\"Commandments (1997)\",3],[1097,\"Hate (Haine, La) (1995)\",18],[1098,\"Flirting With Disaster (1996)\",42],[1099,\"Red Firecracker, Green Firecracker (1994)\",13],[1100,\"What Happened Was... (1994)\",8],[1101,\"Six Degrees of Separation (1993)\",74],[1102,\"Two Much (1996)\",7],[1103,\"Trust (1990)\",19],[1104,\"C'est arriv\\u00e9 pr\\u00e8s de chez vous (1992)\",4],[1105,\"Firestorm (1998)\",18],[1106,\"Newton Boys, The (1998)\",4],[1107,\"Beyond Rangoon (1995)\",18],[1108,\"Feast of July (1995)\",5],[1109,\"Death and the Maiden (1994)\",28],[1110,\"Tank Girl (1995)\",41],[1111,\"Double Happiness (1994)\",7],[1112,\"Cobb (1994)\",15],[1113,\"Mrs. Parker and the Vicious Circle (1994)\",22],[1114,\"Faithful (1996)\",10],[1115,\"Twelfth Night (1996)\",29],[1116,\"Mark of Zorro, The (1940)\",13],[1117,\"Surviving Picasso (1996)\",19],[1118,\"Up in Smoke (1978)\",47],[1119,\"Some Kind of Wonderful (1987)\",59],[1120,\"I'm Not Rappaport (1996)\",17],[1121,\"Umbrellas of Cherbourg, The (Parapluies de Cherbourg, Les) (1964)\",21],[1122,\"They Made Me a Criminal (1939)\",1],[1123,\"Last Time I Saw Paris, The (1954)\",3],[1124,\"Farewell to Arms, A (1932)\",12],[1125,\"Innocents, The (1961)\",4],[1126,\"Old Man and the Sea, The (1958)\",32],[1127,\"Truman Show, The (1998)\",11],[1128,\"Heidi Fleiss: Hollywood Madam (1995) \",13],[1129,\"Chungking Express (1994)\",28],[1130,\"Jupiter's Wife (1994)\",1],[1131,\"Safe (1995)\",13],[1132,\"Feeling Minnesota (1996)\",32],[1133,\"Escape to Witch Mountain (1975)\",30],[1134,\"Get on the Bus (1996)\",38],[1135,\"Doors, The (1991)\",46],[1136,\"Ghosts of Mississippi (1996)\",29],[1137,\"Beautiful Thing (1996)\",29],[1138,\"Best Men (1997)\",5],[1139,\"Hackers (1995)\",33],[1140,\"Road to Wellville, The (1994)\",17],[1141,\"War Room, The (1993)\",9],[1142,\"When We Were Kings (1996)\",44],[1143,\"Hard Eight (1996)\",15],[1144,\"Quiet Room, The (1996)\",3],[1145,\"Blue Chips (1994)\",9],[1146,\"Calendar Girl (1993)\",3],[1147,\"My Family (1995)\",21],[1148,\"Tom & Viv (1994)\",9],[1149,\"Walkabout (1971)\",26],[1150,\"Last Dance (1996)\",9],[1151,\"Original Gangstas (1996)\",7],[1152,\"In Love and War (1996)\",28],[1153,\"Backbeat (1993)\",19],[1154,\"Alphaville (1965)\",12],[1155,\"Rendezvous in Paris (Rendez-vous de Paris, Les) (1995)\",3],[1156,\"Cyclo (1995)\",1],[1157,\"Relic, The (1997)\",25],[1158,\"Fille seule, La (A Single Girl) (1995)\",4],[1159,\"Stalker (1979)\",11],[1160,\"Love! Valour! Compassion! (1997)\",26],[1161,\"Palookaville (1996)\",13],[1162,\"Phat Beach (1996)\",5],[1163,\"Portrait of a Lady, The (1996)\",25],[1164,\"Zeus and Roxanne (1997)\",6],[1165,\"Big Bully (1996)\",14],[1166,\"Love & Human Remains (1993)\",12],[1167,\"Sum of Us, The (1994)\",11],[1168,\"Little Buddha (1993)\",22],[1169,\"Fresh (1994)\",10],[1170,\"Spanking the Monkey (1994)\",27],[1171,\"Wild Reeds (1994)\",14],[1172,\"Women, The (1939)\",15],[1173,\"Bliss (1997)\",7],[1174,\"Caught (1996)\",8],[1175,\"Hugo Pool (1997)\",5],[1176,\"Welcome To Sarajevo (1997)\",22],[1177,\"Dunston Checks In (1996)\",7],[1178,\"Major Payne (1994)\",19],[1179,\"Man of the House (1995)\",9],[1180,\"I Love Trouble (1994)\",10],[1181,\"Low Down Dirty Shame, A (1994)\",10],[1182,\"Cops and Robbersons (1994)\",13],[1183,\"Cowboy Way, The (1994)\",19],[1184,\"Endless Summer 2, The (1994)\",10],[1185,\"In the Army Now (1994)\",18],[1186,\"Inkwell, The (1994)\",3],[1187,\"Switchblade Sisters (1975)\",13],[1188,\"Young Guns II (1990)\",44],[1189,\"Prefontaine (1997)\",3],[1190,\"That Old Feeling (1997)\",11],[1191,\"Letter From Death Row, A (1998)\",3],[1192,\"Boys of St. Vincent, The (1993)\",13],[1193,\"Before the Rain (Pred dozhdot) (1994)\",10],[1194,\"Once Were Warriors (1994)\",31],[1195,\"Strawberry and Chocolate (Fresa y chocolate) (1993)\",11],[1196,\"Savage Nights (Nuits fauves, Les) (1992)\",3],[1197,\"Family Thing, A (1996)\",45],[1198,\"Purple Noon (1960)\",7],[1199,\"Cemetery Man (Dellamorte Dellamore) (1994)\",23],[1200,\"Kim (1950)\",7],[1201,\"Marlene Dietrich: Shadow and Light (1996) \",1],[1202,\"Maybe, Maybe Not (Bewegte Mann, Der) (1994)\",8],[1203,\"Top Hat (1935)\",21],[1204,\"To Be or Not to Be (1942)\",18],[1205,\"Secret Agent, The (1996)\",6],[1206,\"Amos & Andrew (1993)\",19],[1207,\"Jade (1995)\",17],[1208,\"Kiss of Death (1995)\",20],[1209,\"Mixed Nuts (1994)\",15],[1210,\"Virtuosity (1995)\",38],[1211,\"Blue Sky (1994)\",12],[1212,\"Flesh and Bone (1993)\",6],[1213,\"Guilty as Sin (1993)\",6],[1214,\"In the Realm of the Senses (Ai no corrida) (1976)\",9],[1215,\"Barb Wire (1996)\",30],[1216,\"Kissed (1996)\",6],[1217,\"Assassins (1995)\",39],[1218,\"Friday (1995)\",26],[1219,\"Goofy Movie, A (1995)\",20],[1220,\"Higher Learning (1995)\",30],[1221,\"When a Man Loves a Woman (1994)\",39],[1222,\"Judgment Night (1993)\",25],[1223,\"King of the Hill (1993)\",4],[1224,\"Scout, The (1994)\",12],[1225,\"Angus (1995)\",14],[1226,\"Night Falls on Manhattan (1997)\",32],[1227,\"Awfully Big Adventure, An (1995)\",8],[1228,\"Under Siege 2: Dark Territory (1995)\",48],[1229,\"Poison Ivy II (1995)\",13],[1230,\"Ready to Wear (Pret-A-Porter) (1994)\",18],[1231,\"Marked for Death (1990)\",22],[1232,\"Madonna: Truth or Dare (1991)\",17],[1233,\"N\\u00e9nette et Boni (1996)\",6],[1234,\"Chairman of the Board (1998)\",8],[1235,\"Big Bang Theory, The (1994)\",1],[1236,\"Other Voices, Other Rooms (1997)\",1],[1237,\"Twisted (1996)\",6],[1238,\"Full Speed (1996)\",8],[1239,\"Cutthroat Island (1995)\",18],[1240,\"Ghost in the Shell (Kokaku kidotai) (1995)\",26],[1241,\"Van, The (1996)\",6],[1242,\"Old Lady Who Walked in the Sea, The (Vieille qui marchait dans la mer, La) (1991)\",5],[1243,\"Night Flier (1997)\",7],[1244,\"Metro (1997)\",36],[1245,\"Gridlock'd (1997)\",19],[1246,\"Bushwhacked (1995)\",7],[1247,\"Bad Girls (1994)\",6],[1248,\"Blink (1994)\",19],[1249,\"For Love or Money (1993)\",12],[1250,\"Best of the Best 3: No Turning Back (1995)\",6],[1251,\"A Chef in Love (1996)\",8],[1252,\"Contempt (M\\u00e9pris, Le) (1963)\",9],[1253,\"Tie That Binds, The (1995)\",7],[1254,\"Gone Fishin' (1997)\",11],[1255,\"Broken English (1996)\",8],[1256,\"Designated Mourner, The (1997)\",3],[1257,\"Designated Mourner, The (1997)\",4],[1258,\"Trial and Error (1997)\",23],[1259,\"Pie in the Sky (1995)\",4],[1260,\"Total Eclipse (1995)\",4],[1261,\"Run of the Country, The (1995)\",4],[1262,\"Walking and Talking (1996)\",8],[1263,\"Foxfire (1996)\",15],[1264,\"Nothing to Lose (1994)\",7],[1265,\"Star Maps (1997)\",19],[1266,\"Bread and Chocolate (Pane e cioccolata) (1973)\",12],[1267,\"Clockers (1995)\",33],[1268,\"Bitter Moon (1992)\",10],[1269,\"Love in the Afternoon (1957)\",10],[1270,\"Life with Mikey (1993)\",7],[1271,\"North (1994)\",7],[1272,\"Talking About Sex (1994)\",5],[1273,\"Color of Night (1994)\",15],[1274,\"Robocop 3 (1993)\",11],[1275,\"Killer (Bulletproof Heart) (1994)\",4],[1276,\"Sunset Park (1996)\",8],[1277,\"Set It Off (1996)\",19],[1278,\"Selena (1997)\",16],[1279,\"Wild America (1997)\",9],[1280,\"Gang Related (1997)\",16],[1281,\"Manny & Lo (1996)\",13],[1282,\"Grass Harp, The (1995)\",9],[1283,\"Out to Sea (1997)\",19],[1284,\"Before and After (1996)\",26],[1285,\"Princess Caraboo (1994)\",15],[1286,\"Shall We Dance? (1937)\",17],[1287,\"Ed (1996)\",6],[1288,\"Denise Calls Up (1995)\",7],[1289,\"Jack and Sarah (1995)\",7],[1290,\"Country Life (1994)\",2],[1291,\"Celtic Pride (1996)\",15],[1292,\"Simple Wish, A (1997)\",3],[1293,\"Star Kid (1997)\",3],[1294,\"Ayn Rand: A Sense of Life (1997)\",7],[1295,\"Kicked in the Head (1997)\",7],[1296,\"Indian Summer (1996)\",20],[1297,\"Love Affair (1994)\",12],[1298,\"Band Wagon, The (1953)\",9],[1299,\"Penny Serenade (1941)\",8],[1300,\"'Til There Was You (1997)\",9],[1301,\"Stripes (1981)\",5],[1302,\"Late Bloomers (1996)\",5],[1303,\"Getaway, The (1994)\",18],[1304,\"New York Cop (1996)\",2],[1305,\"National Lampoon's Senior Trip (1995)\",7],[1306,\"Delta of Venus (1994)\",2],[1307,\"Carmen Miranda: Bananas Is My Business (1994)\",2],[1308,\"Babyfever (1994)\",2],[1309,\"Very Natural Thing, A (1974)\",1],[1310,\"Walk in the Sun, A (1945)\",1],[1311,\"Waiting to Exhale (1995)\",16],[1312,\"Pompatus of Love, The (1996)\",7],[1313,\"Palmetto (1998)\",14],[1314,\"Surviving the Game (1994)\",11],[1315,\"Inventing the Abbotts (1997)\",23],[1316,\"Horse Whisperer, The (1998)\",7],[1317,\"Journey of August King, The (1995)\",4],[1318,\"Catwalk (1995)\",3],[1319,\"Neon Bible, The (1995)\",4],[1320,\"Homage (1995)\",1],[1321,\"Open Season (1996)\",2],[1322,\"Metisse (Caf\\u00e9 au Lait) (1993)\",6],[1323,\"Wooden Man's Bride, The (Wu Kui) (1994)\",3],[1324,\"Loaded (1994)\",5],[1325,\"August (1996)\",1],[1326,\"Boys (1996)\",6],[1327,\"Captives (1994)\",3],[1328,\"Of Love and Shadows (1994)\",6],[1329,\"Low Life, The (1994)\",1],[1330,\"An Unforgettable Summer (1994)\",4],[1331,\"Last Klezmer: Leopold Kozlowski, His Life and Music, The (1995)\",4],[1332,\"My Life and Times With Antonin Artaud (En compagnie d'Antonin Artaud) (1993)\",2],[1333,\"Midnight Dancers (Sibak) (1994)\",5],[1334,\"Somebody to Love (1994)\",2],[1335,\"American Buffalo (1996)\",11],[1336,\"Kazaam (1996)\",10],[1337,\"Larger Than Life (1996)\",9],[1338,\"Two Deaths (1995)\",4],[1339,\"Stefano Quantestorie (1993)\",1],[1340,\"Crude Oasis, The (1995)\",1],[1341,\"Hedd Wyn (1992)\",1],[1342,\"Convent, The (Convento, O) (1995)\",2],[1343,\"Lotto Land (1995)\",1],[1344,\"Story of Xinghua, The (1993)\",5],[1345,\"Day the Sun Turned Cold, The (Tianguo niezi) (1994)\",2],[1346,\"Dingo (1992)\",5],[1347,\"Ballad of Narayama, The (Narayama Bushiko) (1958)\",4],[1348,\"Every Other Weekend (1990)\",1],[1349,\"Mille bolle blu (1993)\",1],[1350,\"Crows and Sparrows (1949)\",2],[1351,\"Lover's Knot (1996)\",3],[1352,\"Shadow of Angels (Schatten der Engel) (1976)\",1],[1353,\"1-900 (1994)\",5],[1354,\"Venice\\u002fVenice (1992)\",2],[1355,\"Infinity (1996)\",6],[1356,\"Ed's Next Move (1996)\",3],[1357,\"For the Moment (1994)\",3],[1358,\"The Deadly Cure (1996)\",2],[1359,\"Boys in Venice (1996)\",2],[1360,\"Sexual Life of the Belgians, The (1994)\",2],[1361,\"Search for One-eye Jimmy, The (1996)\",3],[1362,\"American Strays (1996)\",2],[1363,\"Leopard Son, The (1996)\",1],[1364,\"Bird of Prey (1996)\",1],[1365,\"Johnny 100 Pesos (1993)\",2],[1366,\"JLG\\u002fJLG - autoportrait de d\\u00e9cembre (1994)\",1],[1367,\"Faust (1994)\",5],[1368,\"Mina Tannenbaum (1994)\",6],[1369,\"Forbidden Christ, The (Cristo proibito, Il) (1950)\",4],[1370,\"I Can't Sleep (J'ai pas sommeil) (1994)\",3],[1371,\"Machine, The (1994)\",2],[1372,\"Stranger, The (1994)\",3],[1373,\"Good Morning (1971)\",1],[1374,\"Falling in Love Again (1980)\",2],[1375,\"Cement Garden, The (1993)\",10],[1376,\"Meet Wally Sparks (1997)\",7],[1377,\"Hotel de Love (1996)\",4],[1378,\"Rhyme & Reason (1997)\",5],[1379,\"Love and Other Catastrophes (1996)\",7],[1380,\"Hollow Reed (1996)\",6],[1381,\"Losing Chase (1996)\",8],[1382,\"Bonheur, Le (1965)\",4],[1383,\"Second Jungle Book: Mowgli & Baloo, The (1997)\",6],[1384,\"Squeeze (1996)\",3],[1385,\"Roseanna's Grave (For Roseanna) (1997)\",5],[1386,\"Tetsuo II: Body Hammer (1992)\",6],[1387,\"Fall (1997)\",3],[1388,\"Gabbeh (1996)\",6],[1389,\"Mondo (1996)\",3],[1390,\"Innocent Sleep, The (1995)\",2],[1391,\"For Ever Mozart (1996)\",3],[1392,\"Locusts, The (1997)\",5],[1393,\"Stag (1997)\",9],[1394,\"Swept from the Sea (1997)\",7],[1395,\"Hurricane Streets (1998)\",6],[1396,\"Stonewall (1995)\",5],[1397,\"Of Human Bondage (1934)\",5],[1398,\"Anna (1996)\",2],[1399,\"Stranger in the House (1997)\",7],[1400,\"Picture Bride (1995)\",10],[1401,\"M. Butterfly (1993)\",18],[1402,\"Ciao, Professore! (1993)\",4],[1403,\"Caro Diario (Dear Diary) (1994)\",4],[1404,\"Withnail and I (1987)\",13],[1405,\"Boy's Life 2 (1997)\",6],[1406,\"When Night Is Falling (1995)\",5],[1407,\"Specialist, The (1994)\",20],[1408,\"Gordy (1995)\",3],[1409,\"Swan Princess, The (1994)\",7],[1410,\"Harlem (1993)\",4],[1411,\"Barbarella (1968)\",28],[1412,\"Land Before Time III: The Time of the Great Giving (1995) (V)\",6],[1413,\"Street Fighter (1994)\",8],[1414,\"Coldblooded (1995)\",1],[1415,\"Next Karate Kid, The (1994)\",9],[1416,\"No Escape (1994)\",5],[1417,\"Turning, The (1992)\",2],[1418,\"Joy Luck Club, The (1993)\",3],[1419,\"Highlander III: The Sorcerer (1994)\",16],[1420,\"Gilligan's Island: The Movie (1998)\",3],[1421,\"My Crazy Life (Mi vida loca) (1993)\",11],[1422,\"Suture (1993)\",4],[1423,\"Walking Dead, The (1995)\",4],[1424,\"I Like It Like That (1994)\",3],[1425,\"I'll Do Anything (1994)\",10],[1426,\"Grace of My Heart (1996)\",8],[1427,\"Drunks (1995)\",5],[1428,\"SubUrbia (1997)\",12],[1429,\"Sliding Doors (1998)\",4],[1430,\"Ill Gotten Gains (1997)\",3],[1431,\"Legal Deceit (1997)\",5],[1432,\"Mighty, The (1998)\",3],[1433,\"Men of Means (1998)\",2],[1434,\"Shooting Fish (1997)\",10],[1435,\"Steal Big, Steal Little (1995)\",7],[1436,\"Mr. Jones (1993)\",2],[1437,\"House Party 3 (1994)\",9],[1438,\"Panther (1995)\",5],[1439,\"Jason's Lyric (1994)\",8],[1440,\"Above the Rim (1994)\",5],[1441,\"Moonlight and Valentino (1995)\",7],[1442,\"Scarlet Letter, The (1995)\",5],[1443,\"8 Seconds (1994)\",4],[1444,\"That Darn Cat! (1965)\",19],[1445,\"Ladybird Ladybird (1994)\",4],[1446,\"Bye Bye, Love (1995)\",15],[1447,\"Century (1993)\",1],[1448,\"My Favorite Season (1993)\",3],[1449,\"Pather Panchali (1955)\",8],[1450,\"Golden Earrings (1947)\",2],[1451,\"Foreign Correspondent (1940)\",15],[1452,\"Lady of Burlesque (1943)\",1],[1453,\"Angel on My Shoulder (1946)\",1],[1454,\"Angel and the Badman (1947)\",6],[1455,\"Outlaw, The (1943)\",2],[1456,\"Beat the Devil (1954)\",7],[1457,\"Love Is All There Is (1996)\",1],[1458,\"Damsel in Distress, A (1937)\",1],[1459,\"Madame Butterfly (1995)\",7],[1460,\"Sleepover (1995)\",1],[1461,\"Here Comes Cookie (1935)\",1],[1462,\"Thieves (Voleurs, Les) (1996)\",7],[1463,\"Boys, Les (1997)\",3],[1464,\"Stars Fell on Henrietta, The (1995)\",3],[1465,\"Last Summer in the Hamptons (1995)\",3],[1466,\"Margaret's Museum (1995)\",6],[1467,\"Saint of Fort Washington, The (1993)\",2],[1468,\"Cure, The (1995)\",6],[1469,\"Tom and Huck (1995)\",12],[1470,\"Gumby: The Movie (1995)\",5],[1471,\"Hideaway (1995)\",9],[1472,\"Visitors, The (Visiteurs, Les) (1993)\",2],[1473,\"Little Princess, The (1939)\",9],[1474,\"Nina Takes a Lover (1994)\",6],[1475,\"Bhaji on the Beach (1993)\",8],[1476,\"Raw Deal (1948)\",1],[1477,\"Nightwatch (1997)\",2],[1478,\"Dead Presidents (1995)\",18],[1479,\"Reckless (1995)\",8],[1480,\"Herbie Rides Again (1974)\",11],[1481,\"S.F.W. (1994)\",2],[1482,\"Gate of Heavenly Peace, The (1995)\",1],[1483,\"Man in the Iron Mask, The (1998)\",12],[1484,\"Jerky Boys, The (1994)\",3],[1485,\"Colonel Chabert, Le (1994)\",4],[1486,\"Girl in the Cadillac (1995)\",1],[1487,\"Even Cowgirls Get the Blues (1993)\",5],[1488,\"Germinal (1993)\",4],[1489,\"Chasers (1994)\",5],[1490,\"Fausto (1993)\",3],[1491,\"Tough and Deadly (1995)\",2],[1492,\"Window to Paris (1994)\",1],[1493,\"Modern Affair, A (1995)\",1],[1494,\"Mostro, Il (1994)\",1],[1495,\"Flirt (1995)\",5],[1496,\"Carpool (1996)\",5],[1497,\"Line King: Al Hirschfeld, The (1996)\",2],[1498,\"Farmer & Chase (1995)\",1],[1499,\"Grosse Fatigue (1994)\",4],[1500,\"Santa with Muscles (1996)\",2],[1501,\"Prisoner of the Mountains (Kavkazsky Plennik) (1996)\",5],[1502,\"Naked in New York (1994)\",2],[1503,\"Gold Diggers: The Secret of Bear Mountain (1995)\",10],[1504,\"Bewegte Mann, Der (1994)\",3],[1505,\"Killer: A Journal of Murder (1995)\",1],[1506,\"Nelly & Monsieur Arnaud (1995)\",3],[1507,\"Three Lives and Only One Death (1996)\",1],[1508,\"Babysitter, The (1995)\",3],[1509,\"Getting Even with Dad (1994)\",5],[1510,\"Mad Dog Time (1996)\",1],[1511,\"Children of the Revolution (1996)\",5],[1512,\"World of Apu, The (Apur Sansar) (1959)\",6],[1513,\"Sprung (1997)\",3],[1514,\"Dream With the Fishes (1997)\",7],[1515,\"Wings of Courage (1995)\",1],[1516,\"Wedding Gift, The (1994)\",3],[1517,\"Race the Sun (1996)\",5],[1518,\"Losing Isaiah (1995)\",12],[1519,\"New Jersey Drive (1995)\",2],[1520,\"Fear, The (1995)\",1],[1521,\"Mr. Wonderful (1993)\",4],[1522,\"Trial by Jury (1994)\",7],[1523,\"Good Man in Africa, A (1994)\",2],[1524,\"Kaspar Hauser (1993)\",8],[1525,\"Object of My Affection, The (1998)\",1],[1526,\"Witness (1985)\",1],[1527,\"Senseless (1998)\",7],[1528,\"Nowhere (1997)\",3],[1529,\"Underground (1995)\",5],[1530,\"Jefferson in Paris (1995)\",5],[1531,\"Far From Home: The Adventures of Yellow Dog (1995)\",7],[1532,\"Foreign Student (1994)\",2],[1533,\"I Don't Want to Talk About It (De eso no se habla) (1993)\",1],[1534,\"Twin Town (1997)\",6],[1535,\"Enfer, L' (1994)\",4],[1536,\"Aiqing wansui (1994)\",1],[1537,\"Cosi (1996)\",4],[1538,\"All Over Me (1997)\",3],[1539,\"Being Human (1993)\",4],[1540,\"Amazing Panda Adventure, The (1995)\",10],[1541,\"Beans of Egypt, Maine, The (1994)\",2],[1542,\"Scarlet Letter, The (1926)\",2],[1543,\"Johns (1996)\",1],[1544,\"It Takes Two (1995)\",3],[1545,\"Frankie Starlight (1995)\",4],[1546,\"Shadows (Cienie) (1988)\",1],[1547,\"Show, The (1995)\",2],[1548,\"The Courtyard (1995)\",1],[1549,\"Dream Man (1995)\",2],[1550,\"Destiny Turns on the Radio (1995)\",2],[1551,\"Glass Shield, The (1994)\",2],[1552,\"Hunted, The (1995)\",3],[1553,\"Underneath, The (1995)\",4],[1554,\"Safe Passage (1994)\",2],[1555,\"Secret Adventures of Tom Thumb, The (1993)\",5],[1556,\"Condition Red (1995)\",2],[1557,\"Yankee Zulu (1994)\",1],[1558,\"Aparajito (1956)\",7],[1559,\"Hostile Intentions (1994)\",1],[1560,\"Clean Slate (Coup de Torchon) (1981)\",4],[1561,\"Tigrero: A Film That Was Never Made (1994)\",1],[1562,\"Eye of Vichy, The (Oeil de Vichy, L') (1993)\",1],[1563,\"Promise, The (Versprechen, Das) (1994)\",1],[1564,\"To Cross the Rubicon (1991)\",1],[1565,\"Daens (1992)\",1],[1566,\"Man from Down Under, The (1943)\",1],[1567,\"Careful (1992)\",1],[1568,\"Vermont Is For Lovers (1992)\",1],[1569,\"Vie est belle, La (Life is Rosey) (1987)\",1],[1570,\"Quartier Mozart (1992)\",1],[1571,\"Touki Bouki (Journey of the Hyena) (1973)\",1],[1572,\"Wend Kuuni (God's Gift) (1982)\",1],[1573,\"Spirits of the Dead (Tre passi nel delirio) (1968)\",2],[1574,\"Pharaoh's Army (1995)\",1],[1575,\"I, Worst of All (Yo, la peor de todas) (1990)\",1],[1576,\"Hungarian Fairy Tale, A (1987)\",1],[1577,\"Death in the Garden (Mort en ce jardin, La) (1956)\",1],[1578,\"Collectionneuse, La (1967)\",2],[1579,\"Baton Rouge (1988)\",1],[1580,\"Liebelei (1933)\",1],[1581,\"Woman in Question, The (1950)\",1],[1582,\"T-Men (1947)\",1],[1583,\"Invitation, The (Zaproszenie) (1986)\",1],[1584,\"Symphonie pastorale, La (1946)\",1],[1585,\"American Dream (1990)\",2],[1586,\"Lashou shentan (1992)\",1],[1587,\"Terror in a Texas Town (1958)\",1],[1588,\"Salut cousin! (1996)\",2],[1589,\"Schizopolis (1996)\",4],[1590,\"To Have, or Not (1995)\",2],[1591,\"Duoluo tianshi (1995)\",6],[1592,\"Magic Hour, The (1998)\",5],[1593,\"Death in Brunswick (1991)\",1],[1594,\"Everest (1998)\",2],[1595,\"Shopping (1994)\",1],[1596,\"Nemesis 2: Nebula (1995)\",1],[1597,\"Romper Stomper (1992)\",5],[1598,\"City of Industry (1997)\",6],[1599,\"Someone Else's America (1995)\",1],[1600,\"Guantanamera (1994)\",4],[1601,\"Office Killer (1997)\",1],[1602,\"Price Above Rubies, A (1998)\",3],[1603,\"Angela (1995)\",1],[1604,\"He Walked by Night (1948)\",1],[1605,\"Love Serenade (1996)\",4],[1606,\"Deceiver (1997)\",1],[1607,\"Hurricane Streets (1998)\",3],[1608,\"Buddy (1997)\",4],[1609,\"B*A*P*S (1997)\",3],[1610,\"Truth or Consequences, N.M. (1997)\",3],[1611,\"Intimate Relations (1996)\",2],[1612,\"Leading Man, The (1996)\",4],[1613,\"Tokyo Fist (1995)\",1],[1614,\"Reluctant Debutante, The (1958)\",1],[1615,\"Warriors of Virtue (1997)\",10],[1616,\"Desert Winds (1995)\",1],[1617,\"Hugo Pool (1997)\",2],[1618,\"King of New York (1990)\",1],[1619,\"All Things Fair (1996)\",1],[1620,\"Sixth Man, The (1997)\",9],[1621,\"Butterfly Kiss (1995)\",1],[1622,\"Paris, France (1993)\",3],[1623,\"C\\u00e9r\\u00e9monie, La (1995)\",3],[1624,\"Hush (1998)\",1],[1625,\"Nightwatch (1997)\",1],[1626,\"Nobody Loves Me (Keiner liebt mich) (1994)\",1],[1627,\"Wife, The (1995)\",1],[1628,\"Lamerica (1994)\",4],[1629,\"Nico Icon (1995)\",2],[1630,\"Silence of the Palace, The (Saimt el Qusur) (1994)\",1],[1631,\"Slingshot, The (1993)\",2],[1632,\"Land and Freedom (Tierra y libertad) (1995)\",1],[1633,\"\\u00c1 k\\u00f6ldum klaka (Cold Fever) (1994)\",1],[1634,\"Etz Hadomim Tafus (Under the Domin Tree) (1994)\",1],[1635,\"Two Friends (1986) \",1],[1636,\"Brothers in Trouble (1995)\",1],[1637,\"Girls Town (1996)\",1],[1638,\"Normal Life (1996)\",1],[1639,\"Bitter Sugar (Azucar Amargo) (1996)\",3],[1640,\"Eighth Day, The (1996)\",1],[1641,\"Dadetown (1995)\",1],[1642,\"Some Mother's Son (1996)\",2],[1643,\"Angel Baby (1995)\",4],[1644,\"Sudden Manhattan (1996)\",2],[1645,\"Butcher Boy, The (1998)\",1],[1646,\"Men With Guns (1997)\",2],[1647,\"Hana-bi (1997)\",1],[1648,\"Niagara, Niagara (1997)\",1],[1649,\"Big One, The (1997)\",1],[1650,\"Butcher Boy, The (1998)\",1],[1651,\"Spanish Prisoner, The (1997)\",1],[1652,\"Temptress Moon (Feng Yue) (1996)\",3],[1653,\"Entertaining Angels: The Dorothy Day Story (1996)\",1],[1654,\"Chairman of the Board (1998)\",1],[1655,\"Favor, The (1994)\",1],[1656,\"Little City (1998)\",2],[1657,\"Target (1995)\",1],[1658,\"Substance of Fire, The (1996)\",3],[1659,\"Getting Away With Murder (1996)\",1],[1660,\"Small Faces (1995)\",1],[1661,\"New Age, The (1994)\",1],[1662,\"Rough Magic (1995)\",2],[1663,\"Nothing Personal (1995)\",1],[1664,\"8 Heads in a Duffel Bag (1997)\",4],[1665,\"Brother's Kiss, A (1997)\",1],[1666,\"Ripe (1996)\",1],[1667,\"Next Step, The (1995)\",1],[1668,\"Wedding Bell Blues (1996)\",1],[1669,\"MURDER and murder (1996)\",1],[1670,\"Tainted (1998)\",1],[1671,\"Further Gesture, A (1996)\",1],[1672,\"Kika (1993)\",2],[1673,\"Mirage (1995)\",1],[1674,\"Mamma Roma (1962)\",1],[1675,\"Sunchaser, The (1996)\",1],[1676,\"War at Home, The (1996)\",1],[1677,\"Sweet Nothing (1995)\",1],[1678,\"Mat' i syn (1997)\",1],[1679,\"B. Monkey (1998)\",1],[1680,\"Sliding Doors (1998)\",1],[1681,\"You So Crazy (1994)\",1],[1682,\"Scream of Stone (Schrei aus Stein) (1991)\",1]],\"hovertemplate\":\"tsne_1=%{x}\\u003cbr\\u003etsne_2=%{y}\\u003cbr\\u003eitem_id=%{customdata[0]}\\u003cbr\\u003etitle=%{customdata[1]}\\u003cbr\\u003epopularity=%{marker.color}\\u003cextra\\u003e\\u003c\\u002fextra\\u003e\",\"legendgroup\":\"\",\"marker\":{\"color\":[452,131,90,209,86,26,392,219,299,89,236,267,184,183,293,39,92,10,69,72,84,297,182,174,293,73,57,276,114,37,154,81,97,7,11,13,8,120,87,57,37,148,40,79,80,27,133,117,81,583,81,91,128,104,149,394,40,175,83,64,59,127,82,283,115,162,103,134,321,251,220,129,128,7,5,54,151,33,336,68,110,261,176,18,58,150,138,213,275,95,143,104,112,137,219,295,256,390,172,508,73,54,15,5,74,71,42,65,130,31,272,20,9,67,15,125,378,293,4,67,429,106,115,187,244,97,413,65,129,23,95,246,171,198,259,105,171,19,50,61,72,57,222,243,65,10,185,128,23,157,326,82,247,174,98,148,127,60,101,69,220,106,92,151,64,58,67,316,118,121,65,367,324,420,208,284,137,125,221,221,507,226,291,116,239,251,209,170,66,124,276,116,157,241,301,251,239,127,165,206,89,280,182,350,136,50,66,200,191,331,206,92,134,114,212,290,120,171,111,66,74,365,136,44,109,166,161,244,171,199,142,101,124,280,217,45,384,256,150,156,128,117,132,48,240,124,5,160,130,197,46,158,26,62,172,16,303,509,162,127,43,66,19,101,227,35,9,255,315,136,211,198,223,190,268,298,71,60,28,85,146,232,177,193,162,481,78,478,259,96,127,114,147,485,77,6,50,194,73,431,230,297,134,149,87,96,188,30,28,145,75,80,350,5,160,112,102,298,168,20,169,218,240,125,128,175,175,295,45,41,113,143,251,64,21,43,18,91,47,189,11,52,124,55,65,126,137,27,31,41,20,26,14,72,41,97,264,143,18,10,10,28,47,37,48,47,170,31,55,39,67,34,39,11,23,24,13,101,43,116,100,111,31,69,208,87,65,28,27,10,59,68,192,12,56,54,12,26,89,18,76,170,201,101,344,49,43,112,70,162,163,93,55,62,25,64,73,129,178,81,106,26,300,19,85,32,219,121,97,93,153,174,171,67,216,99,5,6,5,14,53,4,162,46,22,9,121,85,117,63,170,66,16,16,145,48,27,90,24,28,74,148,71,27,85,52,48,64,67,108,221,158,126,194,250,160,95,104,179,179,63,128,243,138,125,64,68,65,52,50,67,59,60,56,59,231,68,152,62,31,123,57,39,122,68,90,98,215,121,121,173,57,72,180,201,63,91,89,80,124,120,35,164,46,73,124,195,121,93,80,129,22,15,13,54,10,30,66,44,43,49,51,21,71,12,254,41,12,92,151,24,45,63,102,10,12,17,70,137,22,59,48,29,27,22,179,35,230,67,50,28,29,33,15,44,93,41,92,19,32,59,168,37,79,39,34,14,202,43,18,178,9,12,5,64,127,206,4,1,2,20,50,209,81,31,66,66,30,60,41,40,34,27,51,59,64,18,18,64,43,11,39,39,22,82,4,75,169,77,31,119,58,69,24,23,91,38,44,40,82,33,89,4,35,27,38,70,67,50,72,171,90,34,147,227,44,131,79,115,153,88,82,116,46,100,5,12,6,13,36,46,65,86,48,54,77,1,219,107,34,27,100,49,169,157,50,69,44,87,155,16,164,91,44,13,79,40,10,102,15,10,53,19,24,137,6,70,101,104,79,1,51,72,13,87,58,82,16,29,86,54,58,34,76,16,14,63,45,81,24,39,180,15,27,137,78,59,31,164,63,58,267,39,92,16,119,102,316,51,124,180,39,24,57,96,128,4,21,11,46,44,115,149,29,32,9,11,52,42,57,41,49,17,32,26,9,4,76,31,69,84,10,37,2,39,14,13,3,47,66,10,86,10,46,21,36,31,9,5,26,16,40,9,8,27,50,9,31,43,45,18,18,56,1,112,21,3,25,40,93,22,4,82,49,83,80,57,13,34,1,91,22,49,25,15,26,25,4,4,53,48,27,30,42,176,44,55,9,53,4,4,1,14,16,66,36,1,3,15,16,3,18,24,86,21,119,6,5,24,9,75,42,81,39,53,47,52,33,136,59,45,34,13,7,13,53,64,15,13,43,6,53,14,19,106,44,2,58,9,42,12,42,18,20,27,21,2,20,13,4,4,9,2,11,13,18,7,8,96,5,46,34,58,85,34,101,6,104,40,80,57,40,21,68,7,32,37,25,60,32,46,45,40,43,40,61,17,48,71,30,39,45,22,11,49,46,2,14,64,25,34,23,41,9,21,26,12,18,75,8,34,28,4,32,44,12,49,27,35,22,8,20,15,44,22,23,4,86,32,33,25,4,66,7,31,14,16,16,10,10,17,8,8,9,22,23,47,37,64,44,93,100,38,98,12,137,50,32,31,35,38,32,31,15,44,4,3,148,14,20,7,16,32,27,68,24,24,17,90,25,62,28,8,40,25,46,134,73,25,43,41,25,24,23,10,10,22,15,35,39,29,12,41,4,53,16,44,12,18,27,16,7,66,77,7,12,8,22,45,2,8,8,6,21,11,21,10,13,38,37,43,12,23,12,29,3,18,42,13,8,74,7,19,4,18,4,18,5,28,41,7,15,22,10,29,13,19,47,59,17,21,1,3,12,4,32,11,13,28,1,13,32,30,38,46,29,29,5,33,17,9,44,15,3,9,3,21,9,26,9,7,28,19,12,3,1,25,4,11,26,13,5,25,6,14,12,11,22,10,27,14,15,7,8,5,22,7,19,9,10,10,13,19,10,18,3,13,44,3,11,3,13,10,31,11,3,45,7,23,7,1,8,21,18,6,19,17,20,15,38,12,6,6,9,30,6,39,26,20,30,39,25,4,12,14,32,8,48,13,18,22,17,6,8,1,1,6,8,18,26,6,5,7,36,19,7,6,19,12,6,8,9,7,11,8,3,4,23,4,4,4,8,15,7,19,12,33,10,10,7,7,5,15,11,4,8,19,16,9,16,13,9,19,26,15,17,6,7,7,2,15,3,3,7,7,20,12,9,8,9,5,5,18,2,7,2,2,2,1,1,16,7,14,11,23,7,4,3,4,1,2,6,3,5,1,6,3,6,1,4,4,2,5,2,11,10,9,4,1,1,1,2,1,5,2,5,4,1,1,2,3,1,5,2,6,3,3,2,2,2,3,2,1,1,2,1,5,6,4,3,2,3,1,2,10,7,4,5,7,6,8,4,6,3,5,6,3,6,3,2,3,5,9,7,6,5,5,2,7,10,18,4,4,13,6,5,20,3,7,4,28,6,8,1,9,5,2,3,16,3,11,4,4,3,10,8,5,12,4,3,5,3,2,10,7,2,9,5,8,5,7,5,4,19,4,15,1,3,8,2,15,1,1,6,2,7,1,1,7,1,1,7,3,3,3,6,2,6,12,5,9,2,9,6,8,1,2,18,8,11,2,1,12,3,4,1,5,4,5,3,2,1,1,1,5,5,2,1,4,2,5,2,10,3,1,3,1,3,5,1,5,6,3,7,1,3,5,12,2,1,4,7,2,8,1,1,7,3,5,5,7,2,1,6,4,1,4,3,4,10,2,2,1,3,4,1,2,1,2,2,2,3,4,2,5,2,1,7,1,4,1,1,1,1,1,1,1,1,1,1,1,1,2,1,1,1,1,2,1,1,1,1,1,1,2,1,1,2,4,2,6,5,1,2,1,1,5,6,1,4,1,3,1,1,4,1,3,4,3,3,2,4,1,1,10,1,2,1,1,9,1,3,3,1,1,1,1,4,2,1,2,1,1,1,1,1,1,1,3,1,1,2,4,2,1,2,1,1,1,1,1,3,1,1,1,2,1,3,1,1,1,2,1,4,1,1,1,1,1,1,1,2,1,1,1,1,1,1,1,1,1,1],\"coloraxis\":\"coloraxis\",\"symbol\":\"circle\"},\"mode\":\"markers\",\"name\":\"\",\"showlegend\":false,\"x\":[10.69198989868164,9.610832214355469,21.751056671142578,-5.272697448730469,14.428170204162598,-21.744638442993164,-9.8438138961792,-12.154257774353027,-29.483728408813477,-24.906959533691406,-6.699661731719971,-19.112693786621094,-25.1073055267334,-28.682281494140625,12.88089370727539,-13.174646377563477,2.473074436187744,-5.731672763824463,-19.839677810668945,-28.144941329956055,7.21791410446167,10.108366966247559,-19.148427963256836,1.1009587049484253,0.7207145690917969,-6.871255874633789,-2.024829149246216,8.210460662841797,15.214164733886719,-15.566461563110352,12.40406608581543,-15.922860145568848,-1.0708229541778564,3.3979673385620117,29.889188766479492,10.875086784362793,-3.5037410259246826,10.176074981689453,-18.209651947021484,18.364774703979492,2.039060115814209,-14.220170021057129,2.2667133808135986,-17.70266342163086,-19.003507614135742,-26.80703353881836,-11.327943801879883,-23.355070114135742,0.5265341401100159,4.575815677642822,10.04110336303711,-15.53293514251709,-8.235356330871582,12.83043384552002,-12.876548767089844,-13.41594409942627,-15.72990608215332,-7.532171249389648,-18.903566360473633,-18.750534057617188,-18.225309371948242,13.039644241333008,7.752560138702393,-19.151277542114258,-21.940330505371094,11.296273231506348,15.696819305419922,2.0447680950164795,-12.764547348022461,-10.262715339660645,6.714120388031006,2.7757437229156494,15.59691047668457,3.5923779010772705,3.5874435901641846,-5.989666938781738,14.083389282226562,21.9208984375,9.75898265838623,19.420825958251953,-13.966886520385742,17.202072143554688,-11.767646789550781,9.330947875976562,10.974396705627441,-18.084144592285156,-0.47787055373191833,9.642572402954102,-21.223052978515625,2.167357921600342,-12.665705680847168,-10.737546920776367,-20.417266845703125,17.771909713745117,6.999089241027832,5.0755181312561035,-7.89111852645874,-14.992049217224121,-14.01179313659668,-20.87809181213379,12.590869903564453,11.087394714355469,28.645044326782227,26.14155387878418,18.551227569580078,13.96792984008789,-23.262239456176758,-3.9389283657073975,0.49176502227783203,11.408699989318848,5.354002475738525,12.19438648223877,-18.492612838745117,-18.96495246887207,5.22260046005249,-27.81754493713379,13.021267890930176,14.54206371307373,-15.331637382507324,14.955946922302246,14.61911392211914,-2.770313262939453,10.185826301574707,-32.12807846069336,13.266047477722168,-9.908461570739746,-21.665014266967773,0.7857532501220703,-9.302943229675293,28.12235450744629,-26.618213653564453,-25.868051528930664,-13.27235221862793,-16.941179275512695,-21.87696647644043,-11.735051155090332,-31.7802734375,19.886930465698242,8.348407745361328,2.7969040870666504,-7.414964199066162,5.8056416511535645,8.025829315185547,6.087701320648193,5.59721565246582,13.302382469177246,17.18609619140625,12.180694580078125,-8.362625122070312,-26.689634323120117,-27.200485229492188,-11.607405662536621,-8.872056007385254,-15.346511840820312,7.331007957458496,-18.71660614013672,-7.190031051635742,16.21738052368164,0.10763555765151978,-18.858911514282227,7.335152626037598,-11.47377872467041,3.3698575496673584,7.767895221710205,-16.149354934692383,-17.32481575012207,1.2561266422271729,-10.469710350036621,-19.60700035095215,-25.844282150268555,-28.25214195251465,4.318979740142822,4.799649715423584,5.9666361808776855,-13.836566925048828,3.5132603645324707,-11.390374183654785,-24.108074188232422,-19.544763565063477,-19.132230758666992,4.609113693237305,-10.697023391723633,3.4846909046173096,2.0724215507507324,-25.398662567138672,2.549381732940674,-20.952192306518555,-13.956217765808105,-15.575543403625488,-17.11220932006836,-24.96234130859375,-17.724809646606445,-15.463207244873047,-9.071513175964355,4.9704179763793945,-11.641789436340332,-25.93503761291504,-15.268900871276855,-10.232776641845703,-9.697623252868652,-14.452094078063965,7.078650951385498,-16.53959083557129,6.391112327575684,-9.474190711975098,-28.669763565063477,-16.090389251708984,-12.124486923217773,-16.7548885345459,10.6720552444458,-10.121565818786621,-26.19327735900879,-15.8363037109375,-7.559142589569092,7.604097843170166,-4.070444583892822,6.967586040496826,-1.0043693780899048,7.326600551605225,3.6286048889160156,-28.016260147094727,4.107888698577881,-11.23052978515625,-17.614944458007812,4.07804012298584,12.769264221191406,5.867111682891846,4.983251094818115,9.709205627441406,17.409482955932617,19.90952491760254,13.726730346679688,13.373530387878418,-15.991594314575195,-6.008986473083496,-19.23554801940918,12.76668643951416,-13.773529052734375,13.666131973266602,1.1034584045410156,7.130805015563965,-29.040620803833008,6.042062759399414,-4.370855331420898,3.1404826641082764,-33.17813491821289,21.00592041015625,-10.908945083618164,-5.221290111541748,-0.2591632902622223,-27.54773712158203,18.306095123291016,-20.210739135742188,19.84334373474121,11.321432113647461,-23.48434066772461,11.947892189025879,0.9700511693954468,5.117709159851074,-6.087218284606934,0.4817076623439789,-31.314712524414062,17.193613052368164,5.564405918121338,9.66309642791748,2.926720380783081,10.489908218383789,-33.184471130371094,-30.496929168701172,10.207724571228027,2.6883113384246826,-18.636014938354492,-3.764202356338501,10.993429183959961,-19.131065368652344,-17.42505645751953,-12.729631423950195,3.3496997356414795,3.8847577571868896,14.598798751831055,1.0307745933532715,15.219114303588867,-17.19781494140625,15.009191513061523,-28.543092727661133,-32.6349983215332,-16.914417266845703,3.0251853466033936,2.0161941051483154,2.431109666824341,15.00902271270752,-30.2917423248291,-14.100394248962402,2.7909398078918457,11.70634651184082,-4.852985382080078,-21.8117733001709,-4.778894424438477,-8.703705787658691,3.7796239852905273,2.9724574089050293,-19.23526382446289,-32.62918472290039,0.8230602741241455,-32.809696197509766,-19.857624053955078,0.5700034499168396,-23.517263412475586,4.914149284362793,3.8560702800750732,-30.063840866088867,-10.069107055664062,11.14762020111084,22.920982360839844,-17.93937873840332,-18.42608642578125,-28.32337760925293,-14.793380737304688,-30.351821899414062,-12.115425109863281,-7.019102096557617,5.057834148406982,5.542390823364258,-8.530401229858398,22.063859939575195,3.85870361328125,-0.23759788274765015,2.990049123764038,1.361733078956604,-4.942473411560059,0.10686462372541428,3.9437074661254883,2.8262290954589844,-25.725996017456055,-7.851263523101807,12.95660400390625,-22.44514274597168,11.156362533569336,-8.342809677124023,-16.65805435180664,-11.864297866821289,15.40425968170166,1.9417307376861572,-12.033129692077637,-30.876428604125977,-17.608036041259766,-10.240647315979004,0.5083434581756592,5.470954418182373,-11.125007629394531,7.1239471435546875,16.39658546447754,11.475890159606934,11.743461608886719,15.124982833862305,9.566788673400879,-23.331106185913086,18.83351707458496,-18.490890502929688,-18.114225387573242,-16.200847625732422,-4.764347553253174,15.030123710632324,19.59193229675293,7.23753023147583,15.999286651611328,6.420436859130859,17.72325325012207,-7.971935749053955,10.042619705200195,-21.18296241760254,-17.610946655273438,12.512678146362305,18.26906967163086,19.06774139404297,11.934142112731934,10.037388801574707,6.428982257843018,-3.8661038875579834,16.37957191467285,-26.44884490966797,-14.643963813781738,26.312347412109375,16.263763427734375,16.576618194580078,1.0740195512771606,-14.228802680969238,19.879985809326172,7.555335521697998,-4.852244853973389,5.130274295806885,8.630796432495117,6.99552583694458,7.482834339141846,20.47261619567871,-5.66482400894165,17.875389099121094,20.195087432861328,15.322524070739746,2.6527960300445557,-4.337857723236084,8.119776725769043,8.826493263244629,-14.34764289855957,12.95406723022461,21.27367401123047,17.669517517089844,-19.62230682373047,-1.0558054447174072,11.991204261779785,16.079267501831055,-5.098686218261719,11.07649040222168,-22.967857360839844,1.2887687683105469,-9.160926818847656,-0.6243324279785156,7.279726505279541,4.9139628410339355,-15.041549682617188,-2.5834615230560303,-2.025233268737793,-13.2740478515625,24.28654670715332,-28.376070022583008,-2.8192944526672363,-24.637466430664062,-28.473798751831055,3.4938056468963623,-26.001232147216797,9.352099418640137,-13.36226749420166,-10.86270523071289,-11.515215873718262,-16.61034393310547,-9.481674194335938,28.66729736328125,28.411985397338867,30.256698608398438,20.170114517211914,8.70942497253418,22.17707633972168,-24.486061096191406,-6.820456027984619,-9.964706420898438,8.520169258117676,-16.367164611816406,-2.0470871925354004,4.114302635192871,4.607502460479736,5.000324726104736,16.058582305908203,21.992769241333008,8.412081718444824,1.5557209253311157,19.32809066772461,8.258153915405273,-14.649271011352539,-18.305809020996094,-4.3676934242248535,-12.254405975341797,-23.17037582397461,-24.989383697509766,-14.994256973266602,5.340057849884033,-23.249317169189453,-12.781929016113281,11.577496528625488,-15.29898452758789,7.106131553649902,13.248871803283691,17.86972427368164,-5.793166160583496,-27.02399253845215,-15.014647483825684,1.9606472253799438,-9.8742036819458,-16.96829605102539,-21.497936248779297,-24.085777282714844,-10.911669731140137,-24.3847713470459,-24.000778198242188,-22.862730026245117,-23.225629806518555,-2.0265514850616455,-21.152359008789062,-19.009750366210938,-15.306614875793457,-24.723379135131836,-11.269218444824219,-24.272926330566406,-24.93896484375,-11.674296379089355,-8.709491729736328,-13.02148151397705,-9.486268997192383,-25.53809356689453,-27.977474212646484,-9.366130828857422,-14.121650695800781,6.739957809448242,-2.200392961502075,-27.65618896484375,-22.037296295166016,-26.155895233154297,-16.680343627929688,-5.088204383850098,-21.235536575317383,-25.198213577270508,-20.736122131347656,-18.11601448059082,-16.68606948852539,-31.557233810424805,-31.535114288330078,-22.831375122070312,-18.261260986328125,-26.704755783081055,-21.611209869384766,-9.901378631591797,-17.66318702697754,-26.19515609741211,-17.068857192993164,-17.106273651123047,-16.21748161315918,-8.229947090148926,-11.425787925720215,-23.253944396972656,-28.151073455810547,-20.59473419189453,-12.919323921203613,-9.14886474609375,-20.172574996948242,-25.34575080871582,0.7458905577659607,-26.45330047607422,-14.482063293457031,4.055784702301025,15.81032657623291,6.436817646026611,8.517908096313477,24.06604766845703,-28.48371124267578,-9.657026290893555,21.28575325012207,11.324384689331055,-14.053976058959961,-6.781060218811035,-20.085250854492188,12.49551773071289,15.617437362670898,13.200065612792969,4.277936935424805,16.774747848510742,21.61553955078125,-5.099003791809082,-14.061097145080566,-13.282010078430176,21.677749633789062,3.669301748275757,0.461738258600235,0.7361935377120972,10.985784530639648,6.829774856567383,16.79583740234375,3.8755104541778564,-4.972085952758789,8.211380004882812,13.043700218200684,0.8793330788612366,21.15058135986328,4.951159954071045,-0.3853943943977356,8.42323112487793,22.210725784301758,14.499212265014648,30.126386642456055,12.776795387268066,11.088347434997559,-0.08739912509918213,-16.87546157836914,-28.15453338623047,-3.7275888919830322,-15.844208717346191,20.888080596923828,19.57237434387207,-16.8333797454834,6.93581485748291,-17.73971176147461,23.37865447998047,13.012489318847656,-13.355649948120117,-23.537063598632812,-4.5282206535339355,11.18263053894043,7.9695892333984375,14.76130485534668,15.269923210144043,22.938106536865234,-7.080238342285156,-0.34865081310272217,-12.215718269348145,-22.267759323120117,-24.033527374267578,-2.461869478225708,-23.13361930847168,-22.942899703979492,-23.852745056152344,-2.792750597000122,-20.346418380737305,-17.3249454498291,-9.767194747924805,-19.28373908996582,-0.8958449363708496,-24.196474075317383,-22.679988861083984,-11.848734855651855,-7.7377448081970215,15.162328720092773,-2.1243391036987305,-3.289523124694824,3.2332468032836914,9.765470504760742,24.942211151123047,8.135063171386719,-24.130001068115234,10.834501266479492,14.594970703125,-0.07366540282964706,16.516347885131836,-16.87038803100586,-24.582141876220703,-28.372501373291016,6.615642547607422,-6.7086262702941895,5.329781532287598,-7.638970851898193,-24.294658660888672,-14.854470252990723,-13.473718643188477,-19.823402404785156,-20.65053367614746,-24.1842041015625,-25.553621292114258,-19.294437408447266,-10.842516899108887,-20.701196670532227,-23.575321197509766,-17.01578140258789,-23.38429069519043,-8.258651733398438,-24.50118064880371,-19.827558517456055,-18.919384002685547,-16.264068603515625,-18.930892944335938,-26.85062026977539,8.773974418640137,-23.23673439025879,-2.4011099338531494,-21.41970443725586,3.1403865814208984,-22.20067596435547,-20.82124900817871,-0.7822603583335876,12.759333610534668,10.808201789855957,-3.3261818885803223,23.35038185119629,-0.5286667943000793,-24.86985206604004,-2.74564266204834,11.00562572479248,-1.7260868549346924,-20.070127487182617,-14.868254661560059,35.33102035522461,5.463291168212891,-7.528293132781982,2.854717254638672,10.850916862487793,4.574173450469971,7.27815055847168,4.927052974700928,9.960293769836426,8.712427139282227,18.478984832763672,10.732245445251465,4.237565517425537,-0.951381266117096,-22.377227783203125,7.729478359222412,-11.073015213012695,-18.581016540527344,-5.8640360832214355,-5.122745037078857,-15.24601936340332,-9.326900482177734,-8.500422477722168,-0.7633718252182007,-23.995222091674805,-0.9431804418563843,-1.3206462860107422,-0.5023719668388367,-25.703659057617188,-0.30416661500930786,-20.160152435302734,-17.08734130859375,-31.87107276916504,1.932660460472107,36.7801513671875,5.457241535186768,-30.159713745117188,-7.609224796295166,-18.129114151000977,-1.125362753868103,25.019372940063477,-24.222951889038086,8.085736274719238,8.7786865234375,13.78519344329834,3.847857713699341,0.6677497029304504,-23.082664489746094,16.340946197509766,8.002187728881836,-12.790813446044922,17.962167739868164,12.394227981567383,-21.360595703125,9.449478149414062,7.352557182312012,-19.98666763305664,10.561062812805176,-11.402350425720215,-20.844511032104492,-1.6159799098968506,1.4418938159942627,7.487704753875732,-19.4212646484375,-11.34172248840332,13.196428298950195,18.25786590576172,-14.931196212768555,-15.197225570678711,-12.103239059448242,-20.22331428527832,4.5656819343566895,-8.876361846923828,-17.441383361816406,1.0614266395568848,-11.031375885009766,-21.256532669067383,2.518655300140381,18.29093360900879,14.096832275390625,4.513710021972656,26.062761306762695,14.691075325012207,-2.1410341262817383,5.465301990509033,-4.217276096343994,11.392422676086426,-13.975496292114258,9.724909782409668,-5.173420429229736,13.590465545654297,10.008522033691406,19.765275955200195,-31.045637130737305,15.388016700744629,-13.588299751281738,-5.346928596496582,19.96920394897461,0.5612559914588928,0.04847308248281479,16.506757736206055,-1.9732048511505127,10.277210235595703,7.208326816558838,9.947281837463379,-7.910177230834961,19.013721466064453,37.37790298461914,3.910583019256592,-5.494912147521973,9.252812385559082,35.98019790649414,-17.18219566345215,7.073119640350342,16.783533096313477,-22.73668670654297,-9.387688636779785,5.030404567718506,23.366933822631836,21.532608032226562,3.1840949058532715,19.61066246032715,-22.70488929748535,1.0506064891815186,5.860613822937012,18.65665054321289,-7.167623043060303,18.40057945251465,-23.354568481445312,-14.572463989257812,0.13670825958251953,10.01444149017334,13.999319076538086,4.270545482635498,-19.207393646240234,1.7163918018341064,-18.851762771606445,34.960357666015625,14.701992988586426,12.889758110046387,6.330669403076172,-5.804202556610107,5.296639919281006,13.696781158447266,11.325776100158691,2.343867778778076,6.137638568878174,-6.766809940338135,18.202430725097656,12.109865188598633,15.362857818603516,9.342100143432617,5.710258483886719,22.92266273498535,20.796321868896484,15.585165977478027,1.8037134408950806,19.94508934020996,-21.237424850463867,-15.302264213562012,-9.572395324707031,23.30054473876953,22.450590133666992,13.441306114196777,14.51822280883789,-23.618749618530273,-5.706695079803467,-19.560800552368164,-10.979988098144531,14.095935821533203,-12.866719245910645,-21.054935455322266,15.826648712158203,-16.247291564941406,-25.28612518310547,22.928861618041992,-18.8612003326416,-18.78727912902832,-25.880300521850586,-28.78297996520996,15.633928298950195,28.571069717407227,-3.055767774581909,9.352334976196289,-6.0401930809021,23.367063522338867,-13.879610061645508,5.950900077819824,-25.817712783813477,12.13058853149414,-26.215173721313477,-24.84048843383789,13.690905570983887,15.933942794799805,19.37009048461914,-7.052131175994873,4.171877861022949,-11.29375171661377,-8.499682426452637,-3.5351340770721436,7.887604236602783,7.828961372375488,4.751733303070068,-6.832311153411865,-3.4495770931243896,-17.405555725097656,-22.081382751464844,-12.387864112854004,8.799822807312012,-9.559385299682617,-29.79486083984375,-14.829858779907227,-9.537562370300293,26.647891998291016,-0.6292975544929504,12.518628120422363,-0.507490873336792,10.527408599853516,4.5108747482299805,-21.20899200439453,19.030134201049805,-11.889674186706543,-18.705398559570312,-27.53115463256836,19.373550415039062,-25.247093200683594,-1.4579061269760132,-12.829204559326172,12.190780639648438,-14.026090621948242,8.421945571899414,-8.354720115661621,-17.345308303833008,16.79366111755371,13.165573120117188,-3.2608377933502197,22.84231185913086,4.076595306396484,-14.386837005615234,-7.24276065826416,-8.012049674987793,9.918506622314453,-21.150060653686523,-14.560429573059082,-19.716632843017578,-26.159748077392578,-20.916072845458984,0.8308305144309998,1.3031851053237915,24.709463119506836,25.925594329833984,13.531939506530762,-0.3018195629119873,24.86725616455078,23.438875198364258,23.40971565246582,12.359864234924316,11.042359352111816,-23.151844024658203,-16.788238525390625,-1.6396284103393555,6.558327674865723,-15.940752983093262,11.786371231079102,6.1895551681518555,-9.642577171325684,-12.835965156555176,20.421716690063477,0.19533199071884155,-3.3273370265960693,-24.81463050842285,13.358688354492188,-3.2151143550872803,-4.959704875946045,-0.7277595400810242,-4.158211708068848,-25.19911766052246,2.945417881011963,-18.441265106201172,-24.352140426635742,-3.017683506011963,-22.34489631652832,-11.143733978271484,-30.17120933532715,-26.67576789855957,-10.998982429504395,-0.5089145302772522,-21.300825119018555,-20.70113754272461,0.665956974029541,-14.06474781036377,2.6243197917938232,-22.20311164855957,-23.627994537353516,-21.1806640625,-28.26475715637207,3.0650217533111572,16.553651809692383,-6.509936332702637,25.42795181274414,-3.2519373893737793,13.314241409301758,3.7978880405426025,-8.707833290100098,16.803640365600586,19.53411293029785,10.890144348144531,5.775250434875488,-8.607572555541992,19.5555419921875,19.87358283996582,17.786096572875977,-2.8463339805603027,-12.136999130249023,7.407881259918213,18.753917694091797,4.021805286407471,13.958734512329102,-25.642635345458984,11.349541664123535,12.64264965057373,14.933871269226074,7.465256214141846,14.06820297241211,26.88060188293457,9.74848747253418,25.303543090820312,3.095348596572876,-12.89609146118164,-13.210132598876953,-23.69478416442871,-17.389888763427734,-21.634639739990234,-10.708568572998047,-15.63345718383789,-6.530886173248291,8.913721084594727,0.19285179674625397,1.707131266593933,12.82775592803955,-7.4489336013793945,-2.349069118499756,-16.563486099243164,-24.6105899810791,-14.310885429382324,-16.533845901489258,5.636790752410889,-21.212923049926758,0.8383106589317322,-12.041594505310059,30.846981048583984,15.590377807617188,23.01891326904297,17.578107833862305,9.213497161865234,13.746638298034668,9.015810012817383,15.809503555297852,15.743852615356445,12.921760559082031,21.85382843017578,6.779452800750732,-5.053262710571289,14.016423225402832,8.008344650268555,-10.910073280334473,3.583735704421997,-2.3417491912841797,-13.857443809509277,6.811324119567871,15.124831199645996,-7.545127868652344,21.011205673217773,-2.7648253440856934,12.595746994018555,23.490732192993164,10.485090255737305,16.89725112915039,5.516374588012695,-11.290815353393555,-2.757218360900879,2.2023298740386963,6.173420429229736,-22.02060317993164,4.30354118347168,-15.173389434814453,-4.483476161956787,-24.633852005004883,-20.832401275634766,-11.48624038696289,-10.373119354248047,-17.37936782836914,-20.387645721435547,-21.719953536987305,-3.4847497940063477,12.951549530029297,-25.024229049682617,0.06149514392018318,-15.29236888885498,17.473581314086914,-17.707576751708984,21.53460693359375,9.450947761535645,-14.003059387207031,-4.070967674255371,-5.850062847137451,-1.9394289255142212,-24.85990333557129,-8.245160102844238,6.150981426239014,25.36668586730957,23.235721588134766,23.720409393310547,12.894184112548828,3.8534679412841797,9.309053421020508,-10.219024658203125,15.559950828552246,14.455331802368164,-5.3328471183776855,-20.242151260375977,-21.847888946533203,-18.942432403564453,3.293627977371216,-18.928064346313477,21.696582794189453,-17.570478439331055,16.52214813232422,3.712153434753418,-6.228909492492676,-1.9223734140396118,-12.054636001586914,-9.473661422729492,-0.8017244338989258,-15.421422958374023,5.529018878936768,-26.12975311279297,-1.8419221639633179,-14.445549011230469,-25.01255989074707,-2.047538995742798,-12.05336856842041,8.262823104858398,-1.2928743362426758,-15.580521583557129,-14.647368431091309,-16.162813186645508,0.6736293435096741,-22.25104331970215,-21.88265609741211,4.708606719970703,-6.6829071044921875,-22.479700088500977,-10.329236030578613,-26.741451263427734,-6.234053611755371,-1.547716498374939,-21.172027587890625,-1.6072784662246704,1.8565900325775146,-25.256187438964844,7.250848770141602,7.4874420166015625,16.514795303344727,-8.268135070800781,-29.904903411865234,-16.214279174804688,-16.4695987701416,7.173081398010254,31.35153579711914,-23.0731258392334,-26.347305297851562,-15.482680320739746,-22.71767234802246,11.759057998657227,-0.5380594730377197,-5.525291442871094,-4.458641052246094,36.69932174682617,-5.603119373321533,9.051982879638672,-16.10641098022461,-19.941959381103516,-15.077492713928223,-6.917134761810303,26.087556838989258,17.996044158935547,5.613866806030273,17.880619049072266,-14.983482360839844,2.9762892723083496,-0.3529593050479889,-24.115745544433594,-22.30430793762207,-12.193068504333496,-15.131314277648926,-0.40966248512268066,-6.354825019836426,-16.410369873046875,-24.009536743164062,16.380416870117188,16.605215072631836,21.320009231567383,6.704568386077881,25.959897994995117,21.369474411010742,22.683490753173828,-6.900557518005371,22.80162239074707,-23.857114791870117,-7.703827857971191,2.942843198776245,0.4152263104915619,13.092630386352539,-20.541465759277344,-13.163744926452637,-16.745155334472656,-17.820871353149414,-7.481492519378662,0.28205952048301697,-23.18596649169922,-14.458864212036133,-6.6185784339904785,-0.725069522857666,35.047035217285156,-24.993289947509766,-24.547178268432617,-20.30771255493164,12.543846130371094,13.353891372680664,14.308401107788086,26.05838966369629,21.775562286376953,6.5047125816345215,-8.076473236083984,-3.55682373046875,11.461466789245605,20.905054092407227,18.09014129638672,-6.480838775634766,18.53533935546875,9.264981269836426,8.95702075958252,16.374874114990234,-12.49855899810791,-5.842825412750244,-6.811519145965576,1.299639344215393,9.50130558013916,-9.660139083862305,-5.2129082679748535,17.98358154296875,9.914011001586914,25.966571807861328,14.387431144714355,-3.926525592803955,-4.201698303222656,-6.575870990753174,-0.1345246285200119,35.495811462402344,0.08491836488246918,4.30016565322876,8.975493431091309,-18.838685989379883,-21.12686538696289,13.155632972717285,-0.20172835886478424,16.51358413696289,-21.24388885498047,21.080419540405273,21.30817985534668,-2.885686159133911,10.284566879272461,31.589693069458008,-19.866844177246094,-10.796924591064453,7.131836891174316,20.209457397460938,-5.26789665222168,17.182405471801758,15.876995086669922,12.40787410736084,-6.310820579528809,18.56090545654297,-19.472124099731445,-5.897477626800537,-26.05927085876465,-1.7848562002182007,0.7307825088500977,-27.656579971313477,-9.668866157531738,3.1550495624542236,9.279483795166016,20.02899169921875,14.772801399230957,15.390811920166016,19.411537170410156,25.610408782958984,16.074077606201172,7.26022481918335,-10.232851028442383,4.874022006988525,-0.8134253621101379,7.295379161834717,-4.080591201782227,-10.866190910339355,17.125221252441406,9.300030708312988,4.326386451721191,-26.55814552307129,27.05255699157715,2.6873679161071777,10.655692100524902,35.75413131713867,0.18392691016197205,10.173125267028809,-16.988975524902344,2.0417628288269043,11.579734802246094,-23.245838165283203,-0.03221357613801956,-11.233427047729492,-22.0319881439209,22.52001953125,10.120899200439453,-18.92061424255371,8.00499439239502,33.48366165161133,25.584070205688477,-8.808553695678711,19.343759536743164,29.25847625732422,35.267425537109375,-4.271597862243652,9.810086250305176,0.6740583777427673,-6.926641941070557,5.237570762634277,-8.046087265014648,-0.19799268245697021,26.13717269897461,17.73136329650879,-4.598101615905762,26.657257080078125,15.697826385498047,-5.192312717437744,-17.963260650634766,-2.7582173347473145,26.492273330688477,-17.329734802246094,18.49091339111328,-19.19167709350586,35.708553314208984,-7.106751441955566,-21.221405029296875,13.851249694824219,-26.949861526489258,26.59111785888672,16.50645637512207,26.927770614624023,22.30597686767578,13.370569229125977,25.589101791381836,26.32639503479004,25.58795928955078,-5.425304412841797,25.607131958007812,-17.04476547241211,6.838224411010742,-15.218744277954102,-6.578515529632568,26.282583236694336,37.27898406982422,26.22650146484375,-3.9735348224639893,25.55937385559082,-18.641437530517578,25.45829200744629,13.517067909240723,-4.485301971435547,20.144874572753906,-22.518611907958984,24.05976104736328,16.178607940673828,-25.01491928100586,26.031543731689453,25.620603561401367,34.948551177978516,19.396862030029297,25.530460357666016,-16.912803649902344,-19.266742706298828,-20.201059341430664,-20.305578231811523,19.592792510986328,-24.04305076599121,25.94503402709961,26.68260955810547,-20.18062973022461,27.221830368041992,-18.23866844177246,-13.723312377929688,-13.546016693115234,-4.274255275726318,-11.000141143798828,-14.072848320007324,7.490079879760742,29.89955711364746,-15.04571533203125,27.850296020507812,7.255303859710693,-23.3032283782959,7.2799601554870605,5.30817174911499,5.503447532653809,14.319602966308594,6.330611705780029,-14.939728736877441,-6.218315601348877,-11.601463317871094,-23.700231552124023,-6.7608795166015625,-1.5351052284240723,1.3951399326324463,-9.825699806213379,13.198978424072266,-4.871767997741699,-16.494749069213867,-28.973299026489258,0.9976353049278259,10.614978790283203,22.738014221191406,8.99576187133789,8.521982192993164,-1.1460075378417969,16.490041732788086,17.17278480529785,14.968644142150879,22.812986373901367,17.913795471191406,-6.20737361907959,-20.479618072509766,5.10399866104126,21.42877960205078,-0.7179715037345886,-2.740529775619507,17.3428897857666,-6.660102367401123,-3.854358673095703,-3.515430450439453,15.891556739807129,-22.39692497253418,1.1080459356307983,6.770806312561035,1.9362205266952515,14.832934379577637,-6.4743828773498535,-20.888324737548828,6.601617336273193,13.44835376739502,14.861985206604004,-8.3097562789917,2.6716556549072266,2.0325605869293213,0.7979689836502075,15.977675437927246,3.693317174911499,8.316299438476562,-23.861724853515625,14.496578216552734,-24.552640914916992,36.12577438354492,-17.84702491760254,-24.372554779052734,-22.827720642089844,-24.477802276611328,34.472652435302734,1.1412473917007446,14.048721313476562,-27.38630485534668,-24.295045852661133,-24.217920303344727,-13.477523803710938,35.52177429199219,15.61788272857666,-14.462913513183594,15.653762817382812,-13.108048439025879,-3.026554822921753,-19.323484420776367,-19.970767974853516,-15.889148712158203,4.618229866027832,14.839855194091797,-3.541888475418091,34.40037536621094,-9.345499992370605,-9.127813339233398,-10.844109535217285,34.34696960449219,7.660991668701172,2.0194735527038574,1.9403949975967407,20.47909164428711,16.865110397338867,-7.258294105529785,11.400081634521484,1.6014034748077393,5.137025356292725,23.19572639465332,15.619111061096191,-13.342496871948242,17.731779098510742,15.492602348327637,35.111637115478516,15.69892406463623,36.56631851196289,23.385570526123047,3.482219696044922,26.01120948791504,25.27252769470215,15.48881721496582,-15.362635612487793,0.06487389653921127,-6.175122261047363,22.939579010009766,-3.6748619079589844,-5.121496200561523,34.65446090698242,-14.849287033081055,-5.47074556350708,9.05262279510498,23.421335220336914,-5.530352592468262,-18.411096572875977,-14.70004653930664,15.746326446533203,-16.684648513793945,-11.48709487915039,0.3844872713088989,10.949755668640137,10.192699432373047,14.05070972442627,17.187055587768555,-5.607167720794678,14.014065742492676,-4.738743305206299,-19.94598388671875,-15.3818359375,36.77728271484375,20.436237335205078,-5.710700988769531,-9.0590238571167,17.578893661499023,-24.165103912353516,18.52459144592285,-22.942792892456055,14.539016723632812,-13.423511505126953,-19.928531646728516,-23.09457015991211,-1.272457242012024,23.058269500732422,20.275146484375,-9.176284790039062,5.4271135330200195,35.96174621582031,3.579091787338257,-3.209196090698242,28.825098037719727,35.75120162963867,28.919485092163086,30.060426712036133,22.233388900756836,36.679298400878906,10.437979698181152,-2.1068055629730225,22.422924041748047,-8.342138290405273,0.6713435053825378,29.673507690429688,-13.966363906860352,29.64602279663086,-17.475650787353516,28.87730598449707,30.810644149780273,30.27899169921875,37.137943267822266,30.371294021606445,33.645477294921875,34.929237365722656,29.194591522216797,30.183385848999023,35.203853607177734,29.728836059570312,29.98104476928711,29.648054122924805,30.307966232299805,29.345367431640625,29.916799545288086,29.05890464782715,-4.310028076171875,29.341859817504883,29.398386001586914,36.18205261230469,30.206079483032227,34.24723434448242,37.449127197265625,-4.430253028869629,30.204103469848633,29.66281509399414,5.331379413604736,-14.837357521057129,5.789351463317871,-25.230220794677734,-15.991610527038574,33.79608917236328,2.520932674407959,35.9866943359375,15.656975746154785,-9.63492202758789,8.293505668640137,-21.305360794067383,-11.514074325561523,19.24252700805664,-17.341947555541992,36.1026725769043,-23.319150924682617,5.174880504608154,14.57386302947998,-16.83293914794922,9.074015617370605,21.846569061279297,14.15994930267334,-5.560207843780518,-17.41374397277832,-1.0958592891693115,37.25082015991211,14.810565948486328,34.77477264404297,-21.65806770324707,35.66900634765625,3.5784971714019775,4.091305255889893,22.93047523498535,14.99672794342041,-14.79893970489502,12.980588912963867,-12.107069969177246,24.689510345458984,-3.138916254043579,-3.8899619579315186,-13.896872520446777,-3.718468189239502,-0.7427021861076355,-3.6215591430664062,-3.421508312225342,13.22768783569336,-3.9192869663238525,35.451663970947266,-3.65923810005188,34.5167236328125,-4.670902729034424,-3.7822961807250977,34.42101287841797,-22.291732788085938,-5.6529059410095215,37.05906677246094,36.35674285888672,-17.174240112304688,-3.563373565673828,35.61188888549805,-3.749481678009033,33.654197692871094,34.53630447387695,-4.240540981292725,35.82273864746094,35.674983978271484,34.223209381103516,11.240303993225098,7.337172985076904,-5.0247602462768555,23.26316261291504,20.9484920501709,23.08819007873535,9.497964859008789,9.022138595581055,2.392258405685425,35.064022064208984,9.25556468963623,4.873219966888428,5.470911979675293,9.319110870361328,5.310795783996582,21.325088500976562,17.18795394897461,-4.108135223388672,-23.924266815185547,34.97822952270508,21.294652938842773,-5.008221626281738,22.166837692260742,7.263282299041748,16.56231117248535,17.336599349975586,-6.425790786743164],\"xaxis\":\"x\",\"y\":[-15.838321685791016,-8.838957786560059,-8.254987716674805,-16.891077041625977,-10.608513832092285,1.875652551651001,-14.533488273620605,-21.365768432617188,-5.901281833648682,3.4169414043426514,-15.348397254943848,-21.239276885986328,-13.91007137298584,-8.048327445983887,-18.392732620239258,-10.819269180297852,-15.317692756652832,-8.383063316345215,4.806125640869141,-4.626636028289795,0.340238094329834,-19.050519943237305,-14.693572044372559,-16.877187728881836,-9.432621002197266,-18.258853912353516,10.293807983398438,-16.38011932373047,-6.028181552886963,-2.0932960510253906,-16.15169906616211,-11.002796173095703,-15.229532241821289,11.62140941619873,12.670413970947266,11.546408653259277,-3.054676055908203,2.423504590988159,-3.81744122505188,-2.6123275756835938,-6.044852256774902,-18.10533332824707,-2.969057083129883,-21.22610092163086,-4.009507179260254,2.7176389694213867,-15.1078519821167,-10.221203804016113,-2.3974876403808594,-22.73518180847168,-5.046236038208008,-8.918022155761719,-2.6410071849823,-8.316996574401855,-13.93736457824707,-15.926990509033203,-5.35581111907959,-16.83656883239746,-6.66885232925415,-6.771195888519287,-7.2988057136535645,-6.596100330352783,-4.086849689483643,-21.414339065551758,-0.06743105500936508,-8.806489944458008,-3.4039721488952637,-15.365869522094727,-24.459653854370117,-7.39219331741333,-14.977068901062012,11.919974327087402,-9.695773124694824,7.848085880279541,13.21879768371582,-17.564699172973633,-9.563680648803711,9.965359687805176,-17.917051315307617,-1.4927141666412354,-12.241933822631836,-13.251492500305176,5.459997177124023,-13.812639236450195,-11.049985885620117,-8.838133811950684,-11.14985179901123,-15.71488094329834,-17.378355026245117,-13.892237663269043,-8.142865180969238,-13.005163192749023,1.2680296897888184,-8.408551216125488,-19.028118133544922,-21.109172821044922,-22.44118881225586,-24.247089385986328,-21.163524627685547,-18.949119567871094,-7.301499366760254,-4.1425628662109375,13.324925422668457,13.314563751220703,2.961167573928833,2.7280189990997314,8.366052627563477,-9.900552749633789,-16.0626277923584,4.518132209777832,-11.765734672546387,6.762949466705322,-3.8694143295288086,-16.69329833984375,-8.577022552490234,-5.778380870819092,-13.106050491333008,-14.08460521697998,1.8226163387298584,5.312951564788818,-13.93354320526123,-23.025421142578125,-12.1078462600708,-3.11130952835083,-12.637751579284668,-5.050617218017578,-20.692501068115234,-16.206941604614258,-14.208386421203613,2.4361817836761475,-10.81314468383789,-15.74561595916748,-23.295230865478516,-17.41349983215332,-19.200517654418945,-17.48297691345215,-4.74766206741333,2.014880895614624,-6.800716400146484,10.539043426513672,-19.79711151123047,-2.976698160171509,-16.213333129882812,-22.256601333618164,8.5501708984375,9.68994140625,-12.99389362335205,2.966545581817627,6.319039344787598,-6.134910583496094,-16.105783462524414,-19.115175247192383,-14.355988502502441,-12.646228790283203,3.0917775630950928,-19.55108070373535,-16.85694122314453,5.800775527954102,-4.534433364868164,-16.415306091308594,3.020803689956665,-5.078955173492432,-7.853809356689453,-11.13991928100586,-6.116071701049805,-7.229414939880371,1.6040966510772705,-16.096725463867188,-17.250606536865234,-3.6152288913726807,-6.640699863433838,-22.40642547607422,-20.373756408691406,-22.3887996673584,-15.120643615722656,-21.928585052490234,-19.415143966674805,-16.953807830810547,-12.919896125793457,-19.77530288696289,-22.663883209228516,-15.209806442260742,-22.042150497436523,-13.35562801361084,-14.87795639038086,-20.832311630249023,-20.241479873657227,-18.39552116394043,2.9339356422424316,-15.221820831298828,-17.193675994873047,-13.417531967163086,-23.965442657470703,-20.789888381958008,-21.0379695892334,-5.234936237335205,-13.301210403442383,-14.899465560913086,-19.16756820678711,-13.021772384643555,-12.10269832611084,-18.625593185424805,-15.695183753967285,-19.45524024963379,-21.88599395751953,-2.9925291538238525,-2.608290195465088,-21.24049949645996,-12.381656646728516,-16.72504997253418,-19.439067840576172,-0.8216439485549927,-7.8959431648254395,-14.826833724975586,-17.33119773864746,-17.89102554321289,-10.702715873718262,-9.154025077819824,-11.469303131103516,4.787907123565674,-4.699014186859131,-12.435430526733398,-16.375558853149414,-4.228813648223877,9.997163772583008,-9.534014701843262,-6.828974723815918,-20.442228317260742,-4.262943267822266,-13.014315605163574,-4.410006999969482,-16.142112731933594,-9.722038269042969,-23.694528579711914,-12.429139137268066,-2.5757017135620117,-17.06272315979004,-15.2556734085083,-15.664949417114258,-17.247648239135742,3.2004425525665283,-2.116443157196045,14.52841854095459,6.903899192810059,17.216873168945312,-11.312189102172852,10.269889831542969,-3.5278501510620117,-13.67846965789795,-17.492910385131836,-3.1280219554901123,-8.4381685256958,0.348165363073349,-6.062322616577148,-8.126834869384766,-2.955212354660034,-14.150500297546387,21.923229217529297,19.459413528442383,17.44089698791504,9.440595626831055,-5.70422887802124,16.00636100769043,18.595048904418945,-16.89104652404785,3.4253711700439453,-0.17124366760253906,-11.31827449798584,3.129605770111084,-0.2779500484466553,12.877206802368164,9.563016891479492,-15.546896934509277,-15.035682678222656,11.64499282836914,-17.941299438476562,1.922279715538025,18.18869972229004,-9.25650691986084,-12.041848182678223,-9.069966316223145,-16.207632064819336,3.5310521125793457,-17.689775466918945,-0.8618024587631226,-1.928613305091858,12.214568138122559,21.37651824951172,7.408623695373535,-10.35153579711914,-16.53488540649414,0.279575914144516,-18.16375732421875,15.586197853088379,-9.984811782836914,1.0540575981140137,2.7598955631256104,-17.63913917541504,-3.564258098602295,15.382187843322754,22.29270362854004,10.711471557617188,-7.877694129943848,20.707916259765625,-7.806257247924805,-4.573017120361328,15.326080322265625,6.319929122924805,14.607483863830566,20.79674530029297,3.027867555618286,11.528440475463867,-17.80324935913086,18.685771942138672,9.276062965393066,9.506744384765625,-3.128142833709717,-24.457290649414062,-6.809451580047607,-10.955192565917969,2.9664199352264404,15.490899085998535,14.29621696472168,1.834551453590393,-10.885499954223633,11.923096656799316,16.849952697753906,14.932966232299805,16.61452293395996,3.797745704650879,15.236400604248047,19.237003326416016,15.215852737426758,7.245683670043945,2.1273865699768066,11.238544464111328,-6.948177337646484,-6.762973308563232,12.228466987609863,10.17613697052002,12.976239204406738,-4.162420272827148,13.648162841796875,6.4526472091674805,-6.294818878173828,11.24143123626709,-23.76949119567871,12.492722511291504,15.316006660461426,12.97475814819336,18.947978973388672,13.594961166381836,14.389836311340332,-13.405863761901855,0.4174872636795044,-7.5912957191467285,-17.918827056884766,-2.9158215522766113,2.990837812423706,2.3864083290100098,7.27333402633667,-6.315725326538086,-2.8528287410736084,-1.153804898262024,-3.8453314304351807,-7.75416374206543,-13.452292442321777,15.043506622314453,3.7716586589813232,6.167845726013184,10.222874641418457,0.8813986778259277,-5.120444297790527,3.0025815963745117,14.071135520935059,9.304429054260254,8.70055103302002,-15.094217300415039,7.860733509063721,-9.56224536895752,-4.471173286437988,-8.550174713134766,8.891325950622559,-2.8554575443267822,-12.03115177154541,2.8938369750976562,-5.274810791015625,-5.82951021194458,-14.441339492797852,-5.856057167053223,1.1356184482574463,-3.40639328956604,-14.622225761413574,7.722710132598877,-5.1379828453063965,-8.121333122253418,-5.523560523986816,0.8782473206520081,-8.050461769104004,1.0922268629074097,-4.592439651489258,-14.822728157043457,-11.666945457458496,-22.487411499023438,-14.961173057556152,4.470665454864502,-1.5219707489013672,-17.237390518188477,-3.472515821456909,-11.511600494384766,-17.923839569091797,-8.097408294677734,-0.08766056597232819,-13.324081420898438,4.387265682220459,-24.049291610717773,-7.201882362365723,-14.231630325317383,-14.589217185974121,-16.667152404785156,-6.67510986328125,-0.5857799649238586,-23.269067764282227,14.278520584106445,-6.362680435180664,6.01206111907959,-16.779260635375977,-8.363351821899414,-9.428139686584473,-17.347383499145508,-9.660506248474121,-19.949613571166992,-12.395112991333008,3.744849443435669,-20.12717628479004,-9.560617446899414,16.873327255249023,16.239582061767578,17.497425079345703,17.352380752563477,1.8251363039016724,11.956096649169922,-9.33802604675293,-3.701387882232666,-23.49782943725586,10.818341255187988,-17.65696144104004,8.80937671661377,0.2040891945362091,7.039516925811768,10.829278945922852,1.95787513256073,0.012933764606714249,8.772736549377441,-17.03314971923828,5.266714096069336,16.929594039916992,10.544634819030762,5.702202320098877,-1.790771722793579,-6.829343318939209,-1.8373621702194214,0.2869095206260681,-9.895049095153809,-2.492445945739746,-4.522862434387207,-13.80772876739502,-6.217938423156738,-11.573264122009277,-8.412139892578125,-18.33348274230957,-9.02332878112793,-7.651404857635498,-13.33598804473877,-15.090570449829102,9.030004501342773,-0.16846829652786255,-15.152043342590332,-17.375154495239258,-16.78812599182129,-8.830205917358398,-15.09536361694336,-16.584299087524414,-19.193506240844727,2.0736680030822754,-19.956254959106445,-4.723954677581787,-10.19597053527832,-8.236621856689453,-7.071547031402588,-21.317005157470703,-14.186626434326172,-12.745173454284668,-21.401844024658203,-23.07586097717285,-23.822561264038086,-17.53169059753418,-16.546377182006836,-7.518531322479248,-20.54854965209961,-21.254589080810547,-5.944075107574463,-3.0607070922851562,-14.445454597473145,-5.853438377380371,-9.491150856018066,-17.556123733520508,-18.158674240112305,-13.964742660522461,-6.840340614318848,-20.301128387451172,-14.128826141357422,-4.872011184692383,-4.597630500793457,-1.864147424697876,3.2647147178649902,-11.861123085021973,-12.048874855041504,-13.863709449768066,-21.494077682495117,-21.208467483520508,-14.384198188781738,-21.452638626098633,-5.942659378051758,-13.130648612976074,-21.425493240356445,-22.585201263427734,-20.64504051208496,-0.9063260555267334,-15.757590293884277,-5.761610507965088,3.4501094818115234,-7.918499946594238,-10.495594024658203,-9.156447410583496,-2.579577922821045,-7.67075777053833,16.908647537231445,-5.976517200469971,5.073487281799316,0.3912005126476288,0.4478846490383148,-1.6665068864822388,4.7248759269714355,12.09219741821289,-11.918925285339355,6.966146945953369,5.40426778793335,-2.785764217376709,-9.866580963134766,6.8991851806640625,5.8190155029296875,5.741217613220215,-5.300431728363037,12.40842056274414,-3.3573923110961914,-3.9439427852630615,-9.504183769226074,-6.633898735046387,7.735044956207275,13.678940773010254,-3.592597723007202,1.7168526649475098,10.444563865661621,-7.191778659820557,-7.6261491775512695,9.482696533203125,-17.724506378173828,8.455577850341797,-5.280267238616943,-5.301969051361084,3.2549686431884766,10.842095375061035,11.340388298034668,-0.035314977169036865,-3.514756917953491,14.13774299621582,-5.53259801864624,-2.8814516067504883,-4.808108329772949,0.12300888448953629,0.940172016620636,-3.1521759033203125,-0.2971346378326416,-3.582805633544922,-4.288308620452881,2.616481065750122,-18.739885330200195,-8.404716491699219,9.024530410766602,-18.171123504638672,-1.9798007011413574,-5.764655590057373,13.539846420288086,0.5392123460769653,-13.150731086730957,-12.23287582397461,10.993810653686523,17.71087074279785,-3.67440128326416,-5.114607810974121,-17.175519943237305,-17.47833824157715,1.200010895729065,-5.393584251403809,-11.78892993927002,-11.613109588623047,-6.606526851654053,-4.720702648162842,-9.809372901916504,-7.911154270172119,-20.52065658569336,-2.1757702827453613,-5.322429656982422,-0.3544294834136963,1.210601806640625,-18.30156707763672,-6.970139503479004,-17.465862274169922,15.371870994567871,-13.485309600830078,2.2718167304992676,-2.0467090606689453,-6.577042102813721,-7.025874137878418,-4.998354911804199,-4.874956130981445,-15.926152229309082,-0.636624813079834,-7.298789978027344,-8.037805557250977,-8.241743087768555,-11.932023048400879,-9.386189460754395,-10.527283668518066,-5.913275718688965,-2.7112486362457275,-5.903228759765625,-6.421795845031738,-12.011130332946777,-12.973560333251953,-7.966638565063477,-10.947795867919922,-13.524709701538086,0.13009940087795258,-15.176419258117676,-12.949394226074219,-0.872137725353241,-11.363250732421875,8.304924964904785,-22.479066848754883,-3.777517795562744,-11.237601280212402,-13.690061569213867,-23.57052230834961,-10.347899436950684,-7.0613694190979,-5.512063026428223,-7.784191131591797,-8.645917892456055,-19.35018539428711,-6.530428886413574,-3.8381524085998535,-9.036736488342285,7.203194618225098,12.431360244750977,14.771252632141113,-0.10475520044565201,9.051009178161621,11.149847984313965,-8.440638542175293,11.296080589294434,-15.964032173156738,12.084938049316406,-8.719131469726562,12.579612731933594,35.57426452636719,14.286087989807129,-12.906167030334473,3.5535082817077637,7.74235725402832,19.343822479248047,16.56682777404785,-16.52556037902832,-13.872998237609863,-8.946971893310547,0.31493836641311646,18.425966262817383,14.881269454956055,20.20883560180664,-5.2209858894348145,-15.126269340515137,-13.685358047485352,-10.139963150024414,7.696526050567627,6.199602127075195,8.813682556152344,-7.698932647705078,-4.998340606689453,-14.909590721130371,-7.223251819610596,-15.031773567199707,-7.743409633636475,0.9533528089523315,-11.61526107788086,6.609289646148682,6.518871307373047,-11.314031600952148,-2.399035930633545,-12.953837394714355,34.15909957885742,-0.470756471157074,3.2551372051239014,7.99118185043335,-12.020367622375488,-0.37514635920524597,-3.01436185836792,1.9449883699417114,14.23488998413086,-3.20041823387146,-3.6123690605163574,-4.0834832191467285,0.6322622299194336,-15.78282356262207,-0.5516332387924194,4.961209774017334,-0.7118175625801086,-5.941298007965088,-15.98253059387207,-5.993768215179443,-13.953276634216309,-17.45764923095703,-0.6030952334403992,13.460747718811035,-1.0894246101379395,-2.9511008262634277,1.68016517162323,2.832411050796509,2.822213888168335,1.3920671939849854,-10.568063735961914,-14.526636123657227,6.891528129577637,12.03480339050293,2.464519739151001,3.520610809326172,-3.505869150161743,14.115160942077637,9.872227668762207,9.418082237243652,21.79572868347168,8.017934799194336,4.030980110168457,5.393543243408203,-11.067756652832031,3.8659136295318604,-3.298307418823242,6.450928688049316,-1.4243448972702026,2.5925779342651367,5.190248966217041,-10.914573669433594,-11.93100643157959,3.4754693508148193,4.4096245765686035,-2.02333402633667,15.047408103942871,-2.9100050926208496,2.018707513809204,-4.628045558929443,-2.0504472255706787,-6.716216564178467,11.946465492248535,-8.233144760131836,8.726165771484375,6.50543212890625,11.117691040039062,-19.921598434448242,11.51009750366211,-1.2576946020126343,-6.300137996673584,13.893123626708984,-6.452975273132324,33.40018081665039,-3.9049785137176514,-4.953883647918701,-10.658596992492676,35.25611114501953,-2.7549846172332764,-1.2555958032608032,10.8522310256958,-14.247178077697754,-6.099078178405762,-4.4068684577941895,0.5181539058685303,-2.8414981365203857,-5.177677631378174,9.996918678283691,-3.721862316131592,6.188271999359131,1.626173973083496,-4.654129981994629,13.771651268005371,-0.14885464310646057,-8.784646034240723,-1.6692073345184326,8.64902114868164,2.776425838470459,-8.639730453491211,2.1870956420898438,-1.5275788307189941,4.360154151916504,-1.7342877388000488,33.81266784667969,-7.12660551071167,14.266100883483887,10.216257095336914,-1.3412978649139404,12.283326148986816,-0.19927141070365906,-8.584694862365723,0.8717553615570068,1.6856999397277832,-1.6427948474884033,-11.063419342041016,-2.7529845237731934,2.821608066558838,9.33524227142334,4.122944355010986,16.520130157470703,9.680407524108887,10.093222618103027,-4.372384548187256,3.4827065467834473,5.470097064971924,-6.098109722137451,-21.14442253112793,11.924882888793945,16.328386306762695,-2.6504735946655273,-5.485352039337158,11.072117805480957,-4.456165790557861,1.9910904169082642,-1.704846978187561,2.9525556564331055,5.9813232421875,-8.663302421569824,4.89517068862915,-0.9900689721107483,-5.8323140144348145,17.70290756225586,-5.464807987213135,-5.434514045715332,-0.6627073884010315,-11.861462593078613,10.55048942565918,16.987070083618164,2.6081533432006836,9.692850112915039,-2.6500492095947266,1.9234402179718018,1.9780181646347046,-7.974785804748535,7.142684459686279,2.9039108753204346,3.5241918563842773,-6.401819229125977,-11.169083595275879,8.562793731689453,5.206275463104248,8.285563468933105,20.704381942749023,14.295580863952637,-10.839357376098633,18.948680877685547,19.571144104003906,15.667041778564453,15.032692909240723,1.3697826862335205,18.951692581176758,6.940627098083496,-0.5588362216949463,8.781728744506836,17.431610107421875,9.775908470153809,2.7332324981689453,11.682650566101074,6.764087200164795,6.025936603546143,17.84419822692871,-3.5838232040405273,19.758657455444336,19.442153930664062,18.36762237548828,7.260835647583008,16.519052505493164,13.340126991271973,-4.325466632843018,-1.3548784255981445,17.036941528320312,-0.9716131091117859,14.502873420715332,12.249584197998047,0.28710946440696716,10.95843505859375,11.969569206237793,9.830706596374512,-1.8487873077392578,18.0599365234375,13.41683578491211,14.994467735290527,17.509077072143555,16.98366355895996,0.9649850130081177,-10.064351081848145,0.4483772814273834,-9.734970092773438,-6.851428031921387,-13.248607635498047,3.5573065280914307,1.284134864807129,-4.296474933624268,20.212108612060547,11.117944717407227,-2.9454452991485596,12.059401512145996,-5.919106483459473,4.197588920593262,-2.9568734169006348,2.829533815383911,0.15558651089668274,-1.1724374294281006,5.604475975036621,-2.938709259033203,8.229093551635742,17.545621871948242,19.827402114868164,4.55470085144043,16.985034942626953,-3.6783103942871094,-16.957834243774414,-2.7621467113494873,-3.0046238899230957,-12.050272941589355,-12.844590187072754,-1.835219383239746,18.283418655395508,-12.445917129516602,11.16307258605957,14.500153541564941,-9.168210983276367,4.8818864822387695,-3.7873475551605225,-0.9073388576507568,-10.199203491210938,0.7556878924369812,4.573307514190674,-6.816246509552002,-3.8776793479919434,1.1953400373458862,-9.866867065429688,-12.643999099731445,-11.615687370300293,2.137629508972168,-11.884214401245117,1.9841684103012085,-4.870733261108398,3.758000373840332,-5.997238636016846,5.453638076782227,0.7180224061012268,-1.7708646059036255,3.031897783279419,10.587236404418945,9.179282188415527,15.921911239624023,16.519046783447266,-11.881881713867188,-10.784876823425293,2.13993239402771,8.182483673095703,6.1347432136535645,12.934247016906738,3.5828447341918945,7.014655113220215,13.503052711486816,1.1794155836105347,6.019919395446777,12.209028244018555,21.561586380004883,13.037454605102539,-11.788379669189453,14.530654907226562,-2.107398748397827,4.774951934814453,12.236891746520996,-0.8276051878929138,-2.485579013824463,-2.7316250801086426,8.22297477722168,6.116103649139404,16.18408203125,5.303796291351318,-9.989508628845215,4.290695667266846,-7.54573917388916,-0.18627676367759705,-2.5619072914123535,2.5606226921081543,0.7715876698493958,-19.313982009887695,18.442485809326172,-7.199303150177002,-2.8355374336242676,-7.770550727844238,-4.313913345336914,-2.0197510719299316,1.272079586982727,-11.774429321289062,-10.015896797180176,-10.008369445800781,12.740373611450195,0.37904420495033264,18.081594467163086,8.810531616210938,16.312721252441406,2.567979335784912,2.292595386505127,-0.14390596747398376,-1.5027663707733154,5.648613452911377,6.686164855957031,-1.4104987382888794,-9.569009780883789,7.039331912994385,10.778874397277832,18.223262786865234,-15.20512580871582,4.237068176269531,-2.7423884868621826,-2.562373638153076,2.470086097717285,6.649071216583252,-10.640795707702637,-5.797414302825928,-13.382518768310547,1.1078499555587769,0.2972028851509094,-6.220976829528809,1.3734557628631592,7.273125648498535,-9.46906852722168,3.445901393890381,-2.0492148399353027,-1.503834843635559,-23.031522750854492,-7.434049129486084,-1.9025094509124756,-8.157176971435547,12.844259262084961,10.978461265563965,-17.806930541992188,-15.82376766204834,-2.3657827377319336,1.8319209814071655,-4.239696979522705,11.21749210357666,-5.55045223236084,-9.940176010131836,4.073511600494385,-0.24604567885398865,-2.107442855834961,-9.10743522644043,6.526825428009033,8.119099617004395,1.1980319023132324,1.615625023841858,15.79906940460205,0.046406764537096024,2.3699331283569336,17.389005661010742,-1.611220359802246,0.9202125668525696,-9.45211124420166,-4.345991611480713,14.228948593139648,6.99446439743042,9.901177406311035,3.18896222114563,-0.18720906972885132,13.293659210205078,-8.520613670349121,14.954704284667969,14.07400894165039,-3.6024463176727295,3.4546403884887695,-3.6814842224121094,-9.590520858764648,8.55877685546875,-2.3518145084381104,14.626638412475586,-14.154122352600098,11.557059288024902,17.964374542236328,2.3734548091888428,14.021522521972656,0.3432297110557556,4.408311367034912,5.534010410308838,-4.9244489669799805,-1.3022276163101196,-4.205151557922363,3.9967596530914307,-2.7499170303344727,-4.30690860748291,-9.3867826461792,-8.229641914367676,-9.59385871887207,3.2034335136413574,-3.8170166015625,1.193768858909607,-1.438348650932312,-5.864178657531738,3.501300573348999,-12.20704174041748,21.409212112426758,-6.046760559082031,-2.492889165878296,-13.12755012512207,2.6614983081817627,-2.643087148666382,-7.571321964263916,-1.3051416873931885,13.15859603881836,18.141523361206055,1.8815693855285645,-8.4855318069458,12.764978408813477,18.18370246887207,-0.4526941776275635,-8.665750503540039,-12.557154655456543,-0.9958688616752625,6.823286533355713,17.210155487060547,-6.533965110778809,-8.996044158935547,-6.903693675994873,-1.4682910442352295,9.390494346618652,13.294727325439453,4.3204145431518555,-0.898366391658783,34.415889739990234,0.14990797638893127,-1.6205852031707764,-5.746731758117676,-0.8543457984924316,4.272557258605957,6.952178478240967,7.269218921661377,3.8474416732788086,0.18799950182437897,9.157074928283691,8.529949188232422,-1.3083795309066772,6.065164566040039,2.6739766597747803,-9.072863578796387,0.130380779504776,-0.8085405826568604,-2.5158026218414307,8.313883781433105,6.291551113128662,-1.5177900791168213,14.568668365478516,-2.0571672916412354,1.8889143466949463,5.272228240966797,6.6165337562561035,4.2654924392700195,4.417044162750244,-11.689216613769531,2.3114025592803955,-13.04484748840332,-8.625116348266602,-0.44543012976646423,-11.984329223632812,-13.248126983642578,-1.2086894512176514,0.7919048070907593,-4.822838306427002,-2.890005350112915,-0.6422085762023926,2.4603793621063232,0.6272540092468262,-0.6689531803131104,-11.581167221069336,-1.6653878688812256,34.742431640625,2.992263078689575,1.5695892572402954,-11.427520751953125,0.3119294047355652,-1.2559211254119873,8.70749568939209,2.9399852752685547,-2.511390447616577,5.162725925445557,7.778120517730713,8.427027702331543,10.938547134399414,7.614744186401367,13.045073509216309,-0.07996318489313126,-0.4156568944454193,-11.459548950195312,13.406067848205566,-9.701420783996582,-3.6360528469085693,-9.836943626403809,7.876261234283447,0.2610429525375366,0.5356355905532837,-6.628613471984863,1.5380045175552368,-4.808463096618652,9.436141014099121,7.156380653381348,0.7506904602050781,10.559097290039062,12.868393898010254,3.805828809738159,14.476168632507324,34.13919448852539,-1.4942525625228882,-1.4470453262329102,8.226346015930176,6.693144798278809,0.9088890552520752,16.111785888671875,17.121883392333984,-4.024220943450928,-8.616025924682617,2.0474562644958496,4.340908527374268,12.449514389038086,3.7370152473449707,15.448895454406738,-1.6283427476882935,10.699503898620605,7.000317096710205,15.5005464553833,13.41014289855957,17.988977432250977,12.70605182647705,12.315082550048828,2.258312463760376,10.684846878051758,0.8599540591239929,12.770747184753418,6.201544284820557,-9.149815559387207,17.939952850341797,5.50333833694458,1.8008970022201538,-2.340106248855591,-9.898517608642578,2.039278984069824,7.701886177062988,14.890083312988281,9.500176429748535,7.994014739990234,0.17923295497894287,7.234183311462402,-5.137911319732666,-9.898126602172852,1.06948983669281,21.28278923034668,11.77540111541748,-4.733947277069092,2.2044219970703125,3.727409839630127,-7.024960994720459,-7.589371204376221,13.07660961151123,-2.4497807025909424,11.559310913085938,34.508663177490234,2.7880287170410156,18.93067169189453,9.507869720458984,14.741857528686523,12.783955574035645,6.187193870544434,8.245320320129395,0.5756188631057739,0.6620752215385437,0.5191112756729126,-10.381467819213867,0.2835921049118042,5.026225566864014,35.41309356689453,5.630331039428711,-1.194405436515808,12.832374572753906,17.467117309570312,35.47676086425781,-0.698702335357666,15.146008491516113,-2.2982594966888428,-1.394354224205017,8.127634048461914,4.710213661193848,13.932089805603027,12.066722869873047,9.35890007019043,12.92611312866211,12.184663772583008,-2.807708740234375,-0.6225674152374268,-0.5329044461250305,1.0390886068344116,12.479842185974121,-9.567483901977539,11.51484203338623,5.050871849060059,36.349876403808594,0.29450446367263794,-0.6995694637298584,10.456637382507324,-8.416328430175781,12.231431007385254,9.116090774536133,10.993724822998047,2.3476181030273438,10.550398826599121,11.916825294494629,12.026876449584961,11.816399574279785,0.3228631615638733,12.17758846282959,5.844359874725342,11.946794509887695,7.590271472930908,0.9576683044433594,12.934805870056152,34.79372787475586,12.550403594970703,13.88530445098877,12.383543968200684,0.31431183218955994,13.570035934448242,3.2670319080352783,13.527966499328613,11.121070861816406,-1.3149640560150146,12.001745223999023,8.829219818115234,-13.578722953796387,12.38410758972168,12.282990455627441,36.027191162109375,11.040244102478027,12.739970207214355,-5.9521098136901855,10.65652847290039,-10.959535598754883,-2.368340015411377,10.427850723266602,-7.741458415985107,12.356375694274902,12.446390151977539,3.3845720291137695,16.5533390045166,-0.0945935770869255,-0.944068968296051,-0.09883319586515427,12.793911933898926,-2.6550962924957275,8.429184913635254,18.76376724243164,16.399394989013672,-5.027744293212891,11.965252876281738,17.40277099609375,-0.20904657244682312,17.468292236328125,17.587688446044922,16.973039627075195,11.67924690246582,10.597267150878906,8.130412101745605,8.917261123657227,-7.371450901031494,-12.972725868225098,-6.0633392333984375,17.798315048217773,-1.7297745943069458,-11.73784351348877,15.755570411682129,14.227439880371094,-11.379793167114258,-6.0036091804504395,-5.277647972106934,16.257362365722656,16.137605667114258,-2.2152316570281982,1.4736191034317017,4.571626663208008,12.064640045166016,-1.663416862487793,12.315526962280273,0.714895486831665,12.903478622436523,2.013948917388916,10.111311912536621,7.93822717666626,16.05801010131836,12.520973205566406,-0.9098927974700928,7.007896900177002,-5.9778008460998535,1.2343493700027466,4.178207874298096,0.9517645835876465,-10.412391662597656,-2.8960418701171875,11.513566017150879,13.187362670898438,16.19303321838379,3.3079450130462646,-0.2240716516971588,-0.6889792084693909,13.22455883026123,-1.305685043334961,-1.0398964881896973,5.986623764038086,-5.587182998657227,-0.5674711465835571,5.33257532119751,-6.812626361846924,-6.8318305015563965,-5.294281482696533,-6.475856304168701,-12.99304485321045,33.906349182128906,-13.928818702697754,-13.044611930847168,1.0027979612350464,-12.950862884521484,34.4985466003418,-1.1943153142929077,10.60219955444336,-8.997710227966309,-13.128704071044922,-13.19303035736084,-7.657858848571777,33.167518615722656,11.65699577331543,-10.595224380493164,15.759566307067871,-3.8521344661712646,2.101314067840576,5.412896633148193,-1.3332600593566895,4.215222358703613,-0.6980128884315491,6.328057765960693,7.792155742645264,35.73386764526367,-22.985708236694336,-1.9286118745803833,10.661653518676758,36.66529846191406,17.14779281616211,-1.3845839500427246,-1.0682697296142578,-4.824191093444824,-1.7660373449325562,-14.96750545501709,-6.836703300476074,-2.668550491333008,-5.667369842529297,17.465730667114258,13.737251281738281,-4.416932582855225,-4.025203227996826,-1.5456570386886597,36.6934928894043,-2.8249924182891846,32.770687103271484,17.864980697631836,-2.227588176727295,7.43333101272583,9.568657875061035,-2.6478614807128906,-3.4477052688598633,-12.358512878417969,15.247357368469238,17.429424285888672,-1.2008596658706665,2.9582417011260986,34.67369079589844,-0.07090623676776886,-0.5621955990791321,8.851648330688477,11.131941795349121,-7.984530448913574,1.4435266256332397,-6.319278717041016,11.927536964416504,-9.889022827148438,-10.319210052490234,-11.722994804382324,4.032850742340088,-4.909483432769775,-8.816061019897461,9.812752723693848,0.8886355757713318,5.484330654144287,0.5328174829483032,-6.935652732849121,-7.869576930999756,35.99856185913086,15.495735168457031,-0.20723868906497955,-8.311718940734863,14.724080085754395,4.7763671875,16.260786056518555,-8.594611167907715,13.409911155700684,-4.158205509185791,-7.912357330322266,-0.8312516212463379,13.799853324890137,11.075803756713867,-5.010497093200684,-8.141088485717773,-0.36227619647979736,35.874080657958984,2.511373996734619,2.459690809249878,18.12308692932129,35.87858200073242,15.697988510131836,15.875009536743164,-5.938518524169922,35.504940032958984,-0.12454190105199814,0.3762204051017761,-5.932195663452148,-8.038938522338867,1.7703218460083008,16.774991989135742,-4.418004989624023,15.97649097442627,-3.8125784397125244,18.098468780517578,16.000789642333984,16.771682739257812,34.66634750366211,16.341615676879883,33.82429122924805,33.84134292602539,15.158318519592285,16.731647491455078,36.424652099609375,16.163089752197266,15.659479141235352,15.48206901550293,16.58047103881836,16.36490249633789,15.45914363861084,15.557900428771973,14.219321250915527,15.880460739135742,17.09438705444336,36.58854293823242,16.21065330505371,35.726009368896484,35.18293380737305,14.483592987060547,15.513331413269043,16.192710876464844,17.55845832824707,6.553624153137207,17.266664505004883,-2.243971586227417,-4.246819019317627,34.883670806884766,-7.446387767791748,33.64225769042969,12.197294235229492,0.729347288608551,17.962575912475586,-1.7262462377548218,-6.584068775177002,13.102749824523926,7.3608574867248535,33.30950164794922,-7.254117012023926,-3.3695852756500244,13.878594398498535,7.2502760887146,17.99478530883789,16.5455379486084,12.175362586975098,0.028290124610066414,8.858078002929688,13.620349884033203,33.71875762939453,-6.165786266326904,35.23234176635742,-1.2437268495559692,34.59370040893555,-1.176476240158081,4.381568431854248,17.71237564086914,-0.19267451763153076,-6.229005813598633,12.956062316894531,6.080356121063232,15.999934196472168,-11.890275955200195,3.5727481842041016,-7.53251314163208,13.40341567993164,2.1254732608795166,13.4129056930542,13.448858261108398,13.13892936706543,13.250771522521973,35.108280181884766,13.382380485534668,33.36439514160156,14.93603515625,13.35937213897705,34.924964904785156,-0.6965258121490479,-0.14558297395706177,35.50044250488281,34.72573471069336,7.404629230499268,13.716426849365234,32.65241622924805,13.595061302185059,34.11525344848633,33.2071533203125,0.2602732479572296,33.59942626953125,34.32025909423828,33.99509811401367,14.347973823547363,-10.916230201721191,3.0651838779449463,17.833127975463867,14.527689933776855,16.332185745239258,18.49924659729004,16.450931549072266,19.163972854614258,36.33026123046875,16.768531799316406,17.768630981445312,17.562114715576172,16.381900787353516,17.848678588867188,15.603494644165039,8.099337577819824,0.22875873744487762,-8.655115127563477,32.843528747558594,14.473639488220215,-0.0010402543703094125,16.783632278442383,12.525422096252441,15.323931694030762,6.964674472808838,-5.8395891189575195],\"yaxis\":\"y\",\"type\":\"scattergl\"}],                        {\"template\":{\"data\":{\"histogram2dcontour\":[{\"type\":\"histogram2dcontour\",\"colorbar\":{\"outlinewidth\":0,\"ticks\":\"\"},\"colorscale\":[[0.0,\"#0d0887\"],[0.1111111111111111,\"#46039f\"],[0.2222222222222222,\"#7201a8\"],[0.3333333333333333,\"#9c179e\"],[0.4444444444444444,\"#bd3786\"],[0.5555555555555556,\"#d8576b\"],[0.6666666666666666,\"#ed7953\"],[0.7777777777777778,\"#fb9f3a\"],[0.8888888888888888,\"#fdca26\"],[1.0,\"#f0f921\"]]}],\"choropleth\":[{\"type\":\"choropleth\",\"colorbar\":{\"outlinewidth\":0,\"ticks\":\"\"}}],\"histogram2d\":[{\"type\":\"histogram2d\",\"colorbar\":{\"outlinewidth\":0,\"ticks\":\"\"},\"colorscale\":[[0.0,\"#0d0887\"],[0.1111111111111111,\"#46039f\"],[0.2222222222222222,\"#7201a8\"],[0.3333333333333333,\"#9c179e\"],[0.4444444444444444,\"#bd3786\"],[0.5555555555555556,\"#d8576b\"],[0.6666666666666666,\"#ed7953\"],[0.7777777777777778,\"#fb9f3a\"],[0.8888888888888888,\"#fdca26\"],[1.0,\"#f0f921\"]]}],\"heatmap\":[{\"type\":\"heatmap\",\"colorbar\":{\"outlinewidth\":0,\"ticks\":\"\"},\"colorscale\":[[0.0,\"#0d0887\"],[0.1111111111111111,\"#46039f\"],[0.2222222222222222,\"#7201a8\"],[0.3333333333333333,\"#9c179e\"],[0.4444444444444444,\"#bd3786\"],[0.5555555555555556,\"#d8576b\"],[0.6666666666666666,\"#ed7953\"],[0.7777777777777778,\"#fb9f3a\"],[0.8888888888888888,\"#fdca26\"],[1.0,\"#f0f921\"]]}],\"heatmapgl\":[{\"type\":\"heatmapgl\",\"colorbar\":{\"outlinewidth\":0,\"ticks\":\"\"},\"colorscale\":[[0.0,\"#0d0887\"],[0.1111111111111111,\"#46039f\"],[0.2222222222222222,\"#7201a8\"],[0.3333333333333333,\"#9c179e\"],[0.4444444444444444,\"#bd3786\"],[0.5555555555555556,\"#d8576b\"],[0.6666666666666666,\"#ed7953\"],[0.7777777777777778,\"#fb9f3a\"],[0.8888888888888888,\"#fdca26\"],[1.0,\"#f0f921\"]]}],\"contourcarpet\":[{\"type\":\"contourcarpet\",\"colorbar\":{\"outlinewidth\":0,\"ticks\":\"\"}}],\"contour\":[{\"type\":\"contour\",\"colorbar\":{\"outlinewidth\":0,\"ticks\":\"\"},\"colorscale\":[[0.0,\"#0d0887\"],[0.1111111111111111,\"#46039f\"],[0.2222222222222222,\"#7201a8\"],[0.3333333333333333,\"#9c179e\"],[0.4444444444444444,\"#bd3786\"],[0.5555555555555556,\"#d8576b\"],[0.6666666666666666,\"#ed7953\"],[0.7777777777777778,\"#fb9f3a\"],[0.8888888888888888,\"#fdca26\"],[1.0,\"#f0f921\"]]}],\"surface\":[{\"type\":\"surface\",\"colorbar\":{\"outlinewidth\":0,\"ticks\":\"\"},\"colorscale\":[[0.0,\"#0d0887\"],[0.1111111111111111,\"#46039f\"],[0.2222222222222222,\"#7201a8\"],[0.3333333333333333,\"#9c179e\"],[0.4444444444444444,\"#bd3786\"],[0.5555555555555556,\"#d8576b\"],[0.6666666666666666,\"#ed7953\"],[0.7777777777777778,\"#fb9f3a\"],[0.8888888888888888,\"#fdca26\"],[1.0,\"#f0f921\"]]}],\"mesh3d\":[{\"type\":\"mesh3d\",\"colorbar\":{\"outlinewidth\":0,\"ticks\":\"\"}}],\"scatter\":[{\"fillpattern\":{\"fillmode\":\"overlay\",\"size\":10,\"solidity\":0.2},\"type\":\"scatter\"}],\"parcoords\":[{\"type\":\"parcoords\",\"line\":{\"colorbar\":{\"outlinewidth\":0,\"ticks\":\"\"}}}],\"scatterpolargl\":[{\"type\":\"scatterpolargl\",\"marker\":{\"colorbar\":{\"outlinewidth\":0,\"ticks\":\"\"}}}],\"bar\":[{\"error_x\":{\"color\":\"#2a3f5f\"},\"error_y\":{\"color\":\"#2a3f5f\"},\"marker\":{\"line\":{\"color\":\"#E5ECF6\",\"width\":0.5},\"pattern\":{\"fillmode\":\"overlay\",\"size\":10,\"solidity\":0.2}},\"type\":\"bar\"}],\"scattergeo\":[{\"type\":\"scattergeo\",\"marker\":{\"colorbar\":{\"outlinewidth\":0,\"ticks\":\"\"}}}],\"scatterpolar\":[{\"type\":\"scatterpolar\",\"marker\":{\"colorbar\":{\"outlinewidth\":0,\"ticks\":\"\"}}}],\"histogram\":[{\"marker\":{\"pattern\":{\"fillmode\":\"overlay\",\"size\":10,\"solidity\":0.2}},\"type\":\"histogram\"}],\"scattergl\":[{\"type\":\"scattergl\",\"marker\":{\"colorbar\":{\"outlinewidth\":0,\"ticks\":\"\"}}}],\"scatter3d\":[{\"type\":\"scatter3d\",\"line\":{\"colorbar\":{\"outlinewidth\":0,\"ticks\":\"\"}},\"marker\":{\"colorbar\":{\"outlinewidth\":0,\"ticks\":\"\"}}}],\"scattermapbox\":[{\"type\":\"scattermapbox\",\"marker\":{\"colorbar\":{\"outlinewidth\":0,\"ticks\":\"\"}}}],\"scatterternary\":[{\"type\":\"scatterternary\",\"marker\":{\"colorbar\":{\"outlinewidth\":0,\"ticks\":\"\"}}}],\"scattercarpet\":[{\"type\":\"scattercarpet\",\"marker\":{\"colorbar\":{\"outlinewidth\":0,\"ticks\":\"\"}}}],\"carpet\":[{\"aaxis\":{\"endlinecolor\":\"#2a3f5f\",\"gridcolor\":\"white\",\"linecolor\":\"white\",\"minorgridcolor\":\"white\",\"startlinecolor\":\"#2a3f5f\"},\"baxis\":{\"endlinecolor\":\"#2a3f5f\",\"gridcolor\":\"white\",\"linecolor\":\"white\",\"minorgridcolor\":\"white\",\"startlinecolor\":\"#2a3f5f\"},\"type\":\"carpet\"}],\"table\":[{\"cells\":{\"fill\":{\"color\":\"#EBF0F8\"},\"line\":{\"color\":\"white\"}},\"header\":{\"fill\":{\"color\":\"#C8D4E3\"},\"line\":{\"color\":\"white\"}},\"type\":\"table\"}],\"barpolar\":[{\"marker\":{\"line\":{\"color\":\"#E5ECF6\",\"width\":0.5},\"pattern\":{\"fillmode\":\"overlay\",\"size\":10,\"solidity\":0.2}},\"type\":\"barpolar\"}],\"pie\":[{\"automargin\":true,\"type\":\"pie\"}]},\"layout\":{\"autotypenumbers\":\"strict\",\"colorway\":[\"#636efa\",\"#EF553B\",\"#00cc96\",\"#ab63fa\",\"#FFA15A\",\"#19d3f3\",\"#FF6692\",\"#B6E880\",\"#FF97FF\",\"#FECB52\"],\"font\":{\"color\":\"#2a3f5f\"},\"hovermode\":\"closest\",\"hoverlabel\":{\"align\":\"left\"},\"paper_bgcolor\":\"white\",\"plot_bgcolor\":\"#E5ECF6\",\"polar\":{\"bgcolor\":\"#E5ECF6\",\"angularaxis\":{\"gridcolor\":\"white\",\"linecolor\":\"white\",\"ticks\":\"\"},\"radialaxis\":{\"gridcolor\":\"white\",\"linecolor\":\"white\",\"ticks\":\"\"}},\"ternary\":{\"bgcolor\":\"#E5ECF6\",\"aaxis\":{\"gridcolor\":\"white\",\"linecolor\":\"white\",\"ticks\":\"\"},\"baxis\":{\"gridcolor\":\"white\",\"linecolor\":\"white\",\"ticks\":\"\"},\"caxis\":{\"gridcolor\":\"white\",\"linecolor\":\"white\",\"ticks\":\"\"}},\"coloraxis\":{\"colorbar\":{\"outlinewidth\":0,\"ticks\":\"\"}},\"colorscale\":{\"sequential\":[[0.0,\"#0d0887\"],[0.1111111111111111,\"#46039f\"],[0.2222222222222222,\"#7201a8\"],[0.3333333333333333,\"#9c179e\"],[0.4444444444444444,\"#bd3786\"],[0.5555555555555556,\"#d8576b\"],[0.6666666666666666,\"#ed7953\"],[0.7777777777777778,\"#fb9f3a\"],[0.8888888888888888,\"#fdca26\"],[1.0,\"#f0f921\"]],\"sequentialminus\":[[0.0,\"#0d0887\"],[0.1111111111111111,\"#46039f\"],[0.2222222222222222,\"#7201a8\"],[0.3333333333333333,\"#9c179e\"],[0.4444444444444444,\"#bd3786\"],[0.5555555555555556,\"#d8576b\"],[0.6666666666666666,\"#ed7953\"],[0.7777777777777778,\"#fb9f3a\"],[0.8888888888888888,\"#fdca26\"],[1.0,\"#f0f921\"]],\"diverging\":[[0,\"#8e0152\"],[0.1,\"#c51b7d\"],[0.2,\"#de77ae\"],[0.3,\"#f1b6da\"],[0.4,\"#fde0ef\"],[0.5,\"#f7f7f7\"],[0.6,\"#e6f5d0\"],[0.7,\"#b8e186\"],[0.8,\"#7fbc41\"],[0.9,\"#4d9221\"],[1,\"#276419\"]]},\"xaxis\":{\"gridcolor\":\"white\",\"linecolor\":\"white\",\"ticks\":\"\",\"title\":{\"standoff\":15},\"zerolinecolor\":\"white\",\"automargin\":true,\"zerolinewidth\":2},\"yaxis\":{\"gridcolor\":\"white\",\"linecolor\":\"white\",\"ticks\":\"\",\"title\":{\"standoff\":15},\"zerolinecolor\":\"white\",\"automargin\":true,\"zerolinewidth\":2},\"scene\":{\"xaxis\":{\"backgroundcolor\":\"#E5ECF6\",\"gridcolor\":\"white\",\"linecolor\":\"white\",\"showbackground\":true,\"ticks\":\"\",\"zerolinecolor\":\"white\",\"gridwidth\":2},\"yaxis\":{\"backgroundcolor\":\"#E5ECF6\",\"gridcolor\":\"white\",\"linecolor\":\"white\",\"showbackground\":true,\"ticks\":\"\",\"zerolinecolor\":\"white\",\"gridwidth\":2},\"zaxis\":{\"backgroundcolor\":\"#E5ECF6\",\"gridcolor\":\"white\",\"linecolor\":\"white\",\"showbackground\":true,\"ticks\":\"\",\"zerolinecolor\":\"white\",\"gridwidth\":2}},\"shapedefaults\":{\"line\":{\"color\":\"#2a3f5f\"}},\"annotationdefaults\":{\"arrowcolor\":\"#2a3f5f\",\"arrowhead\":0,\"arrowwidth\":1},\"geo\":{\"bgcolor\":\"white\",\"landcolor\":\"#E5ECF6\",\"subunitcolor\":\"white\",\"showland\":true,\"showlakes\":true,\"lakecolor\":\"white\"},\"title\":{\"x\":0.05},\"mapbox\":{\"style\":\"light\"}}},\"xaxis\":{\"anchor\":\"y\",\"domain\":[0.0,1.0],\"title\":{\"text\":\"tsne_1\"}},\"yaxis\":{\"anchor\":\"x\",\"domain\":[0.0,1.0],\"title\":{\"text\":\"tsne_2\"}},\"coloraxis\":{\"colorbar\":{\"title\":{\"text\":\"popularity\"}},\"colorscale\":[[0.0,\"#0d0887\"],[0.1111111111111111,\"#46039f\"],[0.2222222222222222,\"#7201a8\"],[0.3333333333333333,\"#9c179e\"],[0.4444444444444444,\"#bd3786\"],[0.5555555555555556,\"#d8576b\"],[0.6666666666666666,\"#ed7953\"],[0.7777777777777778,\"#fb9f3a\"],[0.8888888888888888,\"#fdca26\"],[1.0,\"#f0f921\"]]},\"legend\":{\"tracegroupgap\":0},\"margin\":{\"t\":60}},                        {\"responsive\": true}                    )                };                            </script>        </div>"
      ],
      "text/plain": [
       "Figure({\n",
       "    'data': [{'customdata': array([[1, 'Toy Story (1995)', 452],\n",
       "                                   [2, 'GoldenEye (1995)', 131],\n",
       "                                   [3, 'Four Rooms (1995)', 90],\n",
       "                                   ...,\n",
       "                                   [1680, 'Sliding Doors (1998)', 1],\n",
       "                                   [1681, 'You So Crazy (1994)', 1],\n",
       "                                   [1682, 'Scream of Stone (Schrei aus Stein) (1991)', 1]], dtype=object),\n",
       "              'hovertemplate': ('tsne_1=%{x}<br>tsne_2=%{y}<br>' ... '%{marker.color}<extra></extra>'),\n",
       "              'legendgroup': '',\n",
       "              'marker': {'color': array([452, 131,  90, ...,   1,   1,   1], dtype=int64),\n",
       "                         'coloraxis': 'coloraxis',\n",
       "                         'symbol': 'circle'},\n",
       "              'mode': 'markers',\n",
       "              'name': '',\n",
       "              'showlegend': False,\n",
       "              'type': 'scattergl',\n",
       "              'x': array([10.69199 ,  9.610832, 21.751057, ..., 16.562311, 17.3366  , -6.425791],\n",
       "                         dtype=float32),\n",
       "              'xaxis': 'x',\n",
       "              'y': array([-15.838322 ,  -8.838958 ,  -8.254988 , ...,  15.323932 ,   6.9646745,\n",
       "                           -5.839589 ], dtype=float32),\n",
       "              'yaxis': 'y'}],\n",
       "    'layout': {'coloraxis': {'colorbar': {'title': {'text': 'popularity'}},\n",
       "                             'colorscale': [[0.0, '#0d0887'], [0.1111111111111111,\n",
       "                                            '#46039f'], [0.2222222222222222,\n",
       "                                            '#7201a8'], [0.3333333333333333,\n",
       "                                            '#9c179e'], [0.4444444444444444,\n",
       "                                            '#bd3786'], [0.5555555555555556,\n",
       "                                            '#d8576b'], [0.6666666666666666,\n",
       "                                            '#ed7953'], [0.7777777777777778,\n",
       "                                            '#fb9f3a'], [0.8888888888888888,\n",
       "                                            '#fdca26'], [1.0, '#f0f921']]},\n",
       "               'legend': {'tracegroupgap': 0},\n",
       "               'margin': {'t': 60},\n",
       "               'template': '...',\n",
       "               'xaxis': {'anchor': 'y', 'domain': [0.0, 1.0], 'title': {'text': 'tsne_1'}},\n",
       "               'yaxis': {'anchor': 'x', 'domain': [0.0, 1.0], 'title': {'text': 'tsne_2'}}}\n",
       "})"
      ]
     },
     "execution_count": 42,
     "metadata": {},
     "output_type": "execute_result"
    }
   ],
   "source": [
    "import plotly.express as px\n",
    "\n",
    "\n",
    "tsne_df = pd.DataFrame(item_tsne, columns=[\"tsne_1\", \"tsne_2\"])\n",
    "tsne_df[\"item_id\"] = np.arange(item_tsne.shape[0])\n",
    "tsne_df = tsne_df.merge(items.reset_index())\n",
    "\n",
    "px.scatter(tsne_df, x=\"tsne_1\", y=\"tsne_2\",\n",
    "           color=\"popularity\",\n",
    "           hover_data=[\"item_id\", \"title\", \"popularity\"])"
   ]
  },
  {
   "cell_type": "markdown",
   "metadata": {},
   "source": [
    "### Exercises\n",
    "\n",
    " - Add another layer to the neural network and retrain, compare train/test error.\n",
    " - Try adding more dropout and change layer sizes.\n"
   ]
  },
  {
   "cell_type": "markdown",
   "metadata": {},
   "source": [
    "### A recommendation function for a given user\n",
    "\n",
    "Once the model is trained, the system can be used to recommend a few items for a user that they haven't seen before. The following code does that.\n",
    "\n",
    "- we use the `model.predict` to compute the ratings a user would have given to all items\n",
    "- we build a function that sorts these items and excludes those the user has already seen."
   ]
  },
  {
   "cell_type": "code",
   "execution_count": 43,
   "metadata": {
    "scrolled": true
   },
   "outputs": [],
   "source": [
    "def recommend(user_id, top_n=10):\n",
    "    item_ids = range(1, items['item_id'].max())\n",
    "    seen_mask = all_ratings[\"user_id\"] == user_id\n",
    "    seen_movies = set(all_ratings[seen_mask][\"item_id\"])\n",
    "    item_ids = list(filter(lambda x: x not in seen_movies, item_ids))\n",
    "\n",
    "    user = np.zeros_like(item_ids)\n",
    "    user[:len(item_ids)] = user_id\n",
    "    items_ = np.array(item_ids)\n",
    "    ratings = model.predict([user, items_]).flatten()\n",
    "    top_items = ratings.argsort()[-top_n:][::-1]\n",
    "    return [(indexed_items.loc[item_id][\"title\"], ratings[item_id]) for item_id in top_items]"
   ]
  },
  {
   "cell_type": "code",
   "execution_count": 44,
   "metadata": {},
   "outputs": [
    {
     "name": "stdout",
     "output_type": "stream",
     "text": [
      "\u001b[1m48/48\u001b[0m \u001b[32m━━━━━━━━━━━━━━━━━━━━\u001b[0m\u001b[37m\u001b[0m \u001b[1m0s\u001b[0m 3ms/step\n",
      "    5.0: Eat Drink Man Woman (1994)\n",
      "    4.6: Get Shorty (1995)\n",
      "    4.5: Silence of the Lambs, The (1991)\n",
      "    4.4: Tombstone (1993)\n",
      "    4.4: Kazaam (1996)\n",
      "    4.3: Gone with the Wind (1939)\n",
      "    4.3: Rock, The (1996)\n",
      "    4.3: Abyss, The (1989)\n",
      "    4.3: Faster Pussycat! Kill! Kill! (1965)\n",
      "    4.3: Supercop (1992)\n"
     ]
    }
   ],
   "source": [
    "for title, pred_rating in recommend(5):\n",
    "    print(\"    %0.1f: %s\" % (pred_rating, title))"
   ]
  },
  {
   "cell_type": "markdown",
   "metadata": {
    "collapsed": false
   },
   "source": [
    "### Exercises\n",
    "\n",
    "- Try modifying our neural network to improve recommendation. You could try adding more layers, or using a different loss function. \n",
    "- Your goal is to improve the Mean Absolute Error on the test set. Show the results of your best model."
   ]
  },
  {
   "cell_type": "code",
   "execution_count": 45,
   "metadata": {
    "collapsed": false
   },
   "outputs": [
    {
     "name": "stderr",
     "output_type": "stream",
     "text": [
      "c:\\Users\\iryna\\AppData\\Local\\Continuum\\envs\\scale2prod\\Lib\\site-packages\\keras\\src\\layers\\core\\embedding.py:90: UserWarning:\n",
      "\n",
      "Argument `input_length` is deprecated. Just remove it.\n",
      "\n"
     ]
    }
   ],
   "source": [
    "# Extend and improve the model below\n",
    "class RegressionModel(Model):\n",
    "    def __init__(self, embedding_size, max_user_id, max_item_id):\n",
    "        super().__init__()\n",
    "\n",
    "        self.user_embedding = Embedding(output_dim=embedding_size,\n",
    "                                        input_dim=max_user_id + 1,\n",
    "                                        input_length=1,\n",
    "                                        name='user_embedding')\n",
    "        self.item_embedding = Embedding(output_dim=embedding_size,\n",
    "                                        input_dim=max_item_id + 1,\n",
    "                                        input_length=1,\n",
    "                                        name='item_embedding')\n",
    "\n",
    "        # The following two layers don't have parameters.\n",
    "        self.flatten = Flatten()\n",
    "        self.dot = Dot(axes=1)\n",
    "\n",
    "    def call(self, inputs):\n",
    "        user_inputs = inputs[0]\n",
    "        item_inputs = inputs[1]\n",
    "\n",
    "        user_vecs = self.flatten(self.user_embedding(user_inputs))\n",
    "        item_vecs = self.flatten(self.item_embedding(item_inputs))\n",
    "\n",
    "        y = self.dot([user_vecs, item_vecs])\n",
    "        return y\n",
    "\n",
    "\n",
    "model = RegressionModel(embedding_size=64, max_user_id=all_ratings['user_id'].max(), max_item_id=all_ratings['item_id'].max())\n",
    "model.compile(optimizer=\"adam\", loss='mae')"
   ]
  },
  {
   "cell_type": "code",
   "execution_count": 46,
   "metadata": {
    "collapsed": false
   },
   "outputs": [
    {
     "name": "stdout",
     "output_type": "stream",
     "text": [
      "Epoch 1/10\n",
      "\u001b[1m1125/1125\u001b[0m \u001b[32m━━━━━━━━━━━━━━━━━━━━\u001b[0m\u001b[37m\u001b[0m \u001b[1m4s\u001b[0m 3ms/step - loss: 3.2995 - val_loss: 1.0412\n",
      "Epoch 2/10\n",
      "\u001b[1m1125/1125\u001b[0m \u001b[32m━━━━━━━━━━━━━━━━━━━━\u001b[0m\u001b[37m\u001b[0m \u001b[1m3s\u001b[0m 2ms/step - loss: 0.9033 - val_loss: 0.7937\n",
      "Epoch 3/10\n",
      "\u001b[1m1125/1125\u001b[0m \u001b[32m━━━━━━━━━━━━━━━━━━━━\u001b[0m\u001b[37m\u001b[0m \u001b[1m3s\u001b[0m 2ms/step - loss: 0.7557 - val_loss: 0.7688\n",
      "Epoch 4/10\n",
      "\u001b[1m1125/1125\u001b[0m \u001b[32m━━━━━━━━━━━━━━━━━━━━\u001b[0m\u001b[37m\u001b[0m \u001b[1m3s\u001b[0m 2ms/step - loss: 0.7270 - val_loss: 0.7562\n",
      "Epoch 5/10\n",
      "\u001b[1m1125/1125\u001b[0m \u001b[32m━━━━━━━━━━━━━━━━━━━━\u001b[0m\u001b[37m\u001b[0m \u001b[1m3s\u001b[0m 2ms/step - loss: 0.7041 - val_loss: 0.7473\n",
      "Epoch 6/10\n",
      "\u001b[1m1125/1125\u001b[0m \u001b[32m━━━━━━━━━━━━━━━━━━━━\u001b[0m\u001b[37m\u001b[0m \u001b[1m3s\u001b[0m 2ms/step - loss: 0.6844 - val_loss: 0.7447\n",
      "Epoch 7/10\n",
      "\u001b[1m1125/1125\u001b[0m \u001b[32m━━━━━━━━━━━━━━━━━━━━\u001b[0m\u001b[37m\u001b[0m \u001b[1m2s\u001b[0m 2ms/step - loss: 0.6632 - val_loss: 0.7408\n",
      "Epoch 8/10\n",
      "\u001b[1m1125/1125\u001b[0m \u001b[32m━━━━━━━━━━━━━━━━━━━━\u001b[0m\u001b[37m\u001b[0m \u001b[1m3s\u001b[0m 2ms/step - loss: 0.6421 - val_loss: 0.7379\n",
      "Epoch 9/10\n",
      "\u001b[1m1125/1125\u001b[0m \u001b[32m━━━━━━━━━━━━━━━━━━━━\u001b[0m\u001b[37m\u001b[0m \u001b[1m3s\u001b[0m 2ms/step - loss: 0.6195 - val_loss: 0.7376\n",
      "Epoch 10/10\n",
      "\u001b[1m1125/1125\u001b[0m \u001b[32m━━━━━━━━━━━━━━━━━━━━\u001b[0m\u001b[37m\u001b[0m \u001b[1m3s\u001b[0m 2ms/step - loss: 0.5920 - val_loss: 0.7386\n"
     ]
    }
   ],
   "source": [
    "# Training the model\n",
    "history = model.fit([user_id_train, item_id_train], rating_train,\n",
    "                    batch_size=64, epochs=10, validation_split=0.1,\n",
    "                    shuffle=True)"
   ]
  }
 ],
 "metadata": {
  "kernelspec": {
   "display_name": "Python 3 (ipykernel)",
   "language": "python",
   "name": "python3"
  },
  "language_info": {
   "codemirror_mode": {
    "name": "ipython",
    "version": 3
   },
   "file_extension": ".py",
   "mimetype": "text/x-python",
   "name": "python",
   "nbconvert_exporter": "python",
   "pygments_lexer": "ipython3",
   "version": "3.12.4"
  }
 },
 "nbformat": 4,
 "nbformat_minor": 4
}
